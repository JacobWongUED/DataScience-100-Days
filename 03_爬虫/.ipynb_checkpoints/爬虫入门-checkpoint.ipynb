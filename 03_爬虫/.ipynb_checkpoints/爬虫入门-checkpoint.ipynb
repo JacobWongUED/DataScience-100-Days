{
 "cells": [
  {
   "cell_type": "markdown",
   "metadata": {},
   "source": [
    "# 1 第一个爬虫"
   ]
  },
  {
   "cell_type": "code",
   "execution_count": 1,
   "metadata": {},
   "outputs": [],
   "source": [
    "#！/usr/bin/python\n",
    "# coding: UTF-8\n",
    "\n",
    "import requests\n",
    "from bs4 import BeautifulSoup\n",
    "import pandas as pd\n",
    "from pandas import Series, DataFrame"
   ]
  },
  {
   "cell_type": "markdown",
   "metadata": {},
   "source": [
    "**抓取**"
   ]
  },
  {
   "cell_type": "code",
   "execution_count": 2,
   "metadata": {},
   "outputs": [],
   "source": [
    "link = \"http://www.santostang.com/\"\n",
    "# header伪装成浏览器\n",
    "headers = {\"User-Agent\": \"Mozilla/5.0 (Windows NT 10.0; Win64; x64) AppleWebKit/537.36 (KHTML, like Gecko) Chrome/73.0.3683.103 Safari/537.36\"}\n",
    "r = requests.get(link, headers=headers)  # respond"
   ]
  },
  {
   "cell_type": "markdown",
   "metadata": {},
   "source": [
    "**解析**"
   ]
  },
  {
   "cell_type": "code",
   "execution_count": 3,
   "metadata": {},
   "outputs": [
    {
     "data": {
      "text/plain": [
       "'第四章 – 4.3 通过selenium 模拟浏览器抓取'"
      ]
     },
     "execution_count": 3,
     "metadata": {},
     "output_type": "execute_result"
    }
   ],
   "source": [
    "soup = BeautifulSoup(r.text, \"lxml\")  # 使用BeautifulSoup解析这段文本\n",
    "title = soup.find(\"h1\", class_=\"post-title\").a.text.strip()  # class为“post-title”的<h1>标签下的<a>\n",
    "title"
   ]
  },
  {
   "cell_type": "markdown",
   "metadata": {},
   "source": [
    "**存储**"
   ]
  },
  {
   "cell_type": "code",
   "execution_count": null,
   "metadata": {},
   "outputs": [
    {
     "data": {
      "text/html": [
       "<div>\n",
       "<style scoped>\n",
       "    .dataframe tbody tr th:only-of-type {\n",
       "        vertical-align: middle;\n",
       "    }\n",
       "\n",
       "    .dataframe tbody tr th {\n",
       "        vertical-align: top;\n",
       "    }\n",
       "\n",
       "    .dataframe thead th {\n",
       "        text-align: right;\n",
       "    }\n",
       "</style>\n",
       "<table border=\"1\" class=\"dataframe\">\n",
       "  <thead>\n",
       "    <tr style=\"text-align: right;\">\n",
       "      <th></th>\n",
       "      <th>Unnamed: 0</th>\n",
       "      <th>0</th>\n",
       "    </tr>\n",
       "  </thead>\n",
       "  <tbody>\n",
       "    <tr>\n",
       "      <th>0</th>\n",
       "      <td>0</td>\n",
       "      <td>第四章 – 4.3 通过selenium 模拟浏览器抓取</td>\n",
       "    </tr>\n",
       "  </tbody>\n",
       "</table>\n",
       "</div>"
      ],
      "text/plain": [
       "   Unnamed: 0                             0\n",
       "0           0  第四章 – 4.3 通过selenium 模拟浏览器抓取"
      ]
     },
     "execution_count": 4,
     "metadata": {},
     "output_type": "execute_result"
    }
   ],
   "source": [
    "path = \"./files/\"\n",
    "ser = Series(data=[title])\n",
    "ser.to_csv(path+\"title.csv\",sep=\",\", header=True)\n",
    "pd.read_csv(path+\"title.csv\", sep=\",\")"
   ]
  },
  {
   "cell_type": "code",
   "execution_count": null,
   "metadata": {},
   "outputs": [],
   "source": [
    "with open(path+\"/title.txt\", \"a+\") as f:\n",
    "    f.write(title)\n",
    "    f.close()"
   ]
  },
  {
   "cell_type": "markdown",
   "metadata": {},
   "source": [
    "# 2 静态网页抓取"
   ]
  },
  {
   "cell_type": "markdown",
   "metadata": {},
   "source": [
    "## 2.1 获取响应内容"
   ]
  },
  {
   "cell_type": "code",
   "execution_count": null,
   "metadata": {},
   "outputs": [],
   "source": [
    "import requests"
   ]
  },
  {
   "cell_type": "code",
   "execution_count": 4,
   "metadata": {},
   "outputs": [],
   "source": [
    "link = \"http://www.santostang.com/\"\n",
    "# header伪装成浏览器\n",
    "headers = {\"User-Agent\": \"Mozilla/5.0 (Windows NT 10.0; Win64; x64) AppleWebKit/537.36 (KHTML, like Gecko) Chrome/73.0.3683.103 Safari/537.36\"}\n",
    "r = requests.get(link, headers=headers)  # respond"
   ]
  },
  {
   "cell_type": "code",
   "execution_count": 5,
   "metadata": {},
   "outputs": [
    {
     "name": "stdout",
     "output_type": "stream",
     "text": [
      "文本编码： None\n",
      "响应码状态： 503\n",
      "相应体： Unable to round-trip http request to upstream: EOF\n"
     ]
    }
   ],
   "source": [
    "print(\"文本编码：\", r.encoding)\n",
    "print(\"响应码状态：\", r.status_code)\n",
    "print(\"相应体：\", r.text)"
   ]
  },
  {
   "cell_type": "markdown",
   "metadata": {},
   "source": [
    "**r.tetx:**服务器响应内容，会自动根据头部字符编码进行解码  \n",
    "**r.encoding:**服务器内容使用的文本编码  \n",
    "**r.status_code:**\n",
    "1. 200:请求成功\n",
    "2. 4xx:客户端错误\n",
    "3. 5xx:服务端错误\n",
    "\n",
    "**r.content:**字节方式的响应体，会自动解码gzip和deflate编码的相应数据    \n",
    "**r.json:**Requests中内置的JSON解码器"
   ]
  },
  {
   "cell_type": "markdown",
   "metadata": {},
   "source": [
    "## 2.2 定制Requests"
   ]
  },
  {
   "cell_type": "markdown",
   "metadata": {},
   "source": [
    "### 2.2.1 传递URL参数"
   ]
  },
  {
   "cell_type": "code",
   "execution_count": null,
   "metadata": {},
   "outputs": [],
   "source": [
    "import requests"
   ]
  },
  {
   "cell_type": "code",
   "execution_count": null,
   "metadata": {},
   "outputs": [],
   "source": [
    "link = \"https://httpbin.org/get\"\n",
    "headers = {\"User-Agent\": \"Mozilla/5.0 (Windows NT 10.0; Win64; x64) AppleWebKit/537.36 (KHTML, like Gecko)\"}\n",
    "key_dict = {\"key1\": \"value1\", \"key2\": \"value2\"}\n",
    "r = requests.get(link, headers=headers, params=key_dict)\n",
    "print(\"URL:\", r.url)\n",
    "print(\"字符串响应体:\\n\", r.text)"
   ]
  },
  {
   "cell_type": "markdown",
   "metadata": {},
   "source": [
    "### 2.2.2 定制请求头"
   ]
  },
  {
   "cell_type": "code",
   "execution_count": null,
   "metadata": {},
   "outputs": [],
   "source": [
    "import requests"
   ]
  },
  {
   "cell_type": "code",
   "execution_count": 8,
   "metadata": {},
   "outputs": [],
   "source": [
    "link = \"http://www.santostang.com/\"\n",
    "headers = {\n",
    "    \"User-Agent\": \"Mozilla/5.0 (Windows NT 10.0; Win64; x64) AppleWebKit/537.36 (KHTML, like Gecko)\",\n",
    "    \"Host\": \"www.santostang.com\"\n",
    "}\n",
    "r = requests.get(link, headers=headers, timeout=5)  # timeout：超时设置\n",
    "r = requests.get(link, headers=headers)"
   ]
  },
  {
   "cell_type": "markdown",
   "metadata": {},
   "source": [
    "### 2.2.3 发送POST请求"
   ]
  },
  {
   "cell_type": "code",
   "execution_count": null,
   "metadata": {},
   "outputs": [],
   "source": [
    "import requests"
   ]
  },
  {
   "cell_type": "code",
   "execution_count": 13,
   "metadata": {},
   "outputs": [],
   "source": [
    "link = \"https://httpbin.org/post\"\n",
    "headers = {\"User-Agent\": \"Mozilla/5.0 (Windows NT 10.0; Win64; x64) AppleWebKit/537.36 (KHTML, like Gecko)\"}\n",
    "key_dict = {\"key1\": \"value1\", \"key2\": \"value2\"}\n",
    "r = requests.post(link, data=key_dict)"
   ]
  },
  {
   "cell_type": "code",
   "execution_count": 14,
   "metadata": {},
   "outputs": [
    {
     "name": "stdout",
     "output_type": "stream",
     "text": [
      "{\n",
      "  \"args\": {}, \n",
      "  \"data\": \"\", \n",
      "  \"files\": {}, \n",
      "  \"form\": {\n",
      "    \"key1\": \"value1\", \n",
      "    \"key2\": \"value2\"\n",
      "  }, \n",
      "  \"headers\": {\n",
      "    \"Accept\": \"*/*\", \n",
      "    \"Accept-Encoding\": \"gzip, deflate\", \n",
      "    \"Content-Length\": \"23\", \n",
      "    \"Content-Type\": \"application/x-www-form-urlencoded\", \n",
      "    \"Host\": \"httpbin.org\", \n",
      "    \"User-Agent\": \"python-requests/2.21.0\"\n",
      "  }, \n",
      "  \"json\": null, \n",
      "  \"origin\": \"223.214.149.220, 223.214.149.220\", \n",
      "  \"url\": \"https://httpbin.org/post\"\n",
      "}\n",
      "\n"
     ]
    }
   ],
   "source": [
    "print(r.text)"
   ]
  },
  {
   "cell_type": "markdown",
   "metadata": {},
   "source": [
    "**总结**  \n",
    "GET：以关键字的形式搜索  \n",
    "POST：用表单传递数据"
   ]
  },
  {
   "cell_type": "markdown",
   "metadata": {},
   "source": [
    "## 2.3 TOP250电影数据"
   ]
  },
  {
   "cell_type": "code",
   "execution_count": 139,
   "metadata": {},
   "outputs": [],
   "source": [
    "import requests\n",
    "from bs4 import BeautifulSoup\n",
    "import pandas as pd\n",
    "from pandas import Series, DataFrame\n",
    "import time\n",
    "import re"
   ]
  },
  {
   "cell_type": "markdown",
   "metadata": {},
   "source": [
    "**抓取数据**"
   ]
  },
  {
   "cell_type": "code",
   "execution_count": 34,
   "metadata": {},
   "outputs": [
    {
     "name": "stdout",
     "output_type": "stream",
     "text": [
      "网页0状态响应码： 200\n",
      "网页25状态响应码： 200\n",
      "网页50状态响应码： 200\n",
      "网页75状态响应码： 200\n",
      "网页100状态响应码： 200\n",
      "网页125状态响应码： 200\n",
      "网页150状态响应码： 200\n",
      "网页175状态响应码： 200\n",
      "网页200状态响应码： 200\n",
      "网页225状态响应码： 200\n"
     ]
    }
   ],
   "source": [
    "addr = \"https://movie.douban.com/top250?start=%s&filter=\"\n",
    "headers = {\"User-Agent\": \"Mozilla/5.0 (Windows NT 10.0; Win64; x64) AppleWebKit/537.36 (KHTML, like Gecko) Chrome/73.0.3683.103 Safari/537.36\"}\n",
    "movies = list()\n",
    "\n",
    "for i in range(0, 250, 25):\n",
    "    r = requests.get(addr, headers=headers, timeout=10)\n",
    "    movies.append(r)\n",
    "    print(\"网页%s状态响应码：\" % i, r.status_code)\n",
    "    time.sleep(0.5)  # 暂停0.5s"
   ]
  },
  {
   "cell_type": "markdown",
   "metadata": {},
   "source": [
    "**解析数据**"
   ]
  },
  {
   "cell_type": "code",
   "execution_count": 220,
   "metadata": {},
   "outputs": [],
   "source": [
    "df = DataFrame(columns=[\"Rank\", \"Title\", \"Director\", \"Actor\", \"Year\", \"Area\", \"Genres\", \n",
    "                        \"Rating\", \"Comment_Num\", \"Quote\", \"Link_pic\", \"Link_detail\", \"Status\"])\n",
    "ranks = Series()\n",
    "titles = Series()\n",
    "directors = Series()\n",
    "actors = Series()\n",
    "years = Series()\n",
    "areas = Series()\n",
    "genres = Series()\n",
    "ratings = Series()\n",
    "comment_nums = Series()\n",
    "quotes = Series()\n",
    "pics = Series()\n",
    "details = Series()\n",
    "statuses = Series()"
   ]
  },
  {
   "cell_type": "code",
   "execution_count": 278,
   "metadata": {},
   "outputs": [],
   "source": [
    "# 序号\n",
    "soup = BeautifulSoup(movies[0].text, \"lxml\")\n",
    "rank_list = soup.find_all(\"div\", attrs={'class':'pic'})\n",
    "# for each in rank_list:\n",
    "#     print(each.em.text.strip())"
   ]
  },
  {
   "cell_type": "code",
   "execution_count": 280,
   "metadata": {},
   "outputs": [],
   "source": [
    "# 标题\n",
    "soup = BeautifulSoup(movies[0].text, \"lxml\")\n",
    "title_list = soup.find_all(\"div\", attrs={'class':'hd'})\n",
    "# for each in title_list:\n",
    "#     print(each.a.span.text.strip())"
   ]
  },
  {
   "cell_type": "code",
   "execution_count": 281,
   "metadata": {},
   "outputs": [
    {
     "name": "stdout",
     "output_type": "stream",
     "text": [
      "0 None\n",
      "1 {'Director': '弗兰克·德拉邦特 Frank Darabont', 'Actor': '蒂姆·罗宾斯 Tim Robbins /...', 'Year': '1994', 'Area': '美国', 'Genres': '犯罪 剧情'}\n",
      "2 {'Director': '陈凯歌 Kaige Chen', 'Actor': '张国荣 Leslie Cheung / 张丰毅 Fengyi Zha...', 'Year': '1993', 'Area': '中国大陆 香港', 'Genres': '剧情 爱情 同性'}\n",
      "3 {'Director': '吕克·贝松 Luc Besson', 'Actor': '让·雷诺 Jean Reno / 娜塔莉·波特曼 ...', 'Year': '1994', 'Area': '法国', 'Genres': '剧情 动作 犯罪'}\n",
      "4 {'Director': '罗伯特·泽米吉斯 Robert Zemeckis', 'Actor': '汤姆·汉克斯 Tom Hanks / ...', 'Year': '1994', 'Area': '美国', 'Genres': '剧情 爱情'}\n",
      "5 {'Director': '罗伯托·贝尼尼 Roberto Benigni', 'Actor': '罗伯托·贝尼尼 Roberto Beni...', 'Year': '1997', 'Area': '意大利', 'Genres': '剧情 喜剧 爱情 战争'}\n",
      "6 {'Director': '詹姆斯·卡梅隆 James Cameron', 'Actor': '莱昂纳多·迪卡普里奥 Leonardo...', 'Year': '1997', 'Area': '美国', 'Genres': '剧情 爱情 灾难'}\n",
      "7 {'Director': '宫崎骏 Hayao Miyazaki', 'Actor': '柊瑠美 Rumi Hîragi / 入野自由 Miy...', 'Year': '2001', 'Area': '日本', 'Genres': '剧情 动画 奇幻'}\n",
      "8 {'Director': '史蒂文·斯皮尔伯格 Steven Spielberg', 'Actor': '连姆·尼森 Liam Neeson...', 'Year': '1993', 'Area': '美国', 'Genres': '剧情 历史 战争'}\n",
      "9 {'Director': '克里斯托弗·诺兰 Christopher Nolan', 'Actor': '莱昂纳多·迪卡普里奥 Le...', 'Year': '2010', 'Area': '美国 英国', 'Genres': '剧情 科幻 悬疑 冒险'}\n",
      "10 {'Director': '莱塞·霍尔斯道姆 Lasse Hallström', 'Actor': '理查·基尔 Richard Ger...', 'Year': '2009', 'Area': '美国 英国', 'Genres': '剧情'}\n",
      "11 {'Director': '安德鲁·斯坦顿 Andrew Stanton', 'Actor': '本·贝尔特 Ben Burtt / 艾丽...', 'Year': '2008', 'Area': '美国', 'Genres': '爱情 科幻 动画 冒险'}\n",
      "12 {'Director': '拉库马·希拉尼 Rajkumar Hirani', 'Actor': '阿米尔·汗 Aamir Khan / 卡...', 'Year': '2009', 'Area': '印度', 'Genres': '剧情 喜剧 爱情 歌舞'}\n",
      "13 {'Director': '朱塞佩·托纳多雷 Giuseppe Tornatore', 'Actor': '蒂姆·罗斯 Tim Roth / ...', 'Year': '1998', 'Area': '意大利', 'Genres': '剧情 音乐'}\n",
      "14 {'Director': '克里斯托夫·巴拉蒂 Christophe Barratier', 'Actor': '热拉尔·朱尼奥 Gé...', 'Year': '2004', 'Area': '法国 瑞士 德国', 'Genres': '剧情 音乐'}\n",
      "15 {'Director': '彼得·威尔 Peter Weir', 'Actor': '金·凯瑞 Jim Carrey / 劳拉·琳妮 Lau...', 'Year': '1998', 'Area': '美国', 'Genres': '剧情 科幻'}\n",
      "16 {'Director': '刘镇伟 Jeffrey Lau', 'Actor': '周星驰 Stephen Chow / 吴孟达 Man Tat Ng...', 'Year': '1995', 'Area': '香港 中国大陆', 'Genres': '喜剧 爱情 奇幻 古装'}\n",
      "17 {'Director': '克里斯托弗·诺兰 Christopher Nolan', 'Actor': '马修·麦康纳 Matthew Mc...', 'Year': '2014', 'Area': '美国 英国 加拿大 冰岛', 'Genres': '剧情 科幻 冒险'}\n",
      "18 {'Director': '宫崎骏 Hayao Miyazaki', 'Actor': '日高法子 Noriko Hidaka / 坂本千夏 Ch...', 'Year': '1988', 'Area': '日本', 'Genres': '动画 奇幻 冒险'}\n",
      "19 {'Director': '弗朗西斯·福特·科波拉 Francis Ford Coppola', 'Actor': '马龙·白兰度 M...', 'Year': '1972', 'Area': '美国', 'Genres': '剧情 犯罪'}\n",
      "20 {'Director': '黄东赫 Dong-hyuk Hwang', 'Actor': '孔侑 Yoo Gong / 郑有美 Yu-mi Jeong ...', 'Year': '2011', 'Area': '韩国', 'Genres': '剧情'}\n",
      "21 {'Director': '刘伟强 / 麦兆辉', 'Actor': '刘德华 / 梁朝伟 / 黄秋生', 'Year': '2002', 'Area': '香港', 'Genres': '剧情 犯罪 悬疑'}\n",
      "22 {'Director': '拜伦·霍华德 Byron Howard / 瑞奇·摩尔 Rich Moore', 'Actor': '金妮弗·...', 'Year': '2016', 'Area': '美国', 'Genres': '喜剧 动画 冒险'}\n",
      "23 {'Director': '加布里尔·穆奇诺 Gabriele Muccino', 'Actor': '威尔·史密斯 Will Smith ...', 'Year': '2006', 'Area': '美国', 'Genres': '剧情 传记 家庭'}\n",
      "24 {'Director': '罗伯·莱纳 Rob Reiner', 'Actor': '玛德琳·卡罗尔 Madeline Carroll / 卡...', 'Year': '2010', 'Area': '美国', 'Genres': '剧情 喜剧 爱情'}\n"
     ]
    },
    {
     "ename": "IndexError",
     "evalue": "list index out of range",
     "output_type": "error",
     "traceback": [
      "\u001b[1;31m---------------------------------------------------------------------------\u001b[0m",
      "\u001b[1;31mIndexError\u001b[0m                                Traceback (most recent call last)",
      "\u001b[1;32m<ipython-input-281-f3975f0d5d2a>\u001b[0m in \u001b[0;36m<module>\u001b[1;34m\u001b[0m\n\u001b[0;32m     25\u001b[0m \u001b[0mnum\u001b[0m \u001b[1;33m=\u001b[0m \u001b[1;36m0\u001b[0m\u001b[1;33m\u001b[0m\u001b[1;33m\u001b[0m\u001b[0m\n\u001b[0;32m     26\u001b[0m \u001b[1;32mfor\u001b[0m \u001b[0meach\u001b[0m \u001b[1;32min\u001b[0m \u001b[0minfo_list\u001b[0m\u001b[1;33m:\u001b[0m\u001b[1;33m\u001b[0m\u001b[1;33m\u001b[0m\u001b[0m\n\u001b[1;32m---> 27\u001b[1;33m     \u001b[0mprint\u001b[0m\u001b[1;33m(\u001b[0m\u001b[0mnum\u001b[0m\u001b[1;33m,\u001b[0m \u001b[0mget_info\u001b[0m\u001b[1;33m(\u001b[0m\u001b[0meach\u001b[0m\u001b[1;33m)\u001b[0m\u001b[1;33m)\u001b[0m\u001b[1;33m\u001b[0m\u001b[1;33m\u001b[0m\u001b[0m\n\u001b[0m\u001b[0;32m     28\u001b[0m     \u001b[0mnum\u001b[0m \u001b[1;33m+=\u001b[0m \u001b[1;36m1\u001b[0m\u001b[1;33m\u001b[0m\u001b[1;33m\u001b[0m\u001b[0m\n",
      "\u001b[1;32m<ipython-input-281-f3975f0d5d2a>\u001b[0m in \u001b[0;36mget_info\u001b[1;34m(info)\u001b[0m\n\u001b[0;32m     11\u001b[0m     \u001b[0mdirector\u001b[0m\u001b[1;33m,\u001b[0m \u001b[0mactor\u001b[0m \u001b[1;33m=\u001b[0m \u001b[0mda\u001b[0m\u001b[1;33m.\u001b[0m\u001b[0msplit\u001b[0m\u001b[1;33m(\u001b[0m\u001b[1;34m\"\\xa0\\xa0\\xa0\"\u001b[0m\u001b[1;33m)\u001b[0m\u001b[1;33m\u001b[0m\u001b[1;33m\u001b[0m\u001b[0m\n\u001b[0;32m     12\u001b[0m     \u001b[0mdirector\u001b[0m \u001b[1;33m=\u001b[0m \u001b[0mdirector\u001b[0m\u001b[1;33m.\u001b[0m\u001b[0msplit\u001b[0m\u001b[1;33m(\u001b[0m\u001b[1;34m\": \"\u001b[0m\u001b[1;33m)\u001b[0m\u001b[1;33m[\u001b[0m\u001b[1;36m1\u001b[0m\u001b[1;33m]\u001b[0m\u001b[1;33m\u001b[0m\u001b[1;33m\u001b[0m\u001b[0m\n\u001b[1;32m---> 13\u001b[1;33m     \u001b[0mactor\u001b[0m \u001b[1;33m=\u001b[0m \u001b[0mactor\u001b[0m\u001b[1;33m.\u001b[0m\u001b[0msplit\u001b[0m\u001b[1;33m(\u001b[0m\u001b[1;34m\": \"\u001b[0m\u001b[1;33m)\u001b[0m\u001b[1;33m[\u001b[0m\u001b[1;36m1\u001b[0m\u001b[1;33m]\u001b[0m\u001b[1;33m\u001b[0m\u001b[1;33m\u001b[0m\u001b[0m\n\u001b[0m\u001b[0;32m     14\u001b[0m     \u001b[0myear\u001b[0m\u001b[1;33m,\u001b[0m \u001b[0marea\u001b[0m\u001b[1;33m,\u001b[0m \u001b[0mgenres\u001b[0m \u001b[1;33m=\u001b[0m \u001b[0myag\u001b[0m\u001b[1;33m.\u001b[0m\u001b[0mstrip\u001b[0m\u001b[1;33m(\u001b[0m\u001b[1;33m)\u001b[0m\u001b[1;33m.\u001b[0m\u001b[0msplit\u001b[0m\u001b[1;33m(\u001b[0m\u001b[1;34m\"\\xa0/\\xa0\"\u001b[0m\u001b[1;33m)\u001b[0m\u001b[1;33m\u001b[0m\u001b[1;33m\u001b[0m\u001b[0m\n\u001b[0;32m     15\u001b[0m \u001b[1;33m\u001b[0m\u001b[0m\n",
      "\u001b[1;31mIndexError\u001b[0m: list index out of range"
     ]
    }
   ],
   "source": [
    "# 信息\n",
    "soup = BeautifulSoup(movies[0].text, \"lxml\")\n",
    "info_list = soup.find_all(\"div\", attrs={'class':'bd'})\n",
    "\n",
    "\n",
    "def get_info(info):\n",
    "    split_info = info.p.text.strip().split(\"\\n\")\n",
    "    if len(split_info) == 1:\n",
    "        return\n",
    "    da, yag = split_info\n",
    "    director, actor = da.split(\"\\xa0\\xa0\\xa0\")\n",
    "    director = director.split(\": \")[1]\n",
    "    if len\n",
    "    actor = actor.split(\": \")[1]\n",
    "    year, area, genres = yag.strip().split(\"\\xa0/\\xa0\")\n",
    "    \n",
    "    result = {\n",
    "        \"Director\": director,\n",
    "        \"Actor\": actor,\n",
    "        \"Year\": year,\n",
    "        \"Area\": area,\n",
    "        \"Genres\": genres\n",
    "    }\n",
    "    return result\n",
    "\n",
    "num = 0\n",
    "for each in info_list:\n",
    "    print(num, get_info(each))\n",
    "    num += 1"
   ]
  },
  {
   "cell_type": "code",
   "execution_count": 235,
   "metadata": {},
   "outputs": [],
   "source": [
    "# 评分\n",
    "soup = BeautifulSoup(movies[0].text, \"lxml\")\n",
    "rating_list = soup.find_all(\"span\", attrs={'class':'rating_num'})\n",
    "\n",
    "# for each in rating_list:\n",
    "#     print(each.text.strip())"
   ]
  },
  {
   "cell_type": "code",
   "execution_count": 237,
   "metadata": {
    "scrolled": true
   },
   "outputs": [],
   "source": [
    "# quote\n",
    "soup = BeautifulSoup(movies[0].text, \"lxml\")\n",
    "quote_list = soup.find_all(\"span\", attrs={'class':'inq'})\n",
    "\n",
    "# for each in quote_list:\n",
    "#     print(each.text.strip())"
   ]
  },
  {
   "cell_type": "code",
   "execution_count": 246,
   "metadata": {},
   "outputs": [],
   "source": [
    "# detail\n",
    "soup = BeautifulSoup(movies[0].text, \"lxml\")\n",
    "detail_list = soup.find_all(\"div\", attrs={'class':'pic'})\n",
    "\n",
    "# for each in detail_list:\n",
    "#     print(each.a[\"href\"])"
   ]
  },
  {
   "cell_type": "code",
   "execution_count": 253,
   "metadata": {},
   "outputs": [],
   "source": [
    "# pic\n",
    "soup = BeautifulSoup(movies[0].text, \"lxml\")\n",
    "pic_list = soup.find_all(\"div\", attrs={'class':'pic'})\n",
    "\n",
    "# for each in pic_list:\n",
    "#     print(each.a.img[\"src\"])"
   ]
  },
  {
   "cell_type": "code",
   "execution_count": 256,
   "metadata": {},
   "outputs": [],
   "source": [
    "# 状态码\n",
    "soup = BeautifulSoup(movies[0].text, \"lxml\")\n",
    "status_list = soup.find_all(\"span\", attrs={'class':'playable'})\n",
    "\n",
    "# for each in status_list:\n",
    "#     print(each.text.strip())"
   ]
  },
  {
   "cell_type": "code",
   "execution_count": 260,
   "metadata": {},
   "outputs": [],
   "source": [
    "def get_data(movies):\n",
    "    soup = BeautifulSoup(movies.text, \"lxml\")\n",
    "    \n",
    "    directors = Series()\n",
    "    actors = Series()\n",
    "    years = Series()\n",
    "    areas = Series()\n",
    "    genres = Series()\n",
    "    ratings = Series()\n",
    "    comment_nums = Series()\n",
    "    quotes = Series()\n",
    "    pics = Series()\n",
    "    details = Series()\n",
    "    statuses = Series()\n",
    "    result = DataFrame()\n",
    "    \n",
    "    # 排名\n",
    "    ranks = Series()\n",
    "    rank_list = soup.find_all(\"div\", attrs={'class':'pic'})\n",
    "    for each in rank_list:\n",
    "        ranks.append(each.em.text.strip())\n",
    "    result[\"Ranks\"] = ranks\n",
    "    \n",
    "    # 标题\n",
    "    titles = Series()\n",
    "    title_list = soup.find_all(\"div\", attrs={'class':'hd'})\n",
    "    for each in title_list:\n",
    "        titles.append(each.a.span.text.strip())\n",
    "    result[\"Titles\"] = titles\n",
    "    \n",
    "    # \n",
    "    \n",
    "    \n",
    "    "
   ]
  },
  {
   "cell_type": "code",
   "execution_count": 266,
   "metadata": {},
   "outputs": [
    {
     "data": {
      "text/html": [
       "<div>\n",
       "<style scoped>\n",
       "    .dataframe tbody tr th:only-of-type {\n",
       "        vertical-align: middle;\n",
       "    }\n",
       "\n",
       "    .dataframe tbody tr th {\n",
       "        vertical-align: top;\n",
       "    }\n",
       "\n",
       "    .dataframe thead th {\n",
       "        text-align: right;\n",
       "    }\n",
       "</style>\n",
       "<table border=\"1\" class=\"dataframe\">\n",
       "  <thead>\n",
       "    <tr style=\"text-align: right;\">\n",
       "      <th></th>\n",
       "      <th>a</th>\n",
       "      <th>b</th>\n",
       "      <th>c</th>\n",
       "    </tr>\n",
       "  </thead>\n",
       "  <tbody>\n",
       "    <tr>\n",
       "      <th>0</th>\n",
       "      <td>1</td>\n",
       "      <td>2</td>\n",
       "      <td>3</td>\n",
       "    </tr>\n",
       "    <tr>\n",
       "      <th>0</th>\n",
       "      <td>1</td>\n",
       "      <td>2</td>\n",
       "      <td>3</td>\n",
       "    </tr>\n",
       "  </tbody>\n",
       "</table>\n",
       "</div>"
      ],
      "text/plain": [
       "   a  b  c\n",
       "0  1  2  3\n",
       "0  1  2  3"
      ]
     },
     "execution_count": 266,
     "metadata": {},
     "output_type": "execute_result"
    }
   ],
   "source": [
    "df = DataFrame(data = [[1, 2, 3]], columns=list(\"abc\"))\n",
    "df.append(df)"
   ]
  }
 ],
 "metadata": {
  "kernelspec": {
   "display_name": "Python 3",
   "language": "python",
   "name": "python3"
  },
  "language_info": {
   "codemirror_mode": {
    "name": "ipython",
    "version": 3
   },
   "file_extension": ".py",
   "mimetype": "text/x-python",
   "name": "python",
   "nbconvert_exporter": "python",
   "pygments_lexer": "ipython3",
   "version": "3.7.3"
  }
 },
 "nbformat": 4,
 "nbformat_minor": 2
}
