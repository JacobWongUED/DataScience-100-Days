{
 "cells": [
  {
   "cell_type": "markdown",
   "metadata": {},
   "source": [
    "# 1 第一个爬虫"
   ]
  },
  {
   "cell_type": "code",
   "execution_count": 1,
   "metadata": {},
   "outputs": [],
   "source": [
    "#！/usr/bin/python\n",
    "# coding: UTF-8\n",
    "\n",
    "import requests\n",
    "from bs4 import BeautifulSoup\n",
    "import pandas as pd\n",
    "from pandas import Series, DataFrame"
   ]
  },
  {
   "cell_type": "markdown",
   "metadata": {},
   "source": [
    "**抓取**"
   ]
  },
  {
   "cell_type": "code",
   "execution_count": 2,
   "metadata": {},
   "outputs": [],
   "source": [
    "link = \"http://www.santostang.com/\"\n",
    "# header伪装成浏览器\n",
    "headers = {\"User-Agent\": \"Mozilla/5.0 (Windows NT 10.0; Win64; x64) AppleWebKit/537.36 (KHTML, like Gecko) Chrome/73.0.3683.103 Safari/537.36\"}\n",
    "r = requests.get(link, headers=headers)  # respond"
   ]
  },
  {
   "cell_type": "markdown",
   "metadata": {},
   "source": [
    "**解析**"
   ]
  },
  {
   "cell_type": "code",
   "execution_count": 3,
   "metadata": {},
   "outputs": [
    {
     "data": {
      "text/plain": [
       "'第四章 – 4.3 通过selenium 模拟浏览器抓取'"
      ]
     },
     "execution_count": 3,
     "metadata": {},
     "output_type": "execute_result"
    }
   ],
   "source": [
    "soup = BeautifulSoup(r.text, \"lxml\")  # 使用BeautifulSoup解析这段文本\n",
    "title = soup.find(\"h1\", class_=\"post-title\").a.text.strip()  # class为“post-title”的<h1>标签下的<a>\n",
    "title"
   ]
  },
  {
   "cell_type": "markdown",
   "metadata": {},
   "source": [
    "**存储**"
   ]
  },
  {
   "cell_type": "code",
   "execution_count": null,
   "metadata": {},
   "outputs": [
    {
     "data": {
      "text/html": [
       "<div>\n",
       "<style scoped>\n",
       "    .dataframe tbody tr th:only-of-type {\n",
       "        vertical-align: middle;\n",
       "    }\n",
       "\n",
       "    .dataframe tbody tr th {\n",
       "        vertical-align: top;\n",
       "    }\n",
       "\n",
       "    .dataframe thead th {\n",
       "        text-align: right;\n",
       "    }\n",
       "</style>\n",
       "<table border=\"1\" class=\"dataframe\">\n",
       "  <thead>\n",
       "    <tr style=\"text-align: right;\">\n",
       "      <th></th>\n",
       "      <th>Unnamed: 0</th>\n",
       "      <th>0</th>\n",
       "    </tr>\n",
       "  </thead>\n",
       "  <tbody>\n",
       "    <tr>\n",
       "      <th>0</th>\n",
       "      <td>0</td>\n",
       "      <td>第四章 – 4.3 通过selenium 模拟浏览器抓取</td>\n",
       "    </tr>\n",
       "  </tbody>\n",
       "</table>\n",
       "</div>"
      ],
      "text/plain": [
       "   Unnamed: 0                             0\n",
       "0           0  第四章 – 4.3 通过selenium 模拟浏览器抓取"
      ]
     },
     "execution_count": 4,
     "metadata": {},
     "output_type": "execute_result"
    }
   ],
   "source": [
    "path = \"./files/\"\n",
    "ser = Series(data=[title])\n",
    "ser.to_csv(path+\"title.csv\",sep=\",\", header=True)\n",
    "pd.read_csv(path+\"title.csv\", sep=\",\")"
   ]
  },
  {
   "cell_type": "code",
   "execution_count": null,
   "metadata": {},
   "outputs": [],
   "source": [
    "with open(path+\"/title.txt\", \"a+\") as f:\n",
    "    f.write(title)\n",
    "    f.close()"
   ]
  },
  {
   "cell_type": "markdown",
   "metadata": {},
   "source": [
    "# 2 静态网页抓取"
   ]
  },
  {
   "cell_type": "markdown",
   "metadata": {},
   "source": [
    "## 2.1 获取响应内容"
   ]
  },
  {
   "cell_type": "code",
   "execution_count": null,
   "metadata": {},
   "outputs": [],
   "source": [
    "import requests"
   ]
  },
  {
   "cell_type": "code",
   "execution_count": 4,
   "metadata": {},
   "outputs": [],
   "source": [
    "link = \"http://www.santostang.com/\"\n",
    "# header伪装成浏览器\n",
    "headers = {\"User-Agent\": \"Mozilla/5.0 (Windows NT 10.0; Win64; x64) AppleWebKit/537.36 (KHTML, like Gecko) Chrome/73.0.3683.103 Safari/537.36\"}\n",
    "r = requests.get(link, headers=headers)  # respond"
   ]
  },
  {
   "cell_type": "code",
   "execution_count": 5,
   "metadata": {},
   "outputs": [
    {
     "name": "stdout",
     "output_type": "stream",
     "text": [
      "文本编码： None\n",
      "响应码状态： 503\n",
      "相应体： Unable to round-trip http request to upstream: EOF\n"
     ]
    }
   ],
   "source": [
    "print(\"文本编码：\", r.encoding)\n",
    "print(\"响应码状态：\", r.status_code)\n",
    "print(\"相应体：\", r.text)"
   ]
  },
  {
   "cell_type": "markdown",
   "metadata": {},
   "source": [
    "**r.text:**服务器响应内容，会自动根据头部字符编码进行解码  \n",
    "**r.encoding:**服务器内容使用的文本编码  \n",
    "**r.status_code:**\n",
    "1. 200:请求成功\n",
    "2. 4xx:客户端错误\n",
    "3. 5xx:服务端错误\n",
    "\n",
    "**r.content:**字节方式的响应体，会自动解码gzip和deflate编码的相应数据    \n",
    "**r.json:**Requests中内置的JSON解码器"
   ]
  },
  {
   "cell_type": "markdown",
   "metadata": {},
   "source": [
    "## 2.2 定制Requests"
   ]
  },
  {
   "cell_type": "markdown",
   "metadata": {},
   "source": [
    "### 2.2.1 传递URL参数"
   ]
  },
  {
   "cell_type": "code",
   "execution_count": 1,
   "metadata": {},
   "outputs": [],
   "source": [
    "import requests"
   ]
  },
  {
   "cell_type": "code",
   "execution_count": 2,
   "metadata": {},
   "outputs": [
    {
     "name": "stdout",
     "output_type": "stream",
     "text": [
      "URL: https://httpbin.org/get?key1=value1&key2=value2\n",
      "字符串响应体:\n",
      " {\n",
      "  \"args\": {\n",
      "    \"key1\": \"value1\", \n",
      "    \"key2\": \"value2\"\n",
      "  }, \n",
      "  \"headers\": {\n",
      "    \"Accept\": \"*/*\", \n",
      "    \"Accept-Encoding\": \"gzip, deflate\", \n",
      "    \"Host\": \"httpbin.org\", \n",
      "    \"User-Agent\": \"Mozilla/5.0 (Windows NT 10.0; Win64; x64) AppleWebKit/537.36 (KHTML, like Gecko)\"\n",
      "  }, \n",
      "  \"origin\": \"223.214.148.253, 223.214.148.253\", \n",
      "  \"url\": \"https://httpbin.org/get?key1=value1&key2=value2\"\n",
      "}\n",
      "\n"
     ]
    }
   ],
   "source": [
    "link = \"https://httpbin.org/get\"\n",
    "headers = {\"User-Agent\": \"Mozilla/5.0 (Windows NT 10.0; Win64; x64) AppleWebKit/537.36 (KHTML, like Gecko)\"}\n",
    "key_dict = {\"key1\": \"value1\", \"key2\": \"value2\"}\n",
    "r = requests.get(link, headers=headers, params=key_dict)\n",
    "print(\"URL:\", r.url)\n",
    "print(\"字符串响应体:\\n\", r.text)"
   ]
  },
  {
   "cell_type": "markdown",
   "metadata": {},
   "source": [
    "### 2.2.2 定制请求头"
   ]
  },
  {
   "cell_type": "code",
   "execution_count": null,
   "metadata": {},
   "outputs": [],
   "source": [
    "import requests"
   ]
  },
  {
   "cell_type": "code",
   "execution_count": 8,
   "metadata": {},
   "outputs": [],
   "source": [
    "link = \"http://www.santostang.com/\"\n",
    "headers = {\n",
    "    \"User-Agent\": \"Mozilla/5.0 (Windows NT 10.0; Win64; x64) AppleWebKit/537.36 (KHTML, like Gecko)\",\n",
    "    \"Host\": \"www.santostang.com\"\n",
    "}\n",
    "r = requests.get(link, headers=headers, timeout=5)  # timeout：超时设置\n",
    "r = requests.get(link, headers=headers)"
   ]
  },
  {
   "cell_type": "markdown",
   "metadata": {},
   "source": [
    "### 2.2.3 发送POST请求"
   ]
  },
  {
   "cell_type": "code",
   "execution_count": null,
   "metadata": {},
   "outputs": [],
   "source": [
    "import requests"
   ]
  },
  {
   "cell_type": "code",
   "execution_count": 13,
   "metadata": {},
   "outputs": [],
   "source": [
    "link = \"https://httpbin.org/post\"\n",
    "headers = {\"User-Agent\": \"Mozilla/5.0 (Windows NT 10.0; Win64; x64) AppleWebKit/537.36 (KHTML, like Gecko)\"}\n",
    "key_dict = {\"key1\": \"value1\", \"key2\": \"value2\"}\n",
    "r = requests.post(link, data=key_dict)"
   ]
  },
  {
   "cell_type": "code",
   "execution_count": 14,
   "metadata": {},
   "outputs": [
    {
     "name": "stdout",
     "output_type": "stream",
     "text": [
      "{\n",
      "  \"args\": {}, \n",
      "  \"data\": \"\", \n",
      "  \"files\": {}, \n",
      "  \"form\": {\n",
      "    \"key1\": \"value1\", \n",
      "    \"key2\": \"value2\"\n",
      "  }, \n",
      "  \"headers\": {\n",
      "    \"Accept\": \"*/*\", \n",
      "    \"Accept-Encoding\": \"gzip, deflate\", \n",
      "    \"Content-Length\": \"23\", \n",
      "    \"Content-Type\": \"application/x-www-form-urlencoded\", \n",
      "    \"Host\": \"httpbin.org\", \n",
      "    \"User-Agent\": \"python-requests/2.21.0\"\n",
      "  }, \n",
      "  \"json\": null, \n",
      "  \"origin\": \"223.214.149.220, 223.214.149.220\", \n",
      "  \"url\": \"https://httpbin.org/post\"\n",
      "}\n",
      "\n"
     ]
    }
   ],
   "source": [
    "print(r.text)"
   ]
  },
  {
   "cell_type": "markdown",
   "metadata": {},
   "source": [
    "**总结**  \n",
    "GET：以关键字的形式搜索  \n",
    "POST：用表单传递数据"
   ]
  },
  {
   "cell_type": "markdown",
   "metadata": {},
   "source": [
    "## 2.3 TOP250电影数据"
   ]
  },
  {
   "cell_type": "code",
   "execution_count": 322,
   "metadata": {},
   "outputs": [],
   "source": [
    "%matplotlib inline\n",
    "import matplotlib.pyplot as plt\n",
    "import matplotlib\n",
    "from pylab import mpl\n",
    "import requests\n",
    "from bs4 import BeautifulSoup\n",
    "import pandas as pd\n",
    "from pandas import Series, DataFrame\n",
    "import time\n",
    "import numpy as np\n",
    "\n",
    "# mpl.rcParams['font.sans-serif'] = ['SimHei'] # 指定默认字体：解决plot不能显示中文问题\n",
    "# mpl.rcParams['axes.unicode_minus'] = False  # 解决保存图像是负号'-'显示为方块的问题"
   ]
  },
  {
   "cell_type": "markdown",
   "metadata": {},
   "source": [
    "**抓取数据**"
   ]
  },
  {
   "cell_type": "code",
   "execution_count": 204,
   "metadata": {},
   "outputs": [
    {
     "name": "stdout",
     "output_type": "stream",
     "text": [
      "网页0状态响应码： 200\n",
      "网页25状态响应码： 200\n",
      "网页50状态响应码： 200\n",
      "网页75状态响应码： 200\n",
      "网页100状态响应码： 200\n",
      "网页125状态响应码： 200\n",
      "网页150状态响应码： 200\n",
      "网页175状态响应码： 200\n",
      "网页200状态响应码： 200\n",
      "网页225状态响应码： 200\n"
     ]
    }
   ],
   "source": [
    "addr = \"https://movie.douban.com/top250?start=%s\"\n",
    "headers = {\"User-Agent\": \"Mozilla/5.0 (Windows NT 10.0; Win64; x64) AppleWebKit/537.36 (KHTML, like Gecko) Chrome/73.0.3683.103 Safari/537.36\"}\n",
    "movies = list()\n",
    "\n",
    "for i in range(0, 250, 25):\n",
    "    r = requests.get(addr % i, headers=headers)\n",
    "    movies.append(r)\n",
    "    print(\"网页%s状态响应码：\" % i, r.status_code)\n",
    "    time.sleep(0.5)  # 暂停0.5s"
   ]
  },
  {
   "cell_type": "markdown",
   "metadata": {},
   "source": [
    "**解析数据**"
   ]
  },
  {
   "cell_type": "code",
   "execution_count": 216,
   "metadata": {},
   "outputs": [],
   "source": [
    "def get_info(info):\n",
    "    split_info = info.p.text.strip().split(\"\\n\")\n",
    "    \n",
    "    if len(split_info) == 1:\n",
    "        return None\n",
    "    da, yag = split_info\n",
    "    da_info = da.split(\"\\xa0\\xa0\\xa0\")\n",
    "    if len(da_info) == 2:\n",
    "        director, actor = da_info\n",
    "        director = director.split(\": \")[1]\n",
    "        actor_info = actor.split(\": \")\n",
    "        if len(actor_info) != 2:\n",
    "            actor = None\n",
    "        else:\n",
    "            actor = actor_info[1]\n",
    "    else:\n",
    "        director = da_info[0]\n",
    "        director = director.split(\": \")[1]\n",
    "        actor = None\n",
    "    year, area, genres = yag.strip().split(\"\\xa0/\\xa0\")\n",
    "    \n",
    "    result = {\n",
    "        \"Director\": director,\n",
    "        \"Actor\": actor,\n",
    "        \"Year\": year,\n",
    "        \"Area\": area,\n",
    "        \"Genres\": genres\n",
    "    }\n",
    "    result = DataFrame(result, index=[1, ])\n",
    "    return result"
   ]
  },
  {
   "cell_type": "code",
   "execution_count": 211,
   "metadata": {},
   "outputs": [],
   "source": [
    "def get_status(status):\n",
    "    if status is np.nan:\n",
    "        return False\n",
    "    return True"
   ]
  },
  {
   "cell_type": "code",
   "execution_count": 231,
   "metadata": {},
   "outputs": [],
   "source": [
    "def get_data(movie):\n",
    "    soup = BeautifulSoup(movie.text, \"lxml\")\n",
    "    comment_nums = Series()\n",
    "    result = DataFrame()\n",
    "    \n",
    "    # 排名\n",
    "    ranks = Series()\n",
    "    rank_list = soup.find_all(\"div\", attrs={'class':'pic'})\n",
    "    \n",
    "    for each in rank_list:\n",
    "        rank = each.em.text.strip()\n",
    "        ranks = pd.concat([ranks, Series(rank)], sort=False, ignore_index=True)\n",
    "        \n",
    "    result[\"Ranks\"] = ranks\n",
    "    \n",
    "    # 标题\n",
    "    titles = Series()\n",
    "    title_list = soup.find_all(\"div\", attrs={'class':'hd'})\n",
    "    \n",
    "    for each in title_list:\n",
    "        title = each.a.span.text.strip()\n",
    "        titles = pd.concat([titles, Series(title)], sort=False, ignore_index=True)\n",
    "        \n",
    "    result[\"Titles\"] = titles\n",
    "    \n",
    "    # 信息\n",
    "    infos = DataFrame()\n",
    "    info_list = soup.find_all(\"div\", attrs={'class':'bd'})\n",
    "    \n",
    "    for each in info_list:\n",
    "        info = get_info(each)\n",
    "        if info is None:\n",
    "            continue\n",
    "        infos = pd.concat([infos, info], sort=False, ignore_index=True)\n",
    "        \n",
    "    result = pd.concat([result, infos], axis=1, sort=False)\n",
    "        \n",
    "    # 评分\n",
    "    ratings = Series()\n",
    "    rating_list = soup.find_all(\"span\", attrs={'class':'rating_num'})\n",
    "        \n",
    "    for each in rating_list:\n",
    "        rating = each.text.strip()\n",
    "        ratings = pd.concat([ratings, Series(rating)], sort=False, ignore_index=True)\n",
    "    \n",
    "    result[\"Rating\"] =  ratings\n",
    "    \n",
    "    # quote\n",
    "    quotes = Series()\n",
    "    quote_list = soup.find_all(\"span\", attrs={'class':'inq'})\n",
    "\n",
    "    for each in quote_list:\n",
    "        quote = each.text.strip()\n",
    "        quotes = Series(pd.concat([quotes, Series(quote)], sort=False, ignore_index=True))\n",
    "        \n",
    "    result[\"Quote\"] = quotes\n",
    "    \n",
    "    # detail\n",
    "    details = Series()\n",
    "    detail_list = soup.find_all(\"div\", attrs={'class':'pic'})\n",
    "\n",
    "    for each in detail_list:\n",
    "        detail = each.a[\"href\"]\n",
    "        details = pd.concat([details, Series(detail)], sort=False, ignore_index=True)\n",
    "        \n",
    "    result[\"link_Detail\"] = details\n",
    "    \n",
    "    # pic\n",
    "    pics = Series()\n",
    "    pic_list = soup.find_all(\"div\", attrs={'class':'pic'})\n",
    "\n",
    "    for each in pic_list:\n",
    "        pic = each.a.img[\"src\"]\n",
    "        pics = pd.concat([pics, Series(pic)], sort=False, ignore_index=True)\n",
    "        \n",
    "    result[\"Link_Pic\"] = pics\n",
    "    \n",
    "    # 状态码\n",
    "    statuses = Series()\n",
    "    status_list = soup.find_all(\"span\", attrs={'class':'playable'})\n",
    "\n",
    "    for each in status_list:\n",
    "        status = each.text.strip()\n",
    "        statuses = pd.concat([statuses, Series(status)], sort=False, ignore_index=True)\n",
    "    \n",
    "    result[\"Status\"] = statuses\n",
    "    result[\"Status\"] = result[\"Status\"].map(get_status)\n",
    "    \n",
    "    return result"
   ]
  },
  {
   "cell_type": "code",
   "execution_count": 230,
   "metadata": {},
   "outputs": [],
   "source": [
    "movies_data = DataFrame()\n",
    "\n",
    "for movie in movies:\n",
    "    data = get_data(movie)\n",
    "    movies_data = pd.concat([movies_data, data], axis=0, sort=False, ignore_index=True)"
   ]
  },
  {
   "cell_type": "markdown",
   "metadata": {},
   "source": [
    "**存储**"
   ]
  },
  {
   "cell_type": "code",
   "execution_count": 232,
   "metadata": {},
   "outputs": [],
   "source": [
    "path = \"C:/Users/Wang/datasets/top250/movies.csv\"\n",
    "movies_data.to_csv(path, sep=',')"
   ]
  },
  {
   "cell_type": "markdown",
   "metadata": {},
   "source": [
    "**数据分析**"
   ]
  },
  {
   "cell_type": "code",
   "execution_count": 349,
   "metadata": {},
   "outputs": [
    {
     "data": {
      "text/plain": [
       "<matplotlib.axes._subplots.AxesSubplot at 0x2a6372dd898>"
      ]
     },
     "execution_count": 349,
     "metadata": {},
     "output_type": "execute_result"
    },
    {
     "data": {
      "image/png": "[encoded data removed]",
      "text/plain": [
       "<Figure size 720x720 with 1 Axes>"
      ]
     },
     "metadata": {
      "needs_background": "light"
     },
     "output_type": "display_data"
    }
   ],
   "source": [
    "# 地区分布\n",
    "areas = movies_data[\"Area\"].str.split(\" \", expand=True).stack()\n",
    "areas_counts = areas.value_counts()\n",
    "areas_counts = areas_counts.sort_values(ascending=True)\n",
    "areas_counts.tail(10).plot.barh(figsize=(10, 10))"
   ]
  },
  {
   "cell_type": "markdown",
   "metadata": {},
   "source": [
    "# 3 动态网页抓取"
   ]
  },
  {
   "cell_type": "markdown",
   "metadata": {},
   "source": [
    "## 3.1 解析真实地址抓取"
   ]
  },
  {
   "cell_type": "code",
   "execution_count": 3,
   "metadata": {},
   "outputs": [],
   "source": [
    "import requests\n",
    "import json\n",
    "import re\n",
    "import pandas as pd\n",
    "from pandas import Series, DataFrame"
   ]
  },
  {
   "cell_type": "markdown",
   "metadata": {},
   "source": [
    "**抓取&解析数据**"
   ]
  },
  {
   "cell_type": "code",
   "execution_count": 66,
   "metadata": {},
   "outputs": [],
   "source": [
    "def get_data(r):\n",
    "    # 返回数据\n",
    "    names = list()\n",
    "    Ids = list()\n",
    "    contents = list()\n",
    "    \n",
    "    # 解析数据\n",
    "    json_string = r.text\n",
    "    json_string = re.findall('({.*})', json_string)[0]  # \n",
    "    json_data = json.loads(json_string)\n",
    "    comments = json_data['results']['parents']\n",
    "\n",
    "    for each in comments:\n",
    "        name = each[\"name\"]\n",
    "        Id = each[\"memberId\"]\n",
    "        content = each[\"content\"]\n",
    "        names.append(Series(name))\n",
    "        Ids.append(Series(Id))\n",
    "        contents.append(Series(content))\n",
    "\n",
    "    names = pd.concat(names, sort=False, ignore_index=True)\n",
    "    Ids = names = pd.concat(Ids, sort=False, ignore_index=True)\n",
    "    contents = pd.concat(contents, sort=False, ignore_index=True)\n",
    "    \n",
    "    return names, Ids, contents"
   ]
  },
  {
   "cell_type": "code",
   "execution_count": 67,
   "metadata": {},
   "outputs": [],
   "source": [
    "names = Series()\n",
    "Ids = Series()\n",
    "contents = Series()\n",
    "\n",
    "link1 = \"https://api-zero.livere.com/v1/comments/list?callback=jQuery112407994734888197979_1562336240542&limit=10&offset=\"\n",
    "link2 = \"&repSeq=4272904&requestPath=%2Fv1%2Fcomments%2Flist&consumerSeq=1020&livereSeq=28583&smartloginSeq=5154&_=1562336240544\"\n",
    "headers = {\"User-Agent\": \"Mozilla/5.0 (Windows NT 10.0; Win64; x64) AppleWebKit/537.36 (KHTML, like Gecko) Chrome/75.0.3770.100 Safari/537.36\"}\n",
    "\n",
    "for i in range(1, 13):\n",
    "    link = link1 + str(i) + link2\n",
    "    r = requests.get(link, headers=headers)  # json数据\n",
    "    name, Id, content = get_data(r)\n",
    "    names = names.append(name, ignore_index=True)\n",
    "    Ids = Ids.append(Id, ignore_index=True)\n",
    "    contents = contents.append(content, ignore_index=True)\n",
    "    \n",
    "info = DataFrame(data={\n",
    "    'id': Ids,\n",
    "    'name': names,\n",
    "    'content': contents\n",
    "})"
   ]
  },
  {
   "cell_type": "code",
   "execution_count": 68,
   "metadata": {},
   "outputs": [
    {
     "data": {
      "text/html": [
       "<div>\n",
       "<style scoped>\n",
       "    .dataframe tbody tr th:only-of-type {\n",
       "        vertical-align: middle;\n",
       "    }\n",
       "\n",
       "    .dataframe tbody tr th {\n",
       "        vertical-align: top;\n",
       "    }\n",
       "\n",
       "    .dataframe thead th {\n",
       "        text-align: right;\n",
       "    }\n",
       "</style>\n",
       "<table border=\"1\" class=\"dataframe\">\n",
       "  <thead>\n",
       "    <tr style=\"text-align: right;\">\n",
       "      <th></th>\n",
       "      <th>id</th>\n",
       "      <th>name</th>\n",
       "      <th>content</th>\n",
       "    </tr>\n",
       "  </thead>\n",
       "  <tbody>\n",
       "    <tr>\n",
       "      <th>0</th>\n",
       "      <td>UID_70D5B3A11007A724BB19686E496C5373</td>\n",
       "      <td>UID_70D5B3A11007A724BB19686E496C5373</td>\n",
       "      <td>testing</td>\n",
       "    </tr>\n",
       "    <tr>\n",
       "      <th>1</th>\n",
       "      <td>oBVoaxI9np0EcCDA47XYGVpysfPE</td>\n",
       "      <td>oBVoaxI9np0EcCDA47XYGVpysfPE</td>\n",
       "      <td>test</td>\n",
       "    </tr>\n",
       "    <tr>\n",
       "      <th>2</th>\n",
       "      <td>oBVoaxJhG4Bpg5csI-ppdxe4cOiA</td>\n",
       "      <td>oBVoaxJhG4Bpg5csI-ppdxe4cOiA</td>\n",
       "      <td>test   demo。。。。。。。。。。。。。。。。</td>\n",
       "    </tr>\n",
       "    <tr>\n",
       "      <th>3</th>\n",
       "      <td>oBVoaxKuZfl_rAbgoRqRXdGKK4Pw</td>\n",
       "      <td>oBVoaxKuZfl_rAbgoRqRXdGKK4Pw</td>\n",
       "      <td>简直有毒，这段代码有时候可以执行，有时候又失效了\\nfrom selenium import...</td>\n",
       "    </tr>\n",
       "    <tr>\n",
       "      <th>4</th>\n",
       "      <td>oBVoaxMv4rc7XjOhokOgNjPd5NDI</td>\n",
       "      <td>oBVoaxMv4rc7XjOhokOgNjPd5NDI</td>\n",
       "      <td>捣鼓了半天，终于把4.3弄出来了。有一些经验分享一下：（主要是第一个的问题，搞了很久，安装卸...</td>\n",
       "    </tr>\n",
       "  </tbody>\n",
       "</table>\n",
       "</div>"
      ],
      "text/plain": [
       "                                     id                                  name  \\\n",
       "0  UID_70D5B3A11007A724BB19686E496C5373  UID_70D5B3A11007A724BB19686E496C5373   \n",
       "1          oBVoaxI9np0EcCDA47XYGVpysfPE          oBVoaxI9np0EcCDA47XYGVpysfPE   \n",
       "2          oBVoaxJhG4Bpg5csI-ppdxe4cOiA          oBVoaxJhG4Bpg5csI-ppdxe4cOiA   \n",
       "3          oBVoaxKuZfl_rAbgoRqRXdGKK4Pw          oBVoaxKuZfl_rAbgoRqRXdGKK4Pw   \n",
       "4          oBVoaxMv4rc7XjOhokOgNjPd5NDI          oBVoaxMv4rc7XjOhokOgNjPd5NDI   \n",
       "\n",
       "                                             content  \n",
       "0                                            testing  \n",
       "1                                               test  \n",
       "2                        test   demo。。。。。。。。。。。。。。。。  \n",
       "3  简直有毒，这段代码有时候可以执行，有时候又失效了\\nfrom selenium import...  \n",
       "4  捣鼓了半天，终于把4.3弄出来了。有一些经验分享一下：（主要是第一个的问题，搞了很久，安装卸...  "
      ]
     },
     "execution_count": 68,
     "metadata": {},
     "output_type": "execute_result"
    }
   ],
   "source": [
    "info.head()"
   ]
  },
  {
   "cell_type": "markdown",
   "metadata": {},
   "source": [
    "## 3.2 通过Selenium模拟浏览器抓取"
   ]
  },
  {
   "cell_type": "code",
   "execution_count": 5,
   "metadata": {},
   "outputs": [
    {
     "name": "stdout",
     "output_type": "stream",
     "text": [
      "<html lang=\"zh-CN\"><head>\n",
      "<meta charset=\"UTF-8\">\n",
      "<meta http-equiv=\"X-UA-Compatible\" content=\"IE=edge\">\n",
      "<meta name=\"viewport\" content=\"width=device-width, initial-scale=1, maximum-scale=1\">\n",
      "<title>Hello world!</title>\n",
      "<meta name=\"description\" content=\"Welcome to WordPress. This is your first post. Edit or delete it, then start writing!\">\n",
      "<meta name=\"keywords\" content=\"\">\n",
      "<link rel=\"apple-touch-icon\" href=\"http://www.santostang.com/wp-content/themes/SongStyle-Two/images/icon_32.png\">\n",
      "<link rel=\"apple-touch-icon\" sizes=\"152x152\" href=\"http://www.santostang.com/wp-content/themes/SongStyle-Two/images/icon_152.png\">\n",
      "<link rel=\"apple-touch-icon\" sizes=\"167x167\" href=\"http://www.santostang.com/wp-content/themes/SongStyle-Two/images/icon_167.png\">\n",
      "<link rel=\"apple-touch-icon\" sizes=\"180x180\" href=\"http://www.santostang.com/wp-content/themes/SongStyle-Two/images/icon_180.png\">\n",
      "<link rel=\"icon\" href=\"http://www.santostang.com/wp-content/themes/SongStyle-Two/images/icon_32.png\" type=\"image/x-icon\">\n",
      "<link rel=\"stylesheet\" href=\"http://www.santostang.com/wp-content/themes/SongStyle-Two/css/bootstrap.min.css\">\n",
      "<link rel=\"stylesheet\" href=\"http://www.santostang.com/wp-content/themes/SongStyle-Two/css/fontawesome.min.css\">\n",
      "<link rel=\"stylesheet\" href=\"http://www.santostang.com/wp-content/themes/SongStyle-Two/style.css\">\n",
      "<link rel=\"pingback\" href=\"http://www.santostang.com/xmlrpc.php\">\n",
      "<style type=\"text/css\">\n",
      "a{color:#1e73be}\n",
      "a:hover{color:#2980b9!important}\n",
      "#header{background-color:#1e73be}\n",
      ".widget .widget-title::after{background-color:#1e73be}\n",
      ".uptop{border-left-color:#1e73be}\n",
      "#titleBar .toggle:before{background:#1e73be}\n",
      "</style>\n",
      "</head>\n",
      "\n",
      "<body>\n",
      "<header id=\"header\">\n",
      "    <div class=\"avatar\"><a href=\"http://www.santostang.com\" title=\"Santos Tang\"><img src=\"http://www.santostang.com/wp-content/uploads/2019/06/me.jpg\" alt=\"Santos Tang\" class=\"img-circle\" width=\"50%\"></a></div>\n",
      "    <h1 id=\"name\">Santos Tang</h1>\n",
      "    <div class=\"sns\">\n",
      "                <a href=\"https://weibo.com/santostang\" target=\"_blank\" rel=\"nofollow\" data-toggle=\"tooltip\" data-placement=\"top\" title=\"\" data-original-title=\"Weibo\"><i class=\"fab fa-weibo\"></i></a>        <a href=\"https://www.linkedin.com/in/santostang\" target=\"_blank\" rel=\"nofollow\" data-toggle=\"tooltip\" data-placement=\"top\" title=\"\" data-original-title=\"Linkedin\"><i class=\"fab fa-linkedin\"></i></a>        <a href=\"https://www.zhihu.com/people/santostang\" target=\"_blank\" rel=\"nofollow\" data-toggle=\"tooltip\" data-placement=\"top\" title=\"\" data-original-title=\"Zhihu\"><i class=\"fab fa-zhihu\"></i></a>        <a href=\"https://github.com/santostang\" target=\"_blank\" rel=\"nofollow\" data-toggle=\"tooltip\" data-placement=\"top\" title=\"\" data-original-title=\"GitHub\"><i class=\"fab fa-github-alt\"></i></a>    </div>\n",
      "    <div class=\"nav\">\n",
      "        <ul><li><a href=\"http://www.santostang.com/\">首页</a></li>\n",
      "<li><a href=\"http://www.santostang.com/aboutme/\">关于我</a></li>\n",
      "<li><a href=\"http://www.santostang.com/python%e7%bd%91%e7%bb%9c%e7%88%ac%e8%99%ab%e4%bb%a3%e7%a0%81/\">爬虫书代码</a></li>\n",
      "<li><a href=\"http://www.santostang.com/%e5%8a%a0%e6%88%91%e5%be%ae%e4%bf%a1/\">加我微信</a></li>\n",
      "<li><a href=\"https://santostang.github.io/\">EnglishSite</a></li>\n",
      "</ul>    </div>\n",
      "        <div class=\"weixin\">\n",
      "        <img src=\"http://www.santostang.com/wp-content/uploads/2019/06/qrcode_for_gh_370f70791e19_258.jpg\" alt=\"微信公众号\" width=\"50%\">\n",
      "        <p>微信公众号</p>\n",
      "    </div>\n",
      "    </header>\n",
      "<div id=\"main\">\n",
      "    <article class=\"col-md-8 col-md-offset-2 view clearfix\">\n",
      "        <h1 class=\"view-title\">Hello world!</h1>\n",
      "        <div class=\"view-meta\">\n",
      "            <span>作者: santostang</span>\n",
      "            <span>分类: <a href=\"http://www.santostang.com/category/python-%e7%bd%91%e7%bb%9c%e7%88%ac%e8%99%ab/\" rel=\"category tag\">Python 网络爬虫</a></span>\n",
      "            <span>发布时间: 2018-07-04 23:26</span>\n",
      "            <span></span>\n",
      "        </div>\n",
      "        <div class=\"view-content\">\n",
      "<p>Welcome to WordPress. This is your first post. Edit or delete it, then start writing!<br>\n",
      "<strong>各位读者，由于网易云跟帖在本书出版后已经停止服务，书中的第四章已经无法使用。所以我将本书的评论系统换成了来必力。现在已经在博客和知乎上更新了新写的第四章。请查阅：</strong><br>\n",
      "<a href=\"http://www.santostang.com/2018/07/14/%E7%AC%AC%E5%9B%9B%E7%AB%A0%EF%BC%9A%E5%8A%A8%E6%80%81%E7%BD%91%E9%A1%B5%E6%8A%93%E5%8F%96-%E8%A7%A3%E6%9E%90%E7%9C%9F%E5%AE%9E%E5%9C%B0%E5%9D%80-selenium/\" title=\"4.1 动态网页抓取 (解析真实地址 + selenium)\">4.1 动态网页抓取 (解析真实地址 + selenium)</a><br>\n",
      "<a href=\"http://www.santostang.com/2018/07/14/4-2-%E8%A7%A3%E6%9E%90%E7%9C%9F%E5%AE%9E%E5%9C%B0%E5%9D%80%E6%8A%93%E5%8F%96/\" title=\"4.2 解析真实地址抓取\">4.2 解析真实地址抓取</a><br>\n",
      "<a href=\"http://www.santostang.com/2018/07/15/4-3-%E9%80%9A%E8%BF%87selenium-%E6%A8%A1%E6%8B%9F%E6%B5%8F%E8%A7%88%E5%99%A8%E6%8A%93%E5%8F%96/\" title=\"4.3 通过selenium 模拟浏览器抓取\">4.3 通过selenium 模拟浏览器抓取</a></p>\n",
      "        </div>\n",
      "        <section class=\"view-tag\">\n",
      "            <div class=\"pull-left\"><i class=\"fas fa-tags\"></i> </div>\n",
      "        </section>\n",
      "                <section id=\"comments\">\n",
      "            <!-- 来必力City版安装代码 -->\n",
      "\t\t\t<div id=\"lv-container\" data-id=\"city\" data-uid=\"MTAyMC8yODU4My81MTU0\">\n",
      "\t\t\t<script src=\"https://hm.baidu.com/hm.js?752e310cec7906ba7afeb24cd7114c48\"></script><script src=\"http://push.zhanzhang.baidu.com/push.js\"></script><script src=\"https://cdn-city.livere.com/js/embed.dist.js\" async=\"\"></script><script type=\"text/javascript\">\n",
      "\t\t\tvar refer = \"http://www.santostang.com/2018/07/04/hello-world/\".replace(\"http://\",\"\");\n",
      "\t\t\t   (function(d, s) {\n",
      "\t\t\t\t   var j, e = d.getElementsByTagName(s)[0];\n",
      "\n",
      "\t\t\t\t   if (typeof LivereTower === 'function') { return; }\n",
      "\n",
      "\t\t\t\t   j = d.createElement(s);\n",
      "\t\t\t\t   j.src = 'https://cdn-city.livere.com/js/embed.dist.js';\n",
      "\t\t\t\t   j.async = true;\n",
      "\n",
      "\t\t\t\t   e.parentNode.insertBefore(j, e);\n",
      "\t\t\t   })(document, 'script');\n",
      "\t\t\t</script>\n",
      "\t\t\t<noscript>为正常使用来必力评论功能请激活JavaScript</noscript>\n",
      "\t\t\t<iframe src=\"https://was.livere.me/get-uuid\" title=\"livere-uuid\" id=\"livere-uuid\" style=\"display: none;\"></iframe><iframe title=\"livere\" scrolling=\"no\" src=\"https://was.livere.me/comment/city?id=city&amp;refer=www.santostang.com%2F2018%2F07%2F04%2Fhello-world%2F&amp;uid=MTAyMC8yODU4My81MTU0&amp;site=http%3A%2F%2Fwww.santostang.com%2F2018%2F07%2F04%2Fhello-world%2F&amp;title=Hello%252520world%252521&amp;titleLength=12\" style=\"min-width: 100%; width: 100px; height: 500px; overflow: hidden; border: 0px none; z-index: 124212;\" id=\"lv-comment-492\" frameborder=\"0\"></iframe></div>\n",
      "\t\t\t<!-- City版安装代码已完成 -->\n",
      "        </section>\n",
      "    </article>\n",
      "    <section class=\"col-md-8 col-md-offset-2 clearfix\">\n",
      "    <div class=\"read\">\n",
      "        <div class=\"read-head\"><i class=\"fas fa-book\"></i> 更多阅读</div>\n",
      "        <div class=\"read-list row\">\n",
      "            <div class=\"col-md-6\">\n",
      "                <ul>\n",
      "                                    </ul>\n",
      "            </div>\n",
      "            <div class=\"col-md-6\">\n",
      "                <ul>\n",
      "                                    <li><a href=\"http://www.santostang.com/2018/07/14/%e7%ac%ac%e5%9b%9b%e7%ab%a0%ef%bc%9a%e5%8a%a8%e6%80%81%e7%bd%91%e9%a1%b5%e6%8a%93%e5%8f%96-%e8%a7%a3%e6%9e%90%e7%9c%9f%e5%ae%9e%e5%9c%b0%e5%9d%80-selenium/\" title=\"第四章- 动态网页抓取 (解析真实地址 + selenium)\">第四章- 动态网页抓取 (解析真实地址 + selenium)</a></li>\n",
      "                                    <li><a href=\"http://www.santostang.com/2018/07/04/hello-world/\" title=\"Hello world!\">Hello world!</a></li>\n",
      "                                    <li><a href=\"http://www.santostang.com/2018/07/11/%e3%80%8a%e7%bd%91%e7%bb%9c%e7%88%ac%e8%99%ab%ef%bc%9a%e4%bb%8e%e5%85%a5%e9%97%a8%e5%88%b0%e5%ae%9e%e8%b7%b5%e3%80%8b%e4%b8%80%e4%b9%a6%e5%8b%98%e8%af%af/\" title=\"《网络爬虫：从入门到实践》一书勘误\">《网络爬虫：从入门到实践》一书勘误</a></li>\n",
      "                                    <li><a href=\"http://www.santostang.com/2018/07/14/4-2-%e8%a7%a3%e6%9e%90%e7%9c%9f%e5%ae%9e%e5%9c%b0%e5%9d%80%e6%8a%93%e5%8f%96/\" title=\"第四章 – 4.2 解析真实地址抓取\">第四章 – 4.2 解析真实地址抓取</a></li>\n",
      "                                    <li><a href=\"http://www.santostang.com/2018/07/15/4-3-%e9%80%9a%e8%bf%87selenium-%e6%a8%a1%e6%8b%9f%e6%b5%8f%e8%a7%88%e5%99%a8%e6%8a%93%e5%8f%96/\" title=\"第四章 – 4.3 通过selenium 模拟浏览器抓取\">第四章 – 4.3 通过selenium 模拟浏览器抓取</a></li>\n",
      "                                </ul>\n",
      "            </div>\n",
      "        </div>\n",
      "    </div>\n",
      "    <div class=\"read\">\n",
      "        <div class=\"read-head\"><i class=\"fas fa-tags\"></i> 标签云</div>\n",
      "        <div class=\"read-list\">\n",
      "            <a href=\"http://www.santostang.com/tag/ajax/\" class=\"tag-cloud-link tag-link-3 tag-link-position-1\" style=\"color:#699ef;font-size: 22pt;\" aria-label=\"ajax (2个项目);\">ajax</a>\n",
      "<a href=\"http://www.santostang.com/tag/javascript/\" class=\"tag-cloud-link tag-link-4 tag-link-position-2\" style=\"color:#93ec3a;font-size: 8pt;\" aria-label=\"javascript (1个项目);\">javascript</a>\n",
      "<a href=\"http://www.santostang.com/tag/python/\" class=\"tag-cloud-link tag-link-5 tag-link-position-3\" style=\"color:#d9d53a;font-size: 22pt;\" aria-label=\"python (2个项目);\">python</a>\n",
      "<a href=\"http://www.santostang.com/tag/selenium/\" class=\"tag-cloud-link tag-link-6 tag-link-position-4\" style=\"color:#baf885;font-size: 8pt;\" aria-label=\"selenium (1个项目);\">selenium</a>\n",
      "<a href=\"http://www.santostang.com/tag/%e7%bd%91%e7%bb%9c%e7%88%ac%e8%99%ab/\" class=\"tag-cloud-link tag-link-8 tag-link-position-5\" style=\"color:#15b3e3;font-size: 22pt;\" aria-label=\"网络爬虫 (2个项目);\">网络爬虫</a>\n",
      "<a href=\"http://www.santostang.com/tag/%e7%bd%91%e9%a1%b5%e7%88%ac%e8%99%ab/\" class=\"tag-cloud-link tag-link-9 tag-link-position-6\" style=\"color:#f78fbc;font-size: 8pt;\" aria-label=\"网页爬虫 (1个项目);\">网页爬虫</a>\n",
      "<a href=\"http://www.santostang.com/tag/%e8%a7%a3%e6%9e%90%e5%9c%b0%e5%9d%80/\" class=\"tag-cloud-link tag-link-10 tag-link-position-7\" style=\"color:#a0b9b9;font-size: 8pt;\" aria-label=\"解析地址 (1个项目);\">解析地址</a>        </div>\n",
      "    </div>\n",
      "    </section>\n",
      "</div>\n",
      "<!--modal-->\n",
      "<div class=\"modal fade\" id=\"myModal\" tabindex=\"-1\" role=\"dialog\" aria-labelledby=\"myModalLabel\">\n",
      "    <div class=\"modal-dialog\" role=\"document\">\n",
      "        <div class=\"modal-content single-dashang\">\n",
      "            <div class=\"modal-header\">\n",
      "                <button type=\"button\" class=\"close\" data-dismiss=\"modal\" aria-label=\"Close\"><span>×</span></button>\n",
      "                <h4 class=\"modal-title\" id=\"myModalLabel\"><i class=\"fas fa-gift\"></i> 赞赏支持</h4>\n",
      "            </div>\n",
      "            <div class=\"modal-body text-center\">\n",
      "                <p><img src=\"https://tangjie.me/media/AliPay.png\"><img src=\"https://tangjie.me/media/WeixinPay.png\"></p>\n",
      "                <p>扫描二维码，输入您要赞赏的金额</p>\n",
      "                <p>赞赏不用多，心意到了即可</p>\n",
      "            </div>\n",
      "        </div>\n",
      "    </div>\n",
      "</div>\n",
      "<!--modal-->\n",
      "<div class=\"footer_search visible-xs visible-sm\">\n",
      "    <form id=\"searchform\" action=\"http://www.santostang.com\">\n",
      "        <div class=\"input-group\">\n",
      "            <input type=\"search\" class=\"form-control\" placeholder=\"搜索…\" value=\"\" name=\"s\">\n",
      "            <span class=\"input-group-btn\"><button class=\"btn btn-default\" type=\"submit\"><i class=\"fas fa-search\"></i></button></span>\n",
      "        </div>\n",
      "    </form>\n",
      "</div>\n",
      "<footer id=\"footer\">\n",
      "    <div class=\"copyright\">\n",
      "        <p><i class=\"far fa-copyright\"></i> 2019 <b>数据科学@唐松 | 粤ICP备19068356号</b></p>\n",
      "        <p>Powered by <b>WordPress</b>. Theme by <a href=\"https://tangjie.me/jiestyle-two\" data-toggle=\"tooltip\" data-placement=\"top\" title=\"\" target=\"_blank\" data-original-title=\"WordPress 主题模板\"><b>JieStyle Two</b></a> | </p>\n",
      "    </div>\n",
      "    <div style=\"display:none;\"></div>\n",
      "</footer>\n",
      "<script type=\"text/javascript\" src=\"http://www.santostang.com/wp-content/themes/SongStyle-Two/js/jquery.min.js\"></script>\n",
      "<script type=\"text/javascript\" src=\"http://www.santostang.com/wp-content/themes/SongStyle-Two/js/bootstrap.min.js\"></script>\n",
      "<script type=\"text/javascript\" src=\"http://www.santostang.com/wp-content/themes/SongStyle-Two/js/skel.min.js\"></script>\n",
      "<script type=\"text/javascript\" src=\"http://www.santostang.com/wp-content/themes/SongStyle-Two/js/util.min.js\"></script>\n",
      "<script type=\"text/javascript\" src=\"http://www.santostang.com/wp-content/themes/SongStyle-Two/js/nav.js\"></script>\n",
      "<script type=\"text/javascript\" src=\"http://www.santostang.com/wp-includes/js/comment-reply.min.js?ver=4.9.10\"></script>\n",
      "<script>\n",
      "$(function() {\n",
      "    $('[data-toggle=\"tooltip\"]').tooltip()\n",
      "});\n",
      "</script>\n",
      "<script>\n",
      "(function(){\n",
      "    var bp = document.createElement('script');\n",
      "    var curProtocol = window.location.protocol.split(':')[0];\n",
      "    if (curProtocol === 'https') {\n",
      "        bp.src = 'https://zz.bdstatic.com/linksubmit/push.js';\n",
      "    }\n",
      "    else {\n",
      "        bp.src = 'http://push.zhanzhang.baidu.com/push.js';\n",
      "    }\n",
      "    var s = document.getElementsByTagName(\"script\")[0];\n",
      "    s.parentNode.insertBefore(bp, s);\n",
      "})();\n",
      "</script>\n",
      "<script>\n",
      "var _hmt = _hmt || [];\n",
      "(function() {\n",
      "  var hm = document.createElement(\"script\");\n",
      "  hm.src = \"https://hm.baidu.com/hm.js?752e310cec7906ba7afeb24cd7114c48\";\n",
      "  var s = document.getElementsByTagName(\"script\")[0]; \n",
      "  s.parentNode.insertBefore(hm, s);\n",
      "})();\n",
      "</script>\n",
      "\n",
      "<div id=\"titleBar\"><a href=\"#header\" class=\"toggle\"></a><span class=\"title\">Santos Tang</span></div><iframe title=\"livere\" scrolling=\"no\" src=\"https://was.livere.me/sidebar/city?id=city&amp;refer=www.santostang.com%2F2018%2F07%2F04%2Fhello-world%2F&amp;uid=MTAyMC8yODU4My81MTU0&amp;site=http%3A%2F%2Fwww.santostang.com%2F2018%2F07%2F04%2Fhello-world%2F&amp;title=Hello%252520world%252521&amp;titleLength=12\" style=\"width: 100%; overflow: hidden; border: 0px none; position: fixed; left: 0px; top: 0px; z-index: 2147483647; display: none; height: 699px;\" id=\"lv-utils-874\" frameborder=\"0\"></iframe></body></html>\n",
      "http://www.santostang.com/2018/07/04/hello-world/\n",
      "6442450945\n",
      "[{'name': 'Hm_lvt_752e310cec7906ba7afeb24cd7114c48', 'value': '1562379341', 'path': '/', 'domain': '.santostang.com', 'secure': False, 'httpOnly': False, 'expiry': 1593915341}, {'name': 'Hm_lpvt_752e310cec7906ba7afeb24cd7114c48', 'value': '1562379341', 'path': '/', 'domain': '.santostang.com', 'secure': False, 'httpOnly': False}]\n"
     ]
    }
   ],
   "source": [
    "from selenium import webdriver\n",
    "#第一步：创建一个浏览器对象\n",
    "# browser=webdriver.Chrome()\n",
    "browser=webdriver.Firefox()\n",
    "#第二步：使用浏览器对象对网址发起请求\n",
    "browser.get(\"http://www.santostang.com/2018/07/04/hello-world/\")\n",
    "#获取网页的源代码\n",
    "print(browser.page_source)\n",
    "#获取此次请求的地址\n",
    "print(browser.current_url)\n",
    "#当前窗口对象\n",
    "print(browser.current_window_handle)\n",
    "#获取此次请求的cookie信息\n",
    "print(browser.get_cookies())\n",
    "#退出浏览器的命令，注释掉方便我们查看\n",
    "# browser.quit()"
   ]
  },
  {
   "cell_type": "code",
   "execution_count": null,
   "metadata": {},
   "outputs": [],
   "source": []
  },
  {
   "cell_type": "code",
   "execution_count": null,
   "metadata": {},
   "outputs": [],
   "source": []
  },
  {
   "cell_type": "code",
   "execution_count": null,
   "metadata": {},
   "outputs": [],
   "source": []
  }
 ],
 "metadata": {
  "kernelspec": {
   "display_name": "Python 3",
   "language": "python",
   "name": "python3"
  },
  "language_info": {
   "codemirror_mode": {
    "name": "ipython",
    "version": 3
   },
   "file_extension": ".py",
   "mimetype": "text/x-python",
   "name": "python",
   "nbconvert_exporter": "python",
   "pygments_lexer": "ipython3",
   "version": "3.7.3"
  }
 },
 "nbformat": 4,
 "nbformat_minor": 2
}
