{
 "cells": [
  {
   "cell_type": "markdown",
   "metadata": {},
   "source": [
    "# 1 第一个爬虫"
   ]
  },
  {
   "cell_type": "code",
   "execution_count": 93,
   "metadata": {},
   "outputs": [],
   "source": [
    "import requests\n",
    "from bs4 import BeautifulSoup\n",
    "import pandas as pd\n",
    "from pandas import Series, DataFrame"
   ]
  },
  {
   "cell_type": "markdown",
   "metadata": {},
   "source": [
    "**抓取**"
   ]
  },
  {
   "cell_type": "code",
   "execution_count": 2,
   "metadata": {},
   "outputs": [],
   "source": [
    "link = \"http://www.santostang.com/\"\n",
    "# header伪装成浏览器\n",
    "headers = {\"User-Agent\": \"Mozilla/5.0 (Windows NT 10.0; Win64; x64) AppleWebKit/537.36 (KHTML, like Gecko) Chrome/73.0.3683.103 Safari/537.36\"}\n",
    "r = requests.get(link, headers=headers)  # respond"
   ]
  },
  {
   "cell_type": "markdown",
   "metadata": {},
   "source": [
    "**解析**"
   ]
  },
  {
   "cell_type": "code",
   "execution_count": 3,
   "metadata": {},
   "outputs": [
    {
     "data": {
      "text/plain": [
       "'第四章 – 4.3 通过selenium 模拟浏览器抓取'"
      ]
     },
     "execution_count": 3,
     "metadata": {},
     "output_type": "execute_result"
    }
   ],
   "source": [
    "soup = BeautifulSoup(r.text, \"lxml\")  # 使用BeautifulSoup解析这段文本\n",
    "title = soup.find(\"h1\", class_=\"post-title\").a.text.strip()  # class为“post-title”的<h1>标签下的<a>\n",
    "title"
   ]
  },
  {
   "cell_type": "markdown",
   "metadata": {},
   "source": [
    "**存储**"
   ]
  },
  {
   "cell_type": "code",
   "execution_count": 4,
   "metadata": {},
   "outputs": [
    {
     "data": {
      "text/html": [
       "<div>\n",
       "<style scoped>\n",
       "    .dataframe tbody tr th:only-of-type {\n",
       "        vertical-align: middle;\n",
       "    }\n",
       "\n",
       "    .dataframe tbody tr th {\n",
       "        vertical-align: top;\n",
       "    }\n",
       "\n",
       "    .dataframe thead th {\n",
       "        text-align: right;\n",
       "    }\n",
       "</style>\n",
       "<table border=\"1\" class=\"dataframe\">\n",
       "  <thead>\n",
       "    <tr style=\"text-align: right;\">\n",
       "      <th></th>\n",
       "      <th>Unnamed: 0</th>\n",
       "      <th>0</th>\n",
       "    </tr>\n",
       "  </thead>\n",
       "  <tbody>\n",
       "    <tr>\n",
       "      <th>0</th>\n",
       "      <td>0</td>\n",
       "      <td>第四章 – 4.3 通过selenium 模拟浏览器抓取</td>\n",
       "    </tr>\n",
       "  </tbody>\n",
       "</table>\n",
       "</div>"
      ],
      "text/plain": [
       "   Unnamed: 0                             0\n",
       "0           0  第四章 – 4.3 通过selenium 模拟浏览器抓取"
      ]
     },
     "execution_count": 4,
     "metadata": {},
     "output_type": "execute_result"
    }
   ],
   "source": [
    "path = \"./files/\"\n",
    "ser = Series(data=[title])\n",
    "ser.to_csv(path+\"title.csv\",sep=\",\", header=True)\n",
    "pd.read_csv(path+\"title.csv\", sep=\",\")"
   ]
  },
  {
   "cell_type": "code",
   "execution_count": 5,
   "metadata": {},
   "outputs": [],
   "source": [
    "with open(path+\"/title.txt\", \"a+\") as f:\n",
    "    f.write(title)\n",
    "    f.close()"
   ]
  },
  {
   "cell_type": "markdown",
   "metadata": {},
   "source": [
    "# 2 静态网页抓取"
   ]
  },
  {
   "cell_type": "markdown",
   "metadata": {},
   "source": [
    "## 2.1 获取响应内容"
   ]
  },
  {
   "cell_type": "code",
   "execution_count": 6,
   "metadata": {},
   "outputs": [],
   "source": [
    "import requests"
   ]
  },
  {
   "cell_type": "code",
   "execution_count": 7,
   "metadata": {},
   "outputs": [],
   "source": [
    "link = \"http://www.santostang.com/\"\n",
    "# header伪装成浏览器\n",
    "headers = {\"User-Agent\": \"Mozilla/5.0 (Windows NT 10.0; Win64; x64) AppleWebKit/537.36 (KHTML, like Gecko) Chrome/73.0.3683.103 Safari/537.36\"}\n",
    "r = requests.get(link, headers=headers)  # respond"
   ]
  },
  {
   "cell_type": "code",
   "execution_count": 8,
   "metadata": {},
   "outputs": [
    {
     "name": "stdout",
     "output_type": "stream",
     "text": [
      "文本编码： UTF-8\n",
      "响应码状态： 200\n",
      "相应体： <!DOCTYPE html>\n",
      "<html lang=\"zh-CN\">\n",
      "<head>\n",
      "<meta charset=\"UTF-8\">\n",
      "<meta http-equiv=\"X-UA-Compatible\" content=\"IE=edge\">\n",
      "<meta name=\"viewport\" content=\"width=device-width, initial-scale=1, maximum-scale=1\">\n",
      "<title>Santos Tang</title>\n",
      "<meta name=\"description\" content=\"Python网络爬虫：从入门到实践 官方网站及个人博客\" />\n",
      "<meta name=\"keywords\" content=\"Python网络爬虫, Python爬虫, Python, 爬虫, 数据科学, 数据挖掘, 数据分析, santostang, Santos Tang, 唐松, Song Tang\" />\n",
      "<link rel=\"apple-touch-icon\" href=\"http://www.santostang.com/wp-content/themes/SongStyle-Two/images/icon_32.png\">\n",
      "<link rel=\"apple-touch-icon\" sizes=\"152x152\" href=\"http://www.santostang.com/wp-content/themes/SongStyle-Two/images/icon_152.png\">\n",
      "<link rel=\"apple-touch-icon\" sizes=\"167x167\" href=\"http://www.santostang.com/wp-content/themes/SongStyle-Two/images/icon_167.png\">\n",
      "<link rel=\"apple-touch-icon\" sizes=\"180x180\" href=\"http://www.santostang.com/wp-content/themes/SongStyle-Two/images/icon_180.png\">\n",
      "<link rel=\"icon\" href=\"http://www.santostang.com/wp-content/themes/SongStyle-Two/images/icon_32.png\" type=\"image/x-icon\">\n",
      "<link rel=\"stylesheet\" href=\"http://www.santostang.com/wp-content/themes/SongStyle-Two/css/bootstrap.min.css\">\n",
      "<link rel=\"stylesheet\" href=\"http://www.santostang.com/wp-content/themes/SongStyle-Two/css/fontawesome.min.css\">\n",
      "<link rel=\"stylesheet\" href=\"http://www.santostang.com/wp-content/themes/SongStyle-Two/style.css\">\n",
      "<link rel=\"pingback\" href=\"http://www.santostang.com/xmlrpc.php\" />\n",
      "<style type=\"text/css\">\n",
      "a{color:#1e73be}\n",
      "a:hover{color:#2980b9!important}\n",
      "#header{background-color:#1e73be}\n",
      ".widget .widget-title::after{background-color:#1e73be}\n",
      ".uptop{border-left-color:#1e73be}\n",
      "#titleBar .toggle:before{background:#1e73be}\n",
      "</style>\n",
      "</head>\n",
      "\n",
      "<body>\n",
      "<header id=\"header\">\n",
      "    <div class=\"avatar\"><a href=\"http://www.santostang.com\" title=\"Santos Tang\"><img src=\"http://www.santostang.com/wp-content/uploads/2019/06/me.jpg\" alt=\"Santos Tang\" class=\"img-circle\" width=\"50%\"></a></div>\n",
      "    <h1 id=\"name\">Santos Tang</h1>\n",
      "    <div class=\"sns\">\n",
      "                <a href=\"https://weibo.com/santostang\" target=\"_blank\" rel=\"nofollow\" data-toggle=\"tooltip\" data-placement=\"top\" title=\"Weibo\"><i class=\"fab fa-weibo\"></i></a>        <a href=\"https://www.linkedin.com/in/santostang\" target=\"_blank\" rel=\"nofollow\" data-toggle=\"tooltip\" data-placement=\"top\" title=\"Linkedin\"><i class=\"fab fa-linkedin\"></i></a>        <a href=\"https://www.zhihu.com/people/santostang\" target=\"_blank\" rel=\"nofollow\" data-toggle=\"tooltip\" data-placement=\"top\" title=\"Zhihu\"><i class=\"fab fa-zhihu\"></i></a>        <a href=\"https://github.com/santostang\" target=\"_blank\" rel=\"nofollow\" data-toggle=\"tooltip\" data-placement=\"top\" title=\"GitHub\"><i class=\"fab fa-github-alt\"></i></a>    </div>\n",
      "    <div class=\"nav\">\n",
      "        <ul><li><a href=\"http://www.santostang.com/\">首页</a></li>\n",
      "<li><a href=\"http://www.santostang.com/aboutme/\">关于我</a></li>\n",
      "<li><a href=\"http://www.santostang.com/python%e7%bd%91%e7%bb%9c%e7%88%ac%e8%99%ab%e4%bb%a3%e7%a0%81/\">爬虫书代码</a></li>\n",
      "<li><a href=\"http://www.santostang.com/%e5%8a%a0%e6%88%91%e5%be%ae%e4%bf%a1/\">加我微信</a></li>\n",
      "<li><a href=\"https://santostang.github.io/\">EnglishSite</a></li>\n",
      "</ul>    </div>\n",
      "        <div class=\"weixin\">\n",
      "        <img src=\"http://www.santostang.com/wp-content/uploads/2019/06/qrcode_for_gh_370f70791e19_258.jpg\" alt=\"微信公众号\" width=\"50%\">\n",
      "        <p>微信公众号</p>\n",
      "    </div>\n",
      "    </header>\n",
      "<div id=\"main\">\n",
      "    <div class=\"row box\">\n",
      "        <div class=\"col-md-8\">\n",
      "                                <h2 class=\"uptop\"><i class=\"fas fa-arrow-circle-up\"></i> <a href=\"http://www.santostang.com/2018/07/11/%e3%80%8a%e7%bd%91%e7%bb%9c%e7%88%ac%e8%99%ab%ef%bc%9a%e4%bb%8e%e5%85%a5%e9%97%a8%e5%88%b0%e5%ae%9e%e8%b7%b5%e3%80%8b%e4%b8%80%e4%b9%a6%e5%8b%98%e8%af%af/\" target=\"_blank\">《网络爬虫：从入门到实践》一书勘误</a></h2>\n",
      "                                                <article class=\"article-list-1 clearfix\">\n",
      "                <header class=\"clearfix\">\n",
      "                    <h1 class=\"post-title\"><a href=\"http://www.santostang.com/2018/07/15/4-3-%e9%80%9a%e8%bf%87selenium-%e6%a8%a1%e6%8b%9f%e6%b5%8f%e8%a7%88%e5%99%a8%e6%8a%93%e5%8f%96/\">第四章 &#8211; 4.3 通过selenium 模拟浏览器抓取</a></h1>\n",
      "                    <div class=\"post-meta\">\n",
      "                        <span class=\"meta-span\"><i class=\"far fa-calendar-alt\"></i> 07月15日</span>\n",
      "                        <span class=\"meta-span\"><i class=\"far fa-folder\"></i> <a href=\"http://www.santostang.com/category/python-%e7%bd%91%e7%bb%9c%e7%88%ac%e8%99%ab/\" rel=\"category tag\">Python 网络爬虫</a></span>\n",
      "                        <span class=\"meta-span\"><i class=\"fas fa-comments\"></i> <a href=\"http://www.santostang.com/2018/07/15/4-3-%e9%80%9a%e8%bf%87selenium-%e6%a8%a1%e6%8b%9f%e6%b5%8f%e8%a7%88%e5%99%a8%e6%8a%93%e5%8f%96/#respond\">没有评论</a></span>\n",
      "                        <span class=\"meta-span hidden-xs\"><i class=\"fas fa-tags\"></i> </span>\n",
      "                    </div>\n",
      "                </header>\n",
      "                <div class=\"post-content clearfix\">\n",
      "                    <p>4.3 通过selenium 模拟浏览器抓取\n",
      "\n",
      "在上述的例子中，使用Chrome“检查”功能找到源地址还十分容易。但是有一些网站非常复杂，例如前面的天猫产品评论，使用“检查”功能很难找到调用的网页地址。除此之外，有一些数据...</p>\n",
      "                </div>\n",
      "            </article>\n",
      "                                                <article class=\"article-list-1 clearfix\">\n",
      "                <header class=\"clearfix\">\n",
      "                    <h1 class=\"post-title\"><a href=\"http://www.santostang.com/2018/07/14/4-2-%e8%a7%a3%e6%9e%90%e7%9c%9f%e5%ae%9e%e5%9c%b0%e5%9d%80%e6%8a%93%e5%8f%96/\">第四章 &#8211; 4.2 解析真实地址抓取</a></h1>\n",
      "                    <div class=\"post-meta\">\n",
      "                        <span class=\"meta-span\"><i class=\"far fa-calendar-alt\"></i> 07月14日</span>\n",
      "                        <span class=\"meta-span\"><i class=\"far fa-folder\"></i> <a href=\"http://www.santostang.com/category/python-%e7%bd%91%e7%bb%9c%e7%88%ac%e8%99%ab/\" rel=\"category tag\">Python 网络爬虫</a></span>\n",
      "                        <span class=\"meta-span\"><i class=\"fas fa-comments\"></i> <a href=\"http://www.santostang.com/2018/07/14/4-2-%e8%a7%a3%e6%9e%90%e7%9c%9f%e5%ae%9e%e5%9c%b0%e5%9d%80%e6%8a%93%e5%8f%96/#respond\">没有评论</a></span>\n",
      "                        <span class=\"meta-span hidden-xs\"><i class=\"fas fa-tags\"></i> <a href=\"http://www.santostang.com/tag/ajax/\" rel=\"tag\">ajax</a>,<a href=\"http://www.santostang.com/tag/python/\" rel=\"tag\">python</a>,<a href=\"http://www.santostang.com/tag/%e7%bd%91%e7%bb%9c%e7%88%ac%e8%99%ab/\" rel=\"tag\">网络爬虫</a>,<a href=\"http://www.santostang.com/tag/%e7%bd%91%e9%a1%b5%e7%88%ac%e8%99%ab/\" rel=\"tag\">网页爬虫</a>,<a href=\"http://www.santostang.com/tag/%e8%a7%a3%e6%9e%90%e5%9c%b0%e5%9d%80/\" rel=\"tag\">解析地址</a></span>\n",
      "                    </div>\n",
      "                </header>\n",
      "                <div class=\"post-content clearfix\">\n",
      "                    <p>由于网易云跟帖停止服务，现在已经在此处中更新了新写的第四章。请参照文章：\n",
      "4.2 解析真实地址抓取\n",
      "虽然数据并没有出现在网页源代码中，我们也可以找到数据的真实地址，请求这个真实地址也可以获得想要的数据。...</p>\n",
      "                </div>\n",
      "            </article>\n",
      "                                                <article class=\"article-list-1 clearfix\">\n",
      "                <header class=\"clearfix\">\n",
      "                    <h1 class=\"post-title\"><a href=\"http://www.santostang.com/2018/07/14/%e7%ac%ac%e5%9b%9b%e7%ab%a0%ef%bc%9a%e5%8a%a8%e6%80%81%e7%bd%91%e9%a1%b5%e6%8a%93%e5%8f%96-%e8%a7%a3%e6%9e%90%e7%9c%9f%e5%ae%9e%e5%9c%b0%e5%9d%80-selenium/\">第四章- 动态网页抓取 (解析真实地址 + selenium)</a></h1>\n",
      "                    <div class=\"post-meta\">\n",
      "                        <span class=\"meta-span\"><i class=\"far fa-calendar-alt\"></i> 07月14日</span>\n",
      "                        <span class=\"meta-span\"><i class=\"far fa-folder\"></i> <a href=\"http://www.santostang.com/category/python-%e7%bd%91%e7%bb%9c%e7%88%ac%e8%99%ab/\" rel=\"category tag\">Python 网络爬虫</a></span>\n",
      "                        <span class=\"meta-span\"><i class=\"fas fa-comments\"></i> <a href=\"http://www.santostang.com/2018/07/14/%e7%ac%ac%e5%9b%9b%e7%ab%a0%ef%bc%9a%e5%8a%a8%e6%80%81%e7%bd%91%e9%a1%b5%e6%8a%93%e5%8f%96-%e8%a7%a3%e6%9e%90%e7%9c%9f%e5%ae%9e%e5%9c%b0%e5%9d%80-selenium/#respond\">没有评论</a></span>\n",
      "                        <span class=\"meta-span hidden-xs\"><i class=\"fas fa-tags\"></i> <a href=\"http://www.santostang.com/tag/ajax/\" rel=\"tag\">ajax</a>,<a href=\"http://www.santostang.com/tag/javascript/\" rel=\"tag\">javascript</a>,<a href=\"http://www.santostang.com/tag/python/\" rel=\"tag\">python</a>,<a href=\"http://www.santostang.com/tag/selenium/\" rel=\"tag\">selenium</a>,<a href=\"http://www.santostang.com/tag/%e7%bd%91%e7%bb%9c%e7%88%ac%e8%99%ab/\" rel=\"tag\">网络爬虫</a></span>\n",
      "                    </div>\n",
      "                </header>\n",
      "                <div class=\"post-content clearfix\">\n",
      "                    <p>由于网易云跟帖停止服务，现在已经在此处中更新了新写的第四章。请参照文章：\n",
      "前面爬取的网页均为静态网页，这样的网页在浏览器中展示的内容都在HTML源代码中。但是，由于主流网站都使用JavaScript展现网页内容，...</p>\n",
      "                </div>\n",
      "            </article>\n",
      "                                                <article class=\"article-list-1 clearfix\">\n",
      "                <header class=\"clearfix\">\n",
      "                    <h1 class=\"post-title\"><a href=\"http://www.santostang.com/2018/07/04/hello-world/\">Hello world!</a></h1>\n",
      "                    <div class=\"post-meta\">\n",
      "                        <span class=\"meta-span\"><i class=\"far fa-calendar-alt\"></i> 07月04日</span>\n",
      "                        <span class=\"meta-span\"><i class=\"far fa-folder\"></i> <a href=\"http://www.santostang.com/category/python-%e7%bd%91%e7%bb%9c%e7%88%ac%e8%99%ab/\" rel=\"category tag\">Python 网络爬虫</a></span>\n",
      "                        <span class=\"meta-span\"><i class=\"fas fa-comments\"></i> <a href=\"http://www.santostang.com/2018/07/04/hello-world/#comments\">1条评论</a></span>\n",
      "                        <span class=\"meta-span hidden-xs\"><i class=\"fas fa-tags\"></i> </span>\n",
      "                    </div>\n",
      "                </header>\n",
      "                <div class=\"post-content clearfix\">\n",
      "                    <p>Welcome to WordPress. This is your first post. Edit or delete it, then start writing!\n",
      "各位读者，由于网易云跟帖在本书出版后已经停止服务，书中的第四章已经无法使用。所以我将本书的评论系统换成了来必力...</p>\n",
      "                </div>\n",
      "            </article>\n",
      "                                    <nav style=\"float:right\">\n",
      "                            </nav>\n",
      "        </div>\n",
      "        <div class=\"col-md-4 hidden-xs hidden-sm\">\n",
      "            <aside class=\"widget clearfix\">\n",
      "    <form id=\"searchform\" action=\"http://www.santostang.com\">\n",
      "        <div class=\"input-group\">\n",
      "            <input type=\"search\" class=\"form-control\" placeholder=\"搜索…\" value=\"\" name=\"s\">\n",
      "            <span class=\"input-group-btn\"><button class=\"btn btn-default\" type=\"submit\"><i class=\"fas fa-search\"></i></button></span>\n",
      "        </div>\n",
      "    </form>\n",
      "</aside>\n",
      "<aside class=\"widget clearfix\">\n",
      "    <h4 class=\"widget-title\">文章分类</h4>\n",
      "    <ul class=\"widget-cat\">\n",
      "        \t<li class=\"cat-item cat-item-2\"><a href=\"http://www.santostang.com/category/python-%e7%bd%91%e7%bb%9c%e7%88%ac%e8%99%ab/\" >Python 网络爬虫</a> (5)\n",
      "</li>\n",
      "    </ul>\n",
      "</aside>\n",
      "<aside class=\"widget clearfix\">\n",
      "    <h4 class=\"widget-title\">热门文章</h4>\n",
      "    <ul class=\"widget-hot\">\n",
      "            </ul>\n",
      "</aside>\n",
      "<aside class=\"widget clearfix\">\n",
      "    <h4 class=\"widget-title\">随机推荐</h4>\n",
      "    <ul class=\"widget-hot\">\n",
      "            <li><a href=\"http://www.santostang.com/2018/07/15/4-3-%e9%80%9a%e8%bf%87selenium-%e6%a8%a1%e6%8b%9f%e6%b5%8f%e8%a7%88%e5%99%a8%e6%8a%93%e5%8f%96/\" title=\"第四章 &#8211; 4.3 通过selenium 模拟浏览器抓取\">第四章 &#8211; 4.3 通过selenium 模拟浏览器抓取</a></li>\n",
      "            <li><a href=\"http://www.santostang.com/2018/07/14/%e7%ac%ac%e5%9b%9b%e7%ab%a0%ef%bc%9a%e5%8a%a8%e6%80%81%e7%bd%91%e9%a1%b5%e6%8a%93%e5%8f%96-%e8%a7%a3%e6%9e%90%e7%9c%9f%e5%ae%9e%e5%9c%b0%e5%9d%80-selenium/\" title=\"第四章- 动态网页抓取 (解析真实地址 + selenium)\">第四章- 动态网页抓取 (解析真实地址 + selenium)</a></li>\n",
      "            <li><a href=\"http://www.santostang.com/2018/07/04/hello-world/\" title=\"Hello world!\">Hello world!</a></li>\n",
      "            <li><a href=\"http://www.santostang.com/2018/07/11/%e3%80%8a%e7%bd%91%e7%bb%9c%e7%88%ac%e8%99%ab%ef%bc%9a%e4%bb%8e%e5%85%a5%e9%97%a8%e5%88%b0%e5%ae%9e%e8%b7%b5%e3%80%8b%e4%b8%80%e4%b9%a6%e5%8b%98%e8%af%af/\" title=\"《网络爬虫：从入门到实践》一书勘误\">《网络爬虫：从入门到实践》一书勘误</a></li>\n",
      "            <li><a href=\"http://www.santostang.com/2018/07/14/4-2-%e8%a7%a3%e6%9e%90%e7%9c%9f%e5%ae%9e%e5%9c%b0%e5%9d%80%e6%8a%93%e5%8f%96/\" title=\"第四章 &#8211; 4.2 解析真实地址抓取\">第四章 &#8211; 4.2 解析真实地址抓取</a></li>\n",
      "        </ul>\n",
      "</aside>\n",
      "<aside class=\"widget clearfix\">\n",
      "    <h4 class=\"widget-title\">标签云</h4>\n",
      "    <div class=\"widget-tags\">\n",
      "        <a href=\"http://www.santostang.com/tag/ajax/\" class=\"tag-cloud-link tag-link-3 tag-link-position-1\" style=\"color:#e6e5e4;font-size: 22pt;\" aria-label=\"ajax (2个项目);\">ajax</a>\n",
      "<a href=\"http://www.santostang.com/tag/javascript/\" class=\"tag-cloud-link tag-link-4 tag-link-position-2\" style=\"color:#dd57c;font-size: 8pt;\" aria-label=\"javascript (1个项目);\">javascript</a>\n",
      "<a href=\"http://www.santostang.com/tag/python/\" class=\"tag-cloud-link tag-link-5 tag-link-position-3\" style=\"color:#85c556;font-size: 22pt;\" aria-label=\"python (2个项目);\">python</a>\n",
      "<a href=\"http://www.santostang.com/tag/selenium/\" class=\"tag-cloud-link tag-link-6 tag-link-position-4\" style=\"color:#957aa7;font-size: 8pt;\" aria-label=\"selenium (1个项目);\">selenium</a>\n",
      "<a href=\"http://www.santostang.com/tag/%e7%bd%91%e7%bb%9c%e7%88%ac%e8%99%ab/\" class=\"tag-cloud-link tag-link-8 tag-link-position-5\" style=\"color:#3338af;font-size: 22pt;\" aria-label=\"网络爬虫 (2个项目);\">网络爬虫</a>\n",
      "<a href=\"http://www.santostang.com/tag/%e7%bd%91%e9%a1%b5%e7%88%ac%e8%99%ab/\" class=\"tag-cloud-link tag-link-9 tag-link-position-6\" style=\"color:#ce1a88;font-size: 8pt;\" aria-label=\"网页爬虫 (1个项目);\">网页爬虫</a>\n",
      "<a href=\"http://www.santostang.com/tag/%e8%a7%a3%e6%9e%90%e5%9c%b0%e5%9d%80/\" class=\"tag-cloud-link tag-link-10 tag-link-position-7\" style=\"color:#161ad;font-size: 8pt;\" aria-label=\"解析地址 (1个项目);\">解析地址</a>    </div>\n",
      "</aside>\n",
      "<aside class=\"widget clearfix\">\n",
      "    <h4 class=\"widget-title\">友情链接</h4>\n",
      "    <ul class=\"widget-links\">\n",
      "            </ul>\n",
      "</aside>\n",
      "        </div>\n",
      "    </div>\n",
      "</div>\n",
      "<div class=\"footer_search visible-xs visible-sm\">\n",
      "    <form id=\"searchform\" action=\"http://www.santostang.com\">\n",
      "        <div class=\"input-group\">\n",
      "            <input type=\"search\" class=\"form-control\" placeholder=\"搜索…\" value=\"\" name=\"s\">\n",
      "            <span class=\"input-group-btn\"><button class=\"btn btn-default\" type=\"submit\"><i class=\"fas fa-search\"></i></button></span>\n",
      "        </div>\n",
      "    </form>\n",
      "</div>\n",
      "<footer id=\"footer\">\n",
      "    <div class=\"copyright\">\n",
      "        <p><i class=\"far fa-copyright\"></i> 2019 <b>数据科学@唐松 | 粤ICP备19068356号</b></p>\n",
      "        <p>Powered by <b>WordPress</b>. Theme by <a href=\"https://tangjie.me/jiestyle-two\" data-toggle=\"tooltip\" data-placement=\"top\" title=\"WordPress 主题模板\" target=\"_blank\"><b>JieStyle Two</b></a> | </p>\n",
      "    </div>\n",
      "    <div style=\"display:none;\"></div>\n",
      "</footer>\n",
      "<script type=\"text/javascript\" src=\"http://www.santostang.com/wp-content/themes/SongStyle-Two/js/jquery.min.js\"></script>\n",
      "<script type=\"text/javascript\" src=\"http://www.santostang.com/wp-content/themes/SongStyle-Two/js/bootstrap.min.js\"></script>\n",
      "<script type=\"text/javascript\" src=\"http://www.santostang.com/wp-content/themes/SongStyle-Two/js/skel.min.js\"></script>\n",
      "<script type=\"text/javascript\" src=\"http://www.santostang.com/wp-content/themes/SongStyle-Two/js/util.min.js\"></script>\n",
      "<script type=\"text/javascript\" src=\"http://www.santostang.com/wp-content/themes/SongStyle-Two/js/nav.js\"></script>\n",
      "<script>\n",
      "$(function() {\n",
      "    $('[data-toggle=\"tooltip\"]').tooltip()\n",
      "});\n",
      "</script>\n",
      "<script>\n",
      "(function(){\n",
      "    var bp = document.createElement('script');\n",
      "    var curProtocol = window.location.protocol.split(':')[0];\n",
      "    if (curProtocol === 'https') {\n",
      "        bp.src = 'https://zz.bdstatic.com/linksubmit/push.js';\n",
      "    }\n",
      "    else {\n",
      "        bp.src = 'http://push.zhanzhang.baidu.com/push.js';\n",
      "    }\n",
      "    var s = document.getElementsByTagName(\"script\")[0];\n",
      "    s.parentNode.insertBefore(bp, s);\n",
      "})();\n",
      "</script>\n",
      "<script>\n",
      "var _hmt = _hmt || [];\n",
      "(function() {\n",
      "  var hm = document.createElement(\"script\");\n",
      "  hm.src = \"https://hm.baidu.com/hm.js?752e310cec7906ba7afeb24cd7114c48\";\n",
      "  var s = document.getElementsByTagName(\"script\")[0]; \n",
      "  s.parentNode.insertBefore(hm, s);\n",
      "})();\n",
      "</script>\n",
      "</body>\n",
      "</html>\n"
     ]
    }
   ],
   "source": [
    "print(\"文本编码：\", r.encoding)\n",
    "print(\"响应码状态：\", r.status_code)\n",
    "print(\"相应体：\", r.text)"
   ]
  },
  {
   "cell_type": "markdown",
   "metadata": {},
   "source": [
    "**r.text:**服务器响应内容，会自动根据头部字符编码进行解码  \n",
    "**r.encoding:**服务器内容使用的文本编码  \n",
    "**r.status_code:**\n",
    "1. 200:请求成功\n",
    "2. 4xx:客户端错误\n",
    "3. 5xx:服务端错误\n",
    "\n",
    "**r.content:**字节方式的响应体，会自动解码gzip和deflate编码的相应数据    \n",
    "**r.json:**Requests中内置的JSON解码器"
   ]
  },
  {
   "cell_type": "markdown",
   "metadata": {},
   "source": [
    "## 2.2 定制Requests"
   ]
  },
  {
   "cell_type": "markdown",
   "metadata": {},
   "source": [
    "### 2.2.1 传递URL参数"
   ]
  },
  {
   "cell_type": "code",
   "execution_count": null,
   "metadata": {},
   "outputs": [],
   "source": [
    "import requests"
   ]
  },
  {
   "cell_type": "code",
   "execution_count": null,
   "metadata": {},
   "outputs": [
    {
     "name": "stdout",
     "output_type": "stream",
     "text": [
      "URL: https://httpbin.org/get?key1=value1&key2=value2\n",
      "字符串响应体:\n",
      " {\n",
      "  \"args\": {\n",
      "    \"key1\": \"value1\", \n",
      "    \"key2\": \"value2\"\n",
      "  }, \n",
      "  \"headers\": {\n",
      "    \"Accept\": \"*/*\", \n",
      "    \"Accept-Encoding\": \"gzip, deflate\", \n",
      "    \"Host\": \"httpbin.org\", \n",
      "    \"User-Agent\": \"Mozilla/5.0 (Windows NT 10.0; Win64; x64) AppleWebKit/537.36 (KHTML, like Gecko)\"\n",
      "  }, \n",
      "  \"origin\": \"223.214.148.205, 223.214.148.205\", \n",
      "  \"url\": \"https://httpbin.org/get?key1=value1&key2=value2\"\n",
      "}\n",
      "\n"
     ]
    }
   ],
   "source": [
    "link = \"https://httpbin.org/get\"\n",
    "headers = {\"User-Agent\": \"Mozilla/5.0 (Windows NT 10.0; Win64; x64) AppleWebKit/537.36 (KHTML, like Gecko)\"}\n",
    "key_dict = {\"key1\": \"value1\", \"key2\": \"value2\"}\n",
    "r = requests.get(link, headers=headers, params=key_dict)\n",
    "print(\"URL:\", r.url)\n",
    "print(\"字符串响应体:\\n\", r.text)"
   ]
  },
  {
   "cell_type": "markdown",
   "metadata": {},
   "source": [
    "### 2.2.2 定制请求头"
   ]
  },
  {
   "cell_type": "code",
   "execution_count": 8,
   "metadata": {},
   "outputs": [],
   "source": [
    "import requests"
   ]
  },
  {
   "cell_type": "code",
   "execution_count": 9,
   "metadata": {},
   "outputs": [],
   "source": [
    "link = \"http://www.santostang.com/\"\n",
    "headers = {\n",
    "    \"User-Agent\": \"Mozilla/5.0 (Windows NT 10.0; Win64; x64) AppleWebKit/537.36 (KHTML, like Gecko)\",\n",
    "    \"Host\": \"www.santostang.com\"\n",
    "}\n",
    "# r = requests.get(link, headers=headers, timeout=5)  # timeout：超时设置\n",
    "r = requests.get(link, headers=headers)"
   ]
  },
  {
   "cell_type": "code",
   "execution_count": 10,
   "metadata": {},
   "outputs": [
    {
     "name": "stdout",
     "output_type": "stream",
     "text": [
      "<!DOCTYPE html>\n",
      "<html lang=\"zh-CN\">\n",
      "<head>\n",
      "<meta charset=\"UTF-8\">\n",
      "<meta http-equiv=\"X-UA-Compatible\" content=\"IE=edge\">\n",
      "<meta name=\"viewport\" content=\"width=device-width, initial-scale=1, maximum-scale=1\">\n",
      "<title>Santos Tang</title>\n",
      "<meta name=\"description\" content=\"Python网络爬虫：从入门到实践 官方网站及个人博客\" />\n",
      "<meta name=\"keywords\" content=\"Python网络爬虫, Python爬虫, Python, 爬虫, 数据科学, 数据挖掘, 数据分析, santostang, Santos Tang, 唐松, Song Tang\" />\n",
      "<link rel=\"apple-touch-icon\" href=\"http://www.santostang.com/wp-content/themes/SongStyle-Two/images/icon_32.png\">\n",
      "<link rel=\"apple-touch-icon\" sizes=\"152x152\" href=\"http://www.santostang.com/wp-content/themes/SongStyle-Two/images/icon_152.png\">\n",
      "<link rel=\"apple-touch-icon\" sizes=\"167x167\" href=\"http://www.santostang.com/wp-content/themes/SongStyle-Two/images/icon_167.png\">\n",
      "<link rel=\"apple-touch-icon\" sizes=\"180x180\" href=\"http://www.santostang.com/wp-content/themes/SongStyle-Two/images/icon_180.png\">\n",
      "<link rel=\"icon\" href=\"http://www.santostang.com/wp-content/themes/SongStyle-Two/images/icon_32.png\" type=\"image/x-icon\">\n",
      "<link rel=\"stylesheet\" href=\"http://www.santostang.com/wp-content/themes/SongStyle-Two/css/bootstrap.min.css\">\n",
      "<link rel=\"stylesheet\" href=\"http://www.santostang.com/wp-content/themes/SongStyle-Two/css/fontawesome.min.css\">\n",
      "<link rel=\"stylesheet\" href=\"http://www.santostang.com/wp-content/themes/SongStyle-Two/style.css\">\n",
      "<link rel=\"pingback\" href=\"http://www.santostang.com/xmlrpc.php\" />\n",
      "<style type=\"text/css\">\n",
      "a{color:#1e73be}\n",
      "a:hover{color:#2980b9!important}\n",
      "#header{background-color:#1e73be}\n",
      ".widget .widget-title::after{background-color:#1e73be}\n",
      ".uptop{border-left-color:#1e73be}\n",
      "#titleBar .toggle:before{background:#1e73be}\n",
      "</style>\n",
      "</head>\n",
      "\n",
      "<body>\n",
      "<header id=\"header\">\n",
      "    <div class=\"avatar\"><a href=\"http://www.santostang.com\" title=\"Santos Tang\"><img src=\"http://www.santostang.com/wp-content/uploads/2019/06/me.jpg\" alt=\"Santos Tang\" class=\"img-circle\" width=\"50%\"></a></div>\n",
      "    <h1 id=\"name\">Santos Tang</h1>\n",
      "    <div class=\"sns\">\n",
      "                <a href=\"https://weibo.com/santostang\" target=\"_blank\" rel=\"nofollow\" data-toggle=\"tooltip\" data-placement=\"top\" title=\"Weibo\"><i class=\"fab fa-weibo\"></i></a>        <a href=\"https://www.linkedin.com/in/santostang\" target=\"_blank\" rel=\"nofollow\" data-toggle=\"tooltip\" data-placement=\"top\" title=\"Linkedin\"><i class=\"fab fa-linkedin\"></i></a>        <a href=\"https://www.zhihu.com/people/santostang\" target=\"_blank\" rel=\"nofollow\" data-toggle=\"tooltip\" data-placement=\"top\" title=\"Zhihu\"><i class=\"fab fa-zhihu\"></i></a>        <a href=\"https://github.com/santostang\" target=\"_blank\" rel=\"nofollow\" data-toggle=\"tooltip\" data-placement=\"top\" title=\"GitHub\"><i class=\"fab fa-github-alt\"></i></a>    </div>\n",
      "    <div class=\"nav\">\n",
      "        <ul><li><a href=\"http://www.santostang.com/\">首页</a></li>\n",
      "<li><a href=\"http://www.santostang.com/aboutme/\">关于我</a></li>\n",
      "<li><a href=\"http://www.santostang.com/python%e7%bd%91%e7%bb%9c%e7%88%ac%e8%99%ab%e4%bb%a3%e7%a0%81/\">爬虫书代码</a></li>\n",
      "<li><a href=\"http://www.santostang.com/%e5%8a%a0%e6%88%91%e5%be%ae%e4%bf%a1/\">加我微信</a></li>\n",
      "<li><a href=\"https://santostang.github.io/\">EnglishSite</a></li>\n",
      "</ul>    </div>\n",
      "        <div class=\"weixin\">\n",
      "        <img src=\"http://www.santostang.com/wp-content/uploads/2019/06/qrcode_for_gh_370f70791e19_258.jpg\" alt=\"微信公众号\" width=\"50%\">\n",
      "        <p>微信公众号</p>\n",
      "    </div>\n",
      "    </header>\n",
      "<div id=\"main\">\n",
      "    <div class=\"row box\">\n",
      "        <div class=\"col-md-8\">\n",
      "                                <h2 class=\"uptop\"><i class=\"fas fa-arrow-circle-up\"></i> <a href=\"http://www.santostang.com/2018/07/11/%e3%80%8a%e7%bd%91%e7%bb%9c%e7%88%ac%e8%99%ab%ef%bc%9a%e4%bb%8e%e5%85%a5%e9%97%a8%e5%88%b0%e5%ae%9e%e8%b7%b5%e3%80%8b%e4%b8%80%e4%b9%a6%e5%8b%98%e8%af%af/\" target=\"_blank\">《网络爬虫：从入门到实践》一书勘误</a></h2>\n",
      "                                                <article class=\"article-list-1 clearfix\">\n",
      "                <header class=\"clearfix\">\n",
      "                    <h1 class=\"post-title\"><a href=\"http://www.santostang.com/2018/07/15/4-3-%e9%80%9a%e8%bf%87selenium-%e6%a8%a1%e6%8b%9f%e6%b5%8f%e8%a7%88%e5%99%a8%e6%8a%93%e5%8f%96/\">第四章 &#8211; 4.3 通过selenium 模拟浏览器抓取</a></h1>\n",
      "                    <div class=\"post-meta\">\n",
      "                        <span class=\"meta-span\"><i class=\"far fa-calendar-alt\"></i> 07月15日</span>\n",
      "                        <span class=\"meta-span\"><i class=\"far fa-folder\"></i> <a href=\"http://www.santostang.com/category/python-%e7%bd%91%e7%bb%9c%e7%88%ac%e8%99%ab/\" rel=\"category tag\">Python 网络爬虫</a></span>\n",
      "                        <span class=\"meta-span\"><i class=\"fas fa-comments\"></i> <a href=\"http://www.santostang.com/2018/07/15/4-3-%e9%80%9a%e8%bf%87selenium-%e6%a8%a1%e6%8b%9f%e6%b5%8f%e8%a7%88%e5%99%a8%e6%8a%93%e5%8f%96/#respond\">没有评论</a></span>\n",
      "                        <span class=\"meta-span hidden-xs\"><i class=\"fas fa-tags\"></i> </span>\n",
      "                    </div>\n",
      "                </header>\n",
      "                <div class=\"post-content clearfix\">\n",
      "                    <p>4.3 通过selenium 模拟浏览器抓取\n",
      "\n",
      "在上述的例子中，使用Chrome“检查”功能找到源地址还十分容易。但是有一些网站非常复杂，例如前面的天猫产品评论，使用“检查”功能很难找到调用的网页地址。除此之外，有一些数据...</p>\n",
      "                </div>\n",
      "            </article>\n",
      "                                                <article class=\"article-list-1 clearfix\">\n",
      "                <header class=\"clearfix\">\n",
      "                    <h1 class=\"post-title\"><a href=\"http://www.santostang.com/2018/07/14/4-2-%e8%a7%a3%e6%9e%90%e7%9c%9f%e5%ae%9e%e5%9c%b0%e5%9d%80%e6%8a%93%e5%8f%96/\">第四章 &#8211; 4.2 解析真实地址抓取</a></h1>\n",
      "                    <div class=\"post-meta\">\n",
      "                        <span class=\"meta-span\"><i class=\"far fa-calendar-alt\"></i> 07月14日</span>\n",
      "                        <span class=\"meta-span\"><i class=\"far fa-folder\"></i> <a href=\"http://www.santostang.com/category/python-%e7%bd%91%e7%bb%9c%e7%88%ac%e8%99%ab/\" rel=\"category tag\">Python 网络爬虫</a></span>\n",
      "                        <span class=\"meta-span\"><i class=\"fas fa-comments\"></i> <a href=\"http://www.santostang.com/2018/07/14/4-2-%e8%a7%a3%e6%9e%90%e7%9c%9f%e5%ae%9e%e5%9c%b0%e5%9d%80%e6%8a%93%e5%8f%96/#respond\">没有评论</a></span>\n",
      "                        <span class=\"meta-span hidden-xs\"><i class=\"fas fa-tags\"></i> <a href=\"http://www.santostang.com/tag/ajax/\" rel=\"tag\">ajax</a>,<a href=\"http://www.santostang.com/tag/python/\" rel=\"tag\">python</a>,<a href=\"http://www.santostang.com/tag/%e7%bd%91%e7%bb%9c%e7%88%ac%e8%99%ab/\" rel=\"tag\">网络爬虫</a>,<a href=\"http://www.santostang.com/tag/%e7%bd%91%e9%a1%b5%e7%88%ac%e8%99%ab/\" rel=\"tag\">网页爬虫</a>,<a href=\"http://www.santostang.com/tag/%e8%a7%a3%e6%9e%90%e5%9c%b0%e5%9d%80/\" rel=\"tag\">解析地址</a></span>\n",
      "                    </div>\n",
      "                </header>\n",
      "                <div class=\"post-content clearfix\">\n",
      "                    <p>由于网易云跟帖停止服务，现在已经在此处中更新了新写的第四章。请参照文章：\n",
      "4.2 解析真实地址抓取\n",
      "虽然数据并没有出现在网页源代码中，我们也可以找到数据的真实地址，请求这个真实地址也可以获得想要的数据。...</p>\n",
      "                </div>\n",
      "            </article>\n",
      "                                                <article class=\"article-list-1 clearfix\">\n",
      "                <header class=\"clearfix\">\n",
      "                    <h1 class=\"post-title\"><a href=\"http://www.santostang.com/2018/07/14/%e7%ac%ac%e5%9b%9b%e7%ab%a0%ef%bc%9a%e5%8a%a8%e6%80%81%e7%bd%91%e9%a1%b5%e6%8a%93%e5%8f%96-%e8%a7%a3%e6%9e%90%e7%9c%9f%e5%ae%9e%e5%9c%b0%e5%9d%80-selenium/\">第四章- 动态网页抓取 (解析真实地址 + selenium)</a></h1>\n",
      "                    <div class=\"post-meta\">\n",
      "                        <span class=\"meta-span\"><i class=\"far fa-calendar-alt\"></i> 07月14日</span>\n",
      "                        <span class=\"meta-span\"><i class=\"far fa-folder\"></i> <a href=\"http://www.santostang.com/category/python-%e7%bd%91%e7%bb%9c%e7%88%ac%e8%99%ab/\" rel=\"category tag\">Python 网络爬虫</a></span>\n",
      "                        <span class=\"meta-span\"><i class=\"fas fa-comments\"></i> <a href=\"http://www.santostang.com/2018/07/14/%e7%ac%ac%e5%9b%9b%e7%ab%a0%ef%bc%9a%e5%8a%a8%e6%80%81%e7%bd%91%e9%a1%b5%e6%8a%93%e5%8f%96-%e8%a7%a3%e6%9e%90%e7%9c%9f%e5%ae%9e%e5%9c%b0%e5%9d%80-selenium/#respond\">没有评论</a></span>\n",
      "                        <span class=\"meta-span hidden-xs\"><i class=\"fas fa-tags\"></i> <a href=\"http://www.santostang.com/tag/ajax/\" rel=\"tag\">ajax</a>,<a href=\"http://www.santostang.com/tag/javascript/\" rel=\"tag\">javascript</a>,<a href=\"http://www.santostang.com/tag/python/\" rel=\"tag\">python</a>,<a href=\"http://www.santostang.com/tag/selenium/\" rel=\"tag\">selenium</a>,<a href=\"http://www.santostang.com/tag/%e7%bd%91%e7%bb%9c%e7%88%ac%e8%99%ab/\" rel=\"tag\">网络爬虫</a></span>\n",
      "                    </div>\n",
      "                </header>\n",
      "                <div class=\"post-content clearfix\">\n",
      "                    <p>由于网易云跟帖停止服务，现在已经在此处中更新了新写的第四章。请参照文章：\n",
      "前面爬取的网页均为静态网页，这样的网页在浏览器中展示的内容都在HTML源代码中。但是，由于主流网站都使用JavaScript展现网页内容，...</p>\n",
      "                </div>\n",
      "            </article>\n",
      "                                                <article class=\"article-list-1 clearfix\">\n",
      "                <header class=\"clearfix\">\n",
      "                    <h1 class=\"post-title\"><a href=\"http://www.santostang.com/2018/07/04/hello-world/\">Hello world!</a></h1>\n",
      "                    <div class=\"post-meta\">\n",
      "                        <span class=\"meta-span\"><i class=\"far fa-calendar-alt\"></i> 07月04日</span>\n",
      "                        <span class=\"meta-span\"><i class=\"far fa-folder\"></i> <a href=\"http://www.santostang.com/category/python-%e7%bd%91%e7%bb%9c%e7%88%ac%e8%99%ab/\" rel=\"category tag\">Python 网络爬虫</a></span>\n",
      "                        <span class=\"meta-span\"><i class=\"fas fa-comments\"></i> <a href=\"http://www.santostang.com/2018/07/04/hello-world/#comments\">1条评论</a></span>\n",
      "                        <span class=\"meta-span hidden-xs\"><i class=\"fas fa-tags\"></i> </span>\n",
      "                    </div>\n",
      "                </header>\n",
      "                <div class=\"post-content clearfix\">\n",
      "                    <p>Welcome to WordPress. This is your first post. Edit or delete it, then start writing!\n",
      "各位读者，由于网易云跟帖在本书出版后已经停止服务，书中的第四章已经无法使用。所以我将本书的评论系统换成了来必力...</p>\n",
      "                </div>\n",
      "            </article>\n",
      "                                    <nav style=\"float:right\">\n",
      "                            </nav>\n",
      "        </div>\n",
      "        <div class=\"col-md-4 hidden-xs hidden-sm\">\n",
      "            <aside class=\"widget clearfix\">\n",
      "    <form id=\"searchform\" action=\"http://www.santostang.com\">\n",
      "        <div class=\"input-group\">\n",
      "            <input type=\"search\" class=\"form-control\" placeholder=\"搜索…\" value=\"\" name=\"s\">\n",
      "            <span class=\"input-group-btn\"><button class=\"btn btn-default\" type=\"submit\"><i class=\"fas fa-search\"></i></button></span>\n",
      "        </div>\n",
      "    </form>\n",
      "</aside>\n",
      "<aside class=\"widget clearfix\">\n",
      "    <h4 class=\"widget-title\">文章分类</h4>\n",
      "    <ul class=\"widget-cat\">\n",
      "        \t<li class=\"cat-item cat-item-2\"><a href=\"http://www.santostang.com/category/python-%e7%bd%91%e7%bb%9c%e7%88%ac%e8%99%ab/\" >Python 网络爬虫</a> (5)\n",
      "</li>\n",
      "    </ul>\n",
      "</aside>\n",
      "<aside class=\"widget clearfix\">\n",
      "    <h4 class=\"widget-title\">热门文章</h4>\n",
      "    <ul class=\"widget-hot\">\n",
      "            </ul>\n",
      "</aside>\n",
      "<aside class=\"widget clearfix\">\n",
      "    <h4 class=\"widget-title\">随机推荐</h4>\n",
      "    <ul class=\"widget-hot\">\n",
      "            <li><a href=\"http://www.santostang.com/2018/07/14/%e7%ac%ac%e5%9b%9b%e7%ab%a0%ef%bc%9a%e5%8a%a8%e6%80%81%e7%bd%91%e9%a1%b5%e6%8a%93%e5%8f%96-%e8%a7%a3%e6%9e%90%e7%9c%9f%e5%ae%9e%e5%9c%b0%e5%9d%80-selenium/\" title=\"第四章- 动态网页抓取 (解析真实地址 + selenium)\">第四章- 动态网页抓取 (解析真实地址 + selenium)</a></li>\n",
      "            <li><a href=\"http://www.santostang.com/2018/07/14/4-2-%e8%a7%a3%e6%9e%90%e7%9c%9f%e5%ae%9e%e5%9c%b0%e5%9d%80%e6%8a%93%e5%8f%96/\" title=\"第四章 &#8211; 4.2 解析真实地址抓取\">第四章 &#8211; 4.2 解析真实地址抓取</a></li>\n",
      "            <li><a href=\"http://www.santostang.com/2018/07/04/hello-world/\" title=\"Hello world!\">Hello world!</a></li>\n",
      "            <li><a href=\"http://www.santostang.com/2018/07/15/4-3-%e9%80%9a%e8%bf%87selenium-%e6%a8%a1%e6%8b%9f%e6%b5%8f%e8%a7%88%e5%99%a8%e6%8a%93%e5%8f%96/\" title=\"第四章 &#8211; 4.3 通过selenium 模拟浏览器抓取\">第四章 &#8211; 4.3 通过selenium 模拟浏览器抓取</a></li>\n",
      "            <li><a href=\"http://www.santostang.com/2018/07/11/%e3%80%8a%e7%bd%91%e7%bb%9c%e7%88%ac%e8%99%ab%ef%bc%9a%e4%bb%8e%e5%85%a5%e9%97%a8%e5%88%b0%e5%ae%9e%e8%b7%b5%e3%80%8b%e4%b8%80%e4%b9%a6%e5%8b%98%e8%af%af/\" title=\"《网络爬虫：从入门到实践》一书勘误\">《网络爬虫：从入门到实践》一书勘误</a></li>\n",
      "        </ul>\n",
      "</aside>\n",
      "<aside class=\"widget clearfix\">\n",
      "    <h4 class=\"widget-title\">标签云</h4>\n",
      "    <div class=\"widget-tags\">\n",
      "        <a href=\"http://www.santostang.com/tag/ajax/\" class=\"tag-cloud-link tag-link-3 tag-link-position-1\" style=\"color:#bbfaac;font-size: 22pt;\" aria-label=\"ajax (2个项目);\">ajax</a>\n",
      "<a href=\"http://www.santostang.com/tag/javascript/\" class=\"tag-cloud-link tag-link-4 tag-link-position-2\" style=\"color:#cb587;font-size: 8pt;\" aria-label=\"javascript (1个项目);\">javascript</a>\n",
      "<a href=\"http://www.santostang.com/tag/python/\" class=\"tag-cloud-link tag-link-5 tag-link-position-3\" style=\"color:#21979d;font-size: 22pt;\" aria-label=\"python (2个项目);\">python</a>\n",
      "<a href=\"http://www.santostang.com/tag/selenium/\" class=\"tag-cloud-link tag-link-6 tag-link-position-4\" style=\"color:#cfc4f1;font-size: 8pt;\" aria-label=\"selenium (1个项目);\">selenium</a>\n",
      "<a href=\"http://www.santostang.com/tag/%e7%bd%91%e7%bb%9c%e7%88%ac%e8%99%ab/\" class=\"tag-cloud-link tag-link-8 tag-link-position-5\" style=\"color:#adeb19;font-size: 22pt;\" aria-label=\"网络爬虫 (2个项目);\">网络爬虫</a>\n",
      "<a href=\"http://www.santostang.com/tag/%e7%bd%91%e9%a1%b5%e7%88%ac%e8%99%ab/\" class=\"tag-cloud-link tag-link-9 tag-link-position-6\" style=\"color:#fc5760;font-size: 8pt;\" aria-label=\"网页爬虫 (1个项目);\">网页爬虫</a>\n",
      "<a href=\"http://www.santostang.com/tag/%e8%a7%a3%e6%9e%90%e5%9c%b0%e5%9d%80/\" class=\"tag-cloud-link tag-link-10 tag-link-position-7\" style=\"color:#1aafb1;font-size: 8pt;\" aria-label=\"解析地址 (1个项目);\">解析地址</a>    </div>\n",
      "</aside>\n",
      "<aside class=\"widget clearfix\">\n",
      "    <h4 class=\"widget-title\">友情链接</h4>\n",
      "    <ul class=\"widget-links\">\n",
      "            </ul>\n",
      "</aside>\n",
      "        </div>\n",
      "    </div>\n",
      "</div>\n",
      "<div class=\"footer_search visible-xs visible-sm\">\n",
      "    <form id=\"searchform\" action=\"http://www.santostang.com\">\n",
      "        <div class=\"input-group\">\n",
      "            <input type=\"search\" class=\"form-control\" placeholder=\"搜索…\" value=\"\" name=\"s\">\n",
      "            <span class=\"input-group-btn\"><button class=\"btn btn-default\" type=\"submit\"><i class=\"fas fa-search\"></i></button></span>\n",
      "        </div>\n",
      "    </form>\n",
      "</div>\n",
      "<footer id=\"footer\">\n",
      "    <div class=\"copyright\">\n",
      "        <p><i class=\"far fa-copyright\"></i> 2019 <b>数据科学@唐松 | 粤ICP备19068356号</b></p>\n",
      "        <p>Powered by <b>WordPress</b>. Theme by <a href=\"https://tangjie.me/jiestyle-two\" data-toggle=\"tooltip\" data-placement=\"top\" title=\"WordPress 主题模板\" target=\"_blank\"><b>JieStyle Two</b></a> | </p>\n",
      "    </div>\n",
      "    <div style=\"display:none;\"></div>\n",
      "</footer>\n",
      "<script type=\"text/javascript\" src=\"http://www.santostang.com/wp-content/themes/SongStyle-Two/js/jquery.min.js\"></script>\n",
      "<script type=\"text/javascript\" src=\"http://www.santostang.com/wp-content/themes/SongStyle-Two/js/bootstrap.min.js\"></script>\n",
      "<script type=\"text/javascript\" src=\"http://www.santostang.com/wp-content/themes/SongStyle-Two/js/skel.min.js\"></script>\n",
      "<script type=\"text/javascript\" src=\"http://www.santostang.com/wp-content/themes/SongStyle-Two/js/util.min.js\"></script>\n",
      "<script type=\"text/javascript\" src=\"http://www.santostang.com/wp-content/themes/SongStyle-Two/js/nav.js\"></script>\n",
      "<script>\n",
      "$(function() {\n",
      "    $('[data-toggle=\"tooltip\"]').tooltip()\n",
      "});\n",
      "</script>\n",
      "<script>\n",
      "(function(){\n",
      "    var bp = document.createElement('script');\n",
      "    var curProtocol = window.location.protocol.split(':')[0];\n",
      "    if (curProtocol === 'https') {\n",
      "        bp.src = 'https://zz.bdstatic.com/linksubmit/push.js';\n",
      "    }\n",
      "    else {\n",
      "        bp.src = 'http://push.zhanzhang.baidu.com/push.js';\n",
      "    }\n",
      "    var s = document.getElementsByTagName(\"script\")[0];\n",
      "    s.parentNode.insertBefore(bp, s);\n",
      "})();\n",
      "</script>\n",
      "<script>\n",
      "var _hmt = _hmt || [];\n",
      "(function() {\n",
      "  var hm = document.createElement(\"script\");\n",
      "  hm.src = \"https://hm.baidu.com/hm.js?752e310cec7906ba7afeb24cd7114c48\";\n",
      "  var s = document.getElementsByTagName(\"script\")[0]; \n",
      "  s.parentNode.insertBefore(hm, s);\n",
      "})();\n",
      "</script>\n",
      "</body>\n",
      "</html>\n"
     ]
    }
   ],
   "source": [
    "print(r.text)"
   ]
  },
  {
   "cell_type": "markdown",
   "metadata": {},
   "source": [
    "### 2.2.3 发送POST请求"
   ]
  },
  {
   "cell_type": "code",
   "execution_count": 3,
   "metadata": {},
   "outputs": [],
   "source": [
    "import requests"
   ]
  },
  {
   "cell_type": "code",
   "execution_count": 4,
   "metadata": {},
   "outputs": [],
   "source": [
    "link = \"https://httpbin.org/post\"\n",
    "headers = {\"User-Agent\": \"Mozilla/5.0 (Windows NT 10.0; Win64; x64) AppleWebKit/537.36 (KHTML, like Gecko)\"}\n",
    "key_dict = {\"key1\": \"value1\", \"key2\": \"value2\"}\n",
    "r = requests.post(link, data=key_dict)"
   ]
  },
  {
   "cell_type": "code",
   "execution_count": 5,
   "metadata": {},
   "outputs": [
    {
     "name": "stdout",
     "output_type": "stream",
     "text": [
      "{\n",
      "  \"args\": {}, \n",
      "  \"data\": \"\", \n",
      "  \"files\": {}, \n",
      "  \"form\": {\n",
      "    \"key1\": \"value1\", \n",
      "    \"key2\": \"value2\"\n",
      "  }, \n",
      "  \"headers\": {\n",
      "    \"Accept\": \"*/*\", \n",
      "    \"Accept-Encoding\": \"gzip, deflate\", \n",
      "    \"Content-Length\": \"23\", \n",
      "    \"Content-Type\": \"application/x-www-form-urlencoded\", \n",
      "    \"Host\": \"httpbin.org\", \n",
      "    \"User-Agent\": \"python-requests/2.21.0\"\n",
      "  }, \n",
      "  \"json\": null, \n",
      "  \"origin\": \"223.214.148.205, 223.214.148.205\", \n",
      "  \"url\": \"https://httpbin.org/post\"\n",
      "}\n",
      "\n"
     ]
    }
   ],
   "source": [
    "print(r.text)"
   ]
  },
  {
   "cell_type": "markdown",
   "metadata": {},
   "source": [
    "**总结**  \n",
    "GET：以关键字的形式搜索(params)  \n",
    "POST：用表单传递数据(data)"
   ]
  },
  {
   "cell_type": "markdown",
   "metadata": {},
   "source": [
    "## 2.3 TOP250电影数据"
   ]
  },
  {
   "cell_type": "code",
   "execution_count": 58,
   "metadata": {},
   "outputs": [],
   "source": [
    "%matplotlib inline\n",
    "import matplotlib.pyplot as plt\n",
    "import matplotlib\n",
    "from pylab import mpl\n",
    "import requests\n",
    "from bs4 import BeautifulSoup\n",
    "import pandas as pd\n",
    "from pandas import Series, DataFrame\n",
    "import time\n",
    "import numpy as np\n",
    "\n",
    "# mpl.rcParams['font.sans-serif'] = ['SimHei'] # 指定默认字体：解决plot不能显示中文问题\n",
    "# mpl.rcParams['axes.unicode_minus'] = False  # 解决保存图像是负号'-'显示为方块的问题"
   ]
  },
  {
   "cell_type": "markdown",
   "metadata": {},
   "source": [
    "**抓取数据**"
   ]
  },
  {
   "cell_type": "code",
   "execution_count": 45,
   "metadata": {},
   "outputs": [
    {
     "name": "stdout",
     "output_type": "stream",
     "text": [
      "网页0状态响应码： 200\n",
      "网页25状态响应码： 200\n",
      "网页50状态响应码： 200\n",
      "网页75状态响应码： 200\n",
      "网页100状态响应码： 200\n",
      "网页125状态响应码： 200\n",
      "网页150状态响应码： 200\n",
      "网页175状态响应码： 200\n",
      "网页200状态响应码： 200\n",
      "网页225状态响应码： 200\n"
     ]
    }
   ],
   "source": [
    "addr = \"https://movie.douban.com/top250?start=%s\"\n",
    "headers = {\"User-Agent\": \"Mozilla/5.0 (Windows NT 10.0; Win64; x64) AppleWebKit/537.36 (KHTML, like Gecko) Chrome/73.0.3683.103 Safari/537.36\"}\n",
    "movies = list()\n",
    "\n",
    "for i in range(0, 250, 25):\n",
    "    r = requests.get(addr % i, headers=headers)\n",
    "    movies.append(r)\n",
    "    print(\"网页%s状态响应码：\" % i, r.status_code)\n",
    "    time.sleep(0.5)  # 暂停0.5s"
   ]
  },
  {
   "cell_type": "markdown",
   "metadata": {},
   "source": [
    "**解析数据**"
   ]
  },
  {
   "cell_type": "code",
   "execution_count": 46,
   "metadata": {},
   "outputs": [],
   "source": [
    "def get_info(info):\n",
    "    split_info = info.p.text.strip().split(\"\\n\")\n",
    "    \n",
    "    if len(split_info) == 1:\n",
    "        return None\n",
    "    da, yag = split_info\n",
    "    da_info = da.split(\"\\xa0\\xa0\\xa0\")\n",
    "    if len(da_info) == 2:\n",
    "        director, actor = da_info\n",
    "        director = director.split(\": \")[1]\n",
    "        actor_info = actor.split(\": \")\n",
    "        if len(actor_info) != 2:\n",
    "            actor = None\n",
    "        else:\n",
    "            actor = actor_info[1]\n",
    "    else:\n",
    "        director = da_info[0]\n",
    "        director = director.split(\": \")[1]\n",
    "        actor = None\n",
    "    year, area, genres = yag.strip().split(\"\\xa0/\\xa0\")\n",
    "    \n",
    "    result = {\n",
    "        \"Director\": director,\n",
    "        \"Actor\": actor,\n",
    "        \"Year\": year,\n",
    "        \"Area\": area,\n",
    "        \"Genres\": genres\n",
    "    }\n",
    "    result = DataFrame(result, index=[1, ])\n",
    "    return result"
   ]
  },
  {
   "cell_type": "code",
   "execution_count": 47,
   "metadata": {},
   "outputs": [],
   "source": [
    "def get_status(status):\n",
    "    if status is np.nan:\n",
    "        return False\n",
    "    return True"
   ]
  },
  {
   "cell_type": "code",
   "execution_count": 48,
   "metadata": {},
   "outputs": [],
   "source": [
    "def get_data(movie):\n",
    "    soup = BeautifulSoup(movie.text, \"lxml\")\n",
    "    comment_nums = Series()\n",
    "    result = DataFrame()\n",
    "    \n",
    "    # 排名\n",
    "    ranks = Series()\n",
    "    rank_list = soup.find_all(\"div\", attrs={'class':'pic'})\n",
    "    \n",
    "    for each in rank_list:\n",
    "        rank = each.em.text.strip()\n",
    "        ranks = pd.concat([ranks, Series(rank)], sort=False, ignore_index=True)\n",
    "        \n",
    "    result[\"Ranks\"] = ranks\n",
    "    \n",
    "    # 标题\n",
    "    titles = Series()\n",
    "    title_list = soup.find_all(\"div\", attrs={'class':'hd'})\n",
    "    \n",
    "    for each in title_list:\n",
    "        title = each.a.span.text.strip()\n",
    "        titles = pd.concat([titles, Series(title)], sort=False, ignore_index=True)\n",
    "        \n",
    "    result[\"Titles\"] = titles\n",
    "    \n",
    "    # 信息\n",
    "    infos = DataFrame()\n",
    "    info_list = soup.find_all(\"div\", attrs={'class':'bd'})\n",
    "    \n",
    "    for each in info_list:\n",
    "        info = get_info(each)\n",
    "        if info is None:\n",
    "            continue\n",
    "        infos = pd.concat([infos, info], sort=False, ignore_index=True)\n",
    "        \n",
    "    result = pd.concat([result, infos], axis=1, sort=False)\n",
    "        \n",
    "    # 评分\n",
    "    ratings = Series()\n",
    "    rating_list = soup.find_all(\"span\", attrs={'class':'rating_num'})\n",
    "        \n",
    "    for each in rating_list:\n",
    "        rating = each.text.strip()\n",
    "        ratings = pd.concat([ratings, Series(rating)], sort=False, ignore_index=True)\n",
    "    \n",
    "    result[\"Rating\"] =  ratings\n",
    "    \n",
    "    # quote\n",
    "    quotes = Series()\n",
    "    quote_list = soup.find_all(\"span\", attrs={'class':'inq'})\n",
    "\n",
    "    for each in quote_list:\n",
    "        quote = each.text.strip()\n",
    "        quotes = Series(pd.concat([quotes, Series(quote)], sort=False, ignore_index=True))\n",
    "        \n",
    "    result[\"Quote\"] = quotes\n",
    "    \n",
    "    # detail\n",
    "    details = Series()\n",
    "    detail_list = soup.find_all(\"div\", attrs={'class':'pic'})\n",
    "\n",
    "    for each in detail_list:\n",
    "        detail = each.a[\"href\"]\n",
    "        details = pd.concat([details, Series(detail)], sort=False, ignore_index=True)\n",
    "        \n",
    "    result[\"link_Detail\"] = details\n",
    "    \n",
    "    # pic\n",
    "    pics = Series()\n",
    "    pic_list = soup.find_all(\"div\", attrs={'class':'pic'})\n",
    "\n",
    "    for each in pic_list:\n",
    "        pic = each.a.img[\"src\"]\n",
    "        pics = pd.concat([pics, Series(pic)], sort=False, ignore_index=True)\n",
    "        \n",
    "    result[\"Link_Pic\"] = pics\n",
    "    \n",
    "    # 状态码\n",
    "    statuses = Series()\n",
    "    status_list = soup.find_all(\"span\", attrs={'class':'playable'})\n",
    "\n",
    "    for each in status_list:\n",
    "        status = each.text.strip()\n",
    "        statuses = pd.concat([statuses, Series(status)], sort=False, ignore_index=True)\n",
    "    \n",
    "    result[\"Status\"] = statuses\n",
    "    result[\"Status\"] = result[\"Status\"].map(get_status)\n",
    "    \n",
    "    return result"
   ]
  },
  {
   "cell_type": "code",
   "execution_count": 49,
   "metadata": {},
   "outputs": [],
   "source": [
    "movies_data = DataFrame()\n",
    "\n",
    "for movie in movies:\n",
    "    data = get_data(movie)\n",
    "    movies_data = pd.concat([movies_data, data], axis=0, sort=False, ignore_index=True)"
   ]
  },
  {
   "cell_type": "markdown",
   "metadata": {},
   "source": [
    "**存储**"
   ]
  },
  {
   "cell_type": "code",
   "execution_count": 84,
   "metadata": {},
   "outputs": [],
   "source": [
    "path = \"C:/Users/Wang/datasets/top250/movies.csv\"\n",
    "movies_data.to_csv(path, sep=',')"
   ]
  },
  {
   "cell_type": "markdown",
   "metadata": {},
   "source": [
    "**数据分析**"
   ]
  },
  {
   "cell_type": "code",
   "execution_count": 85,
   "metadata": {
    "scrolled": true
   },
   "outputs": [
    {
     "data": {
      "text/plain": [
       "<matplotlib.axes._subplots.AxesSubplot at 0x229832932e8>"
      ]
     },
     "execution_count": 85,
     "metadata": {},
     "output_type": "execute_result"
    },
    {
     "data": {
      "image/png": "[encoded data removed]",
      "text/plain": [
       "<Figure size 576x576 with 1 Axes>"
      ]
     },
     "metadata": {
      "needs_background": "light"
     },
     "output_type": "display_data"
    }
   ],
   "source": [
    "from pylab import mpl\n",
    "\n",
    "mpl.rcParams['font.sans-serif'] = ['SimHei']\n",
    "# mpl.rcParams['font.sans-serif'] = ['Microsoft YaHei']\n",
    "mpl.rcParams['axes.unicode_minus'] = False\n",
    "\n",
    "# 地区分布\n",
    "areas = movies_data[\"Area\"].str.split(\" \", expand=True).stack()\n",
    "areas_counts = areas.value_counts()\n",
    "areas_counts = areas_counts.sort_values(ascending=True)\n",
    "areas_counts.tail(10).plot.barh(figsize=(8, 8))"
   ]
  },
  {
   "cell_type": "markdown",
   "metadata": {},
   "source": [
    "# 3 动态网页抓取"
   ]
  },
  {
   "cell_type": "markdown",
   "metadata": {},
   "source": [
    "## 3.1 解析真实地址抓取"
   ]
  },
  {
   "cell_type": "code",
   "execution_count": 34,
   "metadata": {},
   "outputs": [],
   "source": [
    "import requests\n",
    "import json\n",
    "import re\n",
    "import pandas as pd\n",
    "from pandas import Series, DataFrame"
   ]
  },
  {
   "cell_type": "markdown",
   "metadata": {},
   "source": [
    "**抓取&解析数据**"
   ]
  },
  {
   "cell_type": "code",
   "execution_count": 35,
   "metadata": {},
   "outputs": [],
   "source": [
    "def get_data(r):\n",
    "    # 返回数据\n",
    "    names = list()\n",
    "    Ids = list()\n",
    "    contents = list()\n",
    "    \n",
    "    # 解析数据\n",
    "    json_string = r.text\n",
    "    json_string = re.findall('({.*})', json_string)[0]  # \n",
    "    json_data = json.loads(json_string)\n",
    "    comments = json_data['results']['parents']\n",
    "\n",
    "    for each in comments:\n",
    "        name = each[\"name\"]\n",
    "        Id = each[\"memberId\"]\n",
    "        content = each[\"content\"]\n",
    "        names.append(Series(name))\n",
    "        Ids.append(Series(Id))\n",
    "        contents.append(Series(content))\n",
    "\n",
    "    names = pd.concat(names, sort=False, ignore_index=True)\n",
    "    Ids = names = pd.concat(Ids, sort=False, ignore_index=True)\n",
    "    contents = pd.concat(contents, sort=False, ignore_index=True)\n",
    "    \n",
    "    return names, Ids, contents"
   ]
  },
  {
   "cell_type": "code",
   "execution_count": 36,
   "metadata": {},
   "outputs": [],
   "source": [
    "names = Series()\n",
    "Ids = Series()\n",
    "contents = Series()\n",
    "\n",
    "link1 = \"https://api-zero.livere.com/v1/comments/list?callback=jQuery112407994734888197979_1562336240542&limit=10&offset=\"\n",
    "link2 = \"&repSeq=4272904&requestPath=%2Fv1%2Fcomments%2Flist&consumerSeq=1020&livereSeq=28583&smartloginSeq=5154&_=1562336240544\"\n",
    "headers = {\"User-Agent\": \"Mozilla/5.0 (Windows NT 10.0; Win64; x64) AppleWebKit/537.36 (KHTML, like Gecko) Chrome/75.0.3770.100 Safari/537.36\"}\n",
    "\n",
    "for i in range(1, 13):\n",
    "    link = link1 + str(i) + link2\n",
    "    r = requests.get(link, headers=headers)  # json数据\n",
    "    name, Id, content = get_data(r)\n",
    "    names = names.append(name, ignore_index=True)\n",
    "    Ids = Ids.append(Id, ignore_index=True)\n",
    "    contents = contents.append(content, ignore_index=True)\n",
    "    \n",
    "info = DataFrame(data={\n",
    "    'id': Ids,\n",
    "    'name': names,\n",
    "    'content': contents\n",
    "})"
   ]
  },
  {
   "cell_type": "code",
   "execution_count": 28,
   "metadata": {},
   "outputs": [
    {
     "data": {
      "text/html": [
       "<div>\n",
       "<style scoped>\n",
       "    .dataframe tbody tr th:only-of-type {\n",
       "        vertical-align: middle;\n",
       "    }\n",
       "\n",
       "    .dataframe tbody tr th {\n",
       "        vertical-align: top;\n",
       "    }\n",
       "\n",
       "    .dataframe thead th {\n",
       "        text-align: right;\n",
       "    }\n",
       "</style>\n",
       "<table border=\"1\" class=\"dataframe\">\n",
       "  <thead>\n",
       "    <tr style=\"text-align: right;\">\n",
       "      <th></th>\n",
       "      <th>id</th>\n",
       "      <th>name</th>\n",
       "      <th>content</th>\n",
       "    </tr>\n",
       "  </thead>\n",
       "  <tbody>\n",
       "    <tr>\n",
       "      <th>0</th>\n",
       "      <td>UID_70D5B3A11007A724BB19686E496C5373</td>\n",
       "      <td>UID_70D5B3A11007A724BB19686E496C5373</td>\n",
       "      <td>testing</td>\n",
       "    </tr>\n",
       "    <tr>\n",
       "      <th>1</th>\n",
       "      <td>oBVoaxI9np0EcCDA47XYGVpysfPE</td>\n",
       "      <td>oBVoaxI9np0EcCDA47XYGVpysfPE</td>\n",
       "      <td>test</td>\n",
       "    </tr>\n",
       "    <tr>\n",
       "      <th>2</th>\n",
       "      <td>oBVoaxJhG4Bpg5csI-ppdxe4cOiA</td>\n",
       "      <td>oBVoaxJhG4Bpg5csI-ppdxe4cOiA</td>\n",
       "      <td>test   demo。。。。。。。。。。。。。。。。</td>\n",
       "    </tr>\n",
       "    <tr>\n",
       "      <th>3</th>\n",
       "      <td>oBVoaxKuZfl_rAbgoRqRXdGKK4Pw</td>\n",
       "      <td>oBVoaxKuZfl_rAbgoRqRXdGKK4Pw</td>\n",
       "      <td>简直有毒，这段代码有时候可以执行，有时候又失效了\\nfrom selenium import...</td>\n",
       "    </tr>\n",
       "    <tr>\n",
       "      <th>4</th>\n",
       "      <td>oBVoaxMv4rc7XjOhokOgNjPd5NDI</td>\n",
       "      <td>oBVoaxMv4rc7XjOhokOgNjPd5NDI</td>\n",
       "      <td>捣鼓了半天，终于把4.3弄出来了。有一些经验分享一下：（主要是第一个的问题，搞了很久，安装卸...</td>\n",
       "    </tr>\n",
       "  </tbody>\n",
       "</table>\n",
       "</div>"
      ],
      "text/plain": [
       "                                     id                                  name  \\\n",
       "0  UID_70D5B3A11007A724BB19686E496C5373  UID_70D5B3A11007A724BB19686E496C5373   \n",
       "1          oBVoaxI9np0EcCDA47XYGVpysfPE          oBVoaxI9np0EcCDA47XYGVpysfPE   \n",
       "2          oBVoaxJhG4Bpg5csI-ppdxe4cOiA          oBVoaxJhG4Bpg5csI-ppdxe4cOiA   \n",
       "3          oBVoaxKuZfl_rAbgoRqRXdGKK4Pw          oBVoaxKuZfl_rAbgoRqRXdGKK4Pw   \n",
       "4          oBVoaxMv4rc7XjOhokOgNjPd5NDI          oBVoaxMv4rc7XjOhokOgNjPd5NDI   \n",
       "\n",
       "                                             content  \n",
       "0                                            testing  \n",
       "1                                               test  \n",
       "2                        test   demo。。。。。。。。。。。。。。。。  \n",
       "3  简直有毒，这段代码有时候可以执行，有时候又失效了\\nfrom selenium import...  \n",
       "4  捣鼓了半天，终于把4.3弄出来了。有一些经验分享一下：（主要是第一个的问题，搞了很久，安装卸...  "
      ]
     },
     "execution_count": 28,
     "metadata": {},
     "output_type": "execute_result"
    }
   ],
   "source": [
    "info.head()"
   ]
  },
  {
   "cell_type": "markdown",
   "metadata": {},
   "source": [
    "## 3.2 通过Selenium模拟浏览器抓取"
   ]
  },
  {
   "cell_type": "code",
   "execution_count": 171,
   "metadata": {},
   "outputs": [],
   "source": [
    "from selenium import webdriver\n",
    "import time\n",
    "\n",
    "# 禁用图片\n",
    "fp = webdriver.FirefoxProfile()\n",
    "fp.set_preference('permissions.default.image', 2)#某些firefox只需要这个\n",
    "fp.set_preference('browser.migration.version', 9001)#部分需要加上这个\n",
    "\n",
    "# # 禁用css\n",
    "# fp = webdriver.FirefoxProfile()\n",
    "# fp.set_preference('permissions.default.stylesheet', 2)\n",
    "\n",
    "# # 禁用flash\n",
    "# fp = webdriver.FirefoxProfile()\n",
    "# fp.set_preference('dom.ipc.plugins.enabled.libflashplayer.so', 'false')\n",
    "\n",
    "# # 禁用js\n",
    "# fp = webdriver.FirefoxProfile()\n",
    "# fp.set_preference('javascript.enabled', 'false')\n",
    "\n",
    "driver = webdriver.Firefox(firefox_profile=fp, executable_path = r'C:\\ProgramData\\Anaconda3\\Scripts\\geckodriver.exe')\n",
    "# driver = webdriver.Chrome(chrome_profile=fp, executable_path = r'C:\\ProgramData\\Anaconda3\\Scripts\\chromedriver.exe')\n",
    "driver.implicitly_wait(20) # 隐性等待，最长等20秒\n",
    "\n",
    "#把上述地址改成你电脑中geckodriver.exe程序的地址\n",
    "driver.get(\"http://www.santostang.com/2018/07/04/hello-world/\")\n",
    "\n",
    "time.sleep(10)  # 等待数据完全加载"
   ]
  },
  {
   "cell_type": "code",
   "execution_count": 151,
   "metadata": {},
   "outputs": [
    {
     "name": "stdout",
     "output_type": "stream",
     "text": [
      "<html lang=\"zh-CN\"><head>\n",
      "<meta charset=\"UTF-8\">\n",
      "<meta http-equiv=\"X-UA-Compatible\" content=\"IE=edge\">\n",
      "<meta name=\"viewport\" content=\"width=device-width, initial-scale=1, maximum-scale=1\">\n",
      "<title>Hello world!</title>\n",
      "<meta name=\"description\" content=\"Welcome to WordPress. This is your first post. Edit or delete it, then start writing!\">\n",
      "<meta name=\"keywords\" content=\"\">\n",
      "<link rel=\"apple-touch-icon\" href=\"http://www.santostang.com/wp-content/themes/SongStyle-Two/images/icon_32.png\">\n",
      "<link rel=\"apple-touch-icon\" sizes=\"152x152\" href=\"http://www.santostang.com/wp-content/themes/SongStyle-Two/images/icon_152.png\">\n",
      "<link rel=\"apple-touch-icon\" sizes=\"167x167\" href=\"http://www.santostang.com/wp-content/themes/SongStyle-Two/images/icon_167.png\">\n",
      "<link rel=\"apple-touch-icon\" sizes=\"180x180\" href=\"http://www.santostang.com/wp-content/themes/SongStyle-Two/images/icon_180.png\">\n",
      "<link rel=\"icon\" href=\"http://www.santostang.com/wp-content/themes/SongStyle-Two/images/icon_32.png\" type=\"image/x-icon\">\n",
      "<link rel=\"stylesheet\" href=\"http://www.santostang.com/wp-content/themes/SongStyle-Two/css/bootstrap.min.css\">\n",
      "<link rel=\"stylesheet\" href=\"http://www.santostang.com/wp-content/themes/SongStyle-Two/css/fontawesome.min.css\">\n",
      "<link rel=\"stylesheet\" href=\"http://www.santostang.com/wp-content/themes/SongStyle-Two/style.css\">\n",
      "<link rel=\"pingback\" href=\"http://www.santostang.com/xmlrpc.php\">\n",
      "<style type=\"text/css\">\n",
      "a{color:#1e73be}\n",
      "a:hover{color:#2980b9!important}\n",
      "#header{background-color:#1e73be}\n",
      ".widget .widget-title::after{background-color:#1e73be}\n",
      ".uptop{border-left-color:#1e73be}\n",
      "#titleBar .toggle:before{background:#1e73be}\n",
      "</style>\n",
      "</head>\n",
      "\n",
      "<body>\n",
      "<header id=\"header\">\n",
      "    <div class=\"avatar\"><a href=\"http://www.santostang.com\" title=\"Santos Tang\"><img src=\"http://www.santostang.com/wp-content/uploads/2019/06/me.jpg\" alt=\"Santos Tang\" class=\"img-circle\" width=\"50%\"></a></div>\n",
      "    <h1 id=\"name\">Santos Tang</h1>\n",
      "    <div class=\"sns\">\n",
      "                <a href=\"https://weibo.com/santostang\" target=\"_blank\" rel=\"nofollow\" data-toggle=\"tooltip\" data-placement=\"top\" title=\"\" data-original-title=\"Weibo\"><i class=\"fab fa-weibo\"></i></a>        <a href=\"https://www.linkedin.com/in/santostang\" target=\"_blank\" rel=\"nofollow\" data-toggle=\"tooltip\" data-placement=\"top\" title=\"\" data-original-title=\"Linkedin\"><i class=\"fab fa-linkedin\"></i></a>        <a href=\"https://www.zhihu.com/people/santostang\" target=\"_blank\" rel=\"nofollow\" data-toggle=\"tooltip\" data-placement=\"top\" title=\"\" data-original-title=\"Zhihu\"><i class=\"fab fa-zhihu\"></i></a>        <a href=\"https://github.com/santostang\" target=\"_blank\" rel=\"nofollow\" data-toggle=\"tooltip\" data-placement=\"top\" title=\"\" data-original-title=\"GitHub\"><i class=\"fab fa-github-alt\"></i></a>    </div>\n",
      "    <div class=\"nav\">\n",
      "        <ul><li><a href=\"http://www.santostang.com/\">首页</a></li>\n",
      "<li><a href=\"http://www.santostang.com/aboutme/\">关于我</a></li>\n",
      "<li><a href=\"http://www.santostang.com/python%e7%bd%91%e7%bb%9c%e7%88%ac%e8%99%ab%e4%bb%a3%e7%a0%81/\">爬虫书代码</a></li>\n",
      "<li><a href=\"http://www.santostang.com/%e5%8a%a0%e6%88%91%e5%be%ae%e4%bf%a1/\">加我微信</a></li>\n",
      "<li><a href=\"https://santostang.github.io/\">EnglishSite</a></li>\n",
      "</ul>    </div>\n",
      "        <div class=\"weixin\">\n",
      "        <img src=\"http://www.santostang.com/wp-content/uploads/2019/06/qrcode_for_gh_370f70791e19_258.jpg\" alt=\"微信公众号\" width=\"50%\">\n",
      "        <p>微信公众号</p>\n",
      "    </div>\n",
      "    </header>\n",
      "<div id=\"main\">\n",
      "    <article class=\"col-md-8 col-md-offset-2 view clearfix\">\n",
      "        <h1 class=\"view-title\">Hello world!</h1>\n",
      "        <div class=\"view-meta\">\n",
      "            <span>作者: santostang</span>\n",
      "            <span>分类: <a href=\"http://www.santostang.com/category/python-%e7%bd%91%e7%bb%9c%e7%88%ac%e8%99%ab/\" rel=\"category tag\">Python 网络爬虫</a></span>\n",
      "            <span>发布时间: 2018-07-04 23:26</span>\n",
      "            <span></span>\n",
      "        </div>\n",
      "        <div class=\"view-content\">\n",
      "<p>Welcome to WordPress. This is your first post. Edit or delete it, then start writing!<br>\n",
      "<strong>各位读者，由于网易云跟帖在本书出版后已经停止服务，书中的第四章已经无法使用。所以我将本书的评论系统换成了来必力。现在已经在博客和知乎上更新了新写的第四章。请查阅：</strong><br>\n",
      "<a href=\"http://www.santostang.com/2018/07/14/%E7%AC%AC%E5%9B%9B%E7%AB%A0%EF%BC%9A%E5%8A%A8%E6%80%81%E7%BD%91%E9%A1%B5%E6%8A%93%E5%8F%96-%E8%A7%A3%E6%9E%90%E7%9C%9F%E5%AE%9E%E5%9C%B0%E5%9D%80-selenium/\" title=\"4.1 动态网页抓取 (解析真实地址 + selenium)\">4.1 动态网页抓取 (解析真实地址 + selenium)</a><br>\n",
      "<a href=\"http://www.santostang.com/2018/07/14/4-2-%E8%A7%A3%E6%9E%90%E7%9C%9F%E5%AE%9E%E5%9C%B0%E5%9D%80%E6%8A%93%E5%8F%96/\" title=\"4.2 解析真实地址抓取\">4.2 解析真实地址抓取</a><br>\n",
      "<a href=\"http://www.santostang.com/2018/07/15/4-3-%E9%80%9A%E8%BF%87selenium-%E6%A8%A1%E6%8B%9F%E6%B5%8F%E8%A7%88%E5%99%A8%E6%8A%93%E5%8F%96/\" title=\"4.3 通过selenium 模拟浏览器抓取\">4.3 通过selenium 模拟浏览器抓取</a></p>\n",
      "        </div>\n",
      "        <section class=\"view-tag\">\n",
      "            <div class=\"pull-left\"><i class=\"fas fa-tags\"></i> </div>\n",
      "        </section>\n",
      "                <section id=\"comments\">\n",
      "            <!-- 来必力City版安装代码 -->\n",
      "\t\t\t<div id=\"lv-container\" data-id=\"city\" data-uid=\"MTAyMC8yODU4My81MTU0\">\n",
      "\t\t\t<script src=\"https://hm.baidu.com/hm.js?752e310cec7906ba7afeb24cd7114c48\"></script><script src=\"http://push.zhanzhang.baidu.com/push.js\"></script><script src=\"https://cdn-city.livere.com/js/embed.dist.js\" async=\"\"></script><script type=\"text/javascript\">\n",
      "\t\t\tvar refer = \"http://www.santostang.com/2018/07/04/hello-world/\".replace(\"http://\",\"\");\n",
      "\t\t\t   (function(d, s) {\n",
      "\t\t\t\t   var j, e = d.getElementsByTagName(s)[0];\n",
      "\n",
      "\t\t\t\t   if (typeof LivereTower === 'function') { return; }\n",
      "\n",
      "\t\t\t\t   j = d.createElement(s);\n",
      "\t\t\t\t   j.src = 'https://cdn-city.livere.com/js/embed.dist.js';\n",
      "\t\t\t\t   j.async = true;\n",
      "\n",
      "\t\t\t\t   e.parentNode.insertBefore(j, e);\n",
      "\t\t\t   })(document, 'script');\n",
      "\t\t\t</script>\n",
      "\t\t\t<noscript>为正常使用来必力评论功能请激活JavaScript</noscript>\n",
      "\t\t\t<iframe src=\"https://was.livere.me/get-uuid\" title=\"livere-uuid\" id=\"livere-uuid\" style=\"display: none;\"></iframe><iframe title=\"livere\" scrolling=\"no\" src=\"https://was.livere.me/comment/city?id=city&amp;refer=www.santostang.com%2F2018%2F07%2F04%2Fhello-world%2F&amp;uid=MTAyMC8yODU4My81MTU0&amp;site=http%3A%2F%2Fwww.santostang.com%2F2018%2F07%2F04%2Fhello-world%2F&amp;title=Hello%252520world%252521&amp;titleLength=12\" style=\"min-width: 100%; width: 100px; height: 500px; overflow: hidden; border: 0px none; z-index: 124212;\" id=\"lv-comment-85\" frameborder=\"0\"></iframe></div>\n",
      "\t\t\t<!-- City版安装代码已完成 -->\n",
      "        </section>\n",
      "    </article>\n",
      "    <section class=\"col-md-8 col-md-offset-2 clearfix\">\n",
      "    <div class=\"read\">\n",
      "        <div class=\"read-head\"><i class=\"fas fa-book\"></i> 更多阅读</div>\n",
      "        <div class=\"read-list row\">\n",
      "            <div class=\"col-md-6\">\n",
      "                <ul>\n",
      "                                    </ul>\n",
      "            </div>\n",
      "            <div class=\"col-md-6\">\n",
      "                <ul>\n",
      "                                    <li><a href=\"http://www.santostang.com/2018/07/14/%e7%ac%ac%e5%9b%9b%e7%ab%a0%ef%bc%9a%e5%8a%a8%e6%80%81%e7%bd%91%e9%a1%b5%e6%8a%93%e5%8f%96-%e8%a7%a3%e6%9e%90%e7%9c%9f%e5%ae%9e%e5%9c%b0%e5%9d%80-selenium/\" title=\"第四章- 动态网页抓取 (解析真实地址 + selenium)\">第四章- 动态网页抓取 (解析真实地址 + selenium)</a></li>\n",
      "                                    <li><a href=\"http://www.santostang.com/2018/07/04/hello-world/\" title=\"Hello world!\">Hello world!</a></li>\n",
      "                                    <li><a href=\"http://www.santostang.com/2018/07/14/4-2-%e8%a7%a3%e6%9e%90%e7%9c%9f%e5%ae%9e%e5%9c%b0%e5%9d%80%e6%8a%93%e5%8f%96/\" title=\"第四章 – 4.2 解析真实地址抓取\">第四章 – 4.2 解析真实地址抓取</a></li>\n",
      "                                    <li><a href=\"http://www.santostang.com/2018/07/15/4-3-%e9%80%9a%e8%bf%87selenium-%e6%a8%a1%e6%8b%9f%e6%b5%8f%e8%a7%88%e5%99%a8%e6%8a%93%e5%8f%96/\" title=\"第四章 – 4.3 通过selenium 模拟浏览器抓取\">第四章 – 4.3 通过selenium 模拟浏览器抓取</a></li>\n",
      "                                    <li><a href=\"http://www.santostang.com/2018/07/11/%e3%80%8a%e7%bd%91%e7%bb%9c%e7%88%ac%e8%99%ab%ef%bc%9a%e4%bb%8e%e5%85%a5%e9%97%a8%e5%88%b0%e5%ae%9e%e8%b7%b5%e3%80%8b%e4%b8%80%e4%b9%a6%e5%8b%98%e8%af%af/\" title=\"《网络爬虫：从入门到实践》一书勘误\">《网络爬虫：从入门到实践》一书勘误</a></li>\n",
      "                                </ul>\n",
      "            </div>\n",
      "        </div>\n",
      "    </div>\n",
      "    <div class=\"read\">\n",
      "        <div class=\"read-head\"><i class=\"fas fa-tags\"></i> 标签云</div>\n",
      "        <div class=\"read-list\">\n",
      "            <a href=\"http://www.santostang.com/tag/ajax/\" class=\"tag-cloud-link tag-link-3 tag-link-position-1\" style=\"color:#ccff5b;font-size: 22pt;\" aria-label=\"ajax (2个项目);\">ajax</a>\n",
      "<a href=\"http://www.santostang.com/tag/javascript/\" class=\"tag-cloud-link tag-link-4 tag-link-position-2\" style=\"color:#c2ffb6;font-size: 8pt;\" aria-label=\"javascript (1个项目);\">javascript</a>\n",
      "<a href=\"http://www.santostang.com/tag/python/\" class=\"tag-cloud-link tag-link-5 tag-link-position-3\" style=\"color:#2791f6;font-size: 22pt;\" aria-label=\"python (2个项目);\">python</a>\n",
      "<a href=\"http://www.santostang.com/tag/selenium/\" class=\"tag-cloud-link tag-link-6 tag-link-position-4\" style=\"color:#23d35c;font-size: 8pt;\" aria-label=\"selenium (1个项目);\">selenium</a>\n",
      "<a href=\"http://www.santostang.com/tag/%e7%bd%91%e7%bb%9c%e7%88%ac%e8%99%ab/\" class=\"tag-cloud-link tag-link-8 tag-link-position-5\" style=\"color:#f6820c;font-size: 22pt;\" aria-label=\"网络爬虫 (2个项目);\">网络爬虫</a>\n",
      "<a href=\"http://www.santostang.com/tag/%e7%bd%91%e9%a1%b5%e7%88%ac%e8%99%ab/\" class=\"tag-cloud-link tag-link-9 tag-link-position-6\" style=\"color:#ce7f7;font-size: 8pt;\" aria-label=\"网页爬虫 (1个项目);\">网页爬虫</a>\n",
      "<a href=\"http://www.santostang.com/tag/%e8%a7%a3%e6%9e%90%e5%9c%b0%e5%9d%80/\" class=\"tag-cloud-link tag-link-10 tag-link-position-7\" style=\"color:#aad5c2;font-size: 8pt;\" aria-label=\"解析地址 (1个项目);\">解析地址</a>        </div>\n",
      "    </div>\n",
      "    </section>\n",
      "</div>\n",
      "<!--modal-->\n",
      "<div class=\"modal fade\" id=\"myModal\" tabindex=\"-1\" role=\"dialog\" aria-labelledby=\"myModalLabel\">\n",
      "    <div class=\"modal-dialog\" role=\"document\">\n",
      "        <div class=\"modal-content single-dashang\">\n",
      "            <div class=\"modal-header\">\n",
      "                <button type=\"button\" class=\"close\" data-dismiss=\"modal\" aria-label=\"Close\"><span>×</span></button>\n",
      "                <h4 class=\"modal-title\" id=\"myModalLabel\"><i class=\"fas fa-gift\"></i> 赞赏支持</h4>\n",
      "            </div>\n",
      "            <div class=\"modal-body text-center\">\n",
      "                <p><img src=\"https://tangjie.me/media/AliPay.png\"><img src=\"https://tangjie.me/media/WeixinPay.png\"></p>\n",
      "                <p>扫描二维码，输入您要赞赏的金额</p>\n",
      "                <p>赞赏不用多，心意到了即可</p>\n",
      "            </div>\n",
      "        </div>\n",
      "    </div>\n",
      "</div>\n",
      "<!--modal-->\n",
      "<div class=\"footer_search visible-xs visible-sm\">\n",
      "    <form id=\"searchform\" action=\"http://www.santostang.com\">\n",
      "        <div class=\"input-group\">\n",
      "            <input type=\"search\" class=\"form-control\" placeholder=\"搜索…\" value=\"\" name=\"s\">\n",
      "            <span class=\"input-group-btn\"><button class=\"btn btn-default\" type=\"submit\"><i class=\"fas fa-search\"></i></button></span>\n",
      "        </div>\n",
      "    </form>\n",
      "</div>\n",
      "<footer id=\"footer\">\n",
      "    <div class=\"copyright\">\n",
      "        <p><i class=\"far fa-copyright\"></i> 2019 <b>数据科学@唐松 | 粤ICP备19068356号</b></p>\n",
      "        <p>Powered by <b>WordPress</b>. Theme by <a href=\"https://tangjie.me/jiestyle-two\" data-toggle=\"tooltip\" data-placement=\"top\" title=\"\" target=\"_blank\" data-original-title=\"WordPress 主题模板\"><b>JieStyle Two</b></a> | </p>\n",
      "    </div>\n",
      "    <div style=\"display:none;\"></div>\n",
      "</footer>\n",
      "<script type=\"text/javascript\" src=\"http://www.santostang.com/wp-content/themes/SongStyle-Two/js/jquery.min.js\"></script>\n",
      "<script type=\"text/javascript\" src=\"http://www.santostang.com/wp-content/themes/SongStyle-Two/js/bootstrap.min.js\"></script>\n",
      "<script type=\"text/javascript\" src=\"http://www.santostang.com/wp-content/themes/SongStyle-Two/js/skel.min.js\"></script>\n",
      "<script type=\"text/javascript\" src=\"http://www.santostang.com/wp-content/themes/SongStyle-Two/js/util.min.js\"></script>\n",
      "<script type=\"text/javascript\" src=\"http://www.santostang.com/wp-content/themes/SongStyle-Two/js/nav.js\"></script>\n",
      "<script type=\"text/javascript\" src=\"http://www.santostang.com/wp-includes/js/comment-reply.min.js?ver=4.9.10\"></script>\n",
      "<script>\n",
      "$(function() {\n",
      "    $('[data-toggle=\"tooltip\"]').tooltip()\n",
      "});\n",
      "</script>\n",
      "<script>\n",
      "(function(){\n",
      "    var bp = document.createElement('script');\n",
      "    var curProtocol = window.location.protocol.split(':')[0];\n",
      "    if (curProtocol === 'https') {\n",
      "        bp.src = 'https://zz.bdstatic.com/linksubmit/push.js';\n",
      "    }\n",
      "    else {\n",
      "        bp.src = 'http://push.zhanzhang.baidu.com/push.js';\n",
      "    }\n",
      "    var s = document.getElementsByTagName(\"script\")[0];\n",
      "    s.parentNode.insertBefore(bp, s);\n",
      "})();\n",
      "</script>\n",
      "<script>\n",
      "var _hmt = _hmt || [];\n",
      "(function() {\n",
      "  var hm = document.createElement(\"script\");\n",
      "  hm.src = \"https://hm.baidu.com/hm.js?752e310cec7906ba7afeb24cd7114c48\";\n",
      "  var s = document.getElementsByTagName(\"script\")[0]; \n",
      "  s.parentNode.insertBefore(hm, s);\n",
      "})();\n",
      "</script>\n",
      "\n",
      "<div id=\"titleBar\"><a href=\"#header\" class=\"toggle\"></a><span class=\"title\">Santos Tang</span></div><iframe title=\"livere\" scrolling=\"no\" src=\"https://was.livere.me/sidebar/city?id=city&amp;refer=www.santostang.com%2F2018%2F07%2F04%2Fhello-world%2F&amp;uid=MTAyMC8yODU4My81MTU0&amp;site=http%3A%2F%2Fwww.santostang.com%2F2018%2F07%2F04%2Fhello-world%2F&amp;title=Hello%252520world%252521&amp;titleLength=12\" style=\"width: 100%; overflow: hidden; border: 0px none; position: fixed; left: 0px; top: 0px; z-index: 2147483647; display: none; height: 699px;\" id=\"lv-utils-943\" frameborder=\"0\"></iframe></body></html>\n"
     ]
    }
   ],
   "source": [
    "print(driver.page_source)"
   ]
  },
  {
   "cell_type": "markdown",
   "metadata": {},
   "source": [
    "**获取一条评论**"
   ]
  },
  {
   "cell_type": "code",
   "execution_count": 114,
   "metadata": {},
   "outputs": [
    {
     "name": "stdout",
     "output_type": "stream",
     "text": [
      "testing\n"
     ]
    }
   ],
   "source": [
    "driver.switch_to.frame(driver.find_element_by_css_selector(\"iframe[title='livere']\"))\n",
    "comment = driver.find_element_by_css_selector('div.reply-content')\n",
    "content = comment.find_element_by_tag_name('p')\n",
    "print (content.text)"
   ]
  },
  {
   "cell_type": "markdown",
   "metadata": {},
   "source": [
    "**获取所有评论**"
   ]
  },
  {
   "cell_type": "code",
   "execution_count": 124,
   "metadata": {},
   "outputs": [
    {
     "name": "stdout",
     "output_type": "stream",
     "text": [
      "testing\n",
      "test\n",
      "test demo。。。。。。。。。。。。。。。。\n",
      "简直有毒，这段代码有时候可以执行，有时候又失效了\n",
      "from selenium import webdriver\n",
      "driver = webdriver.Firefox(executable_path = r'C:/Users/Administrator/Desktop/geckodriver.exe')\n",
      "driver.get('http://www.santostang.com/2018/07/04/hello-world/')\n",
      "driver.switch_to.frame(driver.find_element_by_css_selector(\"iframe[title='livere']\"))\n",
      "comment = driver.find_element_by_css_selector('div.reply-content')\n",
      "content = comment.find_element_by_tag_name('p')\n",
      "print (content.text)\n",
      "@风宇者 感觉是因为网速不够快没加载出来程序就提取了，应该让他睡几秒。\n",
      "捣鼓了半天，终于把4.3弄出来了。有一些经验分享一下：（主要是第一个的问题，搞了很久，安装卸载程序好几次）\n",
      "一个是Firefox的版本和Selenium的版本的问题。我最后安装的是Firefox的v55，然后Selenium装的是v3.5.0，因此geckodriver的版本也不是最新版（这个可以去它的官网上看，会说明适用什么版本的），这样就不会出现老师所说的还要补充自己电脑中geckodriver.exe程序的地址的步骤（我觉得这样会方便一点）。其实各个版本的对应关系还有很多，大家可以百度哈（我都是各种百度后解决的）\n",
      "二是4.3中for循环中，有一行忘记缩进了（这个很明显哈，大家看到就知道了）\n",
      "谢谢老师，开始学习\n",
      "你好，请问为什么我使用书上第2章的爬虫代码时报错？能指导一下吗？我实在不明白soup.find().a.text.strip()中的a是什么意思。\n",
      "@　Burning h1标签不是hi标签。你查hi下面他就提示你找不到a标签\n",
      "你好，在做第三章爬取豆瓣top250电影时，提示：div_list = soup.find_all('div', class = 'hd') 这行代码语法错误。是因为class的原因吗？ 麻烦有时间指导一下，谢谢。\n",
      "@杨崇武 应该是python版本不同，改为('div',{'class':'hd’})试一下，若不行，再同时把find_all改为findAll\n",
      "\n",
      "\n",
      "\n",
      "\n",
      "我遇到问题了，出现Webdrrive error,不知道怎么解决\n",
      "@NO NICKNAME 不同浏览器所需的驱动器也不一样，https://www.cnblogs.com/nancyzhu/p/8589764.html 这是我百度到的博客，你可以参考一下，我的是谷歌浏览器，作者的是火狐浏览器，不同驱动器要下载的驱动文件是不一样的\n",
      "\n",
      "\n",
      "\n",
      "正在学到第四章动态网页爬取。json解析部分。有没有一起学习讨论下的，感觉这部分开始有点难啦。有的加个好友，QQ：656742781\n"
     ]
    }
   ],
   "source": [
    "for i in range(0,4):\n",
    "    # 下滑到页面底部,这样才会出现“+10查看更多”的元素\n",
    "    driver.execute_script(\"window.scrollTo(0, document.body.scrollHeight);\")\n",
    "    # 转换iframe，再找到查看更多，点击\n",
    "    driver.switch_to.frame(driver.find_element_by_css_selector(\"iframe[title='livere']\"))\n",
    "    load_more = driver.find_element_by_css_selector(\"button[class='more-btn']\")\n",
    "    load_more.click()\n",
    "    # 把iframe又转回去\n",
    "    driver.switch_to.default_content()\n",
    "    time.sleep(2)\n",
    "driver.switch_to.frame(driver.find_element_by_css_selector(\"iframe[title='livere']\"))\n",
    "comments = driver.find_elements_by_css_selector('div.reply-content')\n",
    "for eachcomment in comments:\n",
    "    content = eachcomment.find_element_by_tag_name('p')\n",
    "    print (content.text)"
   ]
  },
  {
   "cell_type": "markdown",
   "metadata": {},
   "source": [
    "**查找单个元素**\n",
    "1. find_element_by_id：通过元素的id选择，例如:driver.find_element_by_id(‘loginForm’)\n",
    "2. find_element_by_name：通过元素的name选择，driver.find_element_by_name(‘password’)\n",
    "3. find_element_by_xpath：通过xpath选择，driver.find_element_by_xpath(“//form[1]”)\n",
    "4. find_element_by_link_text：通过链接地址选择\n",
    "5. find_element_by_partial_link_text：通过链接的部分地址选择\n",
    "6. find_element_by_tag_name：通过元素的名称选择\n",
    "7. find_element_by_class_name：通过元素的id选择\n",
    "8. find_element_by_css_selector：通过css选择器选择  \n",
    "\n",
    "\n",
    "**查找多个元素**\n",
    "1. find_elements_by_name\n",
    "2. find_elements_by_xpath\n",
    "3. find_elements_by_link_text\n",
    "4. find_elements_by_partial_link_text\n",
    "5. find_elements_by_tag_name\n",
    "6. find_elements_by_class_name\n",
    "7. find_elements_by_css_selector"
   ]
  },
  {
   "cell_type": "markdown",
   "metadata": {},
   "source": [
    "## 3.3 百度"
   ]
  },
  {
   "cell_type": "code",
   "execution_count": 67,
   "metadata": {},
   "outputs": [],
   "source": [
    "#coding=utf-8\n",
    "%matplotlib inline\n",
    "from selenium import webdriver\n",
    "import time\n",
    "import datetime\n",
    "import re\n",
    "import copy\n",
    "import pandas as pd\n",
    "from pandas import Series, DataFrame\n",
    "import numpy as np\n",
    "from numpy import arange, random, array"
   ]
  },
  {
   "cell_type": "markdown",
   "metadata": {},
   "source": [
    "**加载页面**"
   ]
  },
  {
   "cell_type": "code",
   "execution_count": 163,
   "metadata": {},
   "outputs": [],
   "source": [
    "# path = r'C:\\ProgramData\\Anaconda3\\Scripts\\chromedriver.exe'\n",
    "path = r'C:\\ProgramData\\Anaconda3\\Scripts\\geckodriver.exe'\n",
    "url = 'https://www.baidu.com/'\n",
    "\n",
    "# # 禁用图片\n",
    "# fp = webdriver.FirefoxProfile()\n",
    "# fp.set_preference('permissions.default.image', 2)#某些firefox只需要这个\n",
    "# # fp.set_preference('browser.migration.version', 9001)#部分需要加上这个\n",
    "\n",
    "# # 禁用css\n",
    "# fp = webdriver.FirefoxProfile()\n",
    "# fp.set_preference('permissions.default.stylesheet', 2)\n",
    "\n",
    "# # 禁用flash\n",
    "# fp = webdriver.FirefoxProfile()\n",
    "# fp.set_preference('dom.ipc.plugins.enabled.libflashplayer.so', 'false')\n",
    "\n",
    "# # 禁用js\n",
    "# fp = webdriver.FirefoxProfile()\n",
    "# fp.set_preference('javascript.enabled', 'false')\n",
    "\n",
    "driver = webdriver.Firefox(executable_path = path)\n",
    "driver.implicitly_wait(20)\n",
    "\n",
    "driver.get(url)\n",
    "time.sleep(5)"
   ]
  },
  {
   "cell_type": "markdown",
   "metadata": {},
   "source": [
    "**模拟登陆**"
   ]
  },
  {
   "cell_type": "code",
   "execution_count": 3,
   "metadata": {},
   "outputs": [],
   "source": [
    "# 显示登陆模态框\n",
    "login = driver.find_element_by_link_text('登录')\n",
    "login.click()"
   ]
  },
  {
   "cell_type": "code",
   "execution_count": 4,
   "metadata": {},
   "outputs": [],
   "source": [
    "# 切换到用户名登陆\n",
    "uname_login = driver.find_element_by_id('TANGRAM__PSP_10__footerULoginBtn')\n",
    "uname_login.click()"
   ]
  },
  {
   "cell_type": "code",
   "execution_count": 5,
   "metadata": {},
   "outputs": [],
   "source": [
    "# 登陆\n",
    "user = driver.find_element_by_id(\"TANGRAM__PSP_10__userName\")\n",
    "user.clear()\n",
    "user.send_keys(\"18810688942\")\n",
    "time.sleep(1)\n",
    "pwd = driver.find_element_by_id(\"TANGRAM__PSP_10__password\")\n",
    "pwd.clear()\n",
    "pwd.send_keys(\"ban5211314\")\n",
    "time.sleep(1)\n",
    "driver.find_element_by_id(\"TANGRAM__PSP_10__submit\").click()"
   ]
  },
  {
   "cell_type": "markdown",
   "metadata": {},
   "source": [
    "**进入数据页**"
   ]
  },
  {
   "cell_type": "code",
   "execution_count": 7,
   "metadata": {},
   "outputs": [],
   "source": [
    "# 进入到账户设置页面\n",
    "js = 'document.getElementById(\"s_user_name_menu\").style.display=\"block\"'\n",
    "driver.execute_script(js)\n",
    "driver.find_element_by_css_selector('a[data-tid=\"1001\"]').click()\n",
    "time.sleep(3)"
   ]
  },
  {
   "cell_type": "code",
   "execution_count": 227,
   "metadata": {},
   "outputs": [
    {
     "name": "stdout",
     "output_type": "stream",
     "text": [
      "CDwindow-4FF8E1201F0D804D7D6FC231CCFEAD1B\n"
     ]
    }
   ],
   "source": [
    "# 打印当前窗口权柄\n",
    "print(driver.current_window_handle)"
   ]
  },
  {
   "cell_type": "code",
   "execution_count": 8,
   "metadata": {},
   "outputs": [
    {
     "name": "stdout",
     "output_type": "stream",
     "text": [
      "switch to second window: CDwindow-CA204A49EAA739E4EF07FE89BA812C6C\n"
     ]
    }
   ],
   "source": [
    "# 切换窗口\n",
    "handles = driver.window_handles\n",
    "\n",
    "for handle in handles:\n",
    "    if handle != driver.current_window_handle:\n",
    "        print(\"switch to second window:\", handle)\n",
    "        driver.close()\n",
    "        driver.switch_to.window(handle)"
   ]
  },
  {
   "cell_type": "code",
   "execution_count": 9,
   "metadata": {},
   "outputs": [],
   "source": [
    "# 进入到历史登陆\n",
    "driver.find_element_by_link_text('查看所有').click()"
   ]
  },
  {
   "cell_type": "markdown",
   "metadata": {},
   "source": [
    "**获取数据**"
   ]
  },
  {
   "cell_type": "code",
   "execution_count": 10,
   "metadata": {},
   "outputs": [
    {
     "name": "stdout",
     "output_type": "stream",
     "text": [
      "Finished\n"
     ]
    }
   ],
   "source": [
    "try:\n",
    "    data = []\n",
    "    pattern = '\\s{1,}'\n",
    "    next_page = driver.find_element_by_link_text(\"下一页\")\n",
    "    while True:\n",
    "        records = driver.find_elements_by_css_selector('tr')\n",
    "        for each in records:\n",
    "            data.append(re.split(pattern, each.text))\n",
    "        next_page.click()\n",
    "except:\n",
    "    print(\"Finished\")"
   ]
  },
  {
   "cell_type": "markdown",
   "metadata": {},
   "source": [
    "**数据处理**"
   ]
  },
  {
   "cell_type": "code",
   "execution_count": 11,
   "metadata": {},
   "outputs": [
    {
     "data": {
      "text/plain": [
       "['时间', 'IP', '浏览器', '登录方式', '设备']"
      ]
     },
     "execution_count": 11,
     "metadata": {},
     "output_type": "execute_result"
    }
   ],
   "source": [
    "head = data.pop(0)\n",
    "head"
   ]
  },
  {
   "cell_type": "code",
   "execution_count": 12,
   "metadata": {},
   "outputs": [],
   "source": [
    "def get_date(s):\n",
    "    if s == '今天':\n",
    "        return str(datetime.date.today())\n",
    "    pattern = r'([0-9]*)\\w([0-9]*)\\w'\n",
    "    regex = re.compile(pattern)\n",
    "    return regex.sub(r'2019-\\1-\\2', s)"
   ]
  },
  {
   "cell_type": "markdown",
   "metadata": {},
   "source": [
    "**正则表达式在识别中文上有问题 -> utf-8编码**"
   ]
  },
  {
   "cell_type": "code",
   "execution_count": 45,
   "metadata": {},
   "outputs": [
    {
     "data": {
      "text/plain": [
       "[['今天'],\n",
       " ['08:17:00', '60.171.*.*', 'Chrome', '75.0', '手机号登录', '电脑'],\n",
       " ['07月07日'],\n",
       " ['16:16:26', '60.171.*.*', 'Chrome', '75.0', '手机号登录', '电脑'],\n",
       " ['14:34:00', '60.171.*.*', 'Chrome', '75.0', '手机号登录', '电脑'],\n",
       " ['14:29:31', '60.171.*.*', 'Chrome', '75.0', '手机号登录', '电脑'],\n",
       " ['14:10:13', '60.171.*.*', 'Chrome', '75.0', '手机号登录', '电脑'],\n",
       " ['11:36:53', '60.171.*.*', 'Chrome', '75.0', '手机号登录', '电脑'],\n",
       " ['11:28:26', '60.171.*.*', 'Chrome', '75.0', '手机号登录', '电脑'],\n",
       " ['11:19:31', '60.171.*.*', 'Chrome', '75.0', '手机号登录', '电脑'],\n",
       " ['10:59:46', '60.171.*.*', 'Chrome', '75.0', '手机号登录', '电脑'],\n",
       " ['10:50:42', '60.171.*.*', 'Chrome', '75.0', '手机号登录', '电脑'],\n",
       " ['07月07日'],\n",
       " ['10:24:49', '60.171.*.*', 'Chrome', '75.0', '手机号登录', '电脑'],\n",
       " ['10:13:45', '60.171.*.*', 'Chrome', '75.0', '手机号登录', '电脑'],\n",
       " ['07月05日'],\n",
       " ['10:06:28', '60.171.*.*', 'Chrome', '75.0', '登录同步', '百度网盘'],\n",
       " ['10:03:24', '60.171.*.*', 'Chrome', '75.0', '登录同步', '百度网盘'],\n",
       " ['06月28日'],\n",
       " ['21:31:09', '223.214.*.*', 'Safari', '手机号登录', 'iPad', '(iOS12.2)'],\n",
       " ['06月25日'],\n",
       " ['23:27:22', '223.214.*.*', 'Chrome', '73.0', '登录同步', '百度网盘'],\n",
       " ['06月24日'],\n",
       " ['23:42:23', '223.214.*.*', 'Chrome', '73.0', '手机号登录', '电脑'],\n",
       " ['23:03:19', '223.214.*.*', 'Chrome', '73.0', '手机号登录', '电脑'],\n",
       " ['23:02:05', '223.214.*.*', 'Chrome', '73.0', '手机号登录', '电脑'],\n",
       " ['23:01:42', '223.214.*.*', 'Chrome', '73.0', '手机号登录', '电脑']]"
      ]
     },
     "execution_count": 45,
     "metadata": {},
     "output_type": "execute_result"
    }
   ],
   "source": [
    "# 去掉表头\n",
    "head_deleted = []\n",
    "\n",
    "for each in copy.deepcopy(data):\n",
    "    if each != head:\n",
    "        head_deleted.append(each)\n",
    "        \n",
    "head_deleted"
   ]
  },
  {
   "cell_type": "code",
   "execution_count": 46,
   "metadata": {},
   "outputs": [
    {
     "data": {
      "text/plain": [
       "[['2019-07-08 08:17:00', '60.171.*.*', 'Chrome', '75.0', '手机号登录', '电脑'],\n",
       " ['2019-07-07 16:16:26', '60.171.*.*', 'Chrome', '75.0', '手机号登录', '电脑'],\n",
       " ['2019-07-07 14:34:00', '60.171.*.*', 'Chrome', '75.0', '手机号登录', '电脑'],\n",
       " ['2019-07-07 14:29:31', '60.171.*.*', 'Chrome', '75.0', '手机号登录', '电脑'],\n",
       " ['2019-07-07 14:10:13', '60.171.*.*', 'Chrome', '75.0', '手机号登录', '电脑'],\n",
       " ['2019-07-07 11:36:53', '60.171.*.*', 'Chrome', '75.0', '手机号登录', '电脑'],\n",
       " ['2019-07-07 11:28:26', '60.171.*.*', 'Chrome', '75.0', '手机号登录', '电脑'],\n",
       " ['2019-07-07 11:19:31', '60.171.*.*', 'Chrome', '75.0', '手机号登录', '电脑'],\n",
       " ['2019-07-07 10:59:46', '60.171.*.*', 'Chrome', '75.0', '手机号登录', '电脑'],\n",
       " ['2019-07-07 10:50:42', '60.171.*.*', 'Chrome', '75.0', '手机号登录', '电脑'],\n",
       " ['2019-07-07 10:24:49', '60.171.*.*', 'Chrome', '75.0', '手机号登录', '电脑'],\n",
       " ['2019-07-07 10:13:45', '60.171.*.*', 'Chrome', '75.0', '手机号登录', '电脑'],\n",
       " ['2019-07-05 10:06:28', '60.171.*.*', 'Chrome', '75.0', '登录同步', '百度网盘'],\n",
       " ['2019-07-05 10:03:24', '60.171.*.*', 'Chrome', '75.0', '登录同步', '百度网盘'],\n",
       " ['2019-06-28 21:31:09',\n",
       "  '223.214.*.*',\n",
       "  'Safari',\n",
       "  '手机号登录',\n",
       "  'iPad',\n",
       "  '(iOS12.2)'],\n",
       " ['2019-06-25 23:27:22', '223.214.*.*', 'Chrome', '73.0', '登录同步', '百度网盘'],\n",
       " ['2019-06-24 23:42:23', '223.214.*.*', 'Chrome', '73.0', '手机号登录', '电脑'],\n",
       " ['2019-06-24 23:03:19', '223.214.*.*', 'Chrome', '73.0', '手机号登录', '电脑'],\n",
       " ['2019-06-24 23:02:05', '223.214.*.*', 'Chrome', '73.0', '手机号登录', '电脑'],\n",
       " ['2019-06-24 23:01:42', '223.214.*.*', 'Chrome', '73.0', '手机号登录', '电脑']]"
      ]
     },
     "execution_count": 46,
     "metadata": {},
     "output_type": "execute_result"
    }
   ],
   "source": [
    "# 整理时间\n",
    "time_orgnized = {}\n",
    "key = str()\n",
    "\n",
    "for each in copy.deepcopy(head_deleted):\n",
    "    if len(each) == 1:\n",
    "        new_key = get_date(each[0])\n",
    "        if new_key != key:\n",
    "            key = new_key\n",
    "            time_orgnized.update({key: list()})\n",
    "    else:\n",
    "        time_orgnized[key].append(each)\n",
    "\n",
    "records = list()\n",
    "for key, value in copy.deepcopy(time_orgnized).items():\n",
    "    for each in value:\n",
    "        each[0] = key + \" \" + each[0]\n",
    "        records.append(each)\n",
    "\n",
    "records"
   ]
  },
  {
   "cell_type": "code",
   "execution_count": 47,
   "metadata": {},
   "outputs": [
    {
     "data": {
      "text/plain": [
       "[['2019-07-08 08:17:00', '60.171.*.*', 'Chrome', '手机号登录', '电脑'],\n",
       " ['2019-07-07 16:16:26', '60.171.*.*', 'Chrome', '手机号登录', '电脑'],\n",
       " ['2019-07-07 14:34:00', '60.171.*.*', 'Chrome', '手机号登录', '电脑'],\n",
       " ['2019-07-07 14:29:31', '60.171.*.*', 'Chrome', '手机号登录', '电脑'],\n",
       " ['2019-07-07 14:10:13', '60.171.*.*', 'Chrome', '手机号登录', '电脑'],\n",
       " ['2019-07-07 11:36:53', '60.171.*.*', 'Chrome', '手机号登录', '电脑'],\n",
       " ['2019-07-07 11:28:26', '60.171.*.*', 'Chrome', '手机号登录', '电脑'],\n",
       " ['2019-07-07 11:19:31', '60.171.*.*', 'Chrome', '手机号登录', '电脑'],\n",
       " ['2019-07-07 10:59:46', '60.171.*.*', 'Chrome', '手机号登录', '电脑'],\n",
       " ['2019-07-07 10:50:42', '60.171.*.*', 'Chrome', '手机号登录', '电脑'],\n",
       " ['2019-07-07 10:24:49', '60.171.*.*', 'Chrome', '手机号登录', '电脑'],\n",
       " ['2019-07-07 10:13:45', '60.171.*.*', 'Chrome', '手机号登录', '电脑'],\n",
       " ['2019-07-05 10:06:28', '60.171.*.*', 'Chrome', '登录同步', '百度网盘'],\n",
       " ['2019-07-05 10:03:24', '60.171.*.*', 'Chrome', '登录同步', '百度网盘'],\n",
       " ['2019-06-28 21:31:09',\n",
       "  '223.214.*.*',\n",
       "  'Safari',\n",
       "  '手机号登录',\n",
       "  'iPad',\n",
       "  '(iOS12.2)'],\n",
       " ['2019-06-25 23:27:22', '223.214.*.*', 'Chrome', '登录同步', '百度网盘'],\n",
       " ['2019-06-24 23:42:23', '223.214.*.*', 'Chrome', '手机号登录', '电脑'],\n",
       " ['2019-06-24 23:03:19', '223.214.*.*', 'Chrome', '手机号登录', '电脑'],\n",
       " ['2019-06-24 23:02:05', '223.214.*.*', 'Chrome', '手机号登录', '电脑'],\n",
       " ['2019-06-24 23:01:42', '223.214.*.*', 'Chrome', '手机号登录', '电脑']]"
      ]
     },
     "execution_count": 47,
     "metadata": {},
     "output_type": "execute_result"
    }
   ],
   "source": [
    "# 整理Chrome\n",
    "for each in records:\n",
    "    if 'Chrome' in each:\n",
    "        each.pop(3)\n",
    "\n",
    "records"
   ]
  },
  {
   "cell_type": "code",
   "execution_count": 48,
   "metadata": {},
   "outputs": [
    {
     "data": {
      "text/plain": [
       "[['2019-07-08 08:17:00', '60.171.*.*', 'Chrome', '手机号登录', '电脑'],\n",
       " ['2019-07-07 16:16:26', '60.171.*.*', 'Chrome', '手机号登录', '电脑'],\n",
       " ['2019-07-07 14:34:00', '60.171.*.*', 'Chrome', '手机号登录', '电脑'],\n",
       " ['2019-07-07 14:29:31', '60.171.*.*', 'Chrome', '手机号登录', '电脑'],\n",
       " ['2019-07-07 14:10:13', '60.171.*.*', 'Chrome', '手机号登录', '电脑'],\n",
       " ['2019-07-07 11:36:53', '60.171.*.*', 'Chrome', '手机号登录', '电脑'],\n",
       " ['2019-07-07 11:28:26', '60.171.*.*', 'Chrome', '手机号登录', '电脑'],\n",
       " ['2019-07-07 11:19:31', '60.171.*.*', 'Chrome', '手机号登录', '电脑'],\n",
       " ['2019-07-07 10:59:46', '60.171.*.*', 'Chrome', '手机号登录', '电脑'],\n",
       " ['2019-07-07 10:50:42', '60.171.*.*', 'Chrome', '手机号登录', '电脑'],\n",
       " ['2019-07-07 10:24:49', '60.171.*.*', 'Chrome', '手机号登录', '电脑'],\n",
       " ['2019-07-07 10:13:45', '60.171.*.*', 'Chrome', '手机号登录', '电脑'],\n",
       " ['2019-07-05 10:06:28', '60.171.*.*', 'Chrome', '登录同步', '百度网盘'],\n",
       " ['2019-07-05 10:03:24', '60.171.*.*', 'Chrome', '登录同步', '百度网盘'],\n",
       " ['2019-06-28 21:31:09', '223.214.*.*', 'Safari', '手机号登录', 'iPad'],\n",
       " ['2019-06-25 23:27:22', '223.214.*.*', 'Chrome', '登录同步', '百度网盘'],\n",
       " ['2019-06-24 23:42:23', '223.214.*.*', 'Chrome', '手机号登录', '电脑'],\n",
       " ['2019-06-24 23:03:19', '223.214.*.*', 'Chrome', '手机号登录', '电脑'],\n",
       " ['2019-06-24 23:02:05', '223.214.*.*', 'Chrome', '手机号登录', '电脑'],\n",
       " ['2019-06-24 23:01:42', '223.214.*.*', 'Chrome', '手机号登录', '电脑']]"
      ]
     },
     "execution_count": 48,
     "metadata": {},
     "output_type": "execute_result"
    }
   ],
   "source": [
    "# 整理Safari\n",
    "for each in records:\n",
    "    if 'Safari' in each:\n",
    "        each.pop(5)\n",
    "\n",
    "records"
   ]
  },
  {
   "cell_type": "code",
   "execution_count": 49,
   "metadata": {},
   "outputs": [
    {
     "data": {
      "text/html": [
       "<div>\n",
       "<style scoped>\n",
       "    .dataframe tbody tr th:only-of-type {\n",
       "        vertical-align: middle;\n",
       "    }\n",
       "\n",
       "    .dataframe tbody tr th {\n",
       "        vertical-align: top;\n",
       "    }\n",
       "\n",
       "    .dataframe thead th {\n",
       "        text-align: right;\n",
       "    }\n",
       "</style>\n",
       "<table border=\"1\" class=\"dataframe\">\n",
       "  <thead>\n",
       "    <tr style=\"text-align: right;\">\n",
       "      <th></th>\n",
       "      <th>时间</th>\n",
       "      <th>IP</th>\n",
       "      <th>浏览器</th>\n",
       "      <th>登录方式</th>\n",
       "      <th>设备</th>\n",
       "    </tr>\n",
       "  </thead>\n",
       "  <tbody>\n",
       "    <tr>\n",
       "      <th>0</th>\n",
       "      <td>2019-07-08 08:17:00</td>\n",
       "      <td>60.171.*.*</td>\n",
       "      <td>Chrome</td>\n",
       "      <td>手机号登录</td>\n",
       "      <td>电脑</td>\n",
       "    </tr>\n",
       "    <tr>\n",
       "      <th>1</th>\n",
       "      <td>2019-07-07 16:16:26</td>\n",
       "      <td>60.171.*.*</td>\n",
       "      <td>Chrome</td>\n",
       "      <td>手机号登录</td>\n",
       "      <td>电脑</td>\n",
       "    </tr>\n",
       "    <tr>\n",
       "      <th>2</th>\n",
       "      <td>2019-07-07 14:34:00</td>\n",
       "      <td>60.171.*.*</td>\n",
       "      <td>Chrome</td>\n",
       "      <td>手机号登录</td>\n",
       "      <td>电脑</td>\n",
       "    </tr>\n",
       "    <tr>\n",
       "      <th>3</th>\n",
       "      <td>2019-07-07 14:29:31</td>\n",
       "      <td>60.171.*.*</td>\n",
       "      <td>Chrome</td>\n",
       "      <td>手机号登录</td>\n",
       "      <td>电脑</td>\n",
       "    </tr>\n",
       "    <tr>\n",
       "      <th>4</th>\n",
       "      <td>2019-07-07 14:10:13</td>\n",
       "      <td>60.171.*.*</td>\n",
       "      <td>Chrome</td>\n",
       "      <td>手机号登录</td>\n",
       "      <td>电脑</td>\n",
       "    </tr>\n",
       "    <tr>\n",
       "      <th>5</th>\n",
       "      <td>2019-07-07 11:36:53</td>\n",
       "      <td>60.171.*.*</td>\n",
       "      <td>Chrome</td>\n",
       "      <td>手机号登录</td>\n",
       "      <td>电脑</td>\n",
       "    </tr>\n",
       "    <tr>\n",
       "      <th>6</th>\n",
       "      <td>2019-07-07 11:28:26</td>\n",
       "      <td>60.171.*.*</td>\n",
       "      <td>Chrome</td>\n",
       "      <td>手机号登录</td>\n",
       "      <td>电脑</td>\n",
       "    </tr>\n",
       "    <tr>\n",
       "      <th>7</th>\n",
       "      <td>2019-07-07 11:19:31</td>\n",
       "      <td>60.171.*.*</td>\n",
       "      <td>Chrome</td>\n",
       "      <td>手机号登录</td>\n",
       "      <td>电脑</td>\n",
       "    </tr>\n",
       "    <tr>\n",
       "      <th>8</th>\n",
       "      <td>2019-07-07 10:59:46</td>\n",
       "      <td>60.171.*.*</td>\n",
       "      <td>Chrome</td>\n",
       "      <td>手机号登录</td>\n",
       "      <td>电脑</td>\n",
       "    </tr>\n",
       "    <tr>\n",
       "      <th>9</th>\n",
       "      <td>2019-07-07 10:50:42</td>\n",
       "      <td>60.171.*.*</td>\n",
       "      <td>Chrome</td>\n",
       "      <td>手机号登录</td>\n",
       "      <td>电脑</td>\n",
       "    </tr>\n",
       "    <tr>\n",
       "      <th>10</th>\n",
       "      <td>2019-07-07 10:24:49</td>\n",
       "      <td>60.171.*.*</td>\n",
       "      <td>Chrome</td>\n",
       "      <td>手机号登录</td>\n",
       "      <td>电脑</td>\n",
       "    </tr>\n",
       "    <tr>\n",
       "      <th>11</th>\n",
       "      <td>2019-07-07 10:13:45</td>\n",
       "      <td>60.171.*.*</td>\n",
       "      <td>Chrome</td>\n",
       "      <td>手机号登录</td>\n",
       "      <td>电脑</td>\n",
       "    </tr>\n",
       "    <tr>\n",
       "      <th>12</th>\n",
       "      <td>2019-07-05 10:06:28</td>\n",
       "      <td>60.171.*.*</td>\n",
       "      <td>Chrome</td>\n",
       "      <td>登录同步</td>\n",
       "      <td>百度网盘</td>\n",
       "    </tr>\n",
       "    <tr>\n",
       "      <th>13</th>\n",
       "      <td>2019-07-05 10:03:24</td>\n",
       "      <td>60.171.*.*</td>\n",
       "      <td>Chrome</td>\n",
       "      <td>登录同步</td>\n",
       "      <td>百度网盘</td>\n",
       "    </tr>\n",
       "    <tr>\n",
       "      <th>14</th>\n",
       "      <td>2019-06-28 21:31:09</td>\n",
       "      <td>223.214.*.*</td>\n",
       "      <td>Safari</td>\n",
       "      <td>手机号登录</td>\n",
       "      <td>iPad</td>\n",
       "    </tr>\n",
       "    <tr>\n",
       "      <th>15</th>\n",
       "      <td>2019-06-25 23:27:22</td>\n",
       "      <td>223.214.*.*</td>\n",
       "      <td>Chrome</td>\n",
       "      <td>登录同步</td>\n",
       "      <td>百度网盘</td>\n",
       "    </tr>\n",
       "    <tr>\n",
       "      <th>16</th>\n",
       "      <td>2019-06-24 23:42:23</td>\n",
       "      <td>223.214.*.*</td>\n",
       "      <td>Chrome</td>\n",
       "      <td>手机号登录</td>\n",
       "      <td>电脑</td>\n",
       "    </tr>\n",
       "    <tr>\n",
       "      <th>17</th>\n",
       "      <td>2019-06-24 23:03:19</td>\n",
       "      <td>223.214.*.*</td>\n",
       "      <td>Chrome</td>\n",
       "      <td>手机号登录</td>\n",
       "      <td>电脑</td>\n",
       "    </tr>\n",
       "    <tr>\n",
       "      <th>18</th>\n",
       "      <td>2019-06-24 23:02:05</td>\n",
       "      <td>223.214.*.*</td>\n",
       "      <td>Chrome</td>\n",
       "      <td>手机号登录</td>\n",
       "      <td>电脑</td>\n",
       "    </tr>\n",
       "    <tr>\n",
       "      <th>19</th>\n",
       "      <td>2019-06-24 23:01:42</td>\n",
       "      <td>223.214.*.*</td>\n",
       "      <td>Chrome</td>\n",
       "      <td>手机号登录</td>\n",
       "      <td>电脑</td>\n",
       "    </tr>\n",
       "  </tbody>\n",
       "</table>\n",
       "</div>"
      ],
      "text/plain": [
       "                     时间           IP     浏览器   登录方式    设备\n",
       "0   2019-07-08 08:17:00   60.171.*.*  Chrome  手机号登录    电脑\n",
       "1   2019-07-07 16:16:26   60.171.*.*  Chrome  手机号登录    电脑\n",
       "2   2019-07-07 14:34:00   60.171.*.*  Chrome  手机号登录    电脑\n",
       "3   2019-07-07 14:29:31   60.171.*.*  Chrome  手机号登录    电脑\n",
       "4   2019-07-07 14:10:13   60.171.*.*  Chrome  手机号登录    电脑\n",
       "5   2019-07-07 11:36:53   60.171.*.*  Chrome  手机号登录    电脑\n",
       "6   2019-07-07 11:28:26   60.171.*.*  Chrome  手机号登录    电脑\n",
       "7   2019-07-07 11:19:31   60.171.*.*  Chrome  手机号登录    电脑\n",
       "8   2019-07-07 10:59:46   60.171.*.*  Chrome  手机号登录    电脑\n",
       "9   2019-07-07 10:50:42   60.171.*.*  Chrome  手机号登录    电脑\n",
       "10  2019-07-07 10:24:49   60.171.*.*  Chrome  手机号登录    电脑\n",
       "11  2019-07-07 10:13:45   60.171.*.*  Chrome  手机号登录    电脑\n",
       "12  2019-07-05 10:06:28   60.171.*.*  Chrome   登录同步  百度网盘\n",
       "13  2019-07-05 10:03:24   60.171.*.*  Chrome   登录同步  百度网盘\n",
       "14  2019-06-28 21:31:09  223.214.*.*  Safari  手机号登录  iPad\n",
       "15  2019-06-25 23:27:22  223.214.*.*  Chrome   登录同步  百度网盘\n",
       "16  2019-06-24 23:42:23  223.214.*.*  Chrome  手机号登录    电脑\n",
       "17  2019-06-24 23:03:19  223.214.*.*  Chrome  手机号登录    电脑\n",
       "18  2019-06-24 23:02:05  223.214.*.*  Chrome  手机号登录    电脑\n",
       "19  2019-06-24 23:01:42  223.214.*.*  Chrome  手机号登录    电脑"
      ]
     },
     "execution_count": 49,
     "metadata": {},
     "output_type": "execute_result"
    }
   ],
   "source": [
    "records = DataFrame(data=records, columns=head)\n",
    "records"
   ]
  },
  {
   "cell_type": "markdown",
   "metadata": {},
   "source": [
    "**数据分析**"
   ]
  },
  {
   "cell_type": "code",
   "execution_count": 126,
   "metadata": {},
   "outputs": [
    {
     "data": {
      "text/html": [
       "<div>\n",
       "<style scoped>\n",
       "    .dataframe tbody tr th:only-of-type {\n",
       "        vertical-align: middle;\n",
       "    }\n",
       "\n",
       "    .dataframe tbody tr th {\n",
       "        vertical-align: top;\n",
       "    }\n",
       "\n",
       "    .dataframe thead th {\n",
       "        text-align: right;\n",
       "    }\n",
       "</style>\n",
       "<table border=\"1\" class=\"dataframe\">\n",
       "  <thead>\n",
       "    <tr style=\"text-align: right;\">\n",
       "      <th></th>\n",
       "      <th>时间</th>\n",
       "      <th>IP</th>\n",
       "      <th>浏览器</th>\n",
       "      <th>登录方式</th>\n",
       "      <th>设备</th>\n",
       "      <th>时间段</th>\n",
       "    </tr>\n",
       "  </thead>\n",
       "  <tbody>\n",
       "    <tr>\n",
       "      <th>0</th>\n",
       "      <td>2019-07-08 08:17:00</td>\n",
       "      <td>60.171.*.*</td>\n",
       "      <td>Chrome</td>\n",
       "      <td>手机号登录</td>\n",
       "      <td>电脑</td>\n",
       "      <td>上午</td>\n",
       "    </tr>\n",
       "    <tr>\n",
       "      <th>1</th>\n",
       "      <td>2019-07-07 16:16:26</td>\n",
       "      <td>60.171.*.*</td>\n",
       "      <td>Chrome</td>\n",
       "      <td>手机号登录</td>\n",
       "      <td>电脑</td>\n",
       "      <td>下午</td>\n",
       "    </tr>\n",
       "    <tr>\n",
       "      <th>2</th>\n",
       "      <td>2019-07-07 14:34:00</td>\n",
       "      <td>60.171.*.*</td>\n",
       "      <td>Chrome</td>\n",
       "      <td>手机号登录</td>\n",
       "      <td>电脑</td>\n",
       "      <td>下午</td>\n",
       "    </tr>\n",
       "    <tr>\n",
       "      <th>3</th>\n",
       "      <td>2019-07-07 14:29:31</td>\n",
       "      <td>60.171.*.*</td>\n",
       "      <td>Chrome</td>\n",
       "      <td>手机号登录</td>\n",
       "      <td>电脑</td>\n",
       "      <td>下午</td>\n",
       "    </tr>\n",
       "    <tr>\n",
       "      <th>4</th>\n",
       "      <td>2019-07-07 14:10:13</td>\n",
       "      <td>60.171.*.*</td>\n",
       "      <td>Chrome</td>\n",
       "      <td>手机号登录</td>\n",
       "      <td>电脑</td>\n",
       "      <td>下午</td>\n",
       "    </tr>\n",
       "    <tr>\n",
       "      <th>5</th>\n",
       "      <td>2019-07-07 11:36:53</td>\n",
       "      <td>60.171.*.*</td>\n",
       "      <td>Chrome</td>\n",
       "      <td>手机号登录</td>\n",
       "      <td>电脑</td>\n",
       "      <td>上午</td>\n",
       "    </tr>\n",
       "    <tr>\n",
       "      <th>6</th>\n",
       "      <td>2019-07-07 11:28:26</td>\n",
       "      <td>60.171.*.*</td>\n",
       "      <td>Chrome</td>\n",
       "      <td>手机号登录</td>\n",
       "      <td>电脑</td>\n",
       "      <td>上午</td>\n",
       "    </tr>\n",
       "    <tr>\n",
       "      <th>7</th>\n",
       "      <td>2019-07-07 11:19:31</td>\n",
       "      <td>60.171.*.*</td>\n",
       "      <td>Chrome</td>\n",
       "      <td>手机号登录</td>\n",
       "      <td>电脑</td>\n",
       "      <td>上午</td>\n",
       "    </tr>\n",
       "    <tr>\n",
       "      <th>8</th>\n",
       "      <td>2019-07-07 10:59:46</td>\n",
       "      <td>60.171.*.*</td>\n",
       "      <td>Chrome</td>\n",
       "      <td>手机号登录</td>\n",
       "      <td>电脑</td>\n",
       "      <td>上午</td>\n",
       "    </tr>\n",
       "    <tr>\n",
       "      <th>9</th>\n",
       "      <td>2019-07-07 10:50:42</td>\n",
       "      <td>60.171.*.*</td>\n",
       "      <td>Chrome</td>\n",
       "      <td>手机号登录</td>\n",
       "      <td>电脑</td>\n",
       "      <td>上午</td>\n",
       "    </tr>\n",
       "    <tr>\n",
       "      <th>10</th>\n",
       "      <td>2019-07-07 10:24:49</td>\n",
       "      <td>60.171.*.*</td>\n",
       "      <td>Chrome</td>\n",
       "      <td>手机号登录</td>\n",
       "      <td>电脑</td>\n",
       "      <td>上午</td>\n",
       "    </tr>\n",
       "    <tr>\n",
       "      <th>11</th>\n",
       "      <td>2019-07-07 10:13:45</td>\n",
       "      <td>60.171.*.*</td>\n",
       "      <td>Chrome</td>\n",
       "      <td>手机号登录</td>\n",
       "      <td>电脑</td>\n",
       "      <td>上午</td>\n",
       "    </tr>\n",
       "    <tr>\n",
       "      <th>12</th>\n",
       "      <td>2019-07-05 10:06:28</td>\n",
       "      <td>60.171.*.*</td>\n",
       "      <td>Chrome</td>\n",
       "      <td>登录同步</td>\n",
       "      <td>百度网盘</td>\n",
       "      <td>上午</td>\n",
       "    </tr>\n",
       "    <tr>\n",
       "      <th>13</th>\n",
       "      <td>2019-07-05 10:03:24</td>\n",
       "      <td>60.171.*.*</td>\n",
       "      <td>Chrome</td>\n",
       "      <td>登录同步</td>\n",
       "      <td>百度网盘</td>\n",
       "      <td>上午</td>\n",
       "    </tr>\n",
       "    <tr>\n",
       "      <th>14</th>\n",
       "      <td>2019-06-28 21:31:09</td>\n",
       "      <td>223.214.*.*</td>\n",
       "      <td>Safari</td>\n",
       "      <td>手机号登录</td>\n",
       "      <td>iPad</td>\n",
       "      <td>晚上</td>\n",
       "    </tr>\n",
       "    <tr>\n",
       "      <th>15</th>\n",
       "      <td>2019-06-25 23:27:22</td>\n",
       "      <td>223.214.*.*</td>\n",
       "      <td>Chrome</td>\n",
       "      <td>登录同步</td>\n",
       "      <td>百度网盘</td>\n",
       "      <td>晚上</td>\n",
       "    </tr>\n",
       "    <tr>\n",
       "      <th>16</th>\n",
       "      <td>2019-06-24 23:42:23</td>\n",
       "      <td>223.214.*.*</td>\n",
       "      <td>Chrome</td>\n",
       "      <td>手机号登录</td>\n",
       "      <td>电脑</td>\n",
       "      <td>晚上</td>\n",
       "    </tr>\n",
       "    <tr>\n",
       "      <th>17</th>\n",
       "      <td>2019-06-24 23:03:19</td>\n",
       "      <td>223.214.*.*</td>\n",
       "      <td>Chrome</td>\n",
       "      <td>手机号登录</td>\n",
       "      <td>电脑</td>\n",
       "      <td>晚上</td>\n",
       "    </tr>\n",
       "    <tr>\n",
       "      <th>18</th>\n",
       "      <td>2019-06-24 23:02:05</td>\n",
       "      <td>223.214.*.*</td>\n",
       "      <td>Chrome</td>\n",
       "      <td>手机号登录</td>\n",
       "      <td>电脑</td>\n",
       "      <td>晚上</td>\n",
       "    </tr>\n",
       "    <tr>\n",
       "      <th>19</th>\n",
       "      <td>2019-06-24 23:01:42</td>\n",
       "      <td>223.214.*.*</td>\n",
       "      <td>Chrome</td>\n",
       "      <td>手机号登录</td>\n",
       "      <td>电脑</td>\n",
       "      <td>晚上</td>\n",
       "    </tr>\n",
       "  </tbody>\n",
       "</table>\n",
       "</div>"
      ],
      "text/plain": [
       "                    时间           IP     浏览器   登录方式    设备 时间段\n",
       "0  2019-07-08 08:17:00   60.171.*.*  Chrome  手机号登录    电脑  上午\n",
       "1  2019-07-07 16:16:26   60.171.*.*  Chrome  手机号登录    电脑  下午\n",
       "2  2019-07-07 14:34:00   60.171.*.*  Chrome  手机号登录    电脑  下午\n",
       "3  2019-07-07 14:29:31   60.171.*.*  Chrome  手机号登录    电脑  下午\n",
       "4  2019-07-07 14:10:13   60.171.*.*  Chrome  手机号登录    电脑  下午\n",
       "5  2019-07-07 11:36:53   60.171.*.*  Chrome  手机号登录    电脑  上午\n",
       "6  2019-07-07 11:28:26   60.171.*.*  Chrome  手机号登录    电脑  上午\n",
       "7  2019-07-07 11:19:31   60.171.*.*  Chrome  手机号登录    电脑  上午\n",
       "8  2019-07-07 10:59:46   60.171.*.*  Chrome  手机号登录    电脑  上午\n",
       "9  2019-07-07 10:50:42   60.171.*.*  Chrome  手机号登录    电脑  上午\n",
       "10 2019-07-07 10:24:49   60.171.*.*  Chrome  手机号登录    电脑  上午\n",
       "11 2019-07-07 10:13:45   60.171.*.*  Chrome  手机号登录    电脑  上午\n",
       "12 2019-07-05 10:06:28   60.171.*.*  Chrome   登录同步  百度网盘  上午\n",
       "13 2019-07-05 10:03:24   60.171.*.*  Chrome   登录同步  百度网盘  上午\n",
       "14 2019-06-28 21:31:09  223.214.*.*  Safari  手机号登录  iPad  晚上\n",
       "15 2019-06-25 23:27:22  223.214.*.*  Chrome   登录同步  百度网盘  晚上\n",
       "16 2019-06-24 23:42:23  223.214.*.*  Chrome  手机号登录    电脑  晚上\n",
       "17 2019-06-24 23:03:19  223.214.*.*  Chrome  手机号登录    电脑  晚上\n",
       "18 2019-06-24 23:02:05  223.214.*.*  Chrome  手机号登录    电脑  晚上\n",
       "19 2019-06-24 23:01:42  223.214.*.*  Chrome  手机号登录    电脑  晚上"
      ]
     },
     "execution_count": 126,
     "metadata": {},
     "output_type": "execute_result"
    }
   ],
   "source": [
    "# 将字符串转换成时间并划分时间段\n",
    "records['时间'] = records['时间'].map(pd.to_datetime)\n",
    "records['时间段'] = pd.cut(records['时间'].map(lambda x: x.hour), bins=[0, 6, 12, 18, 24], \n",
    "                     labels=['凌晨', '上午', '下午', '晚上'])\n",
    "records"
   ]
  },
  {
   "cell_type": "markdown",
   "metadata": {},
   "source": [
    "时间段分布"
   ]
  },
  {
   "cell_type": "code",
   "execution_count": 127,
   "metadata": {},
   "outputs": [
    {
     "data": {
      "text/plain": [
       "<matplotlib.axes._subplots.AxesSubplot at 0x22984f4cfd0>"
      ]
     },
     "execution_count": 127,
     "metadata": {},
     "output_type": "execute_result"
    },
    {
     "data": {
      "image/png": "[encoded data removed]",
      "text/plain": [
       "<Figure size 432x432 with 1 Axes>"
      ]
     },
     "metadata": {},
     "output_type": "display_data"
    }
   ],
   "source": [
    "from pylab import mpl\n",
    "\n",
    "mpl.rcParams['font.sans-serif'] = ['SimHei']\n",
    "# mpl.rcParams['font.sans-serif'] = ['Microsoft YaHei']\n",
    "mpl.rcParams['axes.unicode_minus'] = False\n",
    "\n",
    "grouped = records.groupby(by='时间段')\n",
    "grouped.size().plot.pie(figsize=(6, 6))"
   ]
  },
  {
   "cell_type": "code",
   "execution_count": 128,
   "metadata": {},
   "outputs": [
    {
     "data": {
      "text/plain": [
       "<matplotlib.axes._subplots.AxesSubplot at 0x22984f8c9e8>"
      ]
     },
     "execution_count": 128,
     "metadata": {},
     "output_type": "execute_result"
    },
    {
     "data": {
      "image/png": "[encoded data removed]",
      "text/plain": [
       "<Figure size 432x432 with 1 Axes>"
      ]
     },
     "metadata": {},
     "output_type": "display_data"
    }
   ],
   "source": [
    "grouped = records.groupby(by='设备')\n",
    "grouped.size().plot.pie(figsize=(6, 6))"
   ]
  },
  {
   "cell_type": "code",
   "execution_count": 129,
   "metadata": {},
   "outputs": [
    {
     "data": {
      "text/plain": [
       "<matplotlib.axes._subplots.AxesSubplot at 0x22984fcd5f8>"
      ]
     },
     "execution_count": 129,
     "metadata": {},
     "output_type": "execute_result"
    },
    {
     "data": {
      "image/png": "[encoded data removed]",
      "text/plain": [
       "<Figure size 432x432 with 1 Axes>"
      ]
     },
     "metadata": {},
     "output_type": "display_data"
    }
   ],
   "source": [
    "grouped = records.groupby(by='浏览器')\n",
    "grouped.size().plot.pie(figsize=(6, 6))"
   ]
  },
  {
   "cell_type": "code",
   "execution_count": 130,
   "metadata": {},
   "outputs": [
    {
     "data": {
      "text/plain": [
       "<matplotlib.axes._subplots.AxesSubplot at 0x22984ffcf60>"
      ]
     },
     "execution_count": 130,
     "metadata": {},
     "output_type": "execute_result"
    },
    {
     "data": {
      "image/png": "[encoded data removed]",
      "text/plain": [
       "<Figure size 432x432 with 1 Axes>"
      ]
     },
     "metadata": {},
     "output_type": "display_data"
    }
   ],
   "source": [
    "grouped = records.groupby(by='登录方式')\n",
    "grouped.size().plot.pie(figsize=(6, 6))"
   ]
  },
  {
   "cell_type": "code",
   "execution_count": 133,
   "metadata": {},
   "outputs": [
    {
     "data": {
      "text/plain": [
       "<matplotlib.axes._subplots.AxesSubplot at 0x229850d79b0>"
      ]
     },
     "execution_count": 133,
     "metadata": {},
     "output_type": "execute_result"
    },
    {
     "data": {
      "image/png": "[encoded data removed]",
      "text/plain": [
       "<Figure size 576x432 with 1 Axes>"
      ]
     },
     "metadata": {
      "needs_background": "light"
     },
     "output_type": "display_data"
    }
   ],
   "source": [
    "records['时间'].map(lambda x: str(x.month) + '-' +str(x.day)).value_counts().sort_index().plot(figsize=(8, 6))"
   ]
  },
  {
   "cell_type": "markdown",
   "metadata": {},
   "source": [
    "## 3.4 北邮人论坛"
   ]
  },
  {
   "cell_type": "code",
   "execution_count": 176,
   "metadata": {},
   "outputs": [],
   "source": [
    "%matplotlib inline\n",
    "from selenium import webdriver\n",
    "import time\n",
    "import datetime\n",
    "import re\n",
    "import copy\n",
    "import pandas as pd\n",
    "from pandas import Series, DataFrame\n",
    "import numpy as np\n",
    "from numpy import arange, random, array"
   ]
  },
  {
   "cell_type": "markdown",
   "metadata": {},
   "source": [
    "**登陆**"
   ]
  },
  {
   "cell_type": "code",
   "execution_count": 178,
   "metadata": {},
   "outputs": [],
   "source": [
    "path = r'C:\\ProgramData\\Anaconda3\\Scripts\\geckodriver.exe'\n",
    "url = 'https://bbs.byr.cn/#!board/ParttimeJob'\n",
    "\n",
    "# # 禁用css\n",
    "# fp = webdriver.FirefoxProfile()\n",
    "# fp.set_preference('permissions.default.stylesheet', 2)\n",
    "\n",
    "# 禁用图片\n",
    "fp = webdriver.FirefoxProfile()\n",
    "fp.set_preference('permissions.default.image', 2)#某些firefox只需要这个\n",
    "fp.set_preference('browser.migration.version', 9001)#部分需要加上这个\n",
    "\n",
    "driver = webdriver.Firefox(firefox_profile=fp, executable_path = path)\n",
    "driver.implicitly_wait(30)\n",
    "\n",
    "driver.get(url)\n",
    "time.sleep(5)"
   ]
  },
  {
   "cell_type": "code",
   "execution_count": 179,
   "metadata": {},
   "outputs": [],
   "source": [
    "name = driver.find_element_by_id('u_login_id')\n",
    "name.clear()\n",
    "name.send_keys('vbvbvb')\n",
    "pwd = driver.find_element_by_id('u_login_passwd')\n",
    "pwd.clear()\n",
    "pwd.send_keys('ban5211314')\n",
    "login = driver.find_element_by_id('u_login_submit')\n",
    "login.click()"
   ]
  },
  {
   "cell_type": "markdown",
   "metadata": {},
   "source": [
    "**数据抓取**"
   ]
  },
  {
   "cell_type": "code",
   "execution_count": 172,
   "metadata": {},
   "outputs": [],
   "source": [
    "titles = []\n",
    "urls = []\n",
    "dates= []\n",
    "authors=  []\n",
    "homepages = []"
   ]
  },
  {
   "cell_type": "code",
   "execution_count": 182,
   "metadata": {},
   "outputs": [
    {
     "name": "stdout",
     "output_type": "stream",
     "text": [
      "1已完成...\n",
      "2已完成...\n",
      "3已完成...\n",
      "4已完成...\n",
      "5已完成...\n",
      "6已完成...\n",
      "7已完成...\n",
      "8已完成...\n",
      "9已完成...\n",
      "10已完成...\n",
      "11已完成...\n",
      "12已完成...\n",
      "13已完成...\n",
      "14已完成...\n",
      "15已完成...\n",
      "16已完成...\n",
      "17已完成...\n",
      "18已完成...\n",
      "19已完成...\n",
      "20已完成...\n",
      "21已完成...\n",
      "22已完成...\n",
      "23已完成...\n",
      "24已完成...\n",
      "25已完成...\n",
      "26已完成...\n",
      "27已完成...\n",
      "28已完成...\n",
      "29已完成...\n",
      "30已完成...\n",
      "31已完成...\n",
      "32已完成...\n",
      "33已完成...\n",
      "34已完成...\n",
      "35已完成...\n",
      "36已完成...\n",
      "37已完成...\n",
      "38已完成...\n",
      "39已完成...\n",
      "40已完成...\n",
      "41已完成...\n",
      "42已完成...\n",
      "43已完成...\n",
      "44已完成...\n",
      "45已完成...\n",
      "46已完成...\n",
      "47已完成...\n",
      "48已完成...\n",
      "49已完成...\n",
      "50已完成...\n",
      "51已完成...\n",
      "52已完成...\n",
      "53已完成...\n",
      "54已完成...\n",
      "55已完成...\n",
      "56已完成...\n",
      "57已完成...\n",
      "58已完成...\n",
      "59已完成...\n",
      "60已完成...\n",
      "61已完成...\n",
      "62已完成...\n",
      "63已完成...\n",
      "64已完成...\n",
      "65已完成...\n",
      "66已完成...\n",
      "67已完成...\n",
      "68已完成...\n",
      "69已完成...\n",
      "70已完成...\n",
      "71已完成...\n",
      "72已完成...\n",
      "73已完成...\n",
      "74已完成...\n",
      "75已完成...\n",
      "76已完成...\n",
      "77已完成...\n",
      "78已完成...\n",
      "79已完成...\n",
      "80已完成...\n",
      "81已完成...\n",
      "82已完成...\n",
      "83已完成...\n",
      "84已完成...\n",
      "85已完成...\n",
      "86已完成...\n",
      "87已完成...\n",
      "88已完成...\n",
      "89已完成...\n",
      "90已完成...\n",
      "91已完成...\n",
      "92已完成...\n",
      "93已完成...\n",
      "94已完成...\n",
      "95已完成...\n",
      "96已完成...\n",
      "97已完成...\n",
      "98已完成...\n",
      "99已完成...\n"
     ]
    }
   ],
   "source": [
    "for i in range(1, 100):\n",
    "    # 跳转页面\n",
    "    try:\n",
    "        driver.get(url+ \"?p=\" + str(i))\n",
    "        time.sleep(3)\n",
    "    except:\n",
    "        driver.find_element_by_link_text(\">>\").click()  # << 上一页\n",
    "        time.sleep(3)\n",
    "        \n",
    "    tbody = driver.find_element_by_css_selector('tbody')\n",
    "    trs = tbody.find_elements_by_css_selector('tr')\n",
    "\n",
    "    for each in trs:\n",
    "        try:\n",
    "            job = each.find_element_by_css_selector('td.title_9').find_element_by_css_selector('a')\n",
    "            date = each.find_element_by_css_selector('td.title_10')\n",
    "            author = each.find_element_by_css_selector('td.title_12').find_element_by_css_selector('a')\n",
    "        except:\n",
    "            job = each.find_element_by_css_selector('td.title_9.bg-odd').find_element_by_css_selector('a')\n",
    "            date = each.find_element_by_css_selector('td.title_10.bg-odd')\n",
    "            author = each.find_element_by_css_selector('td.title_12.bg-odd').find_element_by_css_selector('a')\n",
    "        titles.append(job.get_attribute(\"text\"))\n",
    "        urls.append(job.get_attribute(\"href\"))\n",
    "        dates.append(date.text)\n",
    "        authors.append(author.get_attribute(\"text\"))\n",
    "        homepages.append(author.get_attribute(\"href\"))\n",
    "        \n",
    "    current = driver.find_element_by_css_selector('a[title=\"当前页\"]').text\n",
    "    print(\"%s已完成...\" % current)"
   ]
  },
  {
   "cell_type": "markdown",
   "metadata": {},
   "source": [
    "**数据存储**"
   ]
  },
  {
   "cell_type": "code",
   "execution_count": 207,
   "metadata": {},
   "outputs": [],
   "source": [
    "data = DataFrame(data = {\n",
    "    'title': titles,\n",
    "    'date': dates,\n",
    "    'detail_url': urls,\n",
    "    'author': authors,\n",
    "    'author_homepage': homepages\n",
    "})"
   ]
  },
  {
   "cell_type": "code",
   "execution_count": 216,
   "metadata": {},
   "outputs": [],
   "source": [
    "data.to_excel(\"C:/Users/Wang/datasets/part_time_jobs.xlsx\", sheet_name=\"jobs\")"
   ]
  },
  {
   "cell_type": "markdown",
   "metadata": {},
   "source": [
    "## 3.5 Airbnb"
   ]
  },
  {
   "cell_type": "code",
   "execution_count": 1,
   "metadata": {},
   "outputs": [],
   "source": [
    "%matplotlib inline\n",
    "from selenium import webdriver\n",
    "import time\n",
    "import datetime\n",
    "import re\n",
    "import copy\n",
    "import pandas as pd\n",
    "from pandas import Series, DataFrame\n",
    "import numpy as np\n",
    "from numpy import arange, random, array\n",
    "from functools import reduce"
   ]
  },
  {
   "cell_type": "code",
   "execution_count": 2,
   "metadata": {},
   "outputs": [],
   "source": [
    "url = 'https://www.airbnb.cn/s/%E5%8C%97%E4%BA%AC/homes?&items_offset='\n",
    "path = 'C:/Users/Wang/datasets/'\n",
    "executable_path = r'C:\\ProgramData\\Anaconda3\\Scripts\\geckodriver.exe'"
   ]
  },
  {
   "cell_type": "markdown",
   "metadata": {},
   "source": [
    "**登陆**"
   ]
  },
  {
   "cell_type": "code",
   "execution_count": 45,
   "metadata": {},
   "outputs": [],
   "source": [
    "# 禁用图片\n",
    "fp = webdriver.FirefoxProfile()\n",
    "fp.set_preference('permissions.default.image', 2)     # 某些firefox只需要这个\n",
    "fp.set_preference('browser.migration.version', 9001)  # 部分需要加上这个\n",
    "\n",
    "driver = webdriver.Firefox(firefox_profile=fp, executable_path = executable_path)\n",
    "driver.implicitly_wait(30)\n",
    "\n",
    "driver.get(url+str(0))\n",
    "time.sleep(5)"
   ]
  },
  {
   "cell_type": "code",
   "execution_count": 330,
   "metadata": {},
   "outputs": [],
   "source": [
    "# 禁用地图\n",
    "# driver.find_element_by_id('MapToggleBar').click()"
   ]
  },
  {
   "cell_type": "markdown",
   "metadata": {},
   "source": [
    "**获取数据**"
   ]
  },
  {
   "cell_type": "code",
   "execution_count": 46,
   "metadata": {},
   "outputs": [],
   "source": [
    "page14 = driver.find_elements_by_css_selector('div._gig1e7')"
   ]
  },
  {
   "cell_type": "code",
   "execution_count": 47,
   "metadata": {},
   "outputs": [
    {
     "data": {
      "text/plain": [
       "'￥195'"
      ]
     },
     "execution_count": 47,
     "metadata": {},
     "output_type": "execute_result"
    }
   ],
   "source": [
    "def get_price(item):\n",
    "    '''\n",
    "    获取房租价格\n",
    "    item: 当前出租信息\n",
    "    return: 价格\n",
    "    '''\n",
    "    try:\n",
    "        text = item.find_element_by_css_selector('div._18gk84h').text\n",
    "        regex = re.compile('(￥[0-9]+)')\n",
    "        price = regex.search(text).group()\n",
    "    except:\n",
    "        price = np.nan\n",
    "    \n",
    "    return price\n",
    "\n",
    "get_price(page14[1])\n",
    "# prices = [get_price(item) for item in page1]\n",
    "# prices"
   ]
  },
  {
   "cell_type": "code",
   "execution_count": 48,
   "metadata": {},
   "outputs": [
    {
     "data": {
      "text/plain": [
       "nan"
      ]
     },
     "execution_count": 48,
     "metadata": {},
     "output_type": "execute_result"
    }
   ],
   "source": [
    "def get_discount(item):\n",
    "    '''\n",
    "    获取折扣信息\n",
    "    item: 当前出租信息\n",
    "    return: 折扣信息\n",
    "    '''\n",
    "    try:\n",
    "        discount = item.find_elements_by_css_selector('span._6rrm590')[1].text\n",
    "    except:\n",
    "        discount = np.nan\n",
    "    \n",
    "    return discount\n",
    "\n",
    "get_discount(page14[1])"
   ]
  },
  {
   "cell_type": "code",
   "execution_count": 49,
   "metadata": {},
   "outputs": [
    {
     "data": {
      "text/plain": [
       "'5.0'"
      ]
     },
     "execution_count": 49,
     "metadata": {},
     "output_type": "execute_result"
    }
   ],
   "source": [
    "def get_rating(item):\n",
    "    '''\n",
    "    获取评分\n",
    "    item: 当前出租信息\n",
    "    return: 评分\n",
    "    '''\n",
    "    try:\n",
    "        text = item.find_element_by_css_selector('span._1clmxfj').text\n",
    "        regex = re.compile('([0-9]\\.[0-9])')\n",
    "        rating = regex.search(text).group()\n",
    "    except:\n",
    "        rating = np.nan\n",
    "    \n",
    "    return rating\n",
    "\n",
    "get_rating(page14[1])"
   ]
  },
  {
   "cell_type": "code",
   "execution_count": 50,
   "metadata": {},
   "outputs": [
    {
     "data": {
      "text/plain": [
       "'217'"
      ]
     },
     "execution_count": 50,
     "metadata": {},
     "output_type": "execute_result"
    }
   ],
   "source": [
    "def get_comments_num(item):\n",
    "    '''\n",
    "    获取评论数\n",
    "    item: 当前出租信息\n",
    "    return: 评论数\n",
    "    '''\n",
    "    try:    \n",
    "        text = item.find_element_by_css_selector('span._1clmxfj').text\n",
    "        regex = re.compile('([0-9]{2,})')\n",
    "        comments_num = regex.search(text).group()\n",
    "    except:\n",
    "        comments_num = np.nan\n",
    "    \n",
    "    return comments_num\n",
    "\n",
    "get_comments_num(page14[1])"
   ]
  },
  {
   "cell_type": "code",
   "execution_count": 51,
   "metadata": {},
   "outputs": [
    {
     "name": "stdout",
     "output_type": "stream",
     "text": [
      "子页面权柄： 6442450960\n"
     ]
    }
   ],
   "source": [
    "def to_subpage(driver):\n",
    "    '''\n",
    "    切换到子页面\n",
    "    driver: 浏览器驱动\n",
    "    return: 新的浏览器驱动\n",
    "    '''\n",
    "    handles = driver.window_handles\n",
    "    cur_handle = driver.current_window_handle\n",
    "    \n",
    "    for handle in handles:\n",
    "        if handle != cur_handle:\n",
    "            driver.switch_to.window(handle)\n",
    "    print(\"子页面权柄：\", driver.current_window_handle)\n",
    "    \n",
    "    return driver\n",
    "\n",
    "page14[1].click()\n",
    "subdriver = to_subpage(driver)"
   ]
  },
  {
   "cell_type": "code",
   "execution_count": 59,
   "metadata": {},
   "outputs": [
    {
     "name": "stdout",
     "output_type": "stream",
     "text": [
      "父页面权柄： 6442450945\n"
     ]
    }
   ],
   "source": [
    "def to_suppage(driver):\n",
    "    '''\n",
    "    切换到上级页面\n",
    "    driver: 浏览器驱动\n",
    "    return: 新的浏览器驱动\n",
    "    '''\n",
    "    handles = driver.window_handles\n",
    "    cur_handle = driver.current_window_handle\n",
    "    \n",
    "    for handle in handles:\n",
    "        if handle != cur_handle:\n",
    "            driver.close()\n",
    "            driver.switch_to.window(handle)\n",
    "    print(\"父页面权柄：\", driver.current_window_handle)\n",
    "    \n",
    "    return driver\n",
    "\n",
    "driver = to_suppage(subdriver)"
   ]
  },
  {
   "cell_type": "code",
   "execution_count": 52,
   "metadata": {},
   "outputs": [
    {
     "data": {
      "text/plain": [
       "'6号线地铁口Loft北京像素的独立房间'"
      ]
     },
     "execution_count": 52,
     "metadata": {},
     "output_type": "execute_result"
    }
   ],
   "source": [
    "def get_title(subdriver):\n",
    "    '''\n",
    "    获取租房信息的标题\n",
    "    subdriver: 子页面的浏览器驱动\n",
    "    return: 标题\n",
    "    '''\n",
    "    try:\n",
    "        title = subdriver.find_element_by_css_selector('div._1d4aktw5').text\n",
    "    except:\n",
    "        title = np.nan\n",
    "    \n",
    "    return title\n",
    "\n",
    "get_title(subdriver)"
   ]
  },
  {
   "cell_type": "code",
   "execution_count": 53,
   "metadata": {},
   "outputs": [
    {
     "data": {
      "text/plain": [
       "'超赞房东/近地铁/可以做饭/有洗衣机'"
      ]
     },
     "execution_count": 53,
     "metadata": {},
     "output_type": "execute_result"
    }
   ],
   "source": [
    "def get_tags(subdriver):\n",
    "    '''\n",
    "    获取标签\n",
    "    subdriver: 子页面的浏览器驱动\n",
    "    return: 标签信息\n",
    "    '''\n",
    "    try:\n",
    "        spans = subdriver.find_elements_by_css_selector('span._fk7kh10')\n",
    "        tags = [each.find_element_by_css_selector('span').text for each in spans]\n",
    "        tags = reduce(lambda x, y: x + '/' + y, tags[1:])\n",
    "    except:\n",
    "        tags = np.nan\n",
    "    \n",
    "    return tags\n",
    "\n",
    "get_tags(subdriver)"
   ]
  },
  {
   "cell_type": "code",
   "execution_count": 54,
   "metadata": {},
   "outputs": [
    {
     "data": {
      "text/plain": [
       "'大栅栏/前门大街/天坛/天安门广场'"
      ]
     },
     "execution_count": 54,
     "metadata": {},
     "output_type": "execute_result"
    }
   ],
   "source": [
    "def get_formating_text(text):\n",
    "    '''\n",
    "    获取格式化文本\n",
    "    text: 输入文本\n",
    "    return: 格式化文本\n",
    "    '''\n",
    "    try:\n",
    "        text = text.split('：')[1]\n",
    "        pieces = text.split('、')\n",
    "    \n",
    "        regex = re.compile('(.+)(?=（.*）)')\n",
    "        formating_text = [regex.search(each).group() for each in pieces]\n",
    "        formating_text = reduce(lambda x, y: x + '/' + y, formating_text)\n",
    "    except:\n",
    "        formating_text = np.nan\n",
    "    \n",
    "    return formating_text\n",
    "\n",
    "text = '周边热门：大栅栏/前门大街（约700米）、天坛（约1.1公里）、天安门广场（约1.6公里）'\n",
    "get_formating_text(text)"
   ]
  },
  {
   "cell_type": "code",
   "execution_count": 55,
   "metadata": {},
   "outputs": [
    {
     "data": {
      "text/plain": [
       "'南苑机场/北京首都国际机场'"
      ]
     },
     "execution_count": 55,
     "metadata": {},
     "output_type": "execute_result"
    }
   ],
   "source": [
    "def get_airport(text):\n",
    "    '''\n",
    "    获取机场信息\n",
    "    text: 输入文本\n",
    "    return: 机场站点\n",
    "    '''\n",
    "    text = text.split('：')[1]\n",
    "    pieces = text.split('、')\n",
    "    \n",
    "    regex = re.compile('(.+)(?=（.*）)')\n",
    "    airports = [regex.search(each).group() for each in pieces if '机场' in each]\n",
    "    airports = reduce(lambda x, y: x + '/' + y, airports)\n",
    "\n",
    "    \n",
    "    return airports\n",
    "\n",
    "text = '机场 / 火车站：南苑机场（约8.9公里）、北京首都国际机场（约29.0公里）、北京火车站（约5.6公里）、北京南站（约5.7公里）、北京西站（约10.6公里）'\n",
    "get_airport(text) "
   ]
  },
  {
   "cell_type": "code",
   "execution_count": 56,
   "metadata": {},
   "outputs": [
    {
     "data": {
      "text/plain": [
       "'北京火车站/北京南站/北京西站'"
      ]
     },
     "execution_count": 56,
     "metadata": {},
     "output_type": "execute_result"
    }
   ],
   "source": [
    "def get_railway_station(text):\n",
    "    '''\n",
    "    获取火车站信息\n",
    "    text: 输入文本\n",
    "    return: 火车站\n",
    "    '''\n",
    "    text = text.split('：')[1]\n",
    "    pieces = text.split('、')\n",
    "    \n",
    "    regex = re.compile('(.+)(?=（.*）)')\n",
    "    railway_stations = [regex.search(each).group() for each in pieces if '站' in each]\n",
    "    railway_stations = reduce(lambda x, y: x + '/' + y, railway_stations)\n",
    "    \n",
    "    return railway_stations\n",
    "\n",
    "text = '机场 / 火车站：南苑机场（约8.9公里）、北京首都国际机场（约29.0公里）、北京火车站（约5.6公里）、北京南站（约5.7公里）、北京西站（约10.6公里）'\n",
    "get_railway_station(text) "
   ]
  },
  {
   "cell_type": "code",
   "execution_count": 57,
   "metadata": {},
   "outputs": [
    {
     "data": {
      "text/plain": [
       "('1', '1', '1', '2', '通州商务园', '草房', '北京首都国际机场/南苑机场', '北京火车站/北京南站/北京西站')"
      ]
     },
     "execution_count": 57,
     "metadata": {},
     "output_type": "execute_result"
    }
   ],
   "source": [
    "def get_infos(subdriver):\n",
    "    '''\n",
    "    获取入住信息\n",
    "    subdriver: 子页面的浏览器驱动\n",
    "    return: 入住信息\n",
    "    '''\n",
    "    spans = subdriver.find_elements_by_css_selector('div._1t2q299c div span._11dqbld7')\n",
    "    infos = [each.text for each in spans]\n",
    "    \n",
    "    # 获取住房信息\n",
    "    regex = re.compile('([0-9]+\\.?[0-9]*)')\n",
    "    \n",
    "    try:\n",
    "        bedroom_num = regex.search(infos[0]).group()\n",
    "    except:\n",
    "        bedroom_num = 1\n",
    "        \n",
    "    try:\n",
    "        bed_num =  regex.search(infos[1]).group()\n",
    "    except:\n",
    "        bed_num = 1\n",
    "        \n",
    "    try:\n",
    "        washroom_num = regex.search(infos[2]).group()\n",
    "    except:\n",
    "        washroom_num = 0\n",
    "        \n",
    "    try:\n",
    "        guests_num = regex.search(infos[3]).group()\n",
    "    except:\n",
    "        guests_num = 1\n",
    "    \n",
    "    # 获取周边信息\n",
    "    try:\n",
    "        scenic_area = get_formating_text(infos[5])\n",
    "    except:\n",
    "        scenic_area = np.nan\n",
    "        \n",
    "    try:\n",
    "        subway_station = get_formating_text(infos[7])\n",
    "    except:\n",
    "        subway_station = np.nan\n",
    "    \n",
    "    try:\n",
    "        airport = get_airport(infos[9])\n",
    "    except:\n",
    "        airport = np.nan\n",
    "    \n",
    "    try:\n",
    "        railway_station = get_railway_station(infos[9])\n",
    "    except:\n",
    "        railway_station = np.nan\n",
    "    \n",
    "    return bedroom_num, bed_num, washroom_num, guests_num, scenic_area, subway_station, airport, railway_station\n",
    "\n",
    "info = get_infos(subdriver)\n",
    "info"
   ]
  },
  {
   "cell_type": "code",
   "execution_count": 58,
   "metadata": {},
   "outputs": [
    {
     "data": {
      "text/plain": [
       "'无线网络/厨房/洗发水/吹风机/生活必需品/空调/暖气/电视/洗衣机/书桌/工作区域/衣架/电梯/健身房/烟雾报警器/一氧化碳报警器'"
      ]
     },
     "execution_count": 58,
     "metadata": {},
     "output_type": "execute_result"
    }
   ],
   "source": [
    "def get_facility(subdriver):\n",
    "    '''\n",
    "    获取房屋设施\n",
    "    subdriver: 子页面的浏览器驱动\n",
    "    return: 返回房屋设施信息\n",
    "    '''\n",
    "    try:\n",
    "        subdriver.find_element_by_css_selector('button._1jyr48cu').click()\n",
    "        pannel = subdriver.find_element_by_css_selector('div._wpwi48')\n",
    "        spans = pannel.find_elements_by_css_selector('div._ppgibgk span')\n",
    "        pieces = [each.text for each in spans]\n",
    "        facility = reduce(lambda x, y: x + '/' + y, pieces)\n",
    "    except:\n",
    "        facility = np.nan\n",
    "    \n",
    "    return facility\n",
    "\n",
    "get_facility(subdriver)"
   ]
  },
  {
   "cell_type": "code",
   "execution_count": 64,
   "metadata": {},
   "outputs": [],
   "source": [
    "prices = list()\n",
    "discounts = list()\n",
    "ratings = list()\n",
    "comments_nums = list()\n",
    "titles = list()\n",
    "tags = list()\n",
    "bedrooms = list()\n",
    "beds = list()\n",
    "washrooms = list()\n",
    "guests = list()\n",
    "scenic_areas = list()\n",
    "subway_stations = list()\n",
    "airports = list()\n",
    "railway_stations = list()\n",
    "facilities = list()"
   ]
  },
  {
   "cell_type": "code",
   "execution_count": 65,
   "metadata": {},
   "outputs": [
    {
     "name": "stdout",
     "output_type": "stream",
     "text": [
      "子页面权柄： 6442451023\n",
      "父页面权柄： 6442450945\n",
      "page1-1 is done...\n",
      "\n",
      "子页面权柄： 6442451026\n",
      "父页面权柄： 6442450945\n",
      "page1-2 is done...\n",
      "\n",
      "子页面权柄： 6442451029\n",
      "父页面权柄： 6442450945\n",
      "page1-3 is done...\n",
      "\n",
      "子页面权柄： 6442451032\n",
      "父页面权柄： 6442450945\n",
      "page1-4 is done...\n",
      "\n",
      "子页面权柄： 6442451035\n",
      "父页面权柄： 6442450945\n",
      "page1-5 is done...\n",
      "\n",
      "子页面权柄： 6442451038\n",
      "父页面权柄： 6442450945\n",
      "page1-6 is done...\n",
      "\n",
      "子页面权柄： 6442451041\n",
      "父页面权柄： 6442450945\n",
      "page1-7 is done...\n",
      "\n",
      "子页面权柄： 6442451044\n",
      "父页面权柄： 6442450945\n",
      "page1-8 is done...\n",
      "\n",
      "子页面权柄： 6442451047\n",
      "父页面权柄： 6442450945\n",
      "page1-9 is done...\n",
      "\n",
      "子页面权柄： 6442451050\n",
      "父页面权柄： 6442450945\n",
      "page1-10 is done...\n",
      "\n",
      "子页面权柄： 6442451053\n",
      "父页面权柄： 6442450945\n",
      "page1-11 is done...\n",
      "\n",
      "子页面权柄： 6442451056\n",
      "父页面权柄： 6442450945\n",
      "page1-12 is done...\n",
      "\n",
      "子页面权柄： 6442451059\n",
      "父页面权柄： 6442450945\n",
      "page1-13 is done...\n",
      "\n",
      "子页面权柄： 6442451062\n",
      "父页面权柄： 6442450945\n",
      "page1-14 is done...\n",
      "\n",
      "子页面权柄： 6442451065\n",
      "父页面权柄： 6442450945\n",
      "page1-15 is done...\n",
      "\n",
      "子页面权柄： 6442451068\n",
      "父页面权柄： 6442450945\n",
      "page1-16 is done...\n",
      "\n",
      "子页面权柄： 6442451071\n",
      "父页面权柄： 6442450945\n",
      "page1-17 is done...\n",
      "\n",
      "子页面权柄： 6442451074\n",
      "父页面权柄： 6442450945\n",
      "page1-18 is done...\n",
      "\n",
      "子页面权柄： 6442451080\n",
      "父页面权柄： 6442450945\n",
      "page2-1 is done...\n",
      "\n",
      "子页面权柄： 6442451083\n",
      "父页面权柄： 6442450945\n",
      "page2-2 is done...\n",
      "\n",
      "子页面权柄： 6442451086\n",
      "父页面权柄： 6442450945\n",
      "page2-3 is done...\n",
      "\n",
      "子页面权柄： 6442451089\n",
      "父页面权柄： 6442450945\n",
      "page2-4 is done...\n",
      "\n",
      "子页面权柄： 6442451092\n",
      "父页面权柄： 6442450945\n",
      "page2-5 is done...\n",
      "\n",
      "子页面权柄： 6442451095\n",
      "父页面权柄： 6442450945\n",
      "page2-6 is done...\n",
      "\n",
      "子页面权柄： 6442451098\n",
      "父页面权柄： 6442450945\n",
      "page2-7 is done...\n",
      "\n",
      "子页面权柄： 6442451101\n",
      "父页面权柄： 6442450945\n",
      "page2-8 is done...\n",
      "\n",
      "子页面权柄： 6442451104\n",
      "父页面权柄： 6442450945\n",
      "page2-9 is done...\n",
      "\n",
      "子页面权柄： 6442451107\n",
      "父页面权柄： 6442450945\n",
      "page2-10 is done...\n",
      "\n",
      "子页面权柄： 6442451110\n",
      "父页面权柄： 6442450945\n",
      "page2-11 is done...\n",
      "\n",
      "子页面权柄： 6442451113\n",
      "父页面权柄： 6442450945\n",
      "page2-12 is done...\n",
      "\n",
      "子页面权柄： 6442451116\n",
      "父页面权柄： 6442450945\n",
      "page2-13 is done...\n",
      "\n",
      "子页面权柄： 6442451119\n",
      "父页面权柄： 6442450945\n",
      "page2-14 is done...\n",
      "\n",
      "子页面权柄： 6442451122\n",
      "父页面权柄： 6442450945\n",
      "page2-15 is done...\n",
      "\n",
      "子页面权柄： 6442451125\n",
      "父页面权柄： 6442450945\n",
      "page2-16 is done...\n",
      "\n",
      "子页面权柄： 6442451128\n",
      "父页面权柄： 6442450945\n",
      "page2-17 is done...\n",
      "\n",
      "子页面权柄： 6442451131\n",
      "父页面权柄： 6442450945\n",
      "page2-18 is done...\n",
      "\n",
      "子页面权柄： 6442451137\n",
      "父页面权柄： 6442450945\n",
      "page3-1 is done...\n",
      "\n",
      "子页面权柄： 6442451140\n",
      "父页面权柄： 6442450945\n",
      "page3-2 is done...\n",
      "\n",
      "子页面权柄： 6442451143\n",
      "父页面权柄： 6442450945\n",
      "page3-3 is done...\n",
      "\n",
      "子页面权柄： 6442451146\n",
      "父页面权柄： 6442450945\n",
      "page3-4 is done...\n",
      "\n",
      "子页面权柄： 6442451149\n",
      "父页面权柄： 6442450945\n",
      "page3-5 is done...\n",
      "\n",
      "子页面权柄： 6442451152\n",
      "父页面权柄： 6442450945\n",
      "page3-6 is done...\n",
      "\n",
      "子页面权柄： 6442451155\n",
      "父页面权柄： 6442450945\n",
      "page3-7 is done...\n",
      "\n",
      "子页面权柄： 6442451158\n",
      "父页面权柄： 6442450945\n",
      "page3-8 is done...\n",
      "\n",
      "子页面权柄： 6442451161\n",
      "父页面权柄： 6442450945\n",
      "page3-9 is done...\n",
      "\n",
      "子页面权柄： 6442451164\n",
      "父页面权柄： 6442450945\n",
      "page3-10 is done...\n",
      "\n",
      "子页面权柄： 6442451167\n",
      "父页面权柄： 6442450945\n",
      "page3-11 is done...\n",
      "\n",
      "子页面权柄： 6442451170\n",
      "父页面权柄： 6442450945\n",
      "page3-12 is done...\n",
      "\n",
      "子页面权柄： 6442451173\n",
      "父页面权柄： 6442450945\n",
      "page3-13 is done...\n",
      "\n",
      "子页面权柄： 6442451176\n",
      "父页面权柄： 6442450945\n",
      "page3-14 is done...\n",
      "\n",
      "子页面权柄： 6442451179\n",
      "父页面权柄： 6442450945\n",
      "page3-15 is done...\n",
      "\n",
      "子页面权柄： 6442451182\n",
      "父页面权柄： 6442450945\n",
      "page3-16 is done...\n",
      "\n",
      "子页面权柄： 6442451185\n",
      "父页面权柄： 6442450945\n",
      "page3-17 is done...\n",
      "\n",
      "子页面权柄： 6442451188\n",
      "父页面权柄： 6442450945\n",
      "page3-18 is done...\n",
      "\n",
      "子页面权柄： 6442451194\n",
      "父页面权柄： 6442450945\n",
      "page4-1 is done...\n",
      "\n",
      "子页面权柄： 6442451197\n",
      "父页面权柄： 6442450945\n",
      "page4-2 is done...\n",
      "\n",
      "子页面权柄： 6442451200\n",
      "父页面权柄： 6442450945\n",
      "page4-3 is done...\n",
      "\n",
      "子页面权柄： 6442451203\n",
      "父页面权柄： 6442450945\n",
      "page4-4 is done...\n",
      "\n",
      "子页面权柄： 6442451206\n",
      "父页面权柄： 6442450945\n",
      "page4-5 is done...\n",
      "\n",
      "子页面权柄： 6442451209\n",
      "父页面权柄： 6442450945\n",
      "page4-6 is done...\n",
      "\n",
      "子页面权柄： 6442451212\n",
      "父页面权柄： 6442450945\n",
      "page4-7 is done...\n",
      "\n",
      "子页面权柄： 6442451215\n",
      "父页面权柄： 6442450945\n",
      "page4-8 is done...\n",
      "\n",
      "子页面权柄： 6442451218\n",
      "父页面权柄： 6442450945\n",
      "page4-9 is done...\n",
      "\n",
      "子页面权柄： 6442451221\n",
      "父页面权柄： 6442450945\n",
      "page4-10 is done...\n",
      "\n",
      "子页面权柄： 6442451224\n",
      "父页面权柄： 6442450945\n",
      "page4-11 is done...\n",
      "\n",
      "子页面权柄： 6442451227\n",
      "父页面权柄： 6442450945\n",
      "page4-12 is done...\n",
      "\n",
      "子页面权柄： 6442451230\n",
      "父页面权柄： 6442450945\n",
      "page4-13 is done...\n",
      "\n",
      "子页面权柄： 6442451233\n",
      "父页面权柄： 6442450945\n",
      "page4-14 is done...\n",
      "\n",
      "子页面权柄： 6442451236\n",
      "父页面权柄： 6442450945\n",
      "page4-15 is done...\n",
      "\n",
      "子页面权柄： 6442451239\n",
      "父页面权柄： 6442450945\n",
      "page4-16 is done...\n",
      "\n",
      "子页面权柄： 6442451242\n",
      "父页面权柄： 6442450945\n",
      "page4-17 is done...\n",
      "\n",
      "子页面权柄： 6442451245\n",
      "父页面权柄： 6442450945\n",
      "page4-18 is done...\n",
      "\n",
      "子页面权柄： 6442451251\n",
      "父页面权柄： 6442450945\n",
      "page5-1 is done...\n",
      "\n",
      "子页面权柄： 6442451254\n",
      "父页面权柄： 6442450945\n",
      "page5-2 is done...\n",
      "\n",
      "子页面权柄： 6442451257\n",
      "父页面权柄： 6442450945\n",
      "page5-3 is done...\n",
      "\n",
      "子页面权柄： 6442451260\n",
      "父页面权柄： 6442450945\n",
      "page5-4 is done...\n",
      "\n",
      "子页面权柄： 6442451263\n",
      "父页面权柄： 6442450945\n",
      "page5-5 is done...\n",
      "\n",
      "子页面权柄： 6442451266\n",
      "父页面权柄： 6442450945\n",
      "page5-6 is done...\n",
      "\n",
      "子页面权柄： 6442451269\n",
      "父页面权柄： 6442450945\n",
      "page5-7 is done...\n",
      "\n",
      "子页面权柄： 6442451272\n",
      "父页面权柄： 6442450945\n",
      "page5-8 is done...\n",
      "\n",
      "子页面权柄： 6442451275\n",
      "父页面权柄： 6442450945\n",
      "page5-9 is done...\n",
      "\n",
      "子页面权柄： 6442451278\n",
      "父页面权柄： 6442450945\n",
      "page5-10 is done...\n",
      "\n",
      "子页面权柄： 6442451281\n",
      "父页面权柄： 6442450945\n",
      "page5-11 is done...\n",
      "\n",
      "子页面权柄： 6442451284\n",
      "父页面权柄： 6442450945\n",
      "page5-12 is done...\n",
      "\n",
      "子页面权柄： 6442451287\n",
      "父页面权柄： 6442450945\n",
      "page5-13 is done...\n",
      "\n",
      "子页面权柄： 6442451290\n",
      "父页面权柄： 6442450945\n",
      "page5-14 is done...\n",
      "\n",
      "子页面权柄： 6442451293\n",
      "父页面权柄： 6442450945\n",
      "page5-15 is done...\n",
      "\n",
      "子页面权柄： 6442451296\n",
      "父页面权柄： 6442450945\n",
      "page5-16 is done...\n",
      "\n",
      "子页面权柄： 6442451299\n",
      "父页面权柄： 6442450945\n",
      "page5-17 is done...\n",
      "\n",
      "子页面权柄： 6442451302\n",
      "父页面权柄： 6442450945\n",
      "page5-18 is done...\n",
      "\n",
      "子页面权柄： 6442451308\n",
      "父页面权柄： 6442450945\n",
      "page6-1 is done...\n",
      "\n",
      "子页面权柄： 6442451311\n",
      "父页面权柄： 6442450945\n",
      "page6-2 is done...\n",
      "\n",
      "子页面权柄： 6442451314\n",
      "父页面权柄： 6442450945\n",
      "page6-3 is done...\n",
      "\n",
      "子页面权柄： 6442451317\n",
      "父页面权柄： 6442450945\n",
      "page6-4 is done...\n",
      "\n",
      "子页面权柄： 6442451320\n",
      "父页面权柄： 6442450945\n",
      "page6-5 is done...\n",
      "\n",
      "子页面权柄： 6442451323\n",
      "父页面权柄： 6442450945\n",
      "page6-6 is done...\n",
      "\n",
      "子页面权柄： 6442451326\n",
      "父页面权柄： 6442450945\n",
      "page6-7 is done...\n",
      "\n",
      "子页面权柄： 6442451329\n",
      "父页面权柄： 6442450945\n",
      "page6-8 is done...\n",
      "\n",
      "子页面权柄： 6442451332\n",
      "父页面权柄： 6442450945\n",
      "page6-9 is done...\n",
      "\n",
      "子页面权柄： 6442451335\n",
      "父页面权柄： 6442450945\n",
      "page6-10 is done...\n",
      "\n",
      "子页面权柄： 6442451338\n",
      "父页面权柄： 6442450945\n",
      "page6-11 is done...\n",
      "\n",
      "子页面权柄： 6442451341\n",
      "父页面权柄： 6442450945\n",
      "page6-12 is done...\n",
      "\n",
      "子页面权柄： 6442451344\n",
      "父页面权柄： 6442450945\n",
      "page6-13 is done...\n",
      "\n",
      "子页面权柄： 6442451347\n",
      "父页面权柄： 6442450945\n",
      "page6-14 is done...\n",
      "\n",
      "子页面权柄： 6442451350\n",
      "父页面权柄： 6442450945\n",
      "page6-15 is done...\n",
      "\n",
      "子页面权柄： 6442451353\n",
      "父页面权柄： 6442450945\n",
      "page6-16 is done...\n",
      "\n",
      "子页面权柄： 6442451356\n",
      "父页面权柄： 6442450945\n",
      "page6-17 is done...\n",
      "\n",
      "子页面权柄： 6442451359\n",
      "父页面权柄： 6442450945\n",
      "page6-18 is done...\n",
      "\n",
      "子页面权柄： 6442451365\n",
      "父页面权柄： 6442450945\n",
      "page7-1 is done...\n",
      "\n",
      "子页面权柄： 6442451368\n",
      "父页面权柄： 6442450945\n",
      "page7-2 is done...\n",
      "\n",
      "子页面权柄： 6442451371\n",
      "父页面权柄： 6442450945\n",
      "page7-3 is done...\n",
      "\n",
      "子页面权柄： 6442451374\n",
      "父页面权柄： 6442450945\n",
      "page7-4 is done...\n",
      "\n",
      "子页面权柄： 6442451377\n",
      "父页面权柄： 6442450945\n",
      "page7-5 is done...\n",
      "\n",
      "子页面权柄： 6442451380\n",
      "父页面权柄： 6442450945\n",
      "page7-6 is done...\n",
      "\n",
      "子页面权柄： 6442451383\n",
      "父页面权柄： 6442450945\n",
      "page7-7 is done...\n",
      "\n",
      "子页面权柄： 6442451386\n",
      "父页面权柄： 6442450945\n",
      "page7-8 is done...\n",
      "\n",
      "子页面权柄： 6442451389\n",
      "父页面权柄： 6442450945\n",
      "page7-9 is done...\n",
      "\n",
      "子页面权柄： 6442451392\n",
      "父页面权柄： 6442450945\n",
      "page7-10 is done...\n",
      "\n",
      "子页面权柄： 6442451395\n",
      "父页面权柄： 6442450945\n",
      "page7-11 is done...\n",
      "\n",
      "子页面权柄： 6442451398\n",
      "父页面权柄： 6442450945\n",
      "page7-12 is done...\n",
      "\n",
      "子页面权柄： 6442451401\n",
      "父页面权柄： 6442450945\n",
      "page7-13 is done...\n",
      "\n",
      "子页面权柄： 6442451404\n",
      "父页面权柄： 6442450945\n",
      "page7-14 is done...\n",
      "\n",
      "子页面权柄： 6442451407\n",
      "父页面权柄： 6442450945\n",
      "page7-15 is done...\n",
      "\n",
      "子页面权柄： 6442451410\n",
      "父页面权柄： 6442450945\n",
      "page7-16 is done...\n",
      "\n",
      "子页面权柄： 6442451413\n",
      "父页面权柄： 6442450945\n",
      "page7-17 is done...\n",
      "\n",
      "子页面权柄： 6442451416\n",
      "父页面权柄： 6442450945\n",
      "page7-18 is done...\n",
      "\n",
      "子页面权柄： 6442451422\n",
      "父页面权柄： 6442450945\n",
      "page8-1 is done...\n",
      "\n",
      "子页面权柄： 6442451425\n",
      "父页面权柄： 6442450945\n",
      "page8-2 is done...\n",
      "\n",
      "子页面权柄： 6442451428\n",
      "父页面权柄： 6442450945\n",
      "page8-3 is done...\n",
      "\n",
      "子页面权柄： 6442451431\n",
      "父页面权柄： 6442450945\n",
      "page8-4 is done...\n",
      "\n",
      "子页面权柄： 6442451434\n",
      "父页面权柄： 6442450945\n",
      "page8-5 is done...\n",
      "\n",
      "子页面权柄： 6442451437\n",
      "父页面权柄： 6442450945\n",
      "page8-6 is done...\n",
      "\n",
      "子页面权柄： 6442451440\n",
      "父页面权柄： 6442450945\n",
      "page8-7 is done...\n",
      "\n",
      "子页面权柄： 6442451443\n",
      "父页面权柄： 6442450945\n",
      "page8-8 is done...\n",
      "\n",
      "子页面权柄： 6442451446\n",
      "父页面权柄： 6442450945\n",
      "page8-9 is done...\n",
      "\n",
      "子页面权柄： 6442451449\n",
      "父页面权柄： 6442450945\n",
      "page8-10 is done...\n",
      "\n",
      "子页面权柄： 6442451452\n",
      "父页面权柄： 6442450945\n",
      "page8-11 is done...\n",
      "\n",
      "子页面权柄： 6442451455\n",
      "父页面权柄： 6442450945\n",
      "page8-12 is done...\n",
      "\n",
      "子页面权柄： 6442451458\n",
      "父页面权柄： 6442450945\n",
      "page8-13 is done...\n",
      "\n",
      "子页面权柄： 6442451461\n",
      "父页面权柄： 6442450945\n",
      "page8-14 is done...\n",
      "\n",
      "子页面权柄： 6442451464\n",
      "父页面权柄： 6442450945\n",
      "page8-15 is done...\n",
      "\n",
      "子页面权柄： 6442451467\n",
      "父页面权柄： 6442450945\n",
      "page8-16 is done...\n",
      "\n",
      "子页面权柄： 6442451470\n",
      "父页面权柄： 6442450945\n",
      "page8-17 is done...\n",
      "\n",
      "子页面权柄： 6442451473\n",
      "父页面权柄： 6442450945\n",
      "page8-18 is done...\n",
      "\n",
      "子页面权柄： 6442451479\n",
      "父页面权柄： 6442450945\n",
      "page9-1 is done...\n",
      "\n",
      "子页面权柄： 6442451482\n"
     ]
    },
    {
     "name": "stdout",
     "output_type": "stream",
     "text": [
      "父页面权柄： 6442450945\n",
      "page9-2 is done...\n",
      "\n",
      "子页面权柄： 6442451485\n",
      "父页面权柄： 6442450945\n",
      "page9-3 is done...\n",
      "\n",
      "子页面权柄： 6442451488\n",
      "父页面权柄： 6442450945\n",
      "page9-4 is done...\n",
      "\n",
      "子页面权柄： 6442451491\n",
      "父页面权柄： 6442450945\n",
      "page9-5 is done...\n",
      "\n",
      "子页面权柄： 6442451494\n",
      "父页面权柄： 6442450945\n",
      "page9-6 is done...\n",
      "\n",
      "子页面权柄： 6442451497\n",
      "父页面权柄： 6442450945\n",
      "page9-7 is done...\n",
      "\n",
      "子页面权柄： 6442451500\n",
      "父页面权柄： 6442450945\n",
      "page9-8 is done...\n",
      "\n",
      "子页面权柄： 6442451503\n",
      "父页面权柄： 6442450945\n",
      "page9-9 is done...\n",
      "\n",
      "子页面权柄： 6442451506\n",
      "父页面权柄： 6442450945\n",
      "page9-10 is done...\n",
      "\n",
      "子页面权柄： 6442451509\n",
      "父页面权柄： 6442450945\n",
      "page9-11 is done...\n",
      "\n",
      "子页面权柄： 6442451512\n",
      "父页面权柄： 6442450945\n",
      "page9-12 is done...\n",
      "\n",
      "子页面权柄： 6442451515\n",
      "父页面权柄： 6442450945\n",
      "page9-13 is done...\n",
      "\n",
      "子页面权柄： 6442451518\n",
      "父页面权柄： 6442450945\n",
      "page9-14 is done...\n",
      "\n",
      "子页面权柄： 6442451521\n",
      "父页面权柄： 6442450945\n",
      "page9-15 is done...\n",
      "\n",
      "子页面权柄： 6442451524\n",
      "父页面权柄： 6442450945\n",
      "page9-16 is done...\n",
      "\n",
      "子页面权柄： 6442451527\n",
      "父页面权柄： 6442450945\n",
      "page9-17 is done...\n",
      "\n",
      "子页面权柄： 6442451530\n",
      "父页面权柄： 6442450945\n",
      "page9-18 is done...\n",
      "\n",
      "子页面权柄： 6442451536\n",
      "父页面权柄： 6442450945\n",
      "page10-1 is done...\n",
      "\n",
      "子页面权柄： 6442451539\n",
      "父页面权柄： 6442450945\n",
      "page10-2 is done...\n",
      "\n",
      "子页面权柄： 6442451542\n",
      "父页面权柄： 6442450945\n",
      "page10-3 is done...\n",
      "\n",
      "子页面权柄： 6442451545\n",
      "父页面权柄： 6442450945\n",
      "page10-4 is done...\n",
      "\n",
      "子页面权柄： 6442451548\n",
      "父页面权柄： 6442450945\n",
      "page10-5 is done...\n",
      "\n",
      "子页面权柄： 6442451551\n",
      "父页面权柄： 6442450945\n",
      "page10-6 is done...\n",
      "\n",
      "子页面权柄： 6442451554\n",
      "父页面权柄： 6442450945\n",
      "page10-7 is done...\n",
      "\n",
      "子页面权柄： 6442451557\n",
      "父页面权柄： 6442450945\n",
      "page10-8 is done...\n",
      "\n",
      "子页面权柄： 6442451560\n",
      "父页面权柄： 6442450945\n",
      "page10-9 is done...\n",
      "\n",
      "子页面权柄： 6442451563\n",
      "父页面权柄： 6442450945\n",
      "page10-10 is done...\n",
      "\n",
      "子页面权柄： 6442451566\n",
      "父页面权柄： 6442450945\n",
      "page10-11 is done...\n",
      "\n",
      "子页面权柄： 6442451569\n",
      "父页面权柄： 6442450945\n",
      "page10-12 is done...\n",
      "\n",
      "子页面权柄： 6442451572\n",
      "父页面权柄： 6442450945\n",
      "page10-13 is done...\n",
      "\n",
      "子页面权柄： 6442451575\n",
      "父页面权柄： 6442450945\n",
      "page10-14 is done...\n",
      "\n",
      "子页面权柄： 6442451578\n",
      "父页面权柄： 6442450945\n",
      "page10-15 is done...\n",
      "\n",
      "子页面权柄： 6442451581\n",
      "父页面权柄： 6442450945\n",
      "page10-16 is done...\n",
      "\n",
      "子页面权柄： 6442451584\n",
      "父页面权柄： 6442450945\n",
      "page10-17 is done...\n",
      "\n",
      "子页面权柄： 6442451587\n",
      "父页面权柄： 6442450945\n",
      "page10-18 is done...\n",
      "\n",
      "子页面权柄： 6442451593\n",
      "父页面权柄： 6442450945\n",
      "page11-1 is done...\n",
      "\n",
      "子页面权柄： 6442451596\n",
      "父页面权柄： 6442450945\n",
      "page11-2 is done...\n",
      "\n",
      "子页面权柄： 6442451599\n",
      "父页面权柄： 6442450945\n",
      "page11-3 is done...\n",
      "\n",
      "子页面权柄： 6442451602\n",
      "父页面权柄： 6442450945\n",
      "page11-4 is done...\n",
      "\n",
      "子页面权柄： 6442451605\n",
      "父页面权柄： 6442450945\n",
      "page11-5 is done...\n",
      "\n",
      "子页面权柄： 6442451608\n",
      "父页面权柄： 6442450945\n",
      "page11-6 is done...\n",
      "\n",
      "子页面权柄： 6442451611\n",
      "父页面权柄： 6442450945\n",
      "page11-7 is done...\n",
      "\n",
      "子页面权柄： 6442451614\n",
      "父页面权柄： 6442450945\n",
      "page11-8 is done...\n",
      "\n",
      "子页面权柄： 6442451617\n",
      "父页面权柄： 6442450945\n",
      "page11-9 is done...\n",
      "\n",
      "子页面权柄： 6442451620\n",
      "父页面权柄： 6442450945\n",
      "page11-10 is done...\n",
      "\n",
      "子页面权柄： 6442451623\n",
      "父页面权柄： 6442450945\n",
      "page11-11 is done...\n",
      "\n",
      "子页面权柄： 6442451626\n",
      "父页面权柄： 6442450945\n",
      "page11-12 is done...\n",
      "\n",
      "子页面权柄： 6442451629\n",
      "父页面权柄： 6442450945\n",
      "page11-13 is done...\n",
      "\n",
      "子页面权柄： 6442451632\n",
      "父页面权柄： 6442450945\n",
      "page11-14 is done...\n",
      "\n",
      "子页面权柄： 6442451635\n",
      "父页面权柄： 6442450945\n",
      "page11-15 is done...\n",
      "\n",
      "page11-16 is passed...\n",
      "\n",
      "子页面权柄： 6442451638\n",
      "父页面权柄： 6442450945\n",
      "page11-17 is done...\n",
      "\n",
      "子页面权柄： 6442451641\n",
      "父页面权柄： 6442450945\n",
      "page11-18 is done...\n",
      "\n",
      "子页面权柄： 6442451647\n",
      "父页面权柄： 6442450945\n",
      "page12-1 is done...\n",
      "\n",
      "子页面权柄： 6442451650\n",
      "父页面权柄： 6442450945\n",
      "page12-2 is done...\n",
      "\n",
      "子页面权柄： 6442451653\n",
      "父页面权柄： 6442450945\n",
      "page12-3 is done...\n",
      "\n",
      "子页面权柄： 6442451656\n",
      "父页面权柄： 6442450945\n",
      "page12-4 is done...\n",
      "\n",
      "子页面权柄： 6442451659\n",
      "父页面权柄： 6442450945\n",
      "page12-5 is done...\n",
      "\n",
      "子页面权柄： 6442451662\n",
      "父页面权柄： 6442450945\n",
      "page12-6 is done...\n",
      "\n",
      "子页面权柄： 6442451665\n",
      "父页面权柄： 6442450945\n",
      "page12-7 is done...\n",
      "\n",
      "子页面权柄： 6442451668\n",
      "父页面权柄： 6442450945\n",
      "page12-8 is done...\n",
      "\n",
      "子页面权柄： 6442451671\n",
      "父页面权柄： 6442450945\n",
      "page12-9 is done...\n",
      "\n",
      "子页面权柄： 6442451674\n",
      "父页面权柄： 6442450945\n",
      "page12-10 is done...\n",
      "\n",
      "子页面权柄： 6442451677\n",
      "父页面权柄： 6442450945\n",
      "page12-11 is done...\n",
      "\n",
      "page12-12 is passed...\n",
      "\n",
      "子页面权柄： 6442451680\n",
      "父页面权柄： 6442450945\n",
      "page12-13 is done...\n",
      "\n",
      "子页面权柄： 6442451683\n",
      "父页面权柄： 6442450945\n",
      "page12-14 is done...\n",
      "\n",
      "子页面权柄： 6442451686\n",
      "父页面权柄： 6442450945\n",
      "page12-15 is done...\n",
      "\n",
      "子页面权柄： 6442451689\n",
      "父页面权柄： 6442450945\n",
      "page12-16 is done...\n",
      "\n",
      "子页面权柄： 6442451692\n",
      "父页面权柄： 6442450945\n",
      "page12-17 is done...\n",
      "\n",
      "子页面权柄： 6442451695\n",
      "父页面权柄： 6442450945\n",
      "page12-18 is done...\n",
      "\n",
      "子页面权柄： 6442451701\n",
      "父页面权柄： 6442450945\n",
      "page13-1 is done...\n",
      "\n",
      "子页面权柄： 6442451704\n",
      "父页面权柄： 6442450945\n",
      "page13-2 is done...\n",
      "\n",
      "子页面权柄： 6442451707\n",
      "父页面权柄： 6442450945\n",
      "page13-3 is done...\n",
      "\n",
      "子页面权柄： 6442451710\n",
      "父页面权柄： 6442450945\n",
      "page13-4 is done...\n",
      "\n",
      "子页面权柄： 6442451713\n",
      "父页面权柄： 6442450945\n",
      "page13-5 is done...\n",
      "\n",
      "子页面权柄： 6442451716\n",
      "父页面权柄： 6442450945\n",
      "page13-6 is done...\n",
      "\n",
      "子页面权柄： 6442451719\n",
      "父页面权柄： 6442450945\n",
      "page13-7 is done...\n",
      "\n",
      "子页面权柄： 6442451722\n",
      "父页面权柄： 6442450945\n",
      "page13-8 is done...\n",
      "\n",
      "子页面权柄： 6442451725\n",
      "父页面权柄： 6442450945\n",
      "page13-9 is done...\n",
      "\n",
      "子页面权柄： 6442451728\n",
      "父页面权柄： 6442450945\n",
      "page13-10 is done...\n",
      "\n",
      "子页面权柄： 6442451731\n",
      "父页面权柄： 6442450945\n",
      "page13-11 is done...\n",
      "\n",
      "子页面权柄： 6442451734\n",
      "父页面权柄： 6442450945\n",
      "page13-12 is done...\n",
      "\n",
      "子页面权柄： 6442451737\n",
      "父页面权柄： 6442450945\n",
      "page13-13 is done...\n",
      "\n",
      "子页面权柄： 6442451740\n",
      "父页面权柄： 6442450945\n",
      "page13-14 is done...\n",
      "\n",
      "子页面权柄： 6442451743\n",
      "父页面权柄： 6442450945\n",
      "page13-15 is done...\n",
      "\n",
      "子页面权柄： 6442451746\n",
      "父页面权柄： 6442450945\n",
      "page13-16 is done...\n",
      "\n",
      "子页面权柄： 6442451749\n",
      "父页面权柄： 6442450945\n",
      "page13-17 is done...\n",
      "\n",
      "子页面权柄： 6442451752\n",
      "父页面权柄： 6442450945\n",
      "page13-18 is done...\n",
      "\n",
      "子页面权柄： 6442451758\n",
      "父页面权柄： 6442450945\n",
      "page14-1 is done...\n",
      "\n",
      "子页面权柄： 6442451761\n",
      "父页面权柄： 6442450945\n",
      "page14-2 is done...\n",
      "\n",
      "子页面权柄： 6442451764\n",
      "父页面权柄： 6442450945\n",
      "page14-3 is done...\n",
      "\n",
      "子页面权柄： 6442451767\n",
      "父页面权柄： 6442450945\n",
      "page14-4 is done...\n",
      "\n",
      "子页面权柄： 6442451770\n",
      "父页面权柄： 6442450945\n",
      "page14-5 is done...\n",
      "\n",
      "子页面权柄： 6442451773\n",
      "父页面权柄： 6442450945\n",
      "page14-6 is done...\n",
      "\n",
      "子页面权柄： 6442451776\n",
      "父页面权柄： 6442450945\n",
      "page14-7 is done...\n",
      "\n",
      "子页面权柄： 6442451779\n",
      "父页面权柄： 6442450945\n",
      "page14-8 is done...\n",
      "\n",
      "子页面权柄： 6442451782\n",
      "父页面权柄： 6442450945\n",
      "page14-9 is done...\n",
      "\n",
      "子页面权柄： 6442451785\n",
      "父页面权柄： 6442450945\n",
      "page14-10 is done...\n",
      "\n",
      "子页面权柄： 6442451788\n",
      "父页面权柄： 6442450945\n",
      "page14-11 is done...\n",
      "\n",
      "子页面权柄： 6442451791\n",
      "父页面权柄： 6442450945\n",
      "page14-12 is done...\n",
      "\n",
      "子页面权柄： 6442451794\n",
      "父页面权柄： 6442450945\n",
      "page14-13 is done...\n",
      "\n",
      "子页面权柄： 6442451797\n",
      "父页面权柄： 6442450945\n",
      "page14-14 is done...\n",
      "\n",
      "子页面权柄： 6442451800\n",
      "父页面权柄： 6442450945\n",
      "page14-15 is done...\n",
      "\n",
      "子页面权柄： 6442451803\n",
      "父页面权柄： 6442450945\n",
      "page14-16 is done...\n",
      "\n",
      "子页面权柄： 6442451806\n",
      "父页面权柄： 6442450945\n",
      "page14-17 is done...\n",
      "\n",
      "子页面权柄： 6442451809\n",
      "父页面权柄： 6442450945\n",
      "page14-18 is done...\n",
      "\n",
      "子页面权柄： 6442451815\n",
      "父页面权柄： 6442450945\n",
      "page15-1 is done...\n",
      "\n",
      "子页面权柄： 6442451818\n",
      "父页面权柄： 6442450945\n",
      "page15-2 is done...\n",
      "\n",
      "子页面权柄： 6442451821\n",
      "父页面权柄： 6442450945\n",
      "page15-3 is done...\n",
      "\n",
      "子页面权柄： 6442451824\n",
      "父页面权柄： 6442450945\n",
      "page15-4 is done...\n",
      "\n",
      "子页面权柄： 6442451827\n",
      "父页面权柄： 6442450945\n",
      "page15-5 is done...\n",
      "\n",
      "子页面权柄： 6442451830\n",
      "父页面权柄： 6442450945\n",
      "page15-6 is done...\n",
      "\n",
      "子页面权柄： 6442451833\n",
      "父页面权柄： 6442450945\n",
      "page15-7 is done...\n",
      "\n",
      "子页面权柄： 6442451836\n",
      "父页面权柄： 6442450945\n",
      "page15-8 is done...\n",
      "\n",
      "子页面权柄： 6442451839\n",
      "父页面权柄： 6442450945\n",
      "page15-9 is done...\n",
      "\n",
      "子页面权柄： 6442451842\n",
      "父页面权柄： 6442450945\n",
      "page15-10 is done...\n",
      "\n",
      "子页面权柄： 6442451845\n",
      "父页面权柄： 6442450945\n",
      "page15-11 is done...\n",
      "\n",
      "子页面权柄： 6442451848\n",
      "父页面权柄： 6442450945\n",
      "page15-12 is done...\n",
      "\n",
      "子页面权柄： 6442451851\n",
      "父页面权柄： 6442450945\n",
      "page15-13 is done...\n",
      "\n",
      "子页面权柄： 6442451854\n",
      "父页面权柄： 6442450945\n",
      "page15-14 is done...\n",
      "\n",
      "子页面权柄： 6442451857\n",
      "父页面权柄： 6442450945\n",
      "page15-15 is done...\n",
      "\n",
      "子页面权柄： 6442451860\n",
      "父页面权柄： 6442450945\n",
      "page15-16 is done...\n",
      "\n",
      "子页面权柄： 6442451863\n",
      "父页面权柄： 6442450945\n",
      "page15-17 is done...\n",
      "\n",
      "page15-18 is passed...\n",
      "\n",
      "子页面权柄： 6442451869\n",
      "父页面权柄： 6442450945\n",
      "page16-1 is done...\n",
      "\n",
      "子页面权柄： 6442451872\n",
      "父页面权柄： 6442450945\n",
      "page16-2 is done...\n",
      "\n",
      "子页面权柄： 6442451875\n",
      "父页面权柄： 6442450945\n",
      "page16-3 is done...\n",
      "\n",
      "子页面权柄： 6442451878\n",
      "父页面权柄： 6442450945\n",
      "page16-4 is done...\n",
      "\n",
      "子页面权柄： 6442451881\n",
      "父页面权柄： 6442450945\n",
      "page16-5 is done...\n",
      "\n",
      "子页面权柄： 6442451884\n",
      "父页面权柄： 6442450945\n",
      "page16-6 is done...\n",
      "\n",
      "子页面权柄： 6442451887\n",
      "父页面权柄： 6442450945\n",
      "page16-7 is done...\n",
      "\n",
      "子页面权柄： 6442451890\n",
      "父页面权柄： 6442450945\n",
      "page16-8 is done...\n",
      "\n",
      "子页面权柄： 6442451893\n",
      "父页面权柄： 6442450945\n",
      "page16-9 is done...\n",
      "\n",
      "子页面权柄： 6442451896\n",
      "父页面权柄： 6442450945\n",
      "page16-10 is done...\n",
      "\n",
      "子页面权柄： 6442451899\n",
      "父页面权柄： 6442450945\n",
      "page16-11 is done...\n",
      "\n",
      "子页面权柄： 6442451902\n",
      "父页面权柄： 6442450945\n",
      "page16-12 is done...\n",
      "\n",
      "子页面权柄： 6442451905\n",
      "父页面权柄： 6442450945\n",
      "page16-13 is done...\n",
      "\n",
      "子页面权柄： 6442451908\n",
      "父页面权柄： 6442450945\n",
      "page16-14 is done...\n",
      "\n",
      "子页面权柄： 6442451911\n",
      "父页面权柄： 6442450945\n",
      "page16-15 is done...\n",
      "\n",
      "子页面权柄： 6442451914\n",
      "父页面权柄： 6442450945\n",
      "page16-16 is done...\n",
      "\n",
      "子页面权柄： 6442451917\n",
      "父页面权柄： 6442450945\n",
      "page16-17 is done...\n",
      "\n",
      "子页面权柄： 6442451920\n",
      "父页面权柄： 6442450945\n",
      "page16-18 is done...\n",
      "\n",
      "子页面权柄： 6442451926\n",
      "父页面权柄： 6442450945\n",
      "page17-1 is done...\n",
      "\n",
      "子页面权柄： 6442451929\n",
      "父页面权柄： 6442450945\n",
      "page17-2 is done...\n",
      "\n"
     ]
    },
    {
     "name": "stdout",
     "output_type": "stream",
     "text": [
      "子页面权柄： 6442451932\n",
      "父页面权柄： 6442450945\n",
      "page17-3 is done...\n",
      "\n",
      "子页面权柄： 6442451935\n",
      "父页面权柄： 6442450945\n",
      "page17-4 is done...\n",
      "\n",
      "子页面权柄： 6442451938\n",
      "父页面权柄： 6442450945\n",
      "page17-5 is done...\n",
      "\n",
      "子页面权柄： 6442451941\n",
      "父页面权柄： 6442450945\n",
      "page17-6 is done...\n",
      "\n",
      "子页面权柄： 6442451944\n",
      "父页面权柄： 6442450945\n",
      "page17-7 is done...\n",
      "\n",
      "子页面权柄： 6442451947\n",
      "父页面权柄： 6442450945\n",
      "page17-8 is done...\n",
      "\n",
      "子页面权柄： 6442451950\n",
      "父页面权柄： 6442450945\n",
      "page17-9 is done...\n",
      "\n",
      "子页面权柄： 6442451953\n",
      "父页面权柄： 6442450945\n",
      "page17-10 is done...\n",
      "\n",
      "子页面权柄： 6442451956\n",
      "父页面权柄： 6442450945\n",
      "page17-11 is done...\n",
      "\n",
      "子页面权柄： 6442451959\n",
      "父页面权柄： 6442450945\n",
      "page17-12 is done...\n",
      "\n",
      "page17-13 is passed...\n",
      "\n",
      "子页面权柄： 6442451962\n",
      "父页面权柄： 6442450945\n",
      "page17-14 is done...\n",
      "\n",
      "子页面权柄： 6442451965\n",
      "父页面权柄： 6442450945\n",
      "page17-15 is done...\n",
      "\n",
      "子页面权柄： 6442451968\n",
      "父页面权柄： 6442450945\n",
      "page17-16 is done...\n",
      "\n",
      "子页面权柄： 6442451971\n",
      "父页面权柄： 6442450945\n",
      "page17-17 is done...\n",
      "\n",
      "子页面权柄： 6442451974\n",
      "父页面权柄： 6442450945\n",
      "page17-18 is done...\n",
      "\n",
      "子页面权柄： 6442451980\n",
      "父页面权柄： 6442450945\n",
      "page18-1 is done...\n",
      "\n",
      "子页面权柄： 6442451983\n",
      "父页面权柄： 6442450945\n",
      "page18-2 is done...\n",
      "\n",
      "子页面权柄： 6442451986\n",
      "父页面权柄： 6442450945\n",
      "page18-3 is done...\n",
      "\n",
      "子页面权柄： 6442451989\n",
      "父页面权柄： 6442450945\n",
      "page18-4 is done...\n",
      "\n",
      "子页面权柄： 6442451992\n",
      "父页面权柄： 6442450945\n",
      "page18-5 is done...\n",
      "\n",
      "子页面权柄： 6442451995\n",
      "父页面权柄： 6442450945\n",
      "page18-6 is done...\n",
      "\n",
      "子页面权柄： 6442451998\n",
      "父页面权柄： 6442450945\n",
      "page18-7 is done...\n",
      "\n",
      "子页面权柄： 6442452001\n",
      "父页面权柄： 6442450945\n",
      "page18-8 is done...\n",
      "\n",
      "子页面权柄： 6442452004\n",
      "父页面权柄： 6442450945\n",
      "page18-9 is done...\n",
      "\n",
      "子页面权柄： 6442452007\n",
      "父页面权柄： 6442450945\n",
      "page18-10 is done...\n",
      "\n",
      "子页面权柄： 6442452010\n",
      "父页面权柄： 6442450945\n",
      "page18-11 is done...\n",
      "\n",
      "子页面权柄： 6442452013\n",
      "父页面权柄： 6442450945\n",
      "page18-12 is done...\n",
      "\n",
      "子页面权柄： 6442452016\n",
      "父页面权柄： 6442450945\n",
      "page18-13 is done...\n",
      "\n",
      "子页面权柄： 6442452019\n",
      "父页面权柄： 6442450945\n",
      "page18-14 is done...\n",
      "\n",
      "子页面权柄： 6442452022\n",
      "父页面权柄： 6442450945\n",
      "page18-15 is done...\n",
      "\n",
      "page18-16 is passed...\n",
      "\n",
      "子页面权柄： 6442452025\n",
      "父页面权柄： 6442450945\n",
      "page18-17 is done...\n",
      "\n",
      "子页面权柄： 6442452028\n",
      "父页面权柄： 6442450945\n",
      "page18-18 is done...\n",
      "\n",
      "子页面权柄： 6442452034\n",
      "父页面权柄： 6442450945\n",
      "page19-1 is done...\n",
      "\n",
      "子页面权柄： 6442452037\n",
      "父页面权柄： 6442450945\n",
      "page19-2 is done...\n",
      "\n",
      "子页面权柄： 6442452040\n",
      "父页面权柄： 6442450945\n",
      "page19-3 is done...\n",
      "\n",
      "子页面权柄： 6442452043\n",
      "父页面权柄： 6442450945\n",
      "page19-4 is done...\n",
      "\n",
      "子页面权柄： 6442452046\n",
      "父页面权柄： 6442450945\n",
      "page19-5 is done...\n",
      "\n",
      "子页面权柄： 6442452049\n",
      "父页面权柄： 6442450945\n",
      "page19-6 is done...\n",
      "\n",
      "子页面权柄： 6442452052\n",
      "父页面权柄： 6442450945\n",
      "page19-7 is done...\n",
      "\n",
      "子页面权柄： 6442452055\n",
      "父页面权柄： 6442450945\n",
      "page19-8 is done...\n",
      "\n",
      "子页面权柄： 6442452058\n",
      "父页面权柄： 6442450945\n",
      "page19-9 is done...\n",
      "\n",
      "子页面权柄： 6442452061\n",
      "父页面权柄： 6442450945\n",
      "page19-10 is done...\n",
      "\n",
      "子页面权柄： 6442452064\n",
      "父页面权柄： 6442450945\n",
      "page19-11 is done...\n",
      "\n",
      "子页面权柄： 6442452067\n",
      "父页面权柄： 6442450945\n",
      "page19-12 is done...\n",
      "\n",
      "子页面权柄： 6442452070\n",
      "父页面权柄： 6442450945\n",
      "page19-13 is done...\n",
      "\n",
      "page19-14 is passed...\n",
      "\n",
      "子页面权柄： 6442452073\n",
      "父页面权柄： 6442450945\n",
      "page19-15 is done...\n",
      "\n",
      "子页面权柄： 6442452076\n",
      "父页面权柄： 6442450945\n",
      "page19-16 is done...\n",
      "\n",
      "子页面权柄： 6442452079\n",
      "父页面权柄： 6442450945\n",
      "page19-17 is done...\n",
      "\n",
      "子页面权柄： 6442452082\n",
      "父页面权柄： 6442450945\n",
      "page19-18 is done...\n",
      "\n",
      "子页面权柄： 6442452088\n",
      "父页面权柄： 6442450945\n",
      "page20-1 is done...\n",
      "\n",
      "子页面权柄： 6442452091\n",
      "父页面权柄： 6442450945\n",
      "page20-2 is done...\n",
      "\n",
      "子页面权柄： 6442452094\n",
      "父页面权柄： 6442450945\n",
      "page20-3 is done...\n",
      "\n",
      "子页面权柄： 6442452097\n",
      "父页面权柄： 6442450945\n",
      "page20-4 is done...\n",
      "\n",
      "子页面权柄： 6442452100\n",
      "父页面权柄： 6442450945\n",
      "page20-5 is done...\n",
      "\n",
      "子页面权柄： 6442452103\n",
      "父页面权柄： 6442450945\n",
      "page20-6 is done...\n",
      "\n",
      "子页面权柄： 6442452106\n",
      "父页面权柄： 6442450945\n",
      "page20-7 is done...\n",
      "\n",
      "子页面权柄： 6442452109\n",
      "父页面权柄： 6442450945\n",
      "page20-8 is done...\n",
      "\n",
      "子页面权柄： 6442452112\n",
      "父页面权柄： 6442450945\n",
      "page20-9 is done...\n",
      "\n",
      "子页面权柄： 6442452115\n",
      "父页面权柄： 6442450945\n",
      "page20-10 is done...\n",
      "\n",
      "page20-11 is passed...\n",
      "\n",
      "子页面权柄： 6442452118\n",
      "父页面权柄： 6442450945\n",
      "page20-12 is done...\n",
      "\n",
      "子页面权柄： 6442452121\n",
      "父页面权柄： 6442450945\n",
      "page20-13 is done...\n",
      "\n",
      "子页面权柄： 6442452124\n",
      "父页面权柄： 6442450945\n",
      "page20-14 is done...\n",
      "\n",
      "子页面权柄： 6442452127\n",
      "父页面权柄： 6442450945\n",
      "page20-15 is done...\n",
      "\n",
      "子页面权柄： 6442452130\n",
      "父页面权柄： 6442450945\n",
      "page20-16 is done...\n",
      "\n",
      "子页面权柄： 6442452133\n",
      "父页面权柄： 6442450945\n",
      "page20-17 is done...\n",
      "\n",
      "子页面权柄： 6442452136\n",
      "父页面权柄： 6442450945\n",
      "page20-18 is done...\n",
      "\n"
     ]
    }
   ],
   "source": [
    "page = 1  # 当前页\n",
    "\n",
    "for i in range(0, 360, 18):\n",
    "    driver.get(url + str(i))\n",
    "    time.sleep(2)\n",
    "    items = driver.find_elements_by_css_selector('div._gig1e7')  # 出租信息\n",
    "    index = 1  # 当前项\n",
    "    \n",
    "    for item in items:\n",
    "        # 跳过已验证房屋信息\n",
    "        e = item.find_element_by_css_selector('span._fk7kh10 span').text\n",
    "        if e == 'PLUS':\n",
    "            print('page%s-%s is passed...' % (page, index))\n",
    "            print()\n",
    "            index += 1\n",
    "            continue\n",
    "        \n",
    "        '''\n",
    "        采集数据\n",
    "        '''\n",
    "        prices.append(get_price(item))\n",
    "        discounts.append(get_discount(item))\n",
    "        ratings.append(get_rating(item))\n",
    "        comments_nums.append(get_comments_num(item))\n",
    "        \n",
    "        # 进入下级页面\n",
    "        item.find_element_by_css_selector('div').click()\n",
    "        time.sleep(2)\n",
    "        subdriver = to_subpage(driver)\n",
    "        \n",
    "        titles.append(get_title(subdriver))\n",
    "        tags.append(get_tags(subdriver))\n",
    "        bedroom_num, bed_num, washroom_num, guests_num, scenic_area, subway_station, airport, railway_station = get_infos(subdriver)\n",
    "        bedrooms.append(bedroom_num)\n",
    "        beds.append(bed_num)\n",
    "        washrooms.append(washroom_num)\n",
    "        guests.append(guests_num)\n",
    "        scenic_areas.append(scenic_area)\n",
    "        subway_stations.append(subway_station)\n",
    "        airports.append(airport)\n",
    "        railway_stations.append(railway_station)\n",
    "        facilities.append(get_facility(subdriver))\n",
    "    \n",
    "        driver = to_suppage(subdriver)\n",
    "        print('page%s-%s is done...\\n' % (page, index))\n",
    "        index += 1\n",
    "        \n",
    "    page += 1"
   ]
  },
  {
   "cell_type": "code",
   "execution_count": 67,
   "metadata": {},
   "outputs": [],
   "source": [
    "data = DataFrame()\n",
    "data['title'] = titles\n",
    "data['price'] = prices\n",
    "data['rating'] = ratings\n",
    "data['comments'] = comments_nums\n",
    "data['tags'] = tags\n",
    "data['discount'] = discounts\n",
    "data['bedrooms'] = bedrooms\n",
    "data['beds'] = beds\n",
    "data['washrooms'] = washrooms\n",
    "data['guests'] = guests\n",
    "data['facilities'] = facilities\n",
    "data['scenic_areas'] = scenic_areas\n",
    "data['subway_stations'] = subway_stations\n",
    "data['airports'] = airports\n",
    "data['railway_stations'] = railway_stations"
   ]
  },
  {
   "cell_type": "code",
   "execution_count": 81,
   "metadata": {},
   "outputs": [],
   "source": [
    "data.to_csv(path + 'airbnb/airbnb.csv', sep=',')"
   ]
  },
  {
   "cell_type": "code",
   "execution_count": 83,
   "metadata": {},
   "outputs": [],
   "source": [
    "data.to_excel(path + 'airbnb/airbnb.xlsx', sheet_name='Beijing')"
   ]
  },
  {
   "cell_type": "markdown",
   "metadata": {},
   "source": [
    "# 4 解析网页"
   ]
  },
  {
   "cell_type": "markdown",
   "metadata": {},
   "source": [
    "## 4.1 正则表达式"
   ]
  },
  {
   "cell_type": "code",
   "execution_count": 2,
   "metadata": {},
   "outputs": [],
   "source": [
    "import re"
   ]
  },
  {
   "cell_type": "markdown",
   "metadata": {},
   "source": [
    "**re.match(pattern, string, flags=0)**  \n",
    "从起始位置开始匹配"
   ]
  },
  {
   "cell_type": "code",
   "execution_count": 33,
   "metadata": {},
   "outputs": [],
   "source": [
    "text = '18810688942@163.com\\nJacob\\n'"
   ]
  },
  {
   "cell_type": "code",
   "execution_count": 34,
   "metadata": {},
   "outputs": [],
   "source": [
    "regex = re.compile(r'([0-9|a-z]*)@163.com')  # 'r'表示原始字符串\n",
    "result = regex.match(text)"
   ]
  },
  {
   "cell_type": "code",
   "execution_count": 35,
   "metadata": {},
   "outputs": [
    {
     "data": {
      "text/plain": [
       "(0, 19)"
      ]
     },
     "execution_count": 35,
     "metadata": {},
     "output_type": "execute_result"
    }
   ],
   "source": [
    "result.span()"
   ]
  },
  {
   "cell_type": "code",
   "execution_count": 36,
   "metadata": {},
   "outputs": [
    {
     "data": {
      "text/plain": [
       "('18810688942',)"
      ]
     },
     "execution_count": 36,
     "metadata": {},
     "output_type": "execute_result"
    }
   ],
   "source": [
    "result.groups()"
   ]
  },
  {
   "cell_type": "markdown",
   "metadata": {},
   "source": [
    "**re.serach()**  \n",
    "扫描整个字符串返回第一个成功匹配"
   ]
  },
  {
   "cell_type": "code",
   "execution_count": 41,
   "metadata": {},
   "outputs": [],
   "source": [
    "text = 'www.baidu.com'"
   ]
  },
  {
   "cell_type": "code",
   "execution_count": 51,
   "metadata": {},
   "outputs": [],
   "source": [
    "regex = re.compile(r'baidu')"
   ]
  },
  {
   "cell_type": "code",
   "execution_count": 52,
   "metadata": {},
   "outputs": [
    {
     "data": {
      "text/plain": [
       "<re.Match object; span=(4, 9), match='baidu'>"
      ]
     },
     "execution_count": 52,
     "metadata": {},
     "output_type": "execute_result"
    }
   ],
   "source": [
    "regex.search(text)"
   ]
  },
  {
   "cell_type": "code",
   "execution_count": 53,
   "metadata": {},
   "outputs": [],
   "source": [
    "regex.match(text)"
   ]
  },
  {
   "cell_type": "markdown",
   "metadata": {},
   "source": [
    "**re.findall()**  \n",
    "扫描整个字符串，返回所有匹配"
   ]
  },
  {
   "cell_type": "code",
   "execution_count": 54,
   "metadata": {},
   "outputs": [],
   "source": [
    "text = 'Hello 9527, my QQ num is 563954419'"
   ]
  },
  {
   "cell_type": "code",
   "execution_count": 59,
   "metadata": {},
   "outputs": [],
   "source": [
    "regex = re.compile(r'([0-9]+)')"
   ]
  },
  {
   "cell_type": "code",
   "execution_count": 65,
   "metadata": {},
   "outputs": [
    {
     "data": {
      "text/plain": [
       "['9527', '563954419']"
      ]
     },
     "execution_count": 65,
     "metadata": {},
     "output_type": "execute_result"
    }
   ],
   "source": [
    "regex.findall(text)"
   ]
  },
  {
   "cell_type": "markdown",
   "metadata": {},
   "source": [
    "**总结**  \n",
    "1. re.match() 从起始位置开始匹配\n",
    "2. re.search() 扫描整个字符串返回成功匹配\n",
    "3. re.findall() 扫描整个字符串返回所有成功匹配"
   ]
  },
  {
   "cell_type": "markdown",
   "metadata": {},
   "source": [
    "**示例**"
   ]
  },
  {
   "cell_type": "code",
   "execution_count": 68,
   "metadata": {},
   "outputs": [],
   "source": [
    "import re\n",
    "import requests"
   ]
  },
  {
   "cell_type": "code",
   "execution_count": 69,
   "metadata": {},
   "outputs": [],
   "source": [
    "url = 'http://www.santostang.com/'\n",
    "headers = {\"User-Agent\": \"Mozilla/5.0 (Windows NT 10.0; Win64; x64) AppleWebKit/537.36 (KHTML, like Gecko) Chrome/73.0.3683.103 Safari/537.36\"}"
   ]
  },
  {
   "cell_type": "code",
   "execution_count": 104,
   "metadata": {},
   "outputs": [
    {
     "data": {
      "text/plain": [
       "'<!DOCTYPE html>\\n<html lang=\"zh-CN\">\\n<head>\\n<meta charset=\"UTF-8\">\\n<meta http-equiv=\"X-UA-Compatible\" content=\"IE=edge\">\\n<meta name=\"viewport\" content=\"width=device-width, initial-scale=1, maximum-scale=1\">\\n<title>Santos Tang</title>\\n<meta name=\"description\" content=\"Python网络爬虫：从入门到实践 官方网站及个人博客\" />\\n<meta name=\"keywords\" content=\"Python网络爬虫, Python爬虫, Python, 爬虫, 数据科学, 数据挖掘, 数据分析, santostang, Santos Tang, 唐松, Song Tang\" />\\n<link rel=\"apple-touch-icon\" href=\"http://www.santostang.com/wp-content/themes/SongStyle-Two/images/icon_32.png\">\\n<link rel=\"apple-touch-icon\" sizes=\"152x152\" href=\"http://www.santostang.com/wp-content/themes/SongStyle-Two/images/icon_152.png\">\\n<link rel=\"apple-touch-icon\" sizes=\"167x167\" href=\"http://www.santostang.com/wp-content/themes/SongStyle-Two/images/icon_167.png\">\\n<link rel=\"apple-touch-icon\" sizes=\"180x180\" href=\"http://www.santostang.com/wp-content/themes/SongStyle-Two/images/icon_180.png\">\\n<link rel=\"icon\" href=\"http://www.santostang.com/wp-content/themes/SongStyle-Two/images/icon_32.png\" type=\"image/x-icon\">\\n<link rel=\"stylesheet\" href=\"http://www.santostang.com/wp-content/themes/SongStyle-Two/css/bootstrap.min.css\">\\n<link rel=\"stylesheet\" href=\"http://www.santostang.com/wp-content/themes/SongStyle-Two/css/fontawesome.min.css\">\\n<link rel=\"stylesheet\" href=\"http://www.santostang.com/wp-content/themes/SongStyle-Two/style.css\">\\n<link rel=\"pingback\" href=\"http://www.santostang.com/xmlrpc.php\" />\\n<style type=\"text/css\">\\na{color:#1e73be}\\na:hover{color:#2980b9!important}\\n#header{background-color:#1e73be}\\n.widget .widget-title::after{background-color:#1e73be}\\n.uptop{border-left-color:#1e73be}\\n#titleBar .toggle:before{background:#1e73be}\\n</style>\\n</head>\\n\\n<body>\\n<header id=\"header\">\\n    <div class=\"avatar\"><a href=\"http://www.santostang.com\" title=\"Santos Tang\"><img src=\"http://www.santostang.com/wp-content/uploads/2019/06/me.jpg\" alt=\"Santos Tang\" class=\"img-circle\" width=\"50%\"></a></div>\\n    <h1 id=\"name\">Santos Tang</h1>\\n    <div class=\"sns\">\\n                <a href=\"https://weibo.com/santostang\" target=\"_blank\" rel=\"nofollow\" data-toggle=\"tooltip\" data-placement=\"top\" title=\"Weibo\"><i class=\"fab fa-weibo\"></i></a>        <a href=\"https://www.linkedin.com/in/santostang\" target=\"_blank\" rel=\"nofollow\" data-toggle=\"tooltip\" data-placement=\"top\" title=\"Linkedin\"><i class=\"fab fa-linkedin\"></i></a>        <a href=\"https://www.zhihu.com/people/santostang\" target=\"_blank\" rel=\"nofollow\" data-toggle=\"tooltip\" data-placement=\"top\" title=\"Zhihu\"><i class=\"fab fa-zhihu\"></i></a>        <a href=\"https://github.com/santostang\" target=\"_blank\" rel=\"nofollow\" data-toggle=\"tooltip\" data-placement=\"top\" title=\"GitHub\"><i class=\"fab fa-github-alt\"></i></a>    </div>\\n    <div class=\"nav\">\\n        <ul><li><a href=\"http://www.santostang.com/\">首页</a></li>\\n<li><a href=\"http://www.santostang.com/aboutme/\">关于我</a></li>\\n<li><a href=\"http://www.santostang.com/python%e7%bd%91%e7%bb%9c%e7%88%ac%e8%99%ab%e4%bb%a3%e7%a0%81/\">爬虫书代码</a></li>\\n<li><a href=\"http://www.santostang.com/%e5%8a%a0%e6%88%91%e5%be%ae%e4%bf%a1/\">加我微信</a></li>\\n<li><a href=\"https://santostang.github.io/\">EnglishSite</a></li>\\n</ul>    </div>\\n        <div class=\"weixin\">\\n        <img src=\"http://www.santostang.com/wp-content/uploads/2019/06/qrcode_for_gh_370f70791e19_258.jpg\" alt=\"微信公众号\" width=\"50%\">\\n        <p>微信公众号</p>\\n    </div>\\n    </header>\\n<div id=\"main\">\\n    <div class=\"row box\">\\n        <div class=\"col-md-8\">\\n                                <h2 class=\"uptop\"><i class=\"fas fa-arrow-circle-up\"></i> <a href=\"http://www.santostang.com/2018/07/11/%e3%80%8a%e7%bd%91%e7%bb%9c%e7%88%ac%e8%99%ab%ef%bc%9a%e4%bb%8e%e5%85%a5%e9%97%a8%e5%88%b0%e5%ae%9e%e8%b7%b5%e3%80%8b%e4%b8%80%e4%b9%a6%e5%8b%98%e8%af%af/\" target=\"_blank\">《网络爬虫：从入门到实践》一书勘误</a></h2>\\n                                                <article class=\"article-list-1 clearfix\">\\n                <header class=\"clearfix\">\\n                    <h1 class=\"post-title\"><a href=\"http://www.santostang.com/2018/07/15/4-3-%e9%80%9a%e8%bf%87selenium-%e6%a8%a1%e6%8b%9f%e6%b5%8f%e8%a7%88%e5%99%a8%e6%8a%93%e5%8f%96/\">第四章 &#8211; 4.3 通过selenium 模拟浏览器抓取</a></h1>\\n                    <div class=\"post-meta\">\\n                        <span class=\"meta-span\"><i class=\"far fa-calendar-alt\"></i> 07月15日</span>\\n                        <span class=\"meta-span\"><i class=\"far fa-folder\"></i> <a href=\"http://www.santostang.com/category/python-%e7%bd%91%e7%bb%9c%e7%88%ac%e8%99%ab/\" rel=\"category tag\">Python 网络爬虫</a></span>\\n                        <span class=\"meta-span\"><i class=\"fas fa-comments\"></i> <a href=\"http://www.santostang.com/2018/07/15/4-3-%e9%80%9a%e8%bf%87selenium-%e6%a8%a1%e6%8b%9f%e6%b5%8f%e8%a7%88%e5%99%a8%e6%8a%93%e5%8f%96/#respond\">没有评论</a></span>\\n                        <span class=\"meta-span hidden-xs\"><i class=\"fas fa-tags\"></i> </span>\\n                    </div>\\n                </header>\\n                <div class=\"post-content clearfix\">\\n                    <p>4.3 通过selenium 模拟浏览器抓取\\n\\n在上述的例子中，使用Chrome“检查”功能找到源地址还十分容易。但是有一些网站非常复杂，例如前面的天猫产品评论，使用“检查”功能很难找到调用的网页地址。除此之外，有一些数据...</p>\\n                </div>\\n            </article>\\n                                                <article class=\"article-list-1 clearfix\">\\n                <header class=\"clearfix\">\\n                    <h1 class=\"post-title\"><a href=\"http://www.santostang.com/2018/07/14/4-2-%e8%a7%a3%e6%9e%90%e7%9c%9f%e5%ae%9e%e5%9c%b0%e5%9d%80%e6%8a%93%e5%8f%96/\">第四章 &#8211; 4.2 解析真实地址抓取</a></h1>\\n                    <div class=\"post-meta\">\\n                        <span class=\"meta-span\"><i class=\"far fa-calendar-alt\"></i> 07月14日</span>\\n                        <span class=\"meta-span\"><i class=\"far fa-folder\"></i> <a href=\"http://www.santostang.com/category/python-%e7%bd%91%e7%bb%9c%e7%88%ac%e8%99%ab/\" rel=\"category tag\">Python 网络爬虫</a></span>\\n                        <span class=\"meta-span\"><i class=\"fas fa-comments\"></i> <a href=\"http://www.santostang.com/2018/07/14/4-2-%e8%a7%a3%e6%9e%90%e7%9c%9f%e5%ae%9e%e5%9c%b0%e5%9d%80%e6%8a%93%e5%8f%96/#respond\">没有评论</a></span>\\n                        <span class=\"meta-span hidden-xs\"><i class=\"fas fa-tags\"></i> <a href=\"http://www.santostang.com/tag/ajax/\" rel=\"tag\">ajax</a>,<a href=\"http://www.santostang.com/tag/python/\" rel=\"tag\">python</a>,<a href=\"http://www.santostang.com/tag/%e7%bd%91%e7%bb%9c%e7%88%ac%e8%99%ab/\" rel=\"tag\">网络爬虫</a>,<a href=\"http://www.santostang.com/tag/%e7%bd%91%e9%a1%b5%e7%88%ac%e8%99%ab/\" rel=\"tag\">网页爬虫</a>,<a href=\"http://www.santostang.com/tag/%e8%a7%a3%e6%9e%90%e5%9c%b0%e5%9d%80/\" rel=\"tag\">解析地址</a></span>\\n                    </div>\\n                </header>\\n                <div class=\"post-content clearfix\">\\n                    <p>由于网易云跟帖停止服务，现在已经在此处中更新了新写的第四章。请参照文章：\\n4.2 解析真实地址抓取\\n虽然数据并没有出现在网页源代码中，我们也可以找到数据的真实地址，请求这个真实地址也可以获得想要的数据。...</p>\\n                </div>\\n            </article>\\n                                                <article class=\"article-list-1 clearfix\">\\n                <header class=\"clearfix\">\\n                    <h1 class=\"post-title\"><a href=\"http://www.santostang.com/2018/07/14/%e7%ac%ac%e5%9b%9b%e7%ab%a0%ef%bc%9a%e5%8a%a8%e6%80%81%e7%bd%91%e9%a1%b5%e6%8a%93%e5%8f%96-%e8%a7%a3%e6%9e%90%e7%9c%9f%e5%ae%9e%e5%9c%b0%e5%9d%80-selenium/\">第四章- 动态网页抓取 (解析真实地址 + selenium)</a></h1>\\n                    <div class=\"post-meta\">\\n                        <span class=\"meta-span\"><i class=\"far fa-calendar-alt\"></i> 07月14日</span>\\n                        <span class=\"meta-span\"><i class=\"far fa-folder\"></i> <a href=\"http://www.santostang.com/category/python-%e7%bd%91%e7%bb%9c%e7%88%ac%e8%99%ab/\" rel=\"category tag\">Python 网络爬虫</a></span>\\n                        <span class=\"meta-span\"><i class=\"fas fa-comments\"></i> <a href=\"http://www.santostang.com/2018/07/14/%e7%ac%ac%e5%9b%9b%e7%ab%a0%ef%bc%9a%e5%8a%a8%e6%80%81%e7%bd%91%e9%a1%b5%e6%8a%93%e5%8f%96-%e8%a7%a3%e6%9e%90%e7%9c%9f%e5%ae%9e%e5%9c%b0%e5%9d%80-selenium/#respond\">没有评论</a></span>\\n                        <span class=\"meta-span hidden-xs\"><i class=\"fas fa-tags\"></i> <a href=\"http://www.santostang.com/tag/ajax/\" rel=\"tag\">ajax</a>,<a href=\"http://www.santostang.com/tag/javascript/\" rel=\"tag\">javascript</a>,<a href=\"http://www.santostang.com/tag/python/\" rel=\"tag\">python</a>,<a href=\"http://www.santostang.com/tag/selenium/\" rel=\"tag\">selenium</a>,<a href=\"http://www.santostang.com/tag/%e7%bd%91%e7%bb%9c%e7%88%ac%e8%99%ab/\" rel=\"tag\">网络爬虫</a></span>\\n                    </div>\\n                </header>\\n                <div class=\"post-content clearfix\">\\n                    <p>由于网易云跟帖停止服务，现在已经在此处中更新了新写的第四章。请参照文章：\\n前面爬取的网页均为静态网页，这样的网页在浏览器中展示的内容都在HTML源代码中。但是，由于主流网站都使用JavaScript展现网页内容，...</p>\\n                </div>\\n            </article>\\n                                                <article class=\"article-list-1 clearfix\">\\n                <header class=\"clearfix\">\\n                    <h1 class=\"post-title\"><a href=\"http://www.santostang.com/2018/07/04/hello-world/\">Hello world!</a></h1>\\n                    <div class=\"post-meta\">\\n                        <span class=\"meta-span\"><i class=\"far fa-calendar-alt\"></i> 07月04日</span>\\n                        <span class=\"meta-span\"><i class=\"far fa-folder\"></i> <a href=\"http://www.santostang.com/category/python-%e7%bd%91%e7%bb%9c%e7%88%ac%e8%99%ab/\" rel=\"category tag\">Python 网络爬虫</a></span>\\n                        <span class=\"meta-span\"><i class=\"fas fa-comments\"></i> <a href=\"http://www.santostang.com/2018/07/04/hello-world/#comments\">1条评论</a></span>\\n                        <span class=\"meta-span hidden-xs\"><i class=\"fas fa-tags\"></i> </span>\\n                    </div>\\n                </header>\\n                <div class=\"post-content clearfix\">\\n                    <p>Welcome to WordPress. This is your first post. Edit or delete it, then start writing!\\n各位读者，由于网易云跟帖在本书出版后已经停止服务，书中的第四章已经无法使用。所以我将本书的评论系统换成了来必力...</p>\\n                </div>\\n            </article>\\n                                    <nav style=\"float:right\">\\n                            </nav>\\n        </div>\\n        <div class=\"col-md-4 hidden-xs hidden-sm\">\\n            <aside class=\"widget clearfix\">\\n    <form id=\"searchform\" action=\"http://www.santostang.com\">\\n        <div class=\"input-group\">\\n            <input type=\"search\" class=\"form-control\" placeholder=\"搜索…\" value=\"\" name=\"s\">\\n            <span class=\"input-group-btn\"><button class=\"btn btn-default\" type=\"submit\"><i class=\"fas fa-search\"></i></button></span>\\n        </div>\\n    </form>\\n</aside>\\n<aside class=\"widget clearfix\">\\n    <h4 class=\"widget-title\">文章分类</h4>\\n    <ul class=\"widget-cat\">\\n        \\t<li class=\"cat-item cat-item-2\"><a href=\"http://www.santostang.com/category/python-%e7%bd%91%e7%bb%9c%e7%88%ac%e8%99%ab/\" >Python 网络爬虫</a> (5)\\n</li>\\n    </ul>\\n</aside>\\n<aside class=\"widget clearfix\">\\n    <h4 class=\"widget-title\">热门文章</h4>\\n    <ul class=\"widget-hot\">\\n            </ul>\\n</aside>\\n<aside class=\"widget clearfix\">\\n    <h4 class=\"widget-title\">随机推荐</h4>\\n    <ul class=\"widget-hot\">\\n            <li><a href=\"http://www.santostang.com/2018/07/04/hello-world/\" title=\"Hello world!\">Hello world!</a></li>\\n            <li><a href=\"http://www.santostang.com/2018/07/14/4-2-%e8%a7%a3%e6%9e%90%e7%9c%9f%e5%ae%9e%e5%9c%b0%e5%9d%80%e6%8a%93%e5%8f%96/\" title=\"第四章 &#8211; 4.2 解析真实地址抓取\">第四章 &#8211; 4.2 解析真实地址抓取</a></li>\\n            <li><a href=\"http://www.santostang.com/2018/07/15/4-3-%e9%80%9a%e8%bf%87selenium-%e6%a8%a1%e6%8b%9f%e6%b5%8f%e8%a7%88%e5%99%a8%e6%8a%93%e5%8f%96/\" title=\"第四章 &#8211; 4.3 通过selenium 模拟浏览器抓取\">第四章 &#8211; 4.3 通过selenium 模拟浏览器抓取</a></li>\\n            <li><a href=\"http://www.santostang.com/2018/07/14/%e7%ac%ac%e5%9b%9b%e7%ab%a0%ef%bc%9a%e5%8a%a8%e6%80%81%e7%bd%91%e9%a1%b5%e6%8a%93%e5%8f%96-%e8%a7%a3%e6%9e%90%e7%9c%9f%e5%ae%9e%e5%9c%b0%e5%9d%80-selenium/\" title=\"第四章- 动态网页抓取 (解析真实地址 + selenium)\">第四章- 动态网页抓取 (解析真实地址 + selenium)</a></li>\\n            <li><a href=\"http://www.santostang.com/2018/07/11/%e3%80%8a%e7%bd%91%e7%bb%9c%e7%88%ac%e8%99%ab%ef%bc%9a%e4%bb%8e%e5%85%a5%e9%97%a8%e5%88%b0%e5%ae%9e%e8%b7%b5%e3%80%8b%e4%b8%80%e4%b9%a6%e5%8b%98%e8%af%af/\" title=\"《网络爬虫：从入门到实践》一书勘误\">《网络爬虫：从入门到实践》一书勘误</a></li>\\n        </ul>\\n</aside>\\n<aside class=\"widget clearfix\">\\n    <h4 class=\"widget-title\">标签云</h4>\\n    <div class=\"widget-tags\">\\n        <a href=\"http://www.santostang.com/tag/ajax/\" class=\"tag-cloud-link tag-link-3 tag-link-position-1\" style=\"color:#2bb59d;font-size: 22pt;\" aria-label=\"ajax (2个项目);\">ajax</a>\\n<a href=\"http://www.santostang.com/tag/javascript/\" class=\"tag-cloud-link tag-link-4 tag-link-position-2\" style=\"color:#a7d45b;font-size: 8pt;\" aria-label=\"javascript (1个项目);\">javascript</a>\\n<a href=\"http://www.santostang.com/tag/python/\" class=\"tag-cloud-link tag-link-5 tag-link-position-3\" style=\"color:#9b15a1;font-size: 22pt;\" aria-label=\"python (2个项目);\">python</a>\\n<a href=\"http://www.santostang.com/tag/selenium/\" class=\"tag-cloud-link tag-link-6 tag-link-position-4\" style=\"color:#a252b;font-size: 8pt;\" aria-label=\"selenium (1个项目);\">selenium</a>\\n<a href=\"http://www.santostang.com/tag/%e7%bd%91%e7%bb%9c%e7%88%ac%e8%99%ab/\" class=\"tag-cloud-link tag-link-8 tag-link-position-5\" style=\"color:#7e0ccc;font-size: 22pt;\" aria-label=\"网络爬虫 (2个项目);\">网络爬虫</a>\\n<a href=\"http://www.santostang.com/tag/%e7%bd%91%e9%a1%b5%e7%88%ac%e8%99%ab/\" class=\"tag-cloud-link tag-link-9 tag-link-position-6\" style=\"color:#397118;font-size: 8pt;\" aria-label=\"网页爬虫 (1个项目);\">网页爬虫</a>\\n<a href=\"http://www.santostang.com/tag/%e8%a7%a3%e6%9e%90%e5%9c%b0%e5%9d%80/\" class=\"tag-cloud-link tag-link-10 tag-link-position-7\" style=\"color:#e2859f;font-size: 8pt;\" aria-label=\"解析地址 (1个项目);\">解析地址</a>    </div>\\n</aside>\\n<aside class=\"widget clearfix\">\\n    <h4 class=\"widget-title\">友情链接</h4>\\n    <ul class=\"widget-links\">\\n            </ul>\\n</aside>\\n        </div>\\n    </div>\\n</div>\\n<div class=\"footer_search visible-xs visible-sm\">\\n    <form id=\"searchform\" action=\"http://www.santostang.com\">\\n        <div class=\"input-group\">\\n            <input type=\"search\" class=\"form-control\" placeholder=\"搜索…\" value=\"\" name=\"s\">\\n            <span class=\"input-group-btn\"><button class=\"btn btn-default\" type=\"submit\"><i class=\"fas fa-search\"></i></button></span>\\n        </div>\\n    </form>\\n</div>\\n<footer id=\"footer\">\\n    <div class=\"copyright\">\\n        <p><i class=\"far fa-copyright\"></i> 2019 <b>数据科学@唐松 | 粤ICP备19068356号</b></p>\\n        <p>Powered by <b>WordPress</b>. Theme by <a href=\"https://tangjie.me/jiestyle-two\" data-toggle=\"tooltip\" data-placement=\"top\" title=\"WordPress 主题模板\" target=\"_blank\"><b>JieStyle Two</b></a> | </p>\\n    </div>\\n    <div style=\"display:none;\"></div>\\n</footer>\\n<script type=\"text/javascript\" src=\"http://www.santostang.com/wp-content/themes/SongStyle-Two/js/jquery.min.js\"></script>\\n<script type=\"text/javascript\" src=\"http://www.santostang.com/wp-content/themes/SongStyle-Two/js/bootstrap.min.js\"></script>\\n<script type=\"text/javascript\" src=\"http://www.santostang.com/wp-content/themes/SongStyle-Two/js/skel.min.js\"></script>\\n<script type=\"text/javascript\" src=\"http://www.santostang.com/wp-content/themes/SongStyle-Two/js/util.min.js\"></script>\\n<script type=\"text/javascript\" src=\"http://www.santostang.com/wp-content/themes/SongStyle-Two/js/nav.js\"></script>\\n<script>\\n$(function() {\\n    $(\\'[data-toggle=\"tooltip\"]\\').tooltip()\\n});\\n</script>\\n<script>\\n(function(){\\n    var bp = document.createElement(\\'script\\');\\n    var curProtocol = window.location.protocol.split(\\':\\')[0];\\n    if (curProtocol === \\'https\\') {\\n        bp.src = \\'https://zz.bdstatic.com/linksubmit/push.js\\';\\n    }\\n    else {\\n        bp.src = \\'http://push.zhanzhang.baidu.com/push.js\\';\\n    }\\n    var s = document.getElementsByTagName(\"script\")[0];\\n    s.parentNode.insertBefore(bp, s);\\n})();\\n</script>\\n<script>\\nvar _hmt = _hmt || [];\\n(function() {\\n  var hm = document.createElement(\"script\");\\n  hm.src = \"https://hm.baidu.com/hm.js?752e310cec7906ba7afeb24cd7114c48\";\\n  var s = document.getElementsByTagName(\"script\")[0]; \\n  s.parentNode.insertBefore(hm, s);\\n})();\\n</script>\\n</body>\\n</html>'"
      ]
     },
     "execution_count": 104,
     "metadata": {},
     "output_type": "execute_result"
    }
   ],
   "source": [
    "r = requests.get(url, headers=headers)\n",
    "r.text"
   ]
  },
  {
   "cell_type": "code",
   "execution_count": 95,
   "metadata": {},
   "outputs": [],
   "source": [
    "regex = re.compile(r'(?<=\\<h1 class=\"post-title\"\\>)\\<a href=.*\\>(.*)\\</a\\>\\</h1\\>')"
   ]
  },
  {
   "cell_type": "code",
   "execution_count": 96,
   "metadata": {},
   "outputs": [
    {
     "data": {
      "text/plain": [
       "['第四章 &#8211; 4.3 通过selenium 模拟浏览器抓取',\n",
       " '第四章 &#8211; 4.2 解析真实地址抓取',\n",
       " '第四章- 动态网页抓取 (解析真实地址 + selenium)',\n",
       " 'Hello world!']"
      ]
     },
     "execution_count": 96,
     "metadata": {},
     "output_type": "execute_result"
    }
   ],
   "source": [
    "regex.findall(r.text)"
   ]
  },
  {
   "cell_type": "markdown",
   "metadata": {},
   "source": [
    "## 4.2 BeautifulSoup"
   ]
  },
  {
   "cell_type": "markdown",
   "metadata": {},
   "source": [
    "### 4.2.1 BeautifulSoup"
   ]
  },
  {
   "cell_type": "code",
   "execution_count": 19,
   "metadata": {},
   "outputs": [],
   "source": [
    "import requests\n",
    "from bs4 import BeautifulSoup\n",
    "import re"
   ]
  },
  {
   "cell_type": "code",
   "execution_count": 2,
   "metadata": {},
   "outputs": [],
   "source": [
    "url = 'http://www.santostang.com/'\n",
    "headers = {\"User-Agent\": \"Mozilla/5.0 (Windows NT 10.0; Win64; x64) AppleWebKit/537.36 (KHTML, like Gecko) Chrome/73.0.3683.103 Safari/537.36\"}"
   ]
  },
  {
   "cell_type": "code",
   "execution_count": 3,
   "metadata": {},
   "outputs": [
    {
     "data": {
      "text/plain": [
       "'<!DOCTYPE html>\\n<html lang=\"zh-CN\">\\n<head>\\n<meta charset=\"UTF-8\">\\n<meta http-equiv=\"X-UA-Compatible\" content=\"IE=edge\">\\n<meta name=\"viewport\" content=\"width=device-width, initial-scale=1, maximum-scale=1\">\\n<title>Santos Tang</title>\\n<meta name=\"description\" content=\"Python网络爬虫：从入门到实践 官方网站及个人博客\" />\\n<meta name=\"keywords\" content=\"Python网络爬虫, Python爬虫, Python, 爬虫, 数据科学, 数据挖掘, 数据分析, santostang, Santos Tang, 唐松, Song Tang\" />\\n<link rel=\"apple-touch-icon\" href=\"http://www.santostang.com/wp-content/themes/SongStyle-Two/images/icon_32.png\">\\n<link rel=\"apple-touch-icon\" sizes=\"152x152\" href=\"http://www.santostang.com/wp-content/themes/SongStyle-Two/images/icon_152.png\">\\n<link rel=\"apple-touch-icon\" sizes=\"167x167\" href=\"http://www.santostang.com/wp-content/themes/SongStyle-Two/images/icon_167.png\">\\n<link rel=\"apple-touch-icon\" sizes=\"180x180\" href=\"http://www.santostang.com/wp-content/themes/SongStyle-Two/images/icon_180.png\">\\n<link rel=\"icon\" href=\"http://www.santostang.com/wp-content/themes/SongStyle-Two/images/icon_32.png\" type=\"image/x-icon\">\\n<link rel=\"stylesheet\" href=\"http://www.santostang.com/wp-content/themes/SongStyle-Two/css/bootstrap.min.css\">\\n<link rel=\"stylesheet\" href=\"http://www.santostang.com/wp-content/themes/SongStyle-Two/css/fontawesome.min.css\">\\n<link rel=\"stylesheet\" href=\"http://www.santostang.com/wp-content/themes/SongStyle-Two/style.css\">\\n<link rel=\"pingback\" href=\"http://www.santostang.com/xmlrpc.php\" />\\n<style type=\"text/css\">\\na{color:#1e73be}\\na:hover{color:#2980b9!important}\\n#header{background-color:#1e73be}\\n.widget .widget-title::after{background-color:#1e73be}\\n.uptop{border-left-color:#1e73be}\\n#titleBar .toggle:before{background:#1e73be}\\n</style>\\n</head>\\n\\n<body>\\n<header id=\"header\">\\n    <div class=\"avatar\"><a href=\"http://www.santostang.com\" title=\"Santos Tang\"><img src=\"http://www.santostang.com/wp-content/uploads/2019/06/me.jpg\" alt=\"Santos Tang\" class=\"img-circle\" width=\"50%\"></a></div>\\n    <h1 id=\"name\">Santos Tang</h1>\\n    <div class=\"sns\">\\n                <a href=\"https://weibo.com/santostang\" target=\"_blank\" rel=\"nofollow\" data-toggle=\"tooltip\" data-placement=\"top\" title=\"Weibo\"><i class=\"fab fa-weibo\"></i></a>        <a href=\"https://www.linkedin.com/in/santostang\" target=\"_blank\" rel=\"nofollow\" data-toggle=\"tooltip\" data-placement=\"top\" title=\"Linkedin\"><i class=\"fab fa-linkedin\"></i></a>        <a href=\"https://www.zhihu.com/people/santostang\" target=\"_blank\" rel=\"nofollow\" data-toggle=\"tooltip\" data-placement=\"top\" title=\"Zhihu\"><i class=\"fab fa-zhihu\"></i></a>        <a href=\"https://github.com/santostang\" target=\"_blank\" rel=\"nofollow\" data-toggle=\"tooltip\" data-placement=\"top\" title=\"GitHub\"><i class=\"fab fa-github-alt\"></i></a>    </div>\\n    <div class=\"nav\">\\n        <ul><li><a href=\"http://www.santostang.com/\">首页</a></li>\\n<li><a href=\"http://www.santostang.com/aboutme/\">关于我</a></li>\\n<li><a href=\"http://www.santostang.com/python%e7%bd%91%e7%bb%9c%e7%88%ac%e8%99%ab%e4%bb%a3%e7%a0%81/\">爬虫书代码</a></li>\\n<li><a href=\"http://www.santostang.com/%e5%8a%a0%e6%88%91%e5%be%ae%e4%bf%a1/\">加我微信</a></li>\\n<li><a href=\"https://santostang.github.io/\">EnglishSite</a></li>\\n</ul>    </div>\\n        <div class=\"weixin\">\\n        <img src=\"http://www.santostang.com/wp-content/uploads/2019/06/qrcode_for_gh_370f70791e19_258.jpg\" alt=\"微信公众号\" width=\"50%\">\\n        <p>微信公众号</p>\\n    </div>\\n    </header>\\n<div id=\"main\">\\n    <div class=\"row box\">\\n        <div class=\"col-md-8\">\\n                                <h2 class=\"uptop\"><i class=\"fas fa-arrow-circle-up\"></i> <a href=\"http://www.santostang.com/2018/07/11/%e3%80%8a%e7%bd%91%e7%bb%9c%e7%88%ac%e8%99%ab%ef%bc%9a%e4%bb%8e%e5%85%a5%e9%97%a8%e5%88%b0%e5%ae%9e%e8%b7%b5%e3%80%8b%e4%b8%80%e4%b9%a6%e5%8b%98%e8%af%af/\" target=\"_blank\">《网络爬虫：从入门到实践》一书勘误</a></h2>\\n                                                <article class=\"article-list-1 clearfix\">\\n                <header class=\"clearfix\">\\n                    <h1 class=\"post-title\"><a href=\"http://www.santostang.com/2018/07/15/4-3-%e9%80%9a%e8%bf%87selenium-%e6%a8%a1%e6%8b%9f%e6%b5%8f%e8%a7%88%e5%99%a8%e6%8a%93%e5%8f%96/\">第四章 &#8211; 4.3 通过selenium 模拟浏览器抓取</a></h1>\\n                    <div class=\"post-meta\">\\n                        <span class=\"meta-span\"><i class=\"far fa-calendar-alt\"></i> 07月15日</span>\\n                        <span class=\"meta-span\"><i class=\"far fa-folder\"></i> <a href=\"http://www.santostang.com/category/python-%e7%bd%91%e7%bb%9c%e7%88%ac%e8%99%ab/\" rel=\"category tag\">Python 网络爬虫</a></span>\\n                        <span class=\"meta-span\"><i class=\"fas fa-comments\"></i> <a href=\"http://www.santostang.com/2018/07/15/4-3-%e9%80%9a%e8%bf%87selenium-%e6%a8%a1%e6%8b%9f%e6%b5%8f%e8%a7%88%e5%99%a8%e6%8a%93%e5%8f%96/#respond\">没有评论</a></span>\\n                        <span class=\"meta-span hidden-xs\"><i class=\"fas fa-tags\"></i> </span>\\n                    </div>\\n                </header>\\n                <div class=\"post-content clearfix\">\\n                    <p>4.3 通过selenium 模拟浏览器抓取\\n\\n在上述的例子中，使用Chrome“检查”功能找到源地址还十分容易。但是有一些网站非常复杂，例如前面的天猫产品评论，使用“检查”功能很难找到调用的网页地址。除此之外，有一些数据...</p>\\n                </div>\\n            </article>\\n                                                <article class=\"article-list-1 clearfix\">\\n                <header class=\"clearfix\">\\n                    <h1 class=\"post-title\"><a href=\"http://www.santostang.com/2018/07/14/4-2-%e8%a7%a3%e6%9e%90%e7%9c%9f%e5%ae%9e%e5%9c%b0%e5%9d%80%e6%8a%93%e5%8f%96/\">第四章 &#8211; 4.2 解析真实地址抓取</a></h1>\\n                    <div class=\"post-meta\">\\n                        <span class=\"meta-span\"><i class=\"far fa-calendar-alt\"></i> 07月14日</span>\\n                        <span class=\"meta-span\"><i class=\"far fa-folder\"></i> <a href=\"http://www.santostang.com/category/python-%e7%bd%91%e7%bb%9c%e7%88%ac%e8%99%ab/\" rel=\"category tag\">Python 网络爬虫</a></span>\\n                        <span class=\"meta-span\"><i class=\"fas fa-comments\"></i> <a href=\"http://www.santostang.com/2018/07/14/4-2-%e8%a7%a3%e6%9e%90%e7%9c%9f%e5%ae%9e%e5%9c%b0%e5%9d%80%e6%8a%93%e5%8f%96/#respond\">没有评论</a></span>\\n                        <span class=\"meta-span hidden-xs\"><i class=\"fas fa-tags\"></i> <a href=\"http://www.santostang.com/tag/ajax/\" rel=\"tag\">ajax</a>,<a href=\"http://www.santostang.com/tag/python/\" rel=\"tag\">python</a>,<a href=\"http://www.santostang.com/tag/%e7%bd%91%e7%bb%9c%e7%88%ac%e8%99%ab/\" rel=\"tag\">网络爬虫</a>,<a href=\"http://www.santostang.com/tag/%e7%bd%91%e9%a1%b5%e7%88%ac%e8%99%ab/\" rel=\"tag\">网页爬虫</a>,<a href=\"http://www.santostang.com/tag/%e8%a7%a3%e6%9e%90%e5%9c%b0%e5%9d%80/\" rel=\"tag\">解析地址</a></span>\\n                    </div>\\n                </header>\\n                <div class=\"post-content clearfix\">\\n                    <p>由于网易云跟帖停止服务，现在已经在此处中更新了新写的第四章。请参照文章：\\n4.2 解析真实地址抓取\\n虽然数据并没有出现在网页源代码中，我们也可以找到数据的真实地址，请求这个真实地址也可以获得想要的数据。...</p>\\n                </div>\\n            </article>\\n                                                <article class=\"article-list-1 clearfix\">\\n                <header class=\"clearfix\">\\n                    <h1 class=\"post-title\"><a href=\"http://www.santostang.com/2018/07/14/%e7%ac%ac%e5%9b%9b%e7%ab%a0%ef%bc%9a%e5%8a%a8%e6%80%81%e7%bd%91%e9%a1%b5%e6%8a%93%e5%8f%96-%e8%a7%a3%e6%9e%90%e7%9c%9f%e5%ae%9e%e5%9c%b0%e5%9d%80-selenium/\">第四章- 动态网页抓取 (解析真实地址 + selenium)</a></h1>\\n                    <div class=\"post-meta\">\\n                        <span class=\"meta-span\"><i class=\"far fa-calendar-alt\"></i> 07月14日</span>\\n                        <span class=\"meta-span\"><i class=\"far fa-folder\"></i> <a href=\"http://www.santostang.com/category/python-%e7%bd%91%e7%bb%9c%e7%88%ac%e8%99%ab/\" rel=\"category tag\">Python 网络爬虫</a></span>\\n                        <span class=\"meta-span\"><i class=\"fas fa-comments\"></i> <a href=\"http://www.santostang.com/2018/07/14/%e7%ac%ac%e5%9b%9b%e7%ab%a0%ef%bc%9a%e5%8a%a8%e6%80%81%e7%bd%91%e9%a1%b5%e6%8a%93%e5%8f%96-%e8%a7%a3%e6%9e%90%e7%9c%9f%e5%ae%9e%e5%9c%b0%e5%9d%80-selenium/#respond\">没有评论</a></span>\\n                        <span class=\"meta-span hidden-xs\"><i class=\"fas fa-tags\"></i> <a href=\"http://www.santostang.com/tag/ajax/\" rel=\"tag\">ajax</a>,<a href=\"http://www.santostang.com/tag/javascript/\" rel=\"tag\">javascript</a>,<a href=\"http://www.santostang.com/tag/python/\" rel=\"tag\">python</a>,<a href=\"http://www.santostang.com/tag/selenium/\" rel=\"tag\">selenium</a>,<a href=\"http://www.santostang.com/tag/%e7%bd%91%e7%bb%9c%e7%88%ac%e8%99%ab/\" rel=\"tag\">网络爬虫</a></span>\\n                    </div>\\n                </header>\\n                <div class=\"post-content clearfix\">\\n                    <p>由于网易云跟帖停止服务，现在已经在此处中更新了新写的第四章。请参照文章：\\n前面爬取的网页均为静态网页，这样的网页在浏览器中展示的内容都在HTML源代码中。但是，由于主流网站都使用JavaScript展现网页内容，...</p>\\n                </div>\\n            </article>\\n                                                <article class=\"article-list-1 clearfix\">\\n                <header class=\"clearfix\">\\n                    <h1 class=\"post-title\"><a href=\"http://www.santostang.com/2018/07/04/hello-world/\">Hello world!</a></h1>\\n                    <div class=\"post-meta\">\\n                        <span class=\"meta-span\"><i class=\"far fa-calendar-alt\"></i> 07月04日</span>\\n                        <span class=\"meta-span\"><i class=\"far fa-folder\"></i> <a href=\"http://www.santostang.com/category/python-%e7%bd%91%e7%bb%9c%e7%88%ac%e8%99%ab/\" rel=\"category tag\">Python 网络爬虫</a></span>\\n                        <span class=\"meta-span\"><i class=\"fas fa-comments\"></i> <a href=\"http://www.santostang.com/2018/07/04/hello-world/#comments\">1条评论</a></span>\\n                        <span class=\"meta-span hidden-xs\"><i class=\"fas fa-tags\"></i> </span>\\n                    </div>\\n                </header>\\n                <div class=\"post-content clearfix\">\\n                    <p>Welcome to WordPress. This is your first post. Edit or delete it, then start writing!\\n各位读者，由于网易云跟帖在本书出版后已经停止服务，书中的第四章已经无法使用。所以我将本书的评论系统换成了来必力...</p>\\n                </div>\\n            </article>\\n                                    <nav style=\"float:right\">\\n                            </nav>\\n        </div>\\n        <div class=\"col-md-4 hidden-xs hidden-sm\">\\n            <aside class=\"widget clearfix\">\\n    <form id=\"searchform\" action=\"http://www.santostang.com\">\\n        <div class=\"input-group\">\\n            <input type=\"search\" class=\"form-control\" placeholder=\"搜索…\" value=\"\" name=\"s\">\\n            <span class=\"input-group-btn\"><button class=\"btn btn-default\" type=\"submit\"><i class=\"fas fa-search\"></i></button></span>\\n        </div>\\n    </form>\\n</aside>\\n<aside class=\"widget clearfix\">\\n    <h4 class=\"widget-title\">文章分类</h4>\\n    <ul class=\"widget-cat\">\\n        \\t<li class=\"cat-item cat-item-2\"><a href=\"http://www.santostang.com/category/python-%e7%bd%91%e7%bb%9c%e7%88%ac%e8%99%ab/\" >Python 网络爬虫</a> (5)\\n</li>\\n    </ul>\\n</aside>\\n<aside class=\"widget clearfix\">\\n    <h4 class=\"widget-title\">热门文章</h4>\\n    <ul class=\"widget-hot\">\\n            </ul>\\n</aside>\\n<aside class=\"widget clearfix\">\\n    <h4 class=\"widget-title\">随机推荐</h4>\\n    <ul class=\"widget-hot\">\\n            <li><a href=\"http://www.santostang.com/2018/07/14/4-2-%e8%a7%a3%e6%9e%90%e7%9c%9f%e5%ae%9e%e5%9c%b0%e5%9d%80%e6%8a%93%e5%8f%96/\" title=\"第四章 &#8211; 4.2 解析真实地址抓取\">第四章 &#8211; 4.2 解析真实地址抓取</a></li>\\n            <li><a href=\"http://www.santostang.com/2018/07/15/4-3-%e9%80%9a%e8%bf%87selenium-%e6%a8%a1%e6%8b%9f%e6%b5%8f%e8%a7%88%e5%99%a8%e6%8a%93%e5%8f%96/\" title=\"第四章 &#8211; 4.3 通过selenium 模拟浏览器抓取\">第四章 &#8211; 4.3 通过selenium 模拟浏览器抓取</a></li>\\n            <li><a href=\"http://www.santostang.com/2018/07/11/%e3%80%8a%e7%bd%91%e7%bb%9c%e7%88%ac%e8%99%ab%ef%bc%9a%e4%bb%8e%e5%85%a5%e9%97%a8%e5%88%b0%e5%ae%9e%e8%b7%b5%e3%80%8b%e4%b8%80%e4%b9%a6%e5%8b%98%e8%af%af/\" title=\"《网络爬虫：从入门到实践》一书勘误\">《网络爬虫：从入门到实践》一书勘误</a></li>\\n            <li><a href=\"http://www.santostang.com/2018/07/04/hello-world/\" title=\"Hello world!\">Hello world!</a></li>\\n            <li><a href=\"http://www.santostang.com/2018/07/14/%e7%ac%ac%e5%9b%9b%e7%ab%a0%ef%bc%9a%e5%8a%a8%e6%80%81%e7%bd%91%e9%a1%b5%e6%8a%93%e5%8f%96-%e8%a7%a3%e6%9e%90%e7%9c%9f%e5%ae%9e%e5%9c%b0%e5%9d%80-selenium/\" title=\"第四章- 动态网页抓取 (解析真实地址 + selenium)\">第四章- 动态网页抓取 (解析真实地址 + selenium)</a></li>\\n        </ul>\\n</aside>\\n<aside class=\"widget clearfix\">\\n    <h4 class=\"widget-title\">标签云</h4>\\n    <div class=\"widget-tags\">\\n        <a href=\"http://www.santostang.com/tag/ajax/\" class=\"tag-cloud-link tag-link-3 tag-link-position-1\" style=\"color:#aa43c2;font-size: 22pt;\" aria-label=\"ajax (2个项目);\">ajax</a>\\n<a href=\"http://www.santostang.com/tag/javascript/\" class=\"tag-cloud-link tag-link-4 tag-link-position-2\" style=\"color:#499a30;font-size: 8pt;\" aria-label=\"javascript (1个项目);\">javascript</a>\\n<a href=\"http://www.santostang.com/tag/python/\" class=\"tag-cloud-link tag-link-5 tag-link-position-3\" style=\"color:#fa89e0;font-size: 22pt;\" aria-label=\"python (2个项目);\">python</a>\\n<a href=\"http://www.santostang.com/tag/selenium/\" class=\"tag-cloud-link tag-link-6 tag-link-position-4\" style=\"color:#585a7d;font-size: 8pt;\" aria-label=\"selenium (1个项目);\">selenium</a>\\n<a href=\"http://www.santostang.com/tag/%e7%bd%91%e7%bb%9c%e7%88%ac%e8%99%ab/\" class=\"tag-cloud-link tag-link-8 tag-link-position-5\" style=\"color:#a2668;font-size: 22pt;\" aria-label=\"网络爬虫 (2个项目);\">网络爬虫</a>\\n<a href=\"http://www.santostang.com/tag/%e7%bd%91%e9%a1%b5%e7%88%ac%e8%99%ab/\" class=\"tag-cloud-link tag-link-9 tag-link-position-6\" style=\"color:#8e727b;font-size: 8pt;\" aria-label=\"网页爬虫 (1个项目);\">网页爬虫</a>\\n<a href=\"http://www.santostang.com/tag/%e8%a7%a3%e6%9e%90%e5%9c%b0%e5%9d%80/\" class=\"tag-cloud-link tag-link-10 tag-link-position-7\" style=\"color:#f9cfe4;font-size: 8pt;\" aria-label=\"解析地址 (1个项目);\">解析地址</a>    </div>\\n</aside>\\n<aside class=\"widget clearfix\">\\n    <h4 class=\"widget-title\">友情链接</h4>\\n    <ul class=\"widget-links\">\\n            </ul>\\n</aside>\\n        </div>\\n    </div>\\n</div>\\n<div class=\"footer_search visible-xs visible-sm\">\\n    <form id=\"searchform\" action=\"http://www.santostang.com\">\\n        <div class=\"input-group\">\\n            <input type=\"search\" class=\"form-control\" placeholder=\"搜索…\" value=\"\" name=\"s\">\\n            <span class=\"input-group-btn\"><button class=\"btn btn-default\" type=\"submit\"><i class=\"fas fa-search\"></i></button></span>\\n        </div>\\n    </form>\\n</div>\\n<footer id=\"footer\">\\n    <div class=\"copyright\">\\n        <p><i class=\"far fa-copyright\"></i> 2019 <b>数据科学@唐松 | 粤ICP备19068356号</b></p>\\n        <p>Powered by <b>WordPress</b>. Theme by <a href=\"https://tangjie.me/jiestyle-two\" data-toggle=\"tooltip\" data-placement=\"top\" title=\"WordPress 主题模板\" target=\"_blank\"><b>JieStyle Two</b></a> | </p>\\n    </div>\\n    <div style=\"display:none;\"></div>\\n</footer>\\n<script type=\"text/javascript\" src=\"http://www.santostang.com/wp-content/themes/SongStyle-Two/js/jquery.min.js\"></script>\\n<script type=\"text/javascript\" src=\"http://www.santostang.com/wp-content/themes/SongStyle-Two/js/bootstrap.min.js\"></script>\\n<script type=\"text/javascript\" src=\"http://www.santostang.com/wp-content/themes/SongStyle-Two/js/skel.min.js\"></script>\\n<script type=\"text/javascript\" src=\"http://www.santostang.com/wp-content/themes/SongStyle-Two/js/util.min.js\"></script>\\n<script type=\"text/javascript\" src=\"http://www.santostang.com/wp-content/themes/SongStyle-Two/js/nav.js\"></script>\\n<script>\\n$(function() {\\n    $(\\'[data-toggle=\"tooltip\"]\\').tooltip()\\n});\\n</script>\\n<script>\\n(function(){\\n    var bp = document.createElement(\\'script\\');\\n    var curProtocol = window.location.protocol.split(\\':\\')[0];\\n    if (curProtocol === \\'https\\') {\\n        bp.src = \\'https://zz.bdstatic.com/linksubmit/push.js\\';\\n    }\\n    else {\\n        bp.src = \\'http://push.zhanzhang.baidu.com/push.js\\';\\n    }\\n    var s = document.getElementsByTagName(\"script\")[0];\\n    s.parentNode.insertBefore(bp, s);\\n})();\\n</script>\\n<script>\\nvar _hmt = _hmt || [];\\n(function() {\\n  var hm = document.createElement(\"script\");\\n  hm.src = \"https://hm.baidu.com/hm.js?752e310cec7906ba7afeb24cd7114c48\";\\n  var s = document.getElementsByTagName(\"script\")[0]; \\n  s.parentNode.insertBefore(hm, s);\\n})();\\n</script>\\n</body>\\n</html>'"
      ]
     },
     "execution_count": 3,
     "metadata": {},
     "output_type": "execute_result"
    }
   ],
   "source": [
    "r = requests.get(url, headers=headers)\n",
    "r.text"
   ]
  },
  {
   "cell_type": "code",
   "execution_count": 4,
   "metadata": {},
   "outputs": [],
   "source": [
    "soup = BeautifulSoup(r.text, 'html.parser')"
   ]
  },
  {
   "cell_type": "code",
   "execution_count": 5,
   "metadata": {},
   "outputs": [
    {
     "data": {
      "text/plain": [
       "'第四章 – 4.3 通过selenium 模拟浏览器抓取'"
      ]
     },
     "execution_count": 5,
     "metadata": {},
     "output_type": "execute_result"
    }
   ],
   "source": [
    "first_title = soup.find('h1', class_='post-title').a.text.strip()\n",
    "first_title"
   ]
  },
  {
   "cell_type": "code",
   "execution_count": 6,
   "metadata": {},
   "outputs": [
    {
     "data": {
      "text/plain": [
       "['第四章 – 4.3 通过selenium 模拟浏览器抓取',\n",
       " '第四章 – 4.2 解析真实地址抓取',\n",
       " '第四章- 动态网页抓取 (解析真实地址 + selenium)',\n",
       " 'Hello world!']"
      ]
     },
     "execution_count": 6,
     "metadata": {},
     "output_type": "execute_result"
    }
   ],
   "source": [
    "titles = soup.find_all('h1', class_='post-title')\n",
    "\n",
    "for i in range(len(titles)):\n",
    "    titles.append(titles.pop(0).a.text.strip())\n",
    "    \n",
    "titles"
   ]
  },
  {
   "cell_type": "markdown",
   "metadata": {},
   "source": [
    "### 4.2.2 其他功能"
   ]
  },
  {
   "cell_type": "code",
   "execution_count": 7,
   "metadata": {},
   "outputs": [
    {
     "name": "stdout",
     "output_type": "stream",
     "text": [
      "<!DOCTYPE html>\n",
      "<html lang=\"zh-CN\">\n",
      " <head>\n",
      "  <meta charset=\"utf-8\"/>\n",
      "  <meta content=\"IE=edge\" http-equiv=\"X-UA-Compatible\"/>\n",
      "  <meta content=\"width=device-width, initial-scale=1, maximum-scale=1\" name=\"viewport\"/>\n",
      "  <title>\n",
      "   Santos Tang\n",
      "  </title>\n",
      "  <meta content=\"Python网络爬虫：从入门到实践 官方网站及个人博客\" name=\"description\">\n",
      "   <meta content=\"Python网络爬虫, Python爬虫, Python, 爬虫, 数据科学, 数据挖掘, 数据分析, santostang, Santos Tang, 唐松, Song Tang\" name=\"keywords\">\n",
      "    <link href=\"http://www.santostang.com/wp-content/themes/SongStyle-Two/images/icon_32.png\" rel=\"apple-touch-icon\"/>\n",
      "    <link href=\"http://www.santostang.com/wp-content/themes/SongStyle-Two/images/icon_152.png\" rel=\"apple-touch-icon\" sizes=\"152x152\"/>\n",
      "    <link href=\"http://www.santostang.com/wp-content/themes/SongStyle-Two/images/icon_167.png\" rel=\"apple-touch-icon\" sizes=\"167x167\"/>\n",
      "    <link href=\"http://www.santostang.com/wp-content/themes/SongStyle-Two/images/icon_180.png\" rel=\"apple-touch-icon\" sizes=\"180x180\"/>\n",
      "    <link href=\"http://www.santostang.com/wp-content/themes/SongStyle-Two/images/icon_32.png\" rel=\"icon\" type=\"image/x-icon\"/>\n",
      "    <link href=\"http://www.santostang.com/wp-content/themes/SongStyle-Two/css/bootstrap.min.css\" rel=\"stylesheet\"/>\n",
      "    <link href=\"http://www.santostang.com/wp-content/themes/SongStyle-Two/css/fontawesome.min.css\" rel=\"stylesheet\"/>\n",
      "    <link href=\"http://www.santostang.com/wp-content/themes/SongStyle-Two/style.css\" rel=\"stylesheet\"/>\n",
      "    <link href=\"http://www.santostang.com/xmlrpc.php\" rel=\"pingback\">\n",
      "     <style type=\"text/css\">\n",
      "      a{color:#1e73be}\n",
      "a:hover{color:#2980b9!important}\n",
      "#header{background-color:#1e73be}\n",
      ".widget .widget-title::after{background-color:#1e73be}\n",
      ".uptop{border-left-color:#1e73be}\n",
      "#titleBar .toggle:before{background:#1e73be}\n",
      "     </style>\n",
      "    </link>\n",
      "   </meta>\n",
      "  </meta>\n",
      " </head>\n",
      " <body>\n",
      "  <header id=\"header\">\n",
      "   <div class=\"avatar\">\n",
      "    <a href=\"http://www.santostang.com\" title=\"Santos Tang\">\n",
      "     <img alt=\"Santos Tang\" class=\"img-circle\" src=\"http://www.santostang.com/wp-content/uploads/2019/06/me.jpg\" width=\"50%\"/>\n",
      "    </a>\n",
      "   </div>\n",
      "   <h1 id=\"name\">\n",
      "    Santos Tang\n",
      "   </h1>\n",
      "   <div class=\"sns\">\n",
      "    <a data-placement=\"top\" data-toggle=\"tooltip\" href=\"https://weibo.com/santostang\" rel=\"nofollow\" target=\"_blank\" title=\"Weibo\">\n",
      "     <i class=\"fab fa-weibo\">\n",
      "     </i>\n",
      "    </a>\n",
      "    <a data-placement=\"top\" data-toggle=\"tooltip\" href=\"https://www.linkedin.com/in/santostang\" rel=\"nofollow\" target=\"_blank\" title=\"Linkedin\">\n",
      "     <i class=\"fab fa-linkedin\">\n",
      "     </i>\n",
      "    </a>\n",
      "    <a data-placement=\"top\" data-toggle=\"tooltip\" href=\"https://www.zhihu.com/people/santostang\" rel=\"nofollow\" target=\"_blank\" title=\"Zhihu\">\n",
      "     <i class=\"fab fa-zhihu\">\n",
      "     </i>\n",
      "    </a>\n",
      "    <a data-placement=\"top\" data-toggle=\"tooltip\" href=\"https://github.com/santostang\" rel=\"nofollow\" target=\"_blank\" title=\"GitHub\">\n",
      "     <i class=\"fab fa-github-alt\">\n",
      "     </i>\n",
      "    </a>\n",
      "   </div>\n",
      "   <div class=\"nav\">\n",
      "    <ul>\n",
      "     <li>\n",
      "      <a href=\"http://www.santostang.com/\">\n",
      "       首页\n",
      "      </a>\n",
      "     </li>\n",
      "     <li>\n",
      "      <a href=\"http://www.santostang.com/aboutme/\">\n",
      "       关于我\n",
      "      </a>\n",
      "     </li>\n",
      "     <li>\n",
      "      <a href=\"http://www.santostang.com/python%e7%bd%91%e7%bb%9c%e7%88%ac%e8%99%ab%e4%bb%a3%e7%a0%81/\">\n",
      "       爬虫书代码\n",
      "      </a>\n",
      "     </li>\n",
      "     <li>\n",
      "      <a href=\"http://www.santostang.com/%e5%8a%a0%e6%88%91%e5%be%ae%e4%bf%a1/\">\n",
      "       加我微信\n",
      "      </a>\n",
      "     </li>\n",
      "     <li>\n",
      "      <a href=\"https://santostang.github.io/\">\n",
      "       EnglishSite\n",
      "      </a>\n",
      "     </li>\n",
      "    </ul>\n",
      "   </div>\n",
      "   <div class=\"weixin\">\n",
      "    <img alt=\"微信公众号\" src=\"http://www.santostang.com/wp-content/uploads/2019/06/qrcode_for_gh_370f70791e19_258.jpg\" width=\"50%\"/>\n",
      "    <p>\n",
      "     微信公众号\n",
      "    </p>\n",
      "   </div>\n",
      "  </header>\n",
      "  <div id=\"main\">\n",
      "   <div class=\"row box\">\n",
      "    <div class=\"col-md-8\">\n",
      "     <h2 class=\"uptop\">\n",
      "      <i class=\"fas fa-arrow-circle-up\">\n",
      "      </i>\n",
      "      <a href=\"http://www.santostang.com/2018/07/11/%e3%80%8a%e7%bd%91%e7%bb%9c%e7%88%ac%e8%99%ab%ef%bc%9a%e4%bb%8e%e5%85%a5%e9%97%a8%e5%88%b0%e5%ae%9e%e8%b7%b5%e3%80%8b%e4%b8%80%e4%b9%a6%e5%8b%98%e8%af%af/\" target=\"_blank\">\n",
      "       《网络爬虫：从入门到实践》一书勘误\n",
      "      </a>\n",
      "     </h2>\n",
      "     <article class=\"article-list-1 clearfix\">\n",
      "      <header class=\"clearfix\">\n",
      "       <h1 class=\"post-title\">\n",
      "        <a href=\"http://www.santostang.com/2018/07/15/4-3-%e9%80%9a%e8%bf%87selenium-%e6%a8%a1%e6%8b%9f%e6%b5%8f%e8%a7%88%e5%99%a8%e6%8a%93%e5%8f%96/\">\n",
      "         第四章 – 4.3 通过selenium 模拟浏览器抓取\n",
      "        </a>\n",
      "       </h1>\n",
      "       <div class=\"post-meta\">\n",
      "        <span class=\"meta-span\">\n",
      "         <i class=\"far fa-calendar-alt\">\n",
      "         </i>\n",
      "         07月15日\n",
      "        </span>\n",
      "        <span class=\"meta-span\">\n",
      "         <i class=\"far fa-folder\">\n",
      "         </i>\n",
      "         <a href=\"http://www.santostang.com/category/python-%e7%bd%91%e7%bb%9c%e7%88%ac%e8%99%ab/\" rel=\"category tag\">\n",
      "          Python 网络爬虫\n",
      "         </a>\n",
      "        </span>\n",
      "        <span class=\"meta-span\">\n",
      "         <i class=\"fas fa-comments\">\n",
      "         </i>\n",
      "         <a href=\"http://www.santostang.com/2018/07/15/4-3-%e9%80%9a%e8%bf%87selenium-%e6%a8%a1%e6%8b%9f%e6%b5%8f%e8%a7%88%e5%99%a8%e6%8a%93%e5%8f%96/#respond\">\n",
      "          没有评论\n",
      "         </a>\n",
      "        </span>\n",
      "        <span class=\"meta-span hidden-xs\">\n",
      "         <i class=\"fas fa-tags\">\n",
      "         </i>\n",
      "        </span>\n",
      "       </div>\n",
      "      </header>\n",
      "      <div class=\"post-content clearfix\">\n",
      "       <p>\n",
      "        4.3 通过selenium 模拟浏览器抓取\n",
      "\n",
      "在上述的例子中，使用Chrome“检查”功能找到源地址还十分容易。但是有一些网站非常复杂，例如前面的天猫产品评论，使用“检查”功能很难找到调用的网页地址。除此之外，有一些数据...\n",
      "       </p>\n",
      "      </div>\n",
      "     </article>\n",
      "     <article class=\"article-list-1 clearfix\">\n",
      "      <header class=\"clearfix\">\n",
      "       <h1 class=\"post-title\">\n",
      "        <a href=\"http://www.santostang.com/2018/07/14/4-2-%e8%a7%a3%e6%9e%90%e7%9c%9f%e5%ae%9e%e5%9c%b0%e5%9d%80%e6%8a%93%e5%8f%96/\">\n",
      "         第四章 – 4.2 解析真实地址抓取\n",
      "        </a>\n",
      "       </h1>\n",
      "       <div class=\"post-meta\">\n",
      "        <span class=\"meta-span\">\n",
      "         <i class=\"far fa-calendar-alt\">\n",
      "         </i>\n",
      "         07月14日\n",
      "        </span>\n",
      "        <span class=\"meta-span\">\n",
      "         <i class=\"far fa-folder\">\n",
      "         </i>\n",
      "         <a href=\"http://www.santostang.com/category/python-%e7%bd%91%e7%bb%9c%e7%88%ac%e8%99%ab/\" rel=\"category tag\">\n",
      "          Python 网络爬虫\n",
      "         </a>\n",
      "        </span>\n",
      "        <span class=\"meta-span\">\n",
      "         <i class=\"fas fa-comments\">\n",
      "         </i>\n",
      "         <a href=\"http://www.santostang.com/2018/07/14/4-2-%e8%a7%a3%e6%9e%90%e7%9c%9f%e5%ae%9e%e5%9c%b0%e5%9d%80%e6%8a%93%e5%8f%96/#respond\">\n",
      "          没有评论\n",
      "         </a>\n",
      "        </span>\n",
      "        <span class=\"meta-span hidden-xs\">\n",
      "         <i class=\"fas fa-tags\">\n",
      "         </i>\n",
      "         <a href=\"http://www.santostang.com/tag/ajax/\" rel=\"tag\">\n",
      "          ajax\n",
      "         </a>\n",
      "         ,\n",
      "         <a href=\"http://www.santostang.com/tag/python/\" rel=\"tag\">\n",
      "          python\n",
      "         </a>\n",
      "         ,\n",
      "         <a href=\"http://www.santostang.com/tag/%e7%bd%91%e7%bb%9c%e7%88%ac%e8%99%ab/\" rel=\"tag\">\n",
      "          网络爬虫\n",
      "         </a>\n",
      "         ,\n",
      "         <a href=\"http://www.santostang.com/tag/%e7%bd%91%e9%a1%b5%e7%88%ac%e8%99%ab/\" rel=\"tag\">\n",
      "          网页爬虫\n",
      "         </a>\n",
      "         ,\n",
      "         <a href=\"http://www.santostang.com/tag/%e8%a7%a3%e6%9e%90%e5%9c%b0%e5%9d%80/\" rel=\"tag\">\n",
      "          解析地址\n",
      "         </a>\n",
      "        </span>\n",
      "       </div>\n",
      "      </header>\n",
      "      <div class=\"post-content clearfix\">\n",
      "       <p>\n",
      "        由于网易云跟帖停止服务，现在已经在此处中更新了新写的第四章。请参照文章：\n",
      "4.2 解析真实地址抓取\n",
      "虽然数据并没有出现在网页源代码中，我们也可以找到数据的真实地址，请求这个真实地址也可以获得想要的数据。...\n",
      "       </p>\n",
      "      </div>\n",
      "     </article>\n",
      "     <article class=\"article-list-1 clearfix\">\n",
      "      <header class=\"clearfix\">\n",
      "       <h1 class=\"post-title\">\n",
      "        <a href=\"http://www.santostang.com/2018/07/14/%e7%ac%ac%e5%9b%9b%e7%ab%a0%ef%bc%9a%e5%8a%a8%e6%80%81%e7%bd%91%e9%a1%b5%e6%8a%93%e5%8f%96-%e8%a7%a3%e6%9e%90%e7%9c%9f%e5%ae%9e%e5%9c%b0%e5%9d%80-selenium/\">\n",
      "         第四章- 动态网页抓取 (解析真实地址 + selenium)\n",
      "        </a>\n",
      "       </h1>\n",
      "       <div class=\"post-meta\">\n",
      "        <span class=\"meta-span\">\n",
      "         <i class=\"far fa-calendar-alt\">\n",
      "         </i>\n",
      "         07月14日\n",
      "        </span>\n",
      "        <span class=\"meta-span\">\n",
      "         <i class=\"far fa-folder\">\n",
      "         </i>\n",
      "         <a href=\"http://www.santostang.com/category/python-%e7%bd%91%e7%bb%9c%e7%88%ac%e8%99%ab/\" rel=\"category tag\">\n",
      "          Python 网络爬虫\n",
      "         </a>\n",
      "        </span>\n",
      "        <span class=\"meta-span\">\n",
      "         <i class=\"fas fa-comments\">\n",
      "         </i>\n",
      "         <a href=\"http://www.santostang.com/2018/07/14/%e7%ac%ac%e5%9b%9b%e7%ab%a0%ef%bc%9a%e5%8a%a8%e6%80%81%e7%bd%91%e9%a1%b5%e6%8a%93%e5%8f%96-%e8%a7%a3%e6%9e%90%e7%9c%9f%e5%ae%9e%e5%9c%b0%e5%9d%80-selenium/#respond\">\n",
      "          没有评论\n",
      "         </a>\n",
      "        </span>\n",
      "        <span class=\"meta-span hidden-xs\">\n",
      "         <i class=\"fas fa-tags\">\n",
      "         </i>\n",
      "         <a href=\"http://www.santostang.com/tag/ajax/\" rel=\"tag\">\n",
      "          ajax\n",
      "         </a>\n",
      "         ,\n",
      "         <a href=\"http://www.santostang.com/tag/javascript/\" rel=\"tag\">\n",
      "          javascript\n",
      "         </a>\n",
      "         ,\n",
      "         <a href=\"http://www.santostang.com/tag/python/\" rel=\"tag\">\n",
      "          python\n",
      "         </a>\n",
      "         ,\n",
      "         <a href=\"http://www.santostang.com/tag/selenium/\" rel=\"tag\">\n",
      "          selenium\n",
      "         </a>\n",
      "         ,\n",
      "         <a href=\"http://www.santostang.com/tag/%e7%bd%91%e7%bb%9c%e7%88%ac%e8%99%ab/\" rel=\"tag\">\n",
      "          网络爬虫\n",
      "         </a>\n",
      "        </span>\n",
      "       </div>\n",
      "      </header>\n",
      "      <div class=\"post-content clearfix\">\n",
      "       <p>\n",
      "        由于网易云跟帖停止服务，现在已经在此处中更新了新写的第四章。请参照文章：\n",
      "前面爬取的网页均为静态网页，这样的网页在浏览器中展示的内容都在HTML源代码中。但是，由于主流网站都使用JavaScript展现网页内容，...\n",
      "       </p>\n",
      "      </div>\n",
      "     </article>\n",
      "     <article class=\"article-list-1 clearfix\">\n",
      "      <header class=\"clearfix\">\n",
      "       <h1 class=\"post-title\">\n",
      "        <a href=\"http://www.santostang.com/2018/07/04/hello-world/\">\n",
      "         Hello world!\n",
      "        </a>\n",
      "       </h1>\n",
      "       <div class=\"post-meta\">\n",
      "        <span class=\"meta-span\">\n",
      "         <i class=\"far fa-calendar-alt\">\n",
      "         </i>\n",
      "         07月04日\n",
      "        </span>\n",
      "        <span class=\"meta-span\">\n",
      "         <i class=\"far fa-folder\">\n",
      "         </i>\n",
      "         <a href=\"http://www.santostang.com/category/python-%e7%bd%91%e7%bb%9c%e7%88%ac%e8%99%ab/\" rel=\"category tag\">\n",
      "          Python 网络爬虫\n",
      "         </a>\n",
      "        </span>\n",
      "        <span class=\"meta-span\">\n",
      "         <i class=\"fas fa-comments\">\n",
      "         </i>\n",
      "         <a href=\"http://www.santostang.com/2018/07/04/hello-world/#comments\">\n",
      "          1条评论\n",
      "         </a>\n",
      "        </span>\n",
      "        <span class=\"meta-span hidden-xs\">\n",
      "         <i class=\"fas fa-tags\">\n",
      "         </i>\n",
      "        </span>\n",
      "       </div>\n",
      "      </header>\n",
      "      <div class=\"post-content clearfix\">\n",
      "       <p>\n",
      "        Welcome to WordPress. This is your first post. Edit or delete it, then start writing!\n",
      "各位读者，由于网易云跟帖在本书出版后已经停止服务，书中的第四章已经无法使用。所以我将本书的评论系统换成了来必力...\n",
      "       </p>\n",
      "      </div>\n",
      "     </article>\n",
      "     <nav style=\"float:right\">\n",
      "     </nav>\n",
      "    </div>\n",
      "    <div class=\"col-md-4 hidden-xs hidden-sm\">\n",
      "     <aside class=\"widget clearfix\">\n",
      "      <form action=\"http://www.santostang.com\" id=\"searchform\">\n",
      "       <div class=\"input-group\">\n",
      "        <input class=\"form-control\" name=\"s\" placeholder=\"搜索…\" type=\"search\" value=\"\"/>\n",
      "        <span class=\"input-group-btn\">\n",
      "         <button class=\"btn btn-default\" type=\"submit\">\n",
      "          <i class=\"fas fa-search\">\n",
      "          </i>\n",
      "         </button>\n",
      "        </span>\n",
      "       </div>\n",
      "      </form>\n",
      "     </aside>\n",
      "     <aside class=\"widget clearfix\">\n",
      "      <h4 class=\"widget-title\">\n",
      "       文章分类\n",
      "      </h4>\n",
      "      <ul class=\"widget-cat\">\n",
      "       <li class=\"cat-item cat-item-2\">\n",
      "        <a href=\"http://www.santostang.com/category/python-%e7%bd%91%e7%bb%9c%e7%88%ac%e8%99%ab/\">\n",
      "         Python 网络爬虫\n",
      "        </a>\n",
      "        (5)\n",
      "       </li>\n",
      "      </ul>\n",
      "     </aside>\n",
      "     <aside class=\"widget clearfix\">\n",
      "      <h4 class=\"widget-title\">\n",
      "       热门文章\n",
      "      </h4>\n",
      "      <ul class=\"widget-hot\">\n",
      "      </ul>\n",
      "     </aside>\n",
      "     <aside class=\"widget clearfix\">\n",
      "      <h4 class=\"widget-title\">\n",
      "       随机推荐\n",
      "      </h4>\n",
      "      <ul class=\"widget-hot\">\n",
      "       <li>\n",
      "        <a href=\"http://www.santostang.com/2018/07/14/4-2-%e8%a7%a3%e6%9e%90%e7%9c%9f%e5%ae%9e%e5%9c%b0%e5%9d%80%e6%8a%93%e5%8f%96/\" title=\"第四章 – 4.2 解析真实地址抓取\">\n",
      "         第四章 – 4.2 解析真实地址抓取\n",
      "        </a>\n",
      "       </li>\n",
      "       <li>\n",
      "        <a href=\"http://www.santostang.com/2018/07/15/4-3-%e9%80%9a%e8%bf%87selenium-%e6%a8%a1%e6%8b%9f%e6%b5%8f%e8%a7%88%e5%99%a8%e6%8a%93%e5%8f%96/\" title=\"第四章 – 4.3 通过selenium 模拟浏览器抓取\">\n",
      "         第四章 – 4.3 通过selenium 模拟浏览器抓取\n",
      "        </a>\n",
      "       </li>\n",
      "       <li>\n",
      "        <a href=\"http://www.santostang.com/2018/07/11/%e3%80%8a%e7%bd%91%e7%bb%9c%e7%88%ac%e8%99%ab%ef%bc%9a%e4%bb%8e%e5%85%a5%e9%97%a8%e5%88%b0%e5%ae%9e%e8%b7%b5%e3%80%8b%e4%b8%80%e4%b9%a6%e5%8b%98%e8%af%af/\" title=\"《网络爬虫：从入门到实践》一书勘误\">\n",
      "         《网络爬虫：从入门到实践》一书勘误\n",
      "        </a>\n",
      "       </li>\n",
      "       <li>\n",
      "        <a href=\"http://www.santostang.com/2018/07/04/hello-world/\" title=\"Hello world!\">\n",
      "         Hello world!\n",
      "        </a>\n",
      "       </li>\n",
      "       <li>\n",
      "        <a href=\"http://www.santostang.com/2018/07/14/%e7%ac%ac%e5%9b%9b%e7%ab%a0%ef%bc%9a%e5%8a%a8%e6%80%81%e7%bd%91%e9%a1%b5%e6%8a%93%e5%8f%96-%e8%a7%a3%e6%9e%90%e7%9c%9f%e5%ae%9e%e5%9c%b0%e5%9d%80-selenium/\" title=\"第四章- 动态网页抓取 (解析真实地址 + selenium)\">\n",
      "         第四章- 动态网页抓取 (解析真实地址 + selenium)\n",
      "        </a>\n",
      "       </li>\n",
      "      </ul>\n",
      "     </aside>\n",
      "     <aside class=\"widget clearfix\">\n",
      "      <h4 class=\"widget-title\">\n",
      "       标签云\n",
      "      </h4>\n",
      "      <div class=\"widget-tags\">\n",
      "       <a aria-label=\"ajax (2个项目);\" class=\"tag-cloud-link tag-link-3 tag-link-position-1\" href=\"http://www.santostang.com/tag/ajax/\" style=\"color:#aa43c2;font-size: 22pt;\">\n",
      "        ajax\n",
      "       </a>\n",
      "       <a aria-label=\"javascript (1个项目);\" class=\"tag-cloud-link tag-link-4 tag-link-position-2\" href=\"http://www.santostang.com/tag/javascript/\" style=\"color:#499a30;font-size: 8pt;\">\n",
      "        javascript\n",
      "       </a>\n",
      "       <a aria-label=\"python (2个项目);\" class=\"tag-cloud-link tag-link-5 tag-link-position-3\" href=\"http://www.santostang.com/tag/python/\" style=\"color:#fa89e0;font-size: 22pt;\">\n",
      "        python\n",
      "       </a>\n",
      "       <a aria-label=\"selenium (1个项目);\" class=\"tag-cloud-link tag-link-6 tag-link-position-4\" href=\"http://www.santostang.com/tag/selenium/\" style=\"color:#585a7d;font-size: 8pt;\">\n",
      "        selenium\n",
      "       </a>\n",
      "       <a aria-label=\"网络爬虫 (2个项目);\" class=\"tag-cloud-link tag-link-8 tag-link-position-5\" href=\"http://www.santostang.com/tag/%e7%bd%91%e7%bb%9c%e7%88%ac%e8%99%ab/\" style=\"color:#a2668;font-size: 22pt;\">\n",
      "        网络爬虫\n",
      "       </a>\n",
      "       <a aria-label=\"网页爬虫 (1个项目);\" class=\"tag-cloud-link tag-link-9 tag-link-position-6\" href=\"http://www.santostang.com/tag/%e7%bd%91%e9%a1%b5%e7%88%ac%e8%99%ab/\" style=\"color:#8e727b;font-size: 8pt;\">\n",
      "        网页爬虫\n",
      "       </a>\n",
      "       <a aria-label=\"解析地址 (1个项目);\" class=\"tag-cloud-link tag-link-10 tag-link-position-7\" href=\"http://www.santostang.com/tag/%e8%a7%a3%e6%9e%90%e5%9c%b0%e5%9d%80/\" style=\"color:#f9cfe4;font-size: 8pt;\">\n",
      "        解析地址\n",
      "       </a>\n",
      "      </div>\n",
      "     </aside>\n",
      "     <aside class=\"widget clearfix\">\n",
      "      <h4 class=\"widget-title\">\n",
      "       友情链接\n",
      "      </h4>\n",
      "      <ul class=\"widget-links\">\n",
      "      </ul>\n",
      "     </aside>\n",
      "    </div>\n",
      "   </div>\n",
      "  </div>\n",
      "  <div class=\"footer_search visible-xs visible-sm\">\n",
      "   <form action=\"http://www.santostang.com\" id=\"searchform\">\n",
      "    <div class=\"input-group\">\n",
      "     <input class=\"form-control\" name=\"s\" placeholder=\"搜索…\" type=\"search\" value=\"\"/>\n",
      "     <span class=\"input-group-btn\">\n",
      "      <button class=\"btn btn-default\" type=\"submit\">\n",
      "       <i class=\"fas fa-search\">\n",
      "       </i>\n",
      "      </button>\n",
      "     </span>\n",
      "    </div>\n",
      "   </form>\n",
      "  </div>\n",
      "  <footer id=\"footer\">\n",
      "   <div class=\"copyright\">\n",
      "    <p>\n",
      "     <i class=\"far fa-copyright\">\n",
      "     </i>\n",
      "     2019\n",
      "     <b>\n",
      "      数据科学@唐松 | 粤ICP备19068356号\n",
      "     </b>\n",
      "    </p>\n",
      "    <p>\n",
      "     Powered by\n",
      "     <b>\n",
      "      WordPress\n",
      "     </b>\n",
      "     . Theme by\n",
      "     <a data-placement=\"top\" data-toggle=\"tooltip\" href=\"https://tangjie.me/jiestyle-two\" target=\"_blank\" title=\"WordPress 主题模板\">\n",
      "      <b>\n",
      "       JieStyle Two\n",
      "      </b>\n",
      "     </a>\n",
      "     |\n",
      "    </p>\n",
      "   </div>\n",
      "   <div style=\"display:none;\">\n",
      "   </div>\n",
      "  </footer>\n",
      "  <script src=\"http://www.santostang.com/wp-content/themes/SongStyle-Two/js/jquery.min.js\" type=\"text/javascript\">\n",
      "  </script>\n",
      "  <script src=\"http://www.santostang.com/wp-content/themes/SongStyle-Two/js/bootstrap.min.js\" type=\"text/javascript\">\n",
      "  </script>\n",
      "  <script src=\"http://www.santostang.com/wp-content/themes/SongStyle-Two/js/skel.min.js\" type=\"text/javascript\">\n",
      "  </script>\n",
      "  <script src=\"http://www.santostang.com/wp-content/themes/SongStyle-Two/js/util.min.js\" type=\"text/javascript\">\n",
      "  </script>\n",
      "  <script src=\"http://www.santostang.com/wp-content/themes/SongStyle-Two/js/nav.js\" type=\"text/javascript\">\n",
      "  </script>\n",
      "  <script>\n",
      "   $(function() {\n",
      "    $('[data-toggle=\"tooltip\"]').tooltip()\n",
      "});\n",
      "  </script>\n",
      "  <script>\n",
      "   (function(){\n",
      "    var bp = document.createElement('script');\n",
      "    var curProtocol = window.location.protocol.split(':')[0];\n",
      "    if (curProtocol === 'https') {\n",
      "        bp.src = 'https://zz.bdstatic.com/linksubmit/push.js';\n",
      "    }\n",
      "    else {\n",
      "        bp.src = 'http://push.zhanzhang.baidu.com/push.js';\n",
      "    }\n",
      "    var s = document.getElementsByTagName(\"script\")[0];\n",
      "    s.parentNode.insertBefore(bp, s);\n",
      "})();\n",
      "  </script>\n",
      "  <script>\n",
      "   var _hmt = _hmt || [];\n",
      "(function() {\n",
      "  var hm = document.createElement(\"script\");\n",
      "  hm.src = \"https://hm.baidu.com/hm.js?752e310cec7906ba7afeb24cd7114c48\";\n",
      "  var s = document.getElementsByTagName(\"script\")[0]; \n",
      "  s.parentNode.insertBefore(hm, s);\n",
      "})();\n",
      "  </script>\n",
      " </body>\n",
      "</html>\n"
     ]
    }
   ],
   "source": [
    "print(soup.prettify())"
   ]
  },
  {
   "cell_type": "markdown",
   "metadata": {},
   "source": [
    "**遍历文档树**"
   ]
  },
  {
   "cell_type": "code",
   "execution_count": 8,
   "metadata": {},
   "outputs": [
    {
     "data": {
      "text/plain": [
       "<h1 id=\"name\">Santos Tang</h1>"
      ]
     },
     "execution_count": 8,
     "metadata": {},
     "output_type": "execute_result"
    }
   ],
   "source": [
    "soup.header.h1"
   ]
  },
  {
   "cell_type": "code",
   "execution_count": 9,
   "metadata": {},
   "outputs": [
    {
     "data": {
      "text/plain": [
       "<a href=\"http://www.santostang.com\" title=\"Santos Tang\"><img alt=\"Santos Tang\" class=\"img-circle\" src=\"http://www.santostang.com/wp-content/uploads/2019/06/me.jpg\" width=\"50%\"/></a>"
      ]
     },
     "execution_count": 9,
     "metadata": {},
     "output_type": "execute_result"
    }
   ],
   "source": [
    "# 获得内容\n",
    "soup.header.div.contents[0]"
   ]
  },
  {
   "cell_type": "code",
   "execution_count": 10,
   "metadata": {},
   "outputs": [
    {
     "name": "stdout",
     "output_type": "stream",
     "text": [
      "<a href=\"http://www.santostang.com\" title=\"Santos Tang\"><img alt=\"Santos Tang\" class=\"img-circle\" src=\"http://www.santostang.com/wp-content/uploads/2019/06/me.jpg\" width=\"50%\"/></a>\n"
     ]
    }
   ],
   "source": [
    "# 获得下一级子节点\n",
    "for child in soup.header.div.children:\n",
    "    print(child)"
   ]
  },
  {
   "cell_type": "code",
   "execution_count": 11,
   "metadata": {},
   "outputs": [
    {
     "name": "stdout",
     "output_type": "stream",
     "text": [
      "<a href=\"http://www.santostang.com\" title=\"Santos Tang\"><img alt=\"Santos Tang\" class=\"img-circle\" src=\"http://www.santostang.com/wp-content/uploads/2019/06/me.jpg\" width=\"50%\"/></a>\n",
      "<img alt=\"Santos Tang\" class=\"img-circle\" src=\"http://www.santostang.com/wp-content/uploads/2019/06/me.jpg\" width=\"50%\"/>\n"
     ]
    }
   ],
   "source": [
    "# 获得所有子节点\n",
    "for child in soup.header.div.descendants:\n",
    "    print(child)"
   ]
  },
  {
   "cell_type": "code",
   "execution_count": 15,
   "metadata": {},
   "outputs": [
    {
     "data": {
      "text/plain": [
       "<div class=\"avatar\"><a href=\"http://www.santostang.com\" title=\"Santos Tang\"><img alt=\"Santos Tang\" class=\"img-circle\" src=\"http://www.santostang.com/wp-content/uploads/2019/06/me.jpg\" width=\"50%\"/></a></div>"
      ]
     },
     "execution_count": 15,
     "metadata": {},
     "output_type": "execute_result"
    }
   ],
   "source": [
    "# 获得父节点\n",
    "a_tag = soup.header.div.a\n",
    "a_tag.parent\n",
    "# for i in a_tag.parents:\n",
    "#     print(i)"
   ]
  },
  {
   "cell_type": "markdown",
   "metadata": {},
   "source": [
    "**搜索文档树**  \n",
    "BeautifulSoup可以和**正则表达式**结合"
   ]
  },
  {
   "cell_type": "code",
   "execution_count": 28,
   "metadata": {},
   "outputs": [
    {
     "name": "stdout",
     "output_type": "stream",
     "text": [
      "html\n",
      "head\n",
      "header\n",
      "h1\n",
      "h2\n",
      "header\n",
      "h1\n",
      "header\n",
      "h1\n",
      "header\n",
      "h1\n",
      "header\n",
      "h1\n",
      "h4\n",
      "h4\n",
      "h4\n",
      "h4\n",
      "h4\n"
     ]
    }
   ],
   "source": [
    "for tag in soup.find_all(re.compile(r'^h')):\n",
    "    print(tag.name)"
   ]
  },
  {
   "cell_type": "code",
   "execution_count": 26,
   "metadata": {},
   "outputs": [
    {
     "data": {
      "text/plain": [
       "'html'"
      ]
     },
     "execution_count": 26,
     "metadata": {},
     "output_type": "execute_result"
    }
   ],
   "source": [
    "soup.find(re.compile(r'^h')).name"
   ]
  },
  {
   "cell_type": "markdown",
   "metadata": {},
   "source": [
    "**CSS选择器**"
   ]
  },
  {
   "cell_type": "code",
   "execution_count": 33,
   "metadata": {},
   "outputs": [
    {
     "data": {
      "text/plain": [
       "[<h1 id=\"name\">Santos Tang</h1>]"
      ]
     },
     "execution_count": 33,
     "metadata": {},
     "output_type": "execute_result"
    }
   ],
   "source": [
    "soup.select('header h1[id=\"name\"]')"
   ]
  },
  {
   "cell_type": "code",
   "execution_count": 34,
   "metadata": {},
   "outputs": [
    {
     "data": {
      "text/plain": [
       "[<a href=\"http://www.santostang.com\" title=\"Santos Tang\"><img alt=\"Santos Tang\" class=\"img-circle\" src=\"http://www.santostang.com/wp-content/uploads/2019/06/me.jpg\" width=\"50%\"/></a>,\n",
       " <a data-placement=\"top\" data-toggle=\"tooltip\" href=\"https://weibo.com/santostang\" rel=\"nofollow\" target=\"_blank\" title=\"Weibo\"><i class=\"fab fa-weibo\"></i></a>,\n",
       " <a data-placement=\"top\" data-toggle=\"tooltip\" href=\"https://www.linkedin.com/in/santostang\" rel=\"nofollow\" target=\"_blank\" title=\"Linkedin\"><i class=\"fab fa-linkedin\"></i></a>,\n",
       " <a data-placement=\"top\" data-toggle=\"tooltip\" href=\"https://www.zhihu.com/people/santostang\" rel=\"nofollow\" target=\"_blank\" title=\"Zhihu\"><i class=\"fab fa-zhihu\"></i></a>,\n",
       " <a data-placement=\"top\" data-toggle=\"tooltip\" href=\"https://github.com/santostang\" rel=\"nofollow\" target=\"_blank\" title=\"GitHub\"><i class=\"fab fa-github-alt\"></i></a>,\n",
       " <a aria-label=\"ajax (2个项目);\" class=\"tag-cloud-link tag-link-3 tag-link-position-1\" href=\"http://www.santostang.com/tag/ajax/\" style=\"color:#aa43c2;font-size: 22pt;\">ajax</a>,\n",
       " <a aria-label=\"javascript (1个项目);\" class=\"tag-cloud-link tag-link-4 tag-link-position-2\" href=\"http://www.santostang.com/tag/javascript/\" style=\"color:#499a30;font-size: 8pt;\">javascript</a>,\n",
       " <a aria-label=\"python (2个项目);\" class=\"tag-cloud-link tag-link-5 tag-link-position-3\" href=\"http://www.santostang.com/tag/python/\" style=\"color:#fa89e0;font-size: 22pt;\">python</a>,\n",
       " <a aria-label=\"selenium (1个项目);\" class=\"tag-cloud-link tag-link-6 tag-link-position-4\" href=\"http://www.santostang.com/tag/selenium/\" style=\"color:#585a7d;font-size: 8pt;\">selenium</a>,\n",
       " <a aria-label=\"网络爬虫 (2个项目);\" class=\"tag-cloud-link tag-link-8 tag-link-position-5\" href=\"http://www.santostang.com/tag/%e7%bd%91%e7%bb%9c%e7%88%ac%e8%99%ab/\" style=\"color:#a2668;font-size: 22pt;\">网络爬虫</a>,\n",
       " <a aria-label=\"网页爬虫 (1个项目);\" class=\"tag-cloud-link tag-link-9 tag-link-position-6\" href=\"http://www.santostang.com/tag/%e7%bd%91%e9%a1%b5%e7%88%ac%e8%99%ab/\" style=\"color:#8e727b;font-size: 8pt;\">网页爬虫</a>,\n",
       " <a aria-label=\"解析地址 (1个项目);\" class=\"tag-cloud-link tag-link-10 tag-link-position-7\" href=\"http://www.santostang.com/tag/%e8%a7%a3%e6%9e%90%e5%9c%b0%e5%9d%80/\" style=\"color:#f9cfe4;font-size: 8pt;\">解析地址</a>]"
      ]
     },
     "execution_count": 34,
     "metadata": {},
     "output_type": "execute_result"
    }
   ],
   "source": [
    "soup.select('div > a')"
   ]
  },
  {
   "cell_type": "code",
   "execution_count": 36,
   "metadata": {},
   "outputs": [
    {
     "data": {
      "text/plain": [
       "[<a href=\"http://www.santostang.com\" title=\"Santos Tang\"><img alt=\"Santos Tang\" class=\"img-circle\" src=\"http://www.santostang.com/wp-content/uploads/2019/06/me.jpg\" width=\"50%\"/></a>,\n",
       " <a href=\"http://www.santostang.com/\">首页</a>,\n",
       " <a href=\"http://www.santostang.com/aboutme/\">关于我</a>,\n",
       " <a href=\"http://www.santostang.com/python%e7%bd%91%e7%bb%9c%e7%88%ac%e8%99%ab%e4%bb%a3%e7%a0%81/\">爬虫书代码</a>,\n",
       " <a href=\"http://www.santostang.com/%e5%8a%a0%e6%88%91%e5%be%ae%e4%bf%a1/\">加我微信</a>,\n",
       " <a href=\"http://www.santostang.com/2018/07/11/%e3%80%8a%e7%bd%91%e7%bb%9c%e7%88%ac%e8%99%ab%ef%bc%9a%e4%bb%8e%e5%85%a5%e9%97%a8%e5%88%b0%e5%ae%9e%e8%b7%b5%e3%80%8b%e4%b8%80%e4%b9%a6%e5%8b%98%e8%af%af/\" target=\"_blank\">《网络爬虫：从入门到实践》一书勘误</a>,\n",
       " <a href=\"http://www.santostang.com/2018/07/15/4-3-%e9%80%9a%e8%bf%87selenium-%e6%a8%a1%e6%8b%9f%e6%b5%8f%e8%a7%88%e5%99%a8%e6%8a%93%e5%8f%96/\">第四章 – 4.3 通过selenium 模拟浏览器抓取</a>,\n",
       " <a href=\"http://www.santostang.com/category/python-%e7%bd%91%e7%bb%9c%e7%88%ac%e8%99%ab/\" rel=\"category tag\">Python 网络爬虫</a>,\n",
       " <a href=\"http://www.santostang.com/2018/07/15/4-3-%e9%80%9a%e8%bf%87selenium-%e6%a8%a1%e6%8b%9f%e6%b5%8f%e8%a7%88%e5%99%a8%e6%8a%93%e5%8f%96/#respond\">没有评论</a>,\n",
       " <a href=\"http://www.santostang.com/2018/07/14/4-2-%e8%a7%a3%e6%9e%90%e7%9c%9f%e5%ae%9e%e5%9c%b0%e5%9d%80%e6%8a%93%e5%8f%96/\">第四章 – 4.2 解析真实地址抓取</a>,\n",
       " <a href=\"http://www.santostang.com/category/python-%e7%bd%91%e7%bb%9c%e7%88%ac%e8%99%ab/\" rel=\"category tag\">Python 网络爬虫</a>,\n",
       " <a href=\"http://www.santostang.com/2018/07/14/4-2-%e8%a7%a3%e6%9e%90%e7%9c%9f%e5%ae%9e%e5%9c%b0%e5%9d%80%e6%8a%93%e5%8f%96/#respond\">没有评论</a>,\n",
       " <a href=\"http://www.santostang.com/tag/ajax/\" rel=\"tag\">ajax</a>,\n",
       " <a href=\"http://www.santostang.com/tag/python/\" rel=\"tag\">python</a>,\n",
       " <a href=\"http://www.santostang.com/tag/%e7%bd%91%e7%bb%9c%e7%88%ac%e8%99%ab/\" rel=\"tag\">网络爬虫</a>,\n",
       " <a href=\"http://www.santostang.com/tag/%e7%bd%91%e9%a1%b5%e7%88%ac%e8%99%ab/\" rel=\"tag\">网页爬虫</a>,\n",
       " <a href=\"http://www.santostang.com/tag/%e8%a7%a3%e6%9e%90%e5%9c%b0%e5%9d%80/\" rel=\"tag\">解析地址</a>,\n",
       " <a href=\"http://www.santostang.com/2018/07/14/%e7%ac%ac%e5%9b%9b%e7%ab%a0%ef%bc%9a%e5%8a%a8%e6%80%81%e7%bd%91%e9%a1%b5%e6%8a%93%e5%8f%96-%e8%a7%a3%e6%9e%90%e7%9c%9f%e5%ae%9e%e5%9c%b0%e5%9d%80-selenium/\">第四章- 动态网页抓取 (解析真实地址 + selenium)</a>,\n",
       " <a href=\"http://www.santostang.com/category/python-%e7%bd%91%e7%bb%9c%e7%88%ac%e8%99%ab/\" rel=\"category tag\">Python 网络爬虫</a>,\n",
       " <a href=\"http://www.santostang.com/2018/07/14/%e7%ac%ac%e5%9b%9b%e7%ab%a0%ef%bc%9a%e5%8a%a8%e6%80%81%e7%bd%91%e9%a1%b5%e6%8a%93%e5%8f%96-%e8%a7%a3%e6%9e%90%e7%9c%9f%e5%ae%9e%e5%9c%b0%e5%9d%80-selenium/#respond\">没有评论</a>,\n",
       " <a href=\"http://www.santostang.com/tag/ajax/\" rel=\"tag\">ajax</a>,\n",
       " <a href=\"http://www.santostang.com/tag/javascript/\" rel=\"tag\">javascript</a>,\n",
       " <a href=\"http://www.santostang.com/tag/python/\" rel=\"tag\">python</a>,\n",
       " <a href=\"http://www.santostang.com/tag/selenium/\" rel=\"tag\">selenium</a>,\n",
       " <a href=\"http://www.santostang.com/tag/%e7%bd%91%e7%bb%9c%e7%88%ac%e8%99%ab/\" rel=\"tag\">网络爬虫</a>,\n",
       " <a href=\"http://www.santostang.com/2018/07/04/hello-world/\">Hello world!</a>,\n",
       " <a href=\"http://www.santostang.com/category/python-%e7%bd%91%e7%bb%9c%e7%88%ac%e8%99%ab/\" rel=\"category tag\">Python 网络爬虫</a>,\n",
       " <a href=\"http://www.santostang.com/2018/07/04/hello-world/#comments\">1条评论</a>,\n",
       " <a href=\"http://www.santostang.com/category/python-%e7%bd%91%e7%bb%9c%e7%88%ac%e8%99%ab/\">Python 网络爬虫</a>,\n",
       " <a href=\"http://www.santostang.com/2018/07/14/4-2-%e8%a7%a3%e6%9e%90%e7%9c%9f%e5%ae%9e%e5%9c%b0%e5%9d%80%e6%8a%93%e5%8f%96/\" title=\"第四章 – 4.2 解析真实地址抓取\">第四章 – 4.2 解析真实地址抓取</a>,\n",
       " <a href=\"http://www.santostang.com/2018/07/15/4-3-%e9%80%9a%e8%bf%87selenium-%e6%a8%a1%e6%8b%9f%e6%b5%8f%e8%a7%88%e5%99%a8%e6%8a%93%e5%8f%96/\" title=\"第四章 – 4.3 通过selenium 模拟浏览器抓取\">第四章 – 4.3 通过selenium 模拟浏览器抓取</a>,\n",
       " <a href=\"http://www.santostang.com/2018/07/11/%e3%80%8a%e7%bd%91%e7%bb%9c%e7%88%ac%e8%99%ab%ef%bc%9a%e4%bb%8e%e5%85%a5%e9%97%a8%e5%88%b0%e5%ae%9e%e8%b7%b5%e3%80%8b%e4%b8%80%e4%b9%a6%e5%8b%98%e8%af%af/\" title=\"《网络爬虫：从入门到实践》一书勘误\">《网络爬虫：从入门到实践》一书勘误</a>,\n",
       " <a href=\"http://www.santostang.com/2018/07/04/hello-world/\" title=\"Hello world!\">Hello world!</a>,\n",
       " <a href=\"http://www.santostang.com/2018/07/14/%e7%ac%ac%e5%9b%9b%e7%ab%a0%ef%bc%9a%e5%8a%a8%e6%80%81%e7%bd%91%e9%a1%b5%e6%8a%93%e5%8f%96-%e8%a7%a3%e6%9e%90%e7%9c%9f%e5%ae%9e%e5%9c%b0%e5%9d%80-selenium/\" title=\"第四章- 动态网页抓取 (解析真实地址 + selenium)\">第四章- 动态网页抓取 (解析真实地址 + selenium)</a>,\n",
       " <a aria-label=\"ajax (2个项目);\" class=\"tag-cloud-link tag-link-3 tag-link-position-1\" href=\"http://www.santostang.com/tag/ajax/\" style=\"color:#aa43c2;font-size: 22pt;\">ajax</a>,\n",
       " <a aria-label=\"javascript (1个项目);\" class=\"tag-cloud-link tag-link-4 tag-link-position-2\" href=\"http://www.santostang.com/tag/javascript/\" style=\"color:#499a30;font-size: 8pt;\">javascript</a>,\n",
       " <a aria-label=\"python (2个项目);\" class=\"tag-cloud-link tag-link-5 tag-link-position-3\" href=\"http://www.santostang.com/tag/python/\" style=\"color:#fa89e0;font-size: 22pt;\">python</a>,\n",
       " <a aria-label=\"selenium (1个项目);\" class=\"tag-cloud-link tag-link-6 tag-link-position-4\" href=\"http://www.santostang.com/tag/selenium/\" style=\"color:#585a7d;font-size: 8pt;\">selenium</a>,\n",
       " <a aria-label=\"网络爬虫 (2个项目);\" class=\"tag-cloud-link tag-link-8 tag-link-position-5\" href=\"http://www.santostang.com/tag/%e7%bd%91%e7%bb%9c%e7%88%ac%e8%99%ab/\" style=\"color:#a2668;font-size: 22pt;\">网络爬虫</a>,\n",
       " <a aria-label=\"网页爬虫 (1个项目);\" class=\"tag-cloud-link tag-link-9 tag-link-position-6\" href=\"http://www.santostang.com/tag/%e7%bd%91%e9%a1%b5%e7%88%ac%e8%99%ab/\" style=\"color:#8e727b;font-size: 8pt;\">网页爬虫</a>,\n",
       " <a aria-label=\"解析地址 (1个项目);\" class=\"tag-cloud-link tag-link-10 tag-link-position-7\" href=\"http://www.santostang.com/tag/%e8%a7%a3%e6%9e%90%e5%9c%b0%e5%9d%80/\" style=\"color:#f9cfe4;font-size: 8pt;\">解析地址</a>]"
      ]
     },
     "execution_count": 36,
     "metadata": {},
     "output_type": "execute_result"
    }
   ],
   "source": [
    "soup.select('a[href^=\"http://www.santostang.com\"]')"
   ]
  },
  {
   "cell_type": "markdown",
   "metadata": {},
   "source": [
    "## 4.3 使用lxml解析网页"
   ]
  },
  {
   "cell_type": "code",
   "execution_count": 37,
   "metadata": {},
   "outputs": [],
   "source": [
    "import requests\n",
    "from lxml import etree"
   ]
  },
  {
   "cell_type": "code",
   "execution_count": 62,
   "metadata": {},
   "outputs": [],
   "source": [
    "url = 'http://www.santostang.com/'\n",
    "headers = {\"User-Agent\": \"Mozilla/5.0 (Windows NT 10.0; Win64; x64) AppleWebKit/537.36 (KHTML, like Gecko) Chrome/73.0.3683.103 Safari/537.36\"} "
   ]
  },
  {
   "cell_type": "code",
   "execution_count": 63,
   "metadata": {},
   "outputs": [
    {
     "data": {
      "text/plain": [
       "'<!DOCTYPE html>\\n<html lang=\"zh-CN\">\\n<head>\\n<meta charset=\"UTF-8\">\\n<meta http-equiv=\"X-UA-Compatible\" content=\"IE=edge\">\\n<meta name=\"viewport\" content=\"width=device-width, initial-scale=1, maximum-scale=1\">\\n<title>Santos Tang</title>\\n<meta name=\"description\" content=\"Python网络爬虫：从入门到实践 官方网站及个人博客\" />\\n<meta name=\"keywords\" content=\"Python网络爬虫, Python爬虫, Python, 爬虫, 数据科学, 数据挖掘, 数据分析, santostang, Santos Tang, 唐松, Song Tang\" />\\n<link rel=\"apple-touch-icon\" href=\"http://www.santostang.com/wp-content/themes/SongStyle-Two/images/icon_32.png\">\\n<link rel=\"apple-touch-icon\" sizes=\"152x152\" href=\"http://www.santostang.com/wp-content/themes/SongStyle-Two/images/icon_152.png\">\\n<link rel=\"apple-touch-icon\" sizes=\"167x167\" href=\"http://www.santostang.com/wp-content/themes/SongStyle-Two/images/icon_167.png\">\\n<link rel=\"apple-touch-icon\" sizes=\"180x180\" href=\"http://www.santostang.com/wp-content/themes/SongStyle-Two/images/icon_180.png\">\\n<link rel=\"icon\" href=\"http://www.santostang.com/wp-content/themes/SongStyle-Two/images/icon_32.png\" type=\"image/x-icon\">\\n<link rel=\"stylesheet\" href=\"http://www.santostang.com/wp-content/themes/SongStyle-Two/css/bootstrap.min.css\">\\n<link rel=\"stylesheet\" href=\"http://www.santostang.com/wp-content/themes/SongStyle-Two/css/fontawesome.min.css\">\\n<link rel=\"stylesheet\" href=\"http://www.santostang.com/wp-content/themes/SongStyle-Two/style.css\">\\n<link rel=\"pingback\" href=\"http://www.santostang.com/xmlrpc.php\" />\\n<style type=\"text/css\">\\na{color:#1e73be}\\na:hover{color:#2980b9!important}\\n#header{background-color:#1e73be}\\n.widget .widget-title::after{background-color:#1e73be}\\n.uptop{border-left-color:#1e73be}\\n#titleBar .toggle:before{background:#1e73be}\\n</style>\\n</head>\\n\\n<body>\\n<header id=\"header\">\\n    <div class=\"avatar\"><a href=\"http://www.santostang.com\" title=\"Santos Tang\"><img src=\"http://www.santostang.com/wp-content/uploads/2019/06/me.jpg\" alt=\"Santos Tang\" class=\"img-circle\" width=\"50%\"></a></div>\\n    <h1 id=\"name\">Santos Tang</h1>\\n    <div class=\"sns\">\\n                <a href=\"https://weibo.com/santostang\" target=\"_blank\" rel=\"nofollow\" data-toggle=\"tooltip\" data-placement=\"top\" title=\"Weibo\"><i class=\"fab fa-weibo\"></i></a>        <a href=\"https://www.linkedin.com/in/santostang\" target=\"_blank\" rel=\"nofollow\" data-toggle=\"tooltip\" data-placement=\"top\" title=\"Linkedin\"><i class=\"fab fa-linkedin\"></i></a>        <a href=\"https://www.zhihu.com/people/santostang\" target=\"_blank\" rel=\"nofollow\" data-toggle=\"tooltip\" data-placement=\"top\" title=\"Zhihu\"><i class=\"fab fa-zhihu\"></i></a>        <a href=\"https://github.com/santostang\" target=\"_blank\" rel=\"nofollow\" data-toggle=\"tooltip\" data-placement=\"top\" title=\"GitHub\"><i class=\"fab fa-github-alt\"></i></a>    </div>\\n    <div class=\"nav\">\\n        <ul><li><a href=\"http://www.santostang.com/\">首页</a></li>\\n<li><a href=\"http://www.santostang.com/aboutme/\">关于我</a></li>\\n<li><a href=\"http://www.santostang.com/python%e7%bd%91%e7%bb%9c%e7%88%ac%e8%99%ab%e4%bb%a3%e7%a0%81/\">爬虫书代码</a></li>\\n<li><a href=\"http://www.santostang.com/%e5%8a%a0%e6%88%91%e5%be%ae%e4%bf%a1/\">加我微信</a></li>\\n<li><a href=\"https://santostang.github.io/\">EnglishSite</a></li>\\n</ul>    </div>\\n        <div class=\"weixin\">\\n        <img src=\"http://www.santostang.com/wp-content/uploads/2019/06/qrcode_for_gh_370f70791e19_258.jpg\" alt=\"微信公众号\" width=\"50%\">\\n        <p>微信公众号</p>\\n    </div>\\n    </header>\\n<div id=\"main\">\\n    <div class=\"row box\">\\n        <div class=\"col-md-8\">\\n                                <h2 class=\"uptop\"><i class=\"fas fa-arrow-circle-up\"></i> <a href=\"http://www.santostang.com/2018/07/11/%e3%80%8a%e7%bd%91%e7%bb%9c%e7%88%ac%e8%99%ab%ef%bc%9a%e4%bb%8e%e5%85%a5%e9%97%a8%e5%88%b0%e5%ae%9e%e8%b7%b5%e3%80%8b%e4%b8%80%e4%b9%a6%e5%8b%98%e8%af%af/\" target=\"_blank\">《网络爬虫：从入门到实践》一书勘误</a></h2>\\n                                                <article class=\"article-list-1 clearfix\">\\n                <header class=\"clearfix\">\\n                    <h1 class=\"post-title\"><a href=\"http://www.santostang.com/2018/07/15/4-3-%e9%80%9a%e8%bf%87selenium-%e6%a8%a1%e6%8b%9f%e6%b5%8f%e8%a7%88%e5%99%a8%e6%8a%93%e5%8f%96/\">第四章 &#8211; 4.3 通过selenium 模拟浏览器抓取</a></h1>\\n                    <div class=\"post-meta\">\\n                        <span class=\"meta-span\"><i class=\"far fa-calendar-alt\"></i> 07月15日</span>\\n                        <span class=\"meta-span\"><i class=\"far fa-folder\"></i> <a href=\"http://www.santostang.com/category/python-%e7%bd%91%e7%bb%9c%e7%88%ac%e8%99%ab/\" rel=\"category tag\">Python 网络爬虫</a></span>\\n                        <span class=\"meta-span\"><i class=\"fas fa-comments\"></i> <a href=\"http://www.santostang.com/2018/07/15/4-3-%e9%80%9a%e8%bf%87selenium-%e6%a8%a1%e6%8b%9f%e6%b5%8f%e8%a7%88%e5%99%a8%e6%8a%93%e5%8f%96/#respond\">没有评论</a></span>\\n                        <span class=\"meta-span hidden-xs\"><i class=\"fas fa-tags\"></i> </span>\\n                    </div>\\n                </header>\\n                <div class=\"post-content clearfix\">\\n                    <p>4.3 通过selenium 模拟浏览器抓取\\n\\n在上述的例子中，使用Chrome“检查”功能找到源地址还十分容易。但是有一些网站非常复杂，例如前面的天猫产品评论，使用“检查”功能很难找到调用的网页地址。除此之外，有一些数据...</p>\\n                </div>\\n            </article>\\n                                                <article class=\"article-list-1 clearfix\">\\n                <header class=\"clearfix\">\\n                    <h1 class=\"post-title\"><a href=\"http://www.santostang.com/2018/07/14/4-2-%e8%a7%a3%e6%9e%90%e7%9c%9f%e5%ae%9e%e5%9c%b0%e5%9d%80%e6%8a%93%e5%8f%96/\">第四章 &#8211; 4.2 解析真实地址抓取</a></h1>\\n                    <div class=\"post-meta\">\\n                        <span class=\"meta-span\"><i class=\"far fa-calendar-alt\"></i> 07月14日</span>\\n                        <span class=\"meta-span\"><i class=\"far fa-folder\"></i> <a href=\"http://www.santostang.com/category/python-%e7%bd%91%e7%bb%9c%e7%88%ac%e8%99%ab/\" rel=\"category tag\">Python 网络爬虫</a></span>\\n                        <span class=\"meta-span\"><i class=\"fas fa-comments\"></i> <a href=\"http://www.santostang.com/2018/07/14/4-2-%e8%a7%a3%e6%9e%90%e7%9c%9f%e5%ae%9e%e5%9c%b0%e5%9d%80%e6%8a%93%e5%8f%96/#respond\">没有评论</a></span>\\n                        <span class=\"meta-span hidden-xs\"><i class=\"fas fa-tags\"></i> <a href=\"http://www.santostang.com/tag/ajax/\" rel=\"tag\">ajax</a>,<a href=\"http://www.santostang.com/tag/python/\" rel=\"tag\">python</a>,<a href=\"http://www.santostang.com/tag/%e7%bd%91%e7%bb%9c%e7%88%ac%e8%99%ab/\" rel=\"tag\">网络爬虫</a>,<a href=\"http://www.santostang.com/tag/%e7%bd%91%e9%a1%b5%e7%88%ac%e8%99%ab/\" rel=\"tag\">网页爬虫</a>,<a href=\"http://www.santostang.com/tag/%e8%a7%a3%e6%9e%90%e5%9c%b0%e5%9d%80/\" rel=\"tag\">解析地址</a></span>\\n                    </div>\\n                </header>\\n                <div class=\"post-content clearfix\">\\n                    <p>由于网易云跟帖停止服务，现在已经在此处中更新了新写的第四章。请参照文章：\\n4.2 解析真实地址抓取\\n虽然数据并没有出现在网页源代码中，我们也可以找到数据的真实地址，请求这个真实地址也可以获得想要的数据。...</p>\\n                </div>\\n            </article>\\n                                                <article class=\"article-list-1 clearfix\">\\n                <header class=\"clearfix\">\\n                    <h1 class=\"post-title\"><a href=\"http://www.santostang.com/2018/07/14/%e7%ac%ac%e5%9b%9b%e7%ab%a0%ef%bc%9a%e5%8a%a8%e6%80%81%e7%bd%91%e9%a1%b5%e6%8a%93%e5%8f%96-%e8%a7%a3%e6%9e%90%e7%9c%9f%e5%ae%9e%e5%9c%b0%e5%9d%80-selenium/\">第四章- 动态网页抓取 (解析真实地址 + selenium)</a></h1>\\n                    <div class=\"post-meta\">\\n                        <span class=\"meta-span\"><i class=\"far fa-calendar-alt\"></i> 07月14日</span>\\n                        <span class=\"meta-span\"><i class=\"far fa-folder\"></i> <a href=\"http://www.santostang.com/category/python-%e7%bd%91%e7%bb%9c%e7%88%ac%e8%99%ab/\" rel=\"category tag\">Python 网络爬虫</a></span>\\n                        <span class=\"meta-span\"><i class=\"fas fa-comments\"></i> <a href=\"http://www.santostang.com/2018/07/14/%e7%ac%ac%e5%9b%9b%e7%ab%a0%ef%bc%9a%e5%8a%a8%e6%80%81%e7%bd%91%e9%a1%b5%e6%8a%93%e5%8f%96-%e8%a7%a3%e6%9e%90%e7%9c%9f%e5%ae%9e%e5%9c%b0%e5%9d%80-selenium/#respond\">没有评论</a></span>\\n                        <span class=\"meta-span hidden-xs\"><i class=\"fas fa-tags\"></i> <a href=\"http://www.santostang.com/tag/ajax/\" rel=\"tag\">ajax</a>,<a href=\"http://www.santostang.com/tag/javascript/\" rel=\"tag\">javascript</a>,<a href=\"http://www.santostang.com/tag/python/\" rel=\"tag\">python</a>,<a href=\"http://www.santostang.com/tag/selenium/\" rel=\"tag\">selenium</a>,<a href=\"http://www.santostang.com/tag/%e7%bd%91%e7%bb%9c%e7%88%ac%e8%99%ab/\" rel=\"tag\">网络爬虫</a></span>\\n                    </div>\\n                </header>\\n                <div class=\"post-content clearfix\">\\n                    <p>由于网易云跟帖停止服务，现在已经在此处中更新了新写的第四章。请参照文章：\\n前面爬取的网页均为静态网页，这样的网页在浏览器中展示的内容都在HTML源代码中。但是，由于主流网站都使用JavaScript展现网页内容，...</p>\\n                </div>\\n            </article>\\n                                                <article class=\"article-list-1 clearfix\">\\n                <header class=\"clearfix\">\\n                    <h1 class=\"post-title\"><a href=\"http://www.santostang.com/2018/07/04/hello-world/\">Hello world!</a></h1>\\n                    <div class=\"post-meta\">\\n                        <span class=\"meta-span\"><i class=\"far fa-calendar-alt\"></i> 07月04日</span>\\n                        <span class=\"meta-span\"><i class=\"far fa-folder\"></i> <a href=\"http://www.santostang.com/category/python-%e7%bd%91%e7%bb%9c%e7%88%ac%e8%99%ab/\" rel=\"category tag\">Python 网络爬虫</a></span>\\n                        <span class=\"meta-span\"><i class=\"fas fa-comments\"></i> <a href=\"http://www.santostang.com/2018/07/04/hello-world/#comments\">1条评论</a></span>\\n                        <span class=\"meta-span hidden-xs\"><i class=\"fas fa-tags\"></i> </span>\\n                    </div>\\n                </header>\\n                <div class=\"post-content clearfix\">\\n                    <p>Welcome to WordPress. This is your first post. Edit or delete it, then start writing!\\n各位读者，由于网易云跟帖在本书出版后已经停止服务，书中的第四章已经无法使用。所以我将本书的评论系统换成了来必力...</p>\\n                </div>\\n            </article>\\n                                    <nav style=\"float:right\">\\n                            </nav>\\n        </div>\\n        <div class=\"col-md-4 hidden-xs hidden-sm\">\\n            <aside class=\"widget clearfix\">\\n    <form id=\"searchform\" action=\"http://www.santostang.com\">\\n        <div class=\"input-group\">\\n            <input type=\"search\" class=\"form-control\" placeholder=\"搜索…\" value=\"\" name=\"s\">\\n            <span class=\"input-group-btn\"><button class=\"btn btn-default\" type=\"submit\"><i class=\"fas fa-search\"></i></button></span>\\n        </div>\\n    </form>\\n</aside>\\n<aside class=\"widget clearfix\">\\n    <h4 class=\"widget-title\">文章分类</h4>\\n    <ul class=\"widget-cat\">\\n        \\t<li class=\"cat-item cat-item-2\"><a href=\"http://www.santostang.com/category/python-%e7%bd%91%e7%bb%9c%e7%88%ac%e8%99%ab/\" >Python 网络爬虫</a> (5)\\n</li>\\n    </ul>\\n</aside>\\n<aside class=\"widget clearfix\">\\n    <h4 class=\"widget-title\">热门文章</h4>\\n    <ul class=\"widget-hot\">\\n            </ul>\\n</aside>\\n<aside class=\"widget clearfix\">\\n    <h4 class=\"widget-title\">随机推荐</h4>\\n    <ul class=\"widget-hot\">\\n            <li><a href=\"http://www.santostang.com/2018/07/14/%e7%ac%ac%e5%9b%9b%e7%ab%a0%ef%bc%9a%e5%8a%a8%e6%80%81%e7%bd%91%e9%a1%b5%e6%8a%93%e5%8f%96-%e8%a7%a3%e6%9e%90%e7%9c%9f%e5%ae%9e%e5%9c%b0%e5%9d%80-selenium/\" title=\"第四章- 动态网页抓取 (解析真实地址 + selenium)\">第四章- 动态网页抓取 (解析真实地址 + selenium)</a></li>\\n            <li><a href=\"http://www.santostang.com/2018/07/15/4-3-%e9%80%9a%e8%bf%87selenium-%e6%a8%a1%e6%8b%9f%e6%b5%8f%e8%a7%88%e5%99%a8%e6%8a%93%e5%8f%96/\" title=\"第四章 &#8211; 4.3 通过selenium 模拟浏览器抓取\">第四章 &#8211; 4.3 通过selenium 模拟浏览器抓取</a></li>\\n            <li><a href=\"http://www.santostang.com/2018/07/04/hello-world/\" title=\"Hello world!\">Hello world!</a></li>\\n            <li><a href=\"http://www.santostang.com/2018/07/11/%e3%80%8a%e7%bd%91%e7%bb%9c%e7%88%ac%e8%99%ab%ef%bc%9a%e4%bb%8e%e5%85%a5%e9%97%a8%e5%88%b0%e5%ae%9e%e8%b7%b5%e3%80%8b%e4%b8%80%e4%b9%a6%e5%8b%98%e8%af%af/\" title=\"《网络爬虫：从入门到实践》一书勘误\">《网络爬虫：从入门到实践》一书勘误</a></li>\\n            <li><a href=\"http://www.santostang.com/2018/07/14/4-2-%e8%a7%a3%e6%9e%90%e7%9c%9f%e5%ae%9e%e5%9c%b0%e5%9d%80%e6%8a%93%e5%8f%96/\" title=\"第四章 &#8211; 4.2 解析真实地址抓取\">第四章 &#8211; 4.2 解析真实地址抓取</a></li>\\n        </ul>\\n</aside>\\n<aside class=\"widget clearfix\">\\n    <h4 class=\"widget-title\">标签云</h4>\\n    <div class=\"widget-tags\">\\n        <a href=\"http://www.santostang.com/tag/ajax/\" class=\"tag-cloud-link tag-link-3 tag-link-position-1\" style=\"color:#ef8d56;font-size: 22pt;\" aria-label=\"ajax (2个项目);\">ajax</a>\\n<a href=\"http://www.santostang.com/tag/javascript/\" class=\"tag-cloud-link tag-link-4 tag-link-position-2\" style=\"color:#840756;font-size: 8pt;\" aria-label=\"javascript (1个项目);\">javascript</a>\\n<a href=\"http://www.santostang.com/tag/python/\" class=\"tag-cloud-link tag-link-5 tag-link-position-3\" style=\"color:#b86019;font-size: 22pt;\" aria-label=\"python (2个项目);\">python</a>\\n<a href=\"http://www.santostang.com/tag/selenium/\" class=\"tag-cloud-link tag-link-6 tag-link-position-4\" style=\"color:#ca6af6;font-size: 8pt;\" aria-label=\"selenium (1个项目);\">selenium</a>\\n<a href=\"http://www.santostang.com/tag/%e7%bd%91%e7%bb%9c%e7%88%ac%e8%99%ab/\" class=\"tag-cloud-link tag-link-8 tag-link-position-5\" style=\"color:#9c48cd;font-size: 22pt;\" aria-label=\"网络爬虫 (2个项目);\">网络爬虫</a>\\n<a href=\"http://www.santostang.com/tag/%e7%bd%91%e9%a1%b5%e7%88%ac%e8%99%ab/\" class=\"tag-cloud-link tag-link-9 tag-link-position-6\" style=\"color:#160d1;font-size: 8pt;\" aria-label=\"网页爬虫 (1个项目);\">网页爬虫</a>\\n<a href=\"http://www.santostang.com/tag/%e8%a7%a3%e6%9e%90%e5%9c%b0%e5%9d%80/\" class=\"tag-cloud-link tag-link-10 tag-link-position-7\" style=\"color:#798c18;font-size: 8pt;\" aria-label=\"解析地址 (1个项目);\">解析地址</a>    </div>\\n</aside>\\n<aside class=\"widget clearfix\">\\n    <h4 class=\"widget-title\">友情链接</h4>\\n    <ul class=\"widget-links\">\\n            </ul>\\n</aside>\\n        </div>\\n    </div>\\n</div>\\n<div class=\"footer_search visible-xs visible-sm\">\\n    <form id=\"searchform\" action=\"http://www.santostang.com\">\\n        <div class=\"input-group\">\\n            <input type=\"search\" class=\"form-control\" placeholder=\"搜索…\" value=\"\" name=\"s\">\\n            <span class=\"input-group-btn\"><button class=\"btn btn-default\" type=\"submit\"><i class=\"fas fa-search\"></i></button></span>\\n        </div>\\n    </form>\\n</div>\\n<footer id=\"footer\">\\n    <div class=\"copyright\">\\n        <p><i class=\"far fa-copyright\"></i> 2019 <b>数据科学@唐松 | 粤ICP备19068356号</b></p>\\n        <p>Powered by <b>WordPress</b>. Theme by <a href=\"https://tangjie.me/jiestyle-two\" data-toggle=\"tooltip\" data-placement=\"top\" title=\"WordPress 主题模板\" target=\"_blank\"><b>JieStyle Two</b></a> | </p>\\n    </div>\\n    <div style=\"display:none;\"></div>\\n</footer>\\n<script type=\"text/javascript\" src=\"http://www.santostang.com/wp-content/themes/SongStyle-Two/js/jquery.min.js\"></script>\\n<script type=\"text/javascript\" src=\"http://www.santostang.com/wp-content/themes/SongStyle-Two/js/bootstrap.min.js\"></script>\\n<script type=\"text/javascript\" src=\"http://www.santostang.com/wp-content/themes/SongStyle-Two/js/skel.min.js\"></script>\\n<script type=\"text/javascript\" src=\"http://www.santostang.com/wp-content/themes/SongStyle-Two/js/util.min.js\"></script>\\n<script type=\"text/javascript\" src=\"http://www.santostang.com/wp-content/themes/SongStyle-Two/js/nav.js\"></script>\\n<script>\\n$(function() {\\n    $(\\'[data-toggle=\"tooltip\"]\\').tooltip()\\n});\\n</script>\\n<script>\\n(function(){\\n    var bp = document.createElement(\\'script\\');\\n    var curProtocol = window.location.protocol.split(\\':\\')[0];\\n    if (curProtocol === \\'https\\') {\\n        bp.src = \\'https://zz.bdstatic.com/linksubmit/push.js\\';\\n    }\\n    else {\\n        bp.src = \\'http://push.zhanzhang.baidu.com/push.js\\';\\n    }\\n    var s = document.getElementsByTagName(\"script\")[0];\\n    s.parentNode.insertBefore(bp, s);\\n})();\\n</script>\\n<script>\\nvar _hmt = _hmt || [];\\n(function() {\\n  var hm = document.createElement(\"script\");\\n  hm.src = \"https://hm.baidu.com/hm.js?752e310cec7906ba7afeb24cd7114c48\";\\n  var s = document.getElementsByTagName(\"script\")[0]; \\n  s.parentNode.insertBefore(hm, s);\\n})();\\n</script>\\n</body>\\n</html>'"
      ]
     },
     "execution_count": 63,
     "metadata": {},
     "output_type": "execute_result"
    }
   ],
   "source": [
    "r = requests.get(url, headers=headers)\n",
    "r.text"
   ]
  },
  {
   "cell_type": "markdown",
   "metadata": {},
   "source": [
    "**使用lxml**"
   ]
  },
  {
   "cell_type": "code",
   "execution_count": 50,
   "metadata": {},
   "outputs": [
    {
     "data": {
      "text/plain": [
       "['第四章 – 4.3 通过selenium 模拟浏览器抓取',\n",
       " '第四章 – 4.2 解析真实地址抓取',\n",
       " '第四章- 动态网页抓取 (解析真实地址 + selenium)',\n",
       " 'Hello world!']"
      ]
     },
     "execution_count": 50,
     "metadata": {},
     "output_type": "execute_result"
    }
   ],
   "source": [
    "html = etree.HTML(r.text)\n",
    "title_list = html.xpath('//h1[@class=\"post-title\"]/a/text()')  # //h1表示选取所有<h1>子元素\n",
    "title_list"
   ]
  },
  {
   "cell_type": "code",
   "execution_count": 66,
   "metadata": {},
   "outputs": [
    {
     "data": {
      "text/plain": [
       "['http://www.santostang.com/2018/07/15/4-3-%e9%80%9a%e8%bf%87selenium-%e6%a8%a1%e6%8b%9f%e6%b5%8f%e8%a7%88%e5%99%a8%e6%8a%93%e5%8f%96/']"
      ]
     },
     "execution_count": 66,
     "metadata": {},
     "output_type": "execute_result"
    }
   ],
   "source": [
    "html.xpath('//*[@id=\"main\"]/div/div[1]/article[1]/header/h1/a/@href')"
   ]
  },
  {
   "cell_type": "code",
   "execution_count": 77,
   "metadata": {},
   "outputs": [
    {
     "data": {
      "text/plain": [
       "['Python 网络爬虫',\n",
       " '没有评论',\n",
       " 'Python 网络爬虫',\n",
       " '没有评论',\n",
       " 'ajax',\n",
       " 'python',\n",
       " '网络爬虫',\n",
       " '网页爬虫',\n",
       " '解析地址',\n",
       " 'Python 网络爬虫',\n",
       " '没有评论',\n",
       " 'ajax',\n",
       " 'javascript',\n",
       " 'python',\n",
       " 'selenium',\n",
       " '网络爬虫',\n",
       " 'Python 网络爬虫',\n",
       " '1条评论']"
      ]
     },
     "execution_count": 77,
     "metadata": {},
     "output_type": "execute_result"
    }
   ],
   "source": [
    "html.xpath('//div[@class=\"post-meta\"]/span/a/text()')"
   ]
  },
  {
   "cell_type": "code",
   "execution_count": 87,
   "metadata": {},
   "outputs": [
    {
     "data": {
      "text/plain": [
       "[<Element div at 0x16e5e686988>]"
      ]
     },
     "execution_count": 87,
     "metadata": {},
     "output_type": "execute_result"
    }
   ],
   "source": [
    "html.xpath('//*[@id=\"main\"]/div/div[1]/article[1]/header/div')"
   ]
  },
  {
   "cell_type": "markdown",
   "metadata": {},
   "source": [
    "**总结**  \n",
    "![](https://github.com/JacobWongUED/DataScience-100-Days/blob/master/03_%E7%88%AC%E8%99%AB/img/xpath%E6%80%BB%E7%BB%93.png?raw=true)"
   ]
  },
  {
   "cell_type": "markdown",
   "metadata": {},
   "source": [
    "## 4.4 合肥安居客"
   ]
  },
  {
   "cell_type": "code",
   "execution_count": 84,
   "metadata": {},
   "outputs": [],
   "source": [
    "import requests\n",
    "import re\n",
    "from bs4 import BeautifulSoup\n",
    "from lxml import etree\n",
    "import time"
   ]
  },
  {
   "cell_type": "code",
   "execution_count": 85,
   "metadata": {},
   "outputs": [],
   "source": [
    "url = 'https://hf.anjuke.com/sale/p1/#filtersort'\n",
    "path = 'C:/Users/Wang/datasets/second_hand_house_HeFei/'\n",
    "headers = {\"User-Agent\": \"Mozilla/5.0 (Windows NT 10.0; Win64; x64) AppleWebKit/537.36 (KHTML, like Gecko) Chrome/73.0.3683.103 Safari/537.36\"} "
   ]
  },
  {
   "cell_type": "code",
   "execution_count": 86,
   "metadata": {},
   "outputs": [],
   "source": [
    "r = requests.get(url, headers=headers)"
   ]
  },
  {
   "cell_type": "markdown",
   "metadata": {},
   "source": [
    "**BeautifulSoup**"
   ]
  },
  {
   "cell_type": "code",
   "execution_count": 87,
   "metadata": {},
   "outputs": [
    {
     "data": {
      "text/plain": [
       "['https://hf.anjuke.com/prop/view/A1773267949?from=filter&spread=commsearch_p&uniqid=pc5d44fa15a4b7a9.07730491&position=1&kwtype=filter&now_time=1564801557',\n",
       " 'https://hf.anjuke.com/prop/view/A1789274731?from=filter&spread=commsearch_p&uniqid=pc5d44fa15a4bd01.95812603&position=2&kwtype=filter&now_time=1564801557',\n",
       " 'https://hf.anjuke.com/prop/view/A1787549635?from=filter&spread=commsearch_p&uniqid=pc5d44fa15a4bf63.71425362&position=3&kwtype=filter&now_time=1564801557',\n",
       " 'https://hf.anjuke.com/prop/view/A1765012832?from=filter&spread=commsearch_p&uniqid=pc5d44fa15a4c104.06743612&position=4&kwtype=filter&now_time=1564801557',\n",
       " 'https://hf.anjuke.com/prop/view/A1782035909?from=filter&spread=commsearch_p&uniqid=pc5d44fa15a4c282.52182688&position=5&kwtype=filter&now_time=1564801557',\n",
       " 'https://hf.anjuke.com/prop/view/A1784423930?from=filter&spread=commsearch_p&uniqid=pc5d44fa15a4c402.69972160&position=6&kwtype=filter&now_time=1564801557',\n",
       " 'https://hf.anjuke.com/prop/view/A1781489613?from=filter&spread=commsearch_p&uniqid=pc5d44fa15a4c571.72010988&position=7&kwtype=filter&now_time=1564801557',\n",
       " 'https://hf.anjuke.com/prop/view/A1768352321?from=filter&spread=commsearch_p&uniqid=pc5d44fa15a4c6d1.02622371&position=8&kwtype=filter&now_time=1564801557',\n",
       " 'https://hf.anjuke.com/prop/view/A1776536791?from=filter&spread=commsearch_p&uniqid=pc5d44fa15a4c858.31153107&position=9&kwtype=filter&now_time=1564801557',\n",
       " 'https://hf.anjuke.com/prop/view/A1785532798?from=filter&spread=commsearch_p&uniqid=pc5d44fa15a4c9e4.68368291&position=10&kwtype=filter&now_time=1564801557',\n",
       " 'https://hf.anjuke.com/prop/view/A1787031399?from=filter&spread=commsearch_p&uniqid=pc5d44fa15a4cb43.12607852&position=11&kwtype=filter&now_time=1564801557',\n",
       " 'https://hf.anjuke.com/prop/view/A1785498950?from=filter&spread=commsearch_p&uniqid=pc5d44fa15a4ccb0.57043126&position=12&kwtype=filter&now_time=1564801557',\n",
       " 'https://hf.anjuke.com/prop/view/A1738042074?from=filter&spread=commsearch_p&uniqid=pc5d44fa15a4ce29.08416005&position=13&kwtype=filter&now_time=1564801557',\n",
       " 'https://hf.anjuke.com/prop/view/A1782207422?from=filter&spread=commsearch_p&uniqid=pc5d44fa15a4cf91.28679713&position=14&kwtype=filter&now_time=1564801557',\n",
       " 'https://hf.anjuke.com/prop/view/A1743898745?from=filter&spread=commsearch_p&uniqid=pc5d44fa15a4d102.85362660&position=15&kwtype=filter&now_time=1564801557',\n",
       " 'https://hf.anjuke.com/prop/view/A1737469008?from=filter&spread=commsearch_p&uniqid=pc5d44fa15a4d264.92615686&position=16&kwtype=filter&now_time=1564801557',\n",
       " 'https://hf.anjuke.com/prop/view/A1787918750?from=filter&spread=commsearch_p&uniqid=pc5d44fa15a4d3b8.04945621&position=17&kwtype=filter&now_time=1564801557',\n",
       " 'https://hf.anjuke.com/prop/view/A1789504580?from=filter&spread=commsearch_p&uniqid=pc5d44fa15a4d516.80737238&position=18&kwtype=filter&now_time=1564801557',\n",
       " 'https://hf.anjuke.com/prop/view/A1787808250?from=filter&spread=commsearch_p&uniqid=pc5d44fa15a4d680.80307704&position=19&kwtype=filter&now_time=1564801557',\n",
       " 'https://hf.anjuke.com/prop/view/A1776877934?from=filter&spread=commsearch_p&uniqid=pc5d44fa15a4d7f6.91350830&position=20&kwtype=filter&now_time=1564801557',\n",
       " 'https://hf.anjuke.com/prop/view/A1770771947?from=filter&spread=commsearch_p&uniqid=pc5d44fa15a4d955.46427409&position=21&kwtype=filter&now_time=1564801557',\n",
       " 'https://hf.anjuke.com/prop/view/A1788274422?from=filter&spread=commsearch_p&uniqid=pc5d44fa15a4dab5.04968932&position=22&kwtype=filter&now_time=1564801557',\n",
       " 'https://hf.anjuke.com/prop/view/A1783686665?from=filter&spread=commsearch_p&uniqid=pc5d44fa15a4dc10.98226209&position=23&kwtype=filter&now_time=1564801557',\n",
       " 'https://hf.anjuke.com/prop/view/A1770488435?from=filter&spread=commsearch_p&uniqid=pc5d44fa15a4dd70.00929407&position=24&kwtype=filter&now_time=1564801557',\n",
       " 'https://hf.anjuke.com/prop/view/A1763377205?from=filter&spread=commsearch_p&uniqid=pc5d44fa15a4dee3.94148805&position=25&kwtype=filter&now_time=1564801557',\n",
       " 'https://hf.anjuke.com/prop/view/A1783890940?from=filter&spread=commsearch_p&uniqid=pc5d44fa15a4e041.40235184&position=26&kwtype=filter&now_time=1564801557',\n",
       " 'https://hf.anjuke.com/prop/view/A1780557401?from=filter&spread=commsearch_p&uniqid=pc5d44fa15a4e1a9.32236244&position=27&kwtype=filter&now_time=1564801557',\n",
       " 'https://hf.anjuke.com/prop/view/A1768159170?from=filter&spread=commsearch_p&uniqid=pc5d44fa15a4e313.67766836&position=28&kwtype=filter&now_time=1564801557',\n",
       " 'https://hf.anjuke.com/prop/view/A1784372528?from=filter&spread=commsearch_p&uniqid=pc5d44fa15a4e480.76239146&position=29&kwtype=filter&now_time=1564801557',\n",
       " 'https://hf.anjuke.com/prop/view/A1783417802?from=filter&spread=commsearch_p&uniqid=pc5d44fa15a4e5f0.53789947&position=30&kwtype=filter&now_time=1564801557',\n",
       " 'https://hf.anjuke.com/prop/view/A1770693945?from=filter&spread=commsearch_p&uniqid=pc5d44fa15a4e7f2.35819141&position=31&kwtype=filter&now_time=1564801557',\n",
       " 'https://hf.anjuke.com/prop/view/A1772745771?from=filter&spread=commsearch_p&uniqid=pc5d44fa15a4eb18.18871198&position=32&kwtype=filter&now_time=1564801557',\n",
       " 'https://hf.anjuke.com/prop/view/A1779965004?from=filter&spread=commsearch_p&uniqid=pc5d44fa15a4ee94.64746450&position=33&kwtype=filter&now_time=1564801557',\n",
       " 'https://hf.anjuke.com/prop/view/A1776446132?from=filter&spread=commsearch_p&uniqid=pc5d44fa15a4f1e2.37506302&position=34&kwtype=filter&now_time=1564801557',\n",
       " 'https://hf.anjuke.com/prop/view/A1786381618?from=filter&spread=commsearch_p&uniqid=pc5d44fa15a4f394.03529800&position=35&kwtype=filter&now_time=1564801557',\n",
       " 'https://hf.anjuke.com/prop/view/A1785058121?from=filter&spread=commsearch_p&uniqid=pc5d44fa15a4f533.26022593&position=36&kwtype=filter&now_time=1564801557',\n",
       " 'https://hf.anjuke.com/prop/view/A1788709770?from=filter&spread=commsearch_p&uniqid=pc5d44fa15a4f6c0.33920892&position=37&kwtype=filter&now_time=1564801557',\n",
       " 'https://hf.anjuke.com/prop/view/A1775515081?from=filter&spread=commsearch_p&uniqid=pc5d44fa15a4f848.14123741&position=38&kwtype=filter&now_time=1564801557',\n",
       " 'https://hf.anjuke.com/prop/view/A1769787658?from=filter&spread=commsearch_p&uniqid=pc5d44fa15a4f9d4.43792539&position=39&kwtype=filter&now_time=1564801557',\n",
       " 'https://hf.anjuke.com/prop/view/A1786962867?from=filter&spread=commsearch_p&uniqid=pc5d44fa15a4fb59.95233266&position=40&kwtype=filter&now_time=1564801557',\n",
       " 'https://hf.anjuke.com/prop/view/A1765992989?from=filter&spread=commsearch_p&uniqid=pc5d44fa15a4fcb2.26126291&position=41&kwtype=filter&now_time=1564801557',\n",
       " 'https://hf.anjuke.com/prop/view/A1787772624?from=filter&spread=commsearch_p&uniqid=pc5d44fa15a4fe30.23148987&position=42&kwtype=filter&now_time=1564801557',\n",
       " 'https://hf.anjuke.com/prop/view/A1766387035?from=filter&spread=commsearch_p&uniqid=pc5d44fa15a4ffe8.97493627&position=43&kwtype=filter&now_time=1564801557',\n",
       " 'https://hf.anjuke.com/prop/view/A1732310703?from=filter&spread=commsearch_p&uniqid=pc5d44fa15a50180.67040296&position=44&kwtype=filter&now_time=1564801557',\n",
       " 'https://hf.anjuke.com/prop/view/A1757080603?from=filter&spread=commsearch_p&uniqid=pc5d44fa15a50434.52053860&position=45&kwtype=filter&now_time=1564801557',\n",
       " 'https://hf.anjuke.com/prop/view/A1783226984?from=filter&spread=commsearch_p&uniqid=pc5d44fa15a505d6.39263067&position=46&kwtype=filter&now_time=1564801557',\n",
       " 'https://hf.anjuke.com/prop/view/A1772159082?from=filter&spread=commsearch_p&uniqid=pc5d44fa15a50772.97858953&position=47&kwtype=filter&now_time=1564801557',\n",
       " 'https://hf.anjuke.com/prop/view/A1756477389?from=filter&spread=commsearch_p&uniqid=pc5d44fa15a508f7.26878790&position=48&kwtype=filter&now_time=1564801557',\n",
       " 'https://hf.anjuke.com/prop/view/A1783720064?from=filter&spread=commsearch_p&uniqid=pc5d44fa15a50a60.89589516&position=49&kwtype=filter&now_time=1564801557',\n",
       " 'https://hf.anjuke.com/prop/view/A1786094138?from=filter&spread=commsearch_p&uniqid=pc5d44fa15a50bd9.55640127&position=50&kwtype=filter&now_time=1564801557',\n",
       " 'https://hf.anjuke.com/prop/view/A1771047868?from=filter&spread=commsearch_p&uniqid=pc5d44fa15a50d40.14476545&position=51&kwtype=filter&now_time=1564801557',\n",
       " 'https://hf.anjuke.com/prop/view/A1787976370?from=filter&spread=commsearch_p&uniqid=pc5d44fa15a50ea3.74329309&position=52&kwtype=filter&now_time=1564801557',\n",
       " 'https://hf.anjuke.com/prop/view/A1788224372?from=filter&spread=commsearch_p&uniqid=pc5d44fa15a51019.84994125&position=53&kwtype=filter&now_time=1564801557',\n",
       " 'https://hf.anjuke.com/prop/view/A1789805617?from=filter&spread=commsearch_p&uniqid=pc5d44fa15a51178.40696712&position=54&kwtype=filter&now_time=1564801557',\n",
       " 'https://hf.anjuke.com/prop/view/A1788480206?from=filter&spread=commsearch_p&uniqid=pc5d44fa15a512e5.87264300&position=55&kwtype=filter&now_time=1564801557',\n",
       " 'https://hf.anjuke.com/prop/view/A1777264363?from=filter&spread=commsearch_p&uniqid=pc5d44fa15a51446.46830345&position=56&kwtype=filter&now_time=1564801557',\n",
       " 'https://hf.anjuke.com/prop/view/A1788573242?from=filter&spread=commsearch_p&uniqid=pc5d44fa15a515a2.60098853&position=57&kwtype=filter&now_time=1564801557',\n",
       " 'https://hf.anjuke.com/prop/view/A1789518280?from=filter&spread=commsearch_p&uniqid=pc5d44fa15a51729.38485850&position=58&kwtype=filter&now_time=1564801557',\n",
       " 'https://hf.anjuke.com/prop/view/A1788713172?from=filter&spread=commsearch_p&uniqid=pc5d44fa15a51892.31666276&position=59&kwtype=filter&now_time=1564801557',\n",
       " 'https://hf.anjuke.com/prop/view/A1774049654?from=filter&spread=commsearch_p&uniqid=pc5d44fa15a51a14.76803218&position=60&kwtype=filter&now_time=1564801557']"
      ]
     },
     "execution_count": 87,
     "metadata": {},
     "output_type": "execute_result"
    }
   ],
   "source": [
    "soup = BeautifulSoup(r.text, 'html.parser')\n",
    "items = [each.a.attrs['href'] for each in soup.find_all('div', class_=\"house-title\")]\n",
    "items"
   ]
  },
  {
   "cell_type": "code",
   "execution_count": 88,
   "metadata": {},
   "outputs": [],
   "source": [
    "item_0 = requests.get(items[0], headers=headers)\n",
    "soup_0 = BeautifulSoup(item_0.text, 'html.parser')"
   ]
  },
  {
   "cell_type": "code",
   "execution_count": 93,
   "metadata": {},
   "outputs": [
    {
     "data": {
      "text/plain": [
       "['<span id=\"reference_monthpay\"></span>']"
      ]
     },
     "execution_count": 93,
     "metadata": {},
     "output_type": "execute_result"
    }
   ],
   "source": [
    "re.findall('<span id=\"reference_monthpay\">.*</span>', item_0.text)"
   ]
  },
  {
   "cell_type": "code",
   "execution_count": 89,
   "metadata": {},
   "outputs": [
    {
     "data": {
      "text/plain": [
       "['所属小区：',\n",
       " '房屋户型：',\n",
       " '房屋单价：',\n",
       " '所在位置：',\n",
       " '建筑面积：',\n",
       " '参考首付：',\n",
       " '建造年代：',\n",
       " '房屋朝向：',\n",
       " '参考月供：',\n",
       " '房屋类型：',\n",
       " '所在楼层：',\n",
       " '装修程度：',\n",
       " '产权年限：',\n",
       " '配套电梯：',\n",
       " '房本年限：',\n",
       " '产权性质：',\n",
       " '唯一住房：',\n",
       " '一手房源：']"
      ]
     },
     "execution_count": 89,
     "metadata": {},
     "output_type": "execute_result"
    }
   ],
   "source": [
    "[each.text.strip() for each in soup_0.find_all('div', class_='houseInfo-label text-overflow')]"
   ]
  },
  {
   "cell_type": "code",
   "execution_count": 90,
   "metadata": {},
   "outputs": [
    {
     "data": {
      "text/plain": [
       "['漕冲花园',\n",
       " '3室\\n\\t\\t\\t\\t2厅\\n\\t\\t\\t\\t1卫',\n",
       " '11125 元/m²',\n",
       " '瑶海－\\n                        保利东郡－\\n                        新安江路\\n\\ue003',\n",
       " '103.4平方米',\n",
       " '34.50万',\n",
       " '2010年',\n",
       " '南',\n",
       " '',\n",
       " '普通住宅',\n",
       " '中层(共6层)',\n",
       " '毛坯',\n",
       " '70年',\n",
       " '无',\n",
       " '满五年',\n",
       " '商品房住宅',\n",
       " '是',\n",
       " '否']"
      ]
     },
     "execution_count": 90,
     "metadata": {},
     "output_type": "execute_result"
    }
   ],
   "source": [
    "l = [each.text.strip() for each in soup_0.find_all('div', class_='houseInfo-content')]\n",
    "l"
   ]
  },
  {
   "cell_type": "code",
   "execution_count": 73,
   "metadata": {},
   "outputs": [
    {
     "data": {
      "text/plain": [
       "['光盛豪庭',\n",
       " '2室2厅1卫',\n",
       " '11890元/m²',\n",
       " '新站－七里塘－当涂北路',\n",
       " '83.3平方米',\n",
       " '29.70万',\n",
       " '2015年',\n",
       " '南北',\n",
       " '',\n",
       " '普通住宅',\n",
       " '中层(共18层)',\n",
       " '精装修',\n",
       " '70年',\n",
       " '有',\n",
       " '满二年',\n",
       " '商品房住宅',\n",
       " '否',\n",
       " '否']"
      ]
     },
     "execution_count": 73,
     "metadata": {},
     "output_type": "execute_result"
    }
   ],
   "source": [
    "[re.sub(r'[\\n|\\t| |\\ue003]', '', each) for each in l]"
   ]
  },
  {
   "cell_type": "code",
   "execution_count": 74,
   "metadata": {},
   "outputs": [
    {
     "data": {
      "text/plain": [
       "[]"
      ]
     },
     "execution_count": 74,
     "metadata": {},
     "output_type": "execute_result"
    }
   ],
   "source": [
    "[each.text.strip() for each in soup.find_all('span', id_=\"reference_monthpay\")]"
   ]
  },
  {
   "cell_type": "code",
   "execution_count": 77,
   "metadata": {},
   "outputs": [
    {
     "data": {
      "text/plain": [
       "[]"
      ]
     },
     "execution_count": 77,
     "metadata": {},
     "output_type": "execute_result"
    }
   ],
   "source": [
    "soup_0.find_all(re.compile(r'\\<span id=\"reference_monthpay\"\\>(.*)\\</span\\>'))"
   ]
  },
  {
   "cell_type": "code",
   "execution_count": 83,
   "metadata": {},
   "outputs": [
    {
     "data": {
      "text/plain": [
       "[<span class=\"city\">合肥</span>,\n",
       " <span class=\"city_icon\"></span>,\n",
       " <span class=\"mobile\">\n",
       "                 点击查看电话\n",
       "             </span>,\n",
       " <span class=\"light info-tag\"><em>99</em>万</span>,\n",
       " <span class=\"info-tag\"><em>2</em>室<em>2</em>厅</span>,\n",
       " <span class=\"info-tag\"><em>83.3</em>平方米</span>,\n",
       " <span class=\"info-tag no-border tag-cal\"><i class=\"iconfont viewpage-calculator\"></i>房贷计算</span>,\n",
       " <span>无忧交易</span>,\n",
       " <span id=\"prev-title\">室内图片</span>,\n",
       " <span id=\"next-title\">室内图片</span>,\n",
       " <span aria-label=\"time\" class=\"jp-current-time\" role=\"timer\"> </span>,\n",
       " <span class=\"jp-all-time\">/01:03</span>,\n",
       " <span>需要升级</span>,\n",
       " <span class=\"num\">(1)</span>,\n",
       " <span class=\"num\">(10)</span>,\n",
       " <span class=\"house-encode\"><span id=\"houseCode\">房屋编码： 1058940738788353，</span>发布时间：2019年07月25日</span>,\n",
       " <span id=\"houseCode\">房屋编码： 1058940738788353，</span>,\n",
       " <span id=\"reference_monthpay\"></span>,\n",
       " <span class=\"title-content\">核心卖点</span>,\n",
       " <span style=\"font-size:14px;\">.产权：70年产权，产权清晰<br/>2.房型：全明户型，南北通透<br/>3.交通：多路公交直达；地铁口<br/>小区介绍：交通便利，配套设施完善，是您长久置业的选择。选择一个梧桐环绕的美景社区；一个安逸平和的人居环境；一种蕴涵生活情调的品质居家方式，小区环境优美，采光充足，周边交通便利，适合居住生活。全天候的物业管理，您不用担心小区的安保问题，生活配套齐全。<br/>主要的是这是一套*，价格真实，平方真实，看房随时！！！</span>,\n",
       " <span class=\"title-content\">业主心态</span>,\n",
       " <span class=\"title-content\">服务介绍</span>,\n",
       " <span class=\"safe-word\">该经纪人已加入“无忧交易”保障，最高保额30万</span>,\n",
       " <span class=\"tags-service tags-money\">佣金最高≤1%</span>,\n",
       " <span class=\"tags-service\">有钥匙</span>,\n",
       " <span class=\"title\">关注人数</span>,\n",
       " <span class=\"count js-focus-count\"></span>,\n",
       " <span class=\"title\">近7天带看</span>,\n",
       " <span class=\"count js-sevenlook-count\"></span>,\n",
       " <span class=\"title\">近30天带看</span>,\n",
       " <span class=\"count js-monthlook-count\"></span>,\n",
       " <span>交通地段</span>,\n",
       " <span>餐饮购物</span>,\n",
       " <span>教育机构</span>,\n",
       " <span>医疗设施</span>,\n",
       " <span class=\"font-sm\">元</span>,\n",
       " <span>特色</span>,\n",
       " <span>不足</span>,\n",
       " <span>提问</span>,\n",
       " <span class=\"qa-brokername\" data-url=\"https://zhongshudichan.anjuke.com/gongsi-jjr-7382573/\">\n",
       "                                 黄金龙：</span>,\n",
       " <span>提问</span>,\n",
       " <span class=\"qa-brokername\" data-url=\"https://huiyuanfangchan4.anjuke.com/gongsi-jjr-5053724/\">\n",
       "                                 李文军：</span>,\n",
       " <span>提问</span>,\n",
       " <span class=\"qa-brokername\" data-url=\"https://sanliulingfangc.anjuke.com/gongsi-jjr-2340620/\">\n",
       "                                 郭会莲：</span>,\n",
       " <span>提问</span>,\n",
       " <span class=\"qa-brokername\" data-url=\"https://zhongshudichan.anjuke.com/gongsi-jjr-4872100/\">\n",
       "                                 夏鹏程：</span>,\n",
       " <span>提问</span>,\n",
       " <span class=\"qa-brokername\" data-url=\"https://chuangshijidichan3.anjuke.com/gongsi-jjr-5703269/\">\n",
       "                                 王星：</span>,\n",
       " <span>提问</span>,\n",
       " <span class=\"qa-brokername\" data-url=\"https://wanchengyijiafangchan1.anjuke.com/gongsi-jjr-5773440/\">\n",
       "                                 叶青：</span>,\n",
       " <span class=\"label\"><i class=\"iconfont icon-house\"></i>本房源</span>,\n",
       " <span class=\"avg\">11890</span>,\n",
       " <span class=\"price-stat\">比本小区<span class=\"status\">↑</span><span class=\"percent\"></span></span>,\n",
       " <span class=\"status\">↑</span>,\n",
       " <span class=\"percent\"></span>,\n",
       " <span class=\"avg\"></span>,\n",
       " <span class=\"price-stat\">环比<span class=\"month\">2</span>月<span class=\"status\">↑</span><span class=\"percent\">22%</span></span>,\n",
       " <span class=\"month\">2</span>,\n",
       " <span class=\"status\">↑</span>,\n",
       " <span class=\"percent\">22%</span>,\n",
       " <span class=\"avg\"></span>,\n",
       " <span class=\"price-stat\">环比<span class=\"month\">2</span>月<span class=\"status\">↑</span><span class=\"percent\"></span></span>,\n",
       " <span class=\"month\">2</span>,\n",
       " <span class=\"status\">↑</span>,\n",
       " <span class=\"percent\"></span>,\n",
       " <span>27,230</span>,\n",
       " <span>27,230</span>,\n",
       " <span>29.70</span>,\n",
       " <span>0成</span>,\n",
       " <span>69.30</span>,\n",
       " <span>成</span>,\n",
       " <span></span>,\n",
       " <span></span>,\n",
       " <span class=\"tip-text\">已加入无忧交易保障</span>,\n",
       " <span class=\"stars-title\">等级：</span>,\n",
       " <span></span>,\n",
       " <span class=\"brokercard-scoretitle\">得分：</span>,\n",
       " <span class=\"score-up clearfix no-pd-left\" style=\"border-width:0;padding-left:0;\">\n",
       " <em>房源：</em><em class=\"score-num\">5.0</em>\n",
       " </span>,\n",
       " <span class=\"score-up clearfix\" style=\"border-width:0;padding-left:0;\">\n",
       " <em>服务：</em><em class=\"score-num\">5.0</em>\n",
       " </span>,\n",
       " <span class=\"score-up clearfix no-bd-rg\" style=\"border-width:0;padding-left:0;\">\n",
       " <em>评价：</em><em class=\"score-num\">5.0</em>\n",
       " </span>,\n",
       " <span class=\"mg-r\">房源真实：<em class=\"score-num\">5.0</em><i class=\"score-tag\"></i></span>,\n",
       " <span>打败了91.8%的同城经纪人</span>,\n",
       " <span class=\"mg-r\">服务效率：<em class=\"score-num\">5.0</em><i class=\"score-tag\"></i></span>,\n",
       " <span>打败了59.7%的同城经纪人</span>,\n",
       " <span class=\"mg-r\">用户评价：<em class=\"score-num\">5.0</em><i class=\"score-tag\"></i></span>,\n",
       " <span>打败了0%的同城经纪人</span>,\n",
       " <span class=\"text-overflow\">壹号房产东湖山庄店...</span>,\n",
       " <span>提示</span>,\n",
       " <span class=\"iconfont iconfont22\"></span>,\n",
       " <span class=\"iconfont iconfont22\"></span>,\n",
       " <span class=\"iconfont\"></span>,\n",
       " <span class=\"iconfont\"></span>,\n",
       " <span class=\"iconfont\"></span>,\n",
       " <span class=\"iconfont\"></span>,\n",
       " <span class=\"iconfont\"></span>]"
      ]
     },
     "execution_count": 83,
     "metadata": {},
     "output_type": "execute_result"
    }
   ],
   "source": [
    "soup_0.find_all('span')"
   ]
  },
  {
   "cell_type": "code",
   "execution_count": 44,
   "metadata": {},
   "outputs": [
    {
     "data": {
      "text/plain": [
       "[]"
      ]
     },
     "execution_count": 44,
     "metadata": {},
     "output_type": "execute_result"
    }
   ],
   "source": [
    "soup.select('#reference_monthpay')"
   ]
  },
  {
   "cell_type": "code",
   "execution_count": 252,
   "metadata": {},
   "outputs": [
    {
     "data": {
      "text/plain": [
       "['https://hf.anjuke.com/prop/view/A1787773128?from=filter&spread=commsearch_p&uniqid=pc5d43ac0d45c1e8.69421070&position=1&kwtype=filter&now_time=1564716045',\n",
       " 'https://hf.anjuke.com/prop/view/A1780521914?from=filter&spread=commsearch_p&uniqid=pc5d43ac0d45c781.55909556&position=2&kwtype=filter&now_time=1564716045',\n",
       " 'https://hf.anjuke.com/prop/view/A1702245410?from=filter&spread=commsearch_p&uniqid=pc5d43ac0d45c977.82547758&position=3&kwtype=filter&now_time=1564716045',\n",
       " 'https://hf.anjuke.com/prop/view/A1783660135?from=filter&spread=commsearch_p&uniqid=pc5d43ac0d45cb07.12134836&position=4&kwtype=filter&now_time=1564716045',\n",
       " 'https://hf.anjuke.com/prop/view/A1780124558?from=filter&spread=commsearch_p&uniqid=pc5d43ac0d45cc93.08241436&position=5&kwtype=filter&now_time=1564716045',\n",
       " 'https://hf.anjuke.com/prop/view/A1773885722?from=filter&spread=commsearch_p&uniqid=pc5d43ac0d45ce31.34501401&position=6&kwtype=filter&now_time=1564716045',\n",
       " 'https://hf.anjuke.com/prop/view/A1768533653?from=filter&spread=commsearch_p&uniqid=pc5d43ac0d45cfc9.78047631&position=7&kwtype=filter&now_time=1564716045',\n",
       " 'https://hf.anjuke.com/prop/view/A1773594866?from=filter&spread=commsearch_p&uniqid=pc5d43ac0d45d123.80708923&position=8&kwtype=filter&now_time=1564716045',\n",
       " 'https://hf.anjuke.com/prop/view/A1787603644?from=filter&spread=commsearch_p&uniqid=pc5d43ac0d45d207.62786414&position=9&kwtype=filter&now_time=1564716045',\n",
       " 'https://hf.anjuke.com/prop/view/A1771951502?from=filter&spread=commsearch_p&uniqid=pc5d43ac0d45d2c2.38525565&position=10&kwtype=filter&now_time=1564716045',\n",
       " 'https://hf.anjuke.com/prop/view/A1780461258?from=filter&spread=commsearch_p&uniqid=pc5d43ac0d45d398.41455890&position=11&kwtype=filter&now_time=1564716045',\n",
       " 'https://hf.anjuke.com/prop/view/A1781820407?from=filter&spread=commsearch_p&uniqid=pc5d43ac0d45d453.78708286&position=12&kwtype=filter&now_time=1564716045',\n",
       " 'https://hf.anjuke.com/prop/view/A1779565063?from=filter&spread=commsearch_p&uniqid=pc5d43ac0d45d506.63048644&position=13&kwtype=filter&now_time=1564716045',\n",
       " 'https://hf.anjuke.com/prop/view/A1786948312?from=filter&spread=commsearch_p&uniqid=pc5d43ac0d45d5c4.52321233&position=14&kwtype=filter&now_time=1564716045',\n",
       " 'https://hf.anjuke.com/prop/view/A1772674617?from=filter&spread=commsearch_p&uniqid=pc5d43ac0d45d683.90166346&position=15&kwtype=filter&now_time=1564716045',\n",
       " 'https://hf.anjuke.com/prop/view/A1775515081?from=filter&spread=commsearch_p&uniqid=pc5d43ac0d45d741.26553531&position=16&kwtype=filter&now_time=1564716045',\n",
       " 'https://hf.anjuke.com/prop/view/A1787792677?from=filter&spread=commsearch_p&uniqid=pc5d43ac0d45d846.49003171&position=17&kwtype=filter&now_time=1564716045',\n",
       " 'https://hf.anjuke.com/prop/view/A1786368648?from=filter&spread=commsearch_p&uniqid=pc5d43ac0d45d988.61101802&position=18&kwtype=filter&now_time=1564716045',\n",
       " 'https://hf.anjuke.com/prop/view/A1782082493?from=filter&spread=commsearch_p&uniqid=pc5d43ac0d45da57.99517950&position=19&kwtype=filter&now_time=1564716045',\n",
       " 'https://hf.anjuke.com/prop/view/A1773905055?from=filter&spread=commsearch_p&uniqid=pc5d43ac0d45db19.78621655&position=20&kwtype=filter&now_time=1564716045',\n",
       " 'https://hf.anjuke.com/prop/view/A1776801627?from=filter&spread=commsearch_p&uniqid=pc5d43ac0d45dbd6.20407338&position=21&kwtype=filter&now_time=1564716045',\n",
       " 'https://hf.anjuke.com/prop/view/A1787972052?from=filter&spread=commsearch_p&uniqid=pc5d43ac0d45dc90.06239021&position=22&kwtype=filter&now_time=1564716045',\n",
       " 'https://hf.anjuke.com/prop/view/A1786970089?from=filter&spread=commsearch_p&uniqid=pc5d43ac0d45dd50.46554065&position=23&kwtype=filter&now_time=1564716045',\n",
       " 'https://hf.anjuke.com/prop/view/A1786025271?from=filter&spread=commsearch_p&uniqid=pc5d43ac0d45de12.64000173&position=24&kwtype=filter&now_time=1564716045',\n",
       " 'https://hf.anjuke.com/prop/view/A1759070093?from=filter&spread=commsearch_p&uniqid=pc5d43ac0d45dee9.35861475&position=25&kwtype=filter&now_time=1564716045',\n",
       " 'https://hf.anjuke.com/prop/view/A1763881646?from=filter&spread=commsearch_p&uniqid=pc5d43ac0d45dfa8.30902684&position=26&kwtype=filter&now_time=1564716045',\n",
       " 'https://hf.anjuke.com/prop/view/A1769724528?from=filter&spread=commsearch_p&uniqid=pc5d43ac0d45e058.86589076&position=27&kwtype=filter&now_time=1564716045',\n",
       " 'https://hf.anjuke.com/prop/view/A1779542094?from=filter&spread=commsearch_p&uniqid=pc5d43ac0d45e111.54001457&position=28&kwtype=filter&now_time=1564716045',\n",
       " 'https://hf.anjuke.com/prop/view/A1786422687?from=filter&spread=commsearch_p&uniqid=pc5d43ac0d45e1d3.16689087&position=29&kwtype=filter&now_time=1564716045',\n",
       " 'https://hf.anjuke.com/prop/view/A1787100110?from=filter&spread=commsearch_p&uniqid=pc5d43ac0d45e297.75734568&position=30&kwtype=filter&now_time=1564716045',\n",
       " 'https://hf.anjuke.com/prop/view/A1787400427?from=filter&spread=commsearch_p&uniqid=pc5d43ac0d45e355.32488138&position=31&kwtype=filter&now_time=1564716045',\n",
       " 'https://hf.anjuke.com/prop/view/A1776269421?from=filter&spread=commsearch_p&uniqid=pc5d43ac0d45e405.28953334&position=32&kwtype=filter&now_time=1564716045',\n",
       " 'https://hf.anjuke.com/prop/view/A1732310703?from=filter&spread=commsearch_p&uniqid=pc5d43ac0d45e4c8.06550590&position=33&kwtype=filter&now_time=1564716045',\n",
       " 'https://hf.anjuke.com/prop/view/A1777954091?from=filter&spread=commsearch_p&uniqid=pc5d43ac0d45e578.18827373&position=34&kwtype=filter&now_time=1564716045',\n",
       " 'https://hf.anjuke.com/prop/view/A1767496293?from=filter&spread=commsearch_p&uniqid=pc5d43ac0d45e632.17988478&position=35&kwtype=filter&now_time=1564716045',\n",
       " 'https://hf.anjuke.com/prop/view/A1786991444?from=filter&spread=commsearch_p&uniqid=pc5d43ac0d45e6f5.68792179&position=36&kwtype=filter&now_time=1564716045',\n",
       " 'https://hf.anjuke.com/prop/view/A1787799774?from=filter&spread=commsearch_p&uniqid=pc5d43ac0d45e7b9.41028804&position=37&kwtype=filter&now_time=1564716045',\n",
       " 'https://hf.anjuke.com/prop/view/A1779148289?from=filter&spread=commsearch_p&uniqid=pc5d43ac0d45e864.39839998&position=38&kwtype=filter&now_time=1564716045',\n",
       " 'https://hf.anjuke.com/prop/view/A1766411137?from=filter&spread=commsearch_p&uniqid=pc5d43ac0d45e926.39539673&position=39&kwtype=filter&now_time=1564716045',\n",
       " 'https://hf.anjuke.com/prop/view/A1774519364?from=filter&spread=commsearch_p&uniqid=pc5d43ac0d45e9d0.47140211&position=40&kwtype=filter&now_time=1564716045',\n",
       " 'https://hf.anjuke.com/prop/view/A1726955013?from=filter&spread=commsearch_p&uniqid=pc5d43ac0d45ea92.52215442&position=41&kwtype=filter&now_time=1564716045',\n",
       " 'https://hf.anjuke.com/prop/view/A1782436791?from=filter&spread=commsearch_p&uniqid=pc5d43ac0d45eb47.07886738&position=42&kwtype=filter&now_time=1564716045',\n",
       " 'https://hf.anjuke.com/prop/view/A1788196560?from=filter&spread=commsearch_p&uniqid=pc5d43ac0d45ec05.27048577&position=43&kwtype=filter&now_time=1564716045',\n",
       " 'https://hf.anjuke.com/prop/view/A1782758264?from=filter&spread=commsearch_p&uniqid=pc5d43ac0d45ecb2.29308241&position=44&kwtype=filter&now_time=1564716045',\n",
       " 'https://hf.anjuke.com/prop/view/A1779004225?from=filter&spread=commsearch_p&uniqid=pc5d43ac0d45ed77.48477244&position=45&kwtype=filter&now_time=1564716045',\n",
       " 'https://hf.anjuke.com/prop/view/A1787173445?from=filter&spread=commsearch_p&uniqid=pc5d43ac0d45ee28.96489498&position=46&kwtype=filter&now_time=1564716045',\n",
       " 'https://hf.anjuke.com/prop/view/A1774949399?from=filter&spread=commsearch_p&uniqid=pc5d43ac0d45eee4.14218430&position=47&kwtype=filter&now_time=1564716045',\n",
       " 'https://hf.anjuke.com/prop/view/A1767786131?from=filter&spread=commsearch_p&uniqid=pc5d43ac0d45ef94.54375230&position=48&kwtype=filter&now_time=1564716045',\n",
       " 'https://hf.anjuke.com/prop/view/A1785664038?from=filter&spread=commsearch_p&uniqid=pc5d43ac0d45f050.00322259&position=49&kwtype=filter&now_time=1564716045',\n",
       " 'https://hf.anjuke.com/prop/view/A1770676984?from=filter&spread=commsearch_p&uniqid=pc5d43ac0d45f113.58000380&position=50&kwtype=filter&now_time=1564716045',\n",
       " 'https://hf.anjuke.com/prop/view/A1768844865?from=filter&spread=commsearch_p&uniqid=pc5d43ac0d45f1c2.05461521&position=51&kwtype=filter&now_time=1564716045',\n",
       " 'https://hf.anjuke.com/prop/view/A1788378584?from=filter&spread=commsearch_p&uniqid=pc5d43ac0d45f286.02573050&position=52&kwtype=filter&now_time=1564716045',\n",
       " 'https://hf.anjuke.com/prop/view/A1776734495?from=filter&spread=commsearch_p&uniqid=pc5d43ac0d45f349.68552500&position=53&kwtype=filter&now_time=1564716045',\n",
       " 'https://hf.anjuke.com/prop/view/A1784768056?from=filter&spread=commsearch_p&uniqid=pc5d43ac0d45f3f3.87036494&position=54&kwtype=filter&now_time=1564716045',\n",
       " 'https://hf.anjuke.com/prop/view/A1749584851?from=filter&spread=commsearch_p&uniqid=pc5d43ac0d45f4b8.13234439&position=55&kwtype=filter&now_time=1564716045',\n",
       " 'https://hf.anjuke.com/prop/view/A1780185015?from=filter&spread=commsearch_p&uniqid=pc5d43ac0d45f573.80657321&position=56&kwtype=filter&now_time=1564716045',\n",
       " 'https://hf.anjuke.com/prop/view/A1783104112?from=filter&spread=commsearch_p&uniqid=pc5d43ac0d45f631.80755229&position=57&kwtype=filter&now_time=1564716045',\n",
       " 'https://hf.anjuke.com/prop/view/A1782565590?from=filter&spread=commsearch_p&uniqid=pc5d43ac0d45f6e6.31395622&position=58&kwtype=filter&now_time=1564716045',\n",
       " 'https://hf.anjuke.com/prop/view/A1788060927?from=filter&spread=commsearch_p&uniqid=pc5d43ac0d45f7a0.42519428&position=59&kwtype=filter&now_time=1564716045',\n",
       " 'https://hf.anjuke.com/prop/view/A1770333389?from=filter&spread=commsearch_p&uniqid=pc5d43ac0d45f855.21716205&position=60&kwtype=filter&now_time=1564716045']"
      ]
     },
     "execution_count": 252,
     "metadata": {},
     "output_type": "execute_result"
    }
   ],
   "source": [
    "html = etree.HTML(r.text)\n",
    "items = html.xpath('//div[@class=\"house-title\"]/a/@href')\n",
    "items"
   ]
  },
  {
   "cell_type": "code",
   "execution_count": 142,
   "metadata": {},
   "outputs": [],
   "source": []
  },
  {
   "cell_type": "code",
   "execution_count": 46,
   "metadata": {},
   "outputs": [],
   "source": [
    "r1 = requests.get(items[1], headers=headers)\n",
    "html1 = etree.HTML(r1.text)"
   ]
  },
  {
   "cell_type": "code",
   "execution_count": 47,
   "metadata": {},
   "outputs": [
    {
     "data": {
      "text/plain": [
       "['100', '3', '2', '89']"
      ]
     },
     "execution_count": 47,
     "metadata": {},
     "output_type": "execute_result"
    }
   ],
   "source": [
    "html1.xpath('//div[@class=\"basic-info clearfix\"]//span/em/text()')"
   ]
  },
  {
   "cell_type": "code",
   "execution_count": 48,
   "metadata": {},
   "outputs": [
    {
     "data": {
      "text/plain": [
       "['万', '室', '厅', '平方米', '房贷计算']"
      ]
     },
     "execution_count": 48,
     "metadata": {},
     "output_type": "execute_result"
    }
   ],
   "source": [
    "html1.xpath('//div[@class=\"basic-info clearfix\"]//span/text()')"
   ]
  },
  {
   "cell_type": "code",
   "execution_count": 49,
   "metadata": {},
   "outputs": [
    {
     "data": {
      "text/plain": [
       "['\\n      和睦湖对面东边户  采光很好  南边楼间距大  新小区环境好  ']"
      ]
     },
     "execution_count": 49,
     "metadata": {},
     "output_type": "execute_result"
    }
   ],
   "source": [
    "html1.xpath('//h3[@class=\"long-title\"]/text()')"
   ]
  },
  {
   "cell_type": "code",
   "execution_count": 50,
   "metadata": {},
   "outputs": [
    {
     "data": {
      "text/plain": [
       "['所属小区：\\n\\t\\t\\t\\n\\t\\t\\t\\t\\t\\t\\t\\t\\t城建琥珀庄园',\n",
       " '房屋户型：\\n\\t\\t\\t\\n\\t\\t\\t\\t3室\\n\\t\\t\\t\\t2厅\\n\\t\\t\\t\\t1卫',\n",
       " '房屋单价：\\n\\t\\t\\t11236 元/m²',\n",
       " '所在位置：\\n\\t\\t\\t\\n\\t\\t\\t\\t                    肥东－\\n                        肥东县城－\\n                        合店路89号\\n                                            \\ue003',\n",
       " '建筑面积：\\n\\t\\t\\t89平方米',\n",
       " '参考首付：\\n\\t\\t\\t\\n\\t\\t\\t\\t30.00万',\n",
       " '建造年代：\\n\\t\\t\\t\\n\\t\\t\\t\\t2018年',\n",
       " '房屋朝向：\\n\\t\\t\\t南北',\n",
       " '参考月供：',\n",
       " '房屋类型：\\n\\t\\t\\t普通住宅',\n",
       " '所在楼层：\\n\\t\\t\\t低层(共26层)',\n",
       " '装修程度：\\n\\t\\t\\t毛坯',\n",
       " '产权年限：\\n                70年',\n",
       " '配套电梯：\\n                有',\n",
       " '房本年限：\\n                不满二年',\n",
       " '产权性质：\\n                商品房住宅',\n",
       " '唯一住房：\\n                是',\n",
       " '一手房源：\\n                否']"
      ]
     },
     "execution_count": 50,
     "metadata": {},
     "output_type": "execute_result"
    }
   ],
   "source": [
    "[each.xpath('string(.)').strip() for each in html1.xpath('//div[@class=\"houseInfo-wrap\"]/ul//li')]"
   ]
  },
  {
   "cell_type": "code",
   "execution_count": 57,
   "metadata": {},
   "outputs": [
    {
     "data": {
      "text/plain": [
       "[]"
      ]
     },
     "execution_count": 57,
     "metadata": {},
     "output_type": "execute_result"
    }
   ],
   "source": [
    "html1.xpath('//*[@id=\"reference_monthpay\"]/*')"
   ]
  },
  {
   "cell_type": "markdown",
   "metadata": {},
   "source": [
    "## 4.5 消息提示"
   ]
  },
  {
   "cell_type": "code",
   "execution_count": 22,
   "metadata": {},
   "outputs": [],
   "source": [
    "import requests\n",
    "import json\n",
    "from bs4 import BeautifulSoup\n",
    "import requests, sys"
   ]
  },
  {
   "cell_type": "code",
   "execution_count": 23,
   "metadata": {},
   "outputs": [],
   "source": [
    "url = 'http://www.szsdyrmyy.com/ArticleList.aspx?C=59'\n",
    "headers = {\"User-Agent\": \"Mozilla/5.0 (Windows NT 10.0; Win64; x64) AppleWebKit/537.36 (KHTML, like Gecko) Chrome/73.0.3683.103 Safari/537.36\"} \n",
    "r = requests.get(url, headers=headers)\n",
    "flag = True"
   ]
  },
  {
   "cell_type": "code",
   "execution_count": 24,
   "metadata": {},
   "outputs": [],
   "source": [
    "soup = BeautifulSoup(r.text, 'html.parser')\n",
    "first_title = soup.find('li', class_='clearfix').p.a.text.strip()\n",
    "first_date = soup.find('li', class_='clearfix').span.text.strip()"
   ]
  },
  {
   "cell_type": "code",
   "execution_count": 26,
   "metadata": {},
   "outputs": [
    {
     "name": "stdout",
     "output_type": "stream",
     "text": [
      "b'{\\n  \"result\": 0,\\n  \"errmsg\": \"OK\"\\n}'\n"
     ]
    }
   ],
   "source": [
    "if flag:\n",
    "    if first_title != \"宿州第一人民医院 2019年公开招聘面试通知\" and first_date != '2019-07-25':\n",
    "        try:\n",
    "            host = 'https://chanyoo.market.alicloudapi.com'\n",
    "            path = '/sendsms'\n",
    "            method = 'GET'\n",
    "            appcode = '0875727e88474254ac487fc416d1a1a9'\n",
    "            querys = 'mobile=15656163585&content=您的手机号：15656163585，验证码：666666，请及时完成验证，如不是本人操作请忽略。【阿里云市场】'\n",
    "            bodys = {}\n",
    "            url = host + path + '?' + querys\n",
    "\n",
    "            headers = {'Authorization': 'APPCODE ' + appcode}\n",
    "            request = requests.get(url, headers=headers)\n",
    "            print(request.content)\n",
    "            \n",
    "            flag = False\n",
    "        except:\n",
    "            print(\"Failed\")"
   ]
  },
  {
   "cell_type": "code",
   "execution_count": null,
   "metadata": {},
   "outputs": [],
   "source": [
    "path = 'C:/Users/Wang/Desktop/'\n",
    "filename = 'log.txt'\n",
    "\n",
    "with open(path + filename, 'a') as file:\n",
    "    file.write(\"I'm working...\\n\")"
   ]
  },
  {
   "cell_type": "code",
   "execution_count": 21,
   "metadata": {},
   "outputs": [
    {
     "data": {
      "text/plain": [
       "'OK'"
      ]
     },
     "execution_count": 21,
     "metadata": {},
     "output_type": "execute_result"
    }
   ],
   "source": [
    "json.loads(.decode('utf-8'))['errmsg']"
   ]
  },
  {
   "cell_type": "code",
   "execution_count": 2,
   "metadata": {},
   "outputs": [],
   "source": [
    "import datetime\n",
    "\n",
    "now = datetime.datetime.now().strftime('%Y-%m-%d %H:%M:%S')\n",
    "path = 'C:/Users/Wang/Desktop/log.txt'\n",
    "\n",
    "with open(path, 'a') as file:\n",
    "    file.write(\"%s Hmm, I'm working...\\n\" % now)"
   ]
  },
  {
   "cell_type": "markdown",
   "metadata": {},
   "source": [
    "## 4.5 多点"
   ]
  },
  {
   "cell_type": "code",
   "execution_count": 1,
   "metadata": {},
   "outputs": [],
   "source": [
    "%matplotlib inline\n",
    "from selenium import webdriver\n",
    "import time\n",
    "import datetime\n",
    "import re\n",
    "import copy\n",
    "import pandas as pd\n",
    "from pandas import Series, DataFrame\n",
    "import numpy as np\n",
    "from numpy import arange, random, array"
   ]
  },
  {
   "cell_type": "markdown",
   "metadata": {},
   "source": [
    "### 4.5.1 模拟登陆"
   ]
  },
  {
   "cell_type": "code",
   "execution_count": 2,
   "metadata": {},
   "outputs": [],
   "source": [
    "path = r'C:\\ProgramData\\Anaconda3\\Scripts\\geckodriver.exe'\n",
    "url = 'https://i.dmall.com/#wxdmall/view/sorts/sorts'\n",
    "\n",
    "\n",
    "driver = webdriver.Firefox(executable_path = path)\n",
    "driver.implicitly_wait(20)\n",
    "\n",
    "driver.get(url)\n",
    "time.sleep(5)"
   ]
  },
  {
   "cell_type": "code",
   "execution_count": 6,
   "metadata": {},
   "outputs": [],
   "source": [
    "drink_btn = driver.find_element_by_xpath(\"/html/body/div[2]/div[2]/ul/li[7]\").click()"
   ]
  },
  {
   "cell_type": "code",
   "execution_count": 8,
   "metadata": {},
   "outputs": [],
   "source": [
    "imgs = driver.find_elements_by_css_selector(\"img.J_ItemImage\")"
   ]
  },
  {
   "cell_type": "code",
   "execution_count": 13,
   "metadata": {},
   "outputs": [
    {
     "name": "stdout",
     "output_type": "stream",
     "text": [
      "https://img.dmallcdn.com/20180607/8c0fbe74-7944-4402-bc7e-b3d7ed6b2fb5_240x240H\n",
      "https://img.dmallcdn.com/20181122/4b53927f-b8a0-46fd-a04e-c6e36dfa9657_240x240H\n",
      "https://img.dmallcdn.com/20190909/6e3a0eff-320d-42e1-86d7-de6f2d4e4876_240x240H\n",
      "https://img.dmallcdn.com/20180919/05f44328-9f31-4ec8-9a00-6542e50c79ed_240x240H\n",
      "https://img.dmallcdn.com/20180718/45bb6c21-3b7a-4942-a7ec-69e1b22d3ee4_240x240H\n",
      "https://img.dmallcdn.com/20170711/ad7c50aa-d132-404d-9de3-799adab02518_240x240H\n",
      "https://img.dmallcdn.com/20181126/f8de7243-882c-4516-9947-9ccd525eb53f_240x240H\n",
      "https://img.dmallcdn.com/20181024/3f7e11dd-3ee1-4913-b0d1-03016bb47002_240x240H\n",
      "https://img.dmallcdn.com/20180919/b7c6e642-62c7-4a58-b340-bbee56fbad6c_240x240H\n",
      "https://img.dmallcdn.com/20180703/22db46ea-6b8f-4e05-a08a-5d71a1fc6a28_240x240H\n",
      "https://img.dmallcdn.com/20170711/3f4004cc-838b-48fe-81fc-996de1c6b9a3_240x240H\n",
      "https://img.dmallcdn.com/20180912/114f4920-82bd-4d55-9ad8-cbab8fe89f8d_240x240H\n",
      "https://img.dmallcdn.com/20180718/75c70228-8170-4bde-b51b-020a23c2061a_240x240H\n",
      "https://img.dmallcdn.com/20190827/44d5e3b4-7d4d-4729-b997-f150b0665f0f_240x240H\n",
      "https://img.dmallcdn.com/20181126/e1d1339a-3cca-46d7-b9c5-1b40a032a5b5_240x240H\n",
      "https://img.dmallcdn.com/20180726/917789c2-e9ce-4f5e-8595-7be9ec88c4fc_240x240H\n",
      "https://img.dmallcdn.com/20180726/724060d1-e6c5-43fc-8164-8337c96e61f8_240x240H\n",
      "https://img.dmallcdn.com/20170817/9c5ca120-1fc6-4b8d-abef-616d42156408_240x240H\n",
      "https://img.dmallcdn.com/20161114/2981b7d9-dafe-4a9f-8cad-42f6a9a9f6f3_240x240H\n",
      "https://img.dmallcdn.com/20180718/30a4f555-a8ec-4d99-a875-697b19273e33_240x240H\n"
     ]
    }
   ],
   "source": [
    "for each in imgs:\n",
    "    print(each.get_attribute('src'))"
   ]
  },
  {
   "cell_type": "code",
   "execution_count": 14,
   "metadata": {},
   "outputs": [],
   "source": [
    "for i in range(100):\n",
    "    driver.execute_script(\"window.scrollTo(0, document.body.scrollHeight)\")"
   ]
  }
 ],
 "metadata": {
  "kernelspec": {
   "display_name": "Python 3",
   "language": "python",
   "name": "python3"
  },
  "language_info": {
   "codemirror_mode": {
    "name": "ipython",
    "version": 3
   },
   "file_extension": ".py",
   "mimetype": "text/x-python",
   "name": "python",
   "nbconvert_exporter": "python",
   "pygments_lexer": "ipython3",
   "version": "3.7.3"
  }
 },
 "nbformat": 4,
 "nbformat_minor": 2
}
