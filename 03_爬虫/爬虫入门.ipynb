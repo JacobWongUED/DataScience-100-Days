{
 "cells": [
  {
   "cell_type": "markdown",
   "metadata": {},
   "source": [
    "# 1 第一个爬虫"
   ]
  },
  {
   "cell_type": "code",
   "execution_count": 1,
   "metadata": {},
   "outputs": [],
   "source": [
    "#！/usr/bin/python\n",
    "# coding: UTF-8\n",
    "\n",
    "import requests\n",
    "from bs4 import BeautifulSoup\n",
    "import pandas as pd\n",
    "from pandas import Series, DataFrame"
   ]
  },
  {
   "cell_type": "markdown",
   "metadata": {},
   "source": [
    "**抓取**"
   ]
  },
  {
   "cell_type": "code",
   "execution_count": 2,
   "metadata": {},
   "outputs": [],
   "source": [
    "link = \"http://www.santostang.com/\"\n",
    "# header伪装成浏览器\n",
    "headers = {\"User-Agent\": \"Mozilla/5.0 (Windows NT 10.0; Win64; x64) AppleWebKit/537.36 (KHTML, like Gecko) Chrome/73.0.3683.103 Safari/537.36\"}\n",
    "r = requests.get(link, headers=headers)  # respond"
   ]
  },
  {
   "cell_type": "markdown",
   "metadata": {},
   "source": [
    "**解析**"
   ]
  },
  {
   "cell_type": "code",
   "execution_count": 3,
   "metadata": {},
   "outputs": [
    {
     "data": {
      "text/plain": [
       "'第四章 – 4.3 通过selenium 模拟浏览器抓取'"
      ]
     },
     "execution_count": 3,
     "metadata": {},
     "output_type": "execute_result"
    }
   ],
   "source": [
    "soup = BeautifulSoup(r.text, \"lxml\")  # 使用BeautifulSoup解析这段文本\n",
    "title = soup.find(\"h1\", class_=\"post-title\").a.text.strip()  # class为“post-title”的<h1>标签下的<a>\n",
    "title"
   ]
  },
  {
   "cell_type": "markdown",
   "metadata": {},
   "source": [
    "**存储**"
   ]
  },
  {
   "cell_type": "code",
   "execution_count": null,
   "metadata": {},
   "outputs": [
    {
     "data": {
      "text/html": [
       "<div>\n",
       "<style scoped>\n",
       "    .dataframe tbody tr th:only-of-type {\n",
       "        vertical-align: middle;\n",
       "    }\n",
       "\n",
       "    .dataframe tbody tr th {\n",
       "        vertical-align: top;\n",
       "    }\n",
       "\n",
       "    .dataframe thead th {\n",
       "        text-align: right;\n",
       "    }\n",
       "</style>\n",
       "<table border=\"1\" class=\"dataframe\">\n",
       "  <thead>\n",
       "    <tr style=\"text-align: right;\">\n",
       "      <th></th>\n",
       "      <th>Unnamed: 0</th>\n",
       "      <th>0</th>\n",
       "    </tr>\n",
       "  </thead>\n",
       "  <tbody>\n",
       "    <tr>\n",
       "      <th>0</th>\n",
       "      <td>0</td>\n",
       "      <td>第四章 – 4.3 通过selenium 模拟浏览器抓取</td>\n",
       "    </tr>\n",
       "  </tbody>\n",
       "</table>\n",
       "</div>"
      ],
      "text/plain": [
       "   Unnamed: 0                             0\n",
       "0           0  第四章 – 4.3 通过selenium 模拟浏览器抓取"
      ]
     },
     "execution_count": 4,
     "metadata": {},
     "output_type": "execute_result"
    }
   ],
   "source": [
    "path = \"./files/\"\n",
    "ser = Series(data=[title])\n",
    "ser.to_csv(path+\"title.csv\",sep=\",\", header=True)\n",
    "pd.read_csv(path+\"title.csv\", sep=\",\")"
   ]
  },
  {
   "cell_type": "code",
   "execution_count": null,
   "metadata": {},
   "outputs": [],
   "source": [
    "with open(path+\"/title.txt\", \"a+\") as f:\n",
    "    f.write(title)\n",
    "    f.close()"
   ]
  },
  {
   "cell_type": "markdown",
   "metadata": {},
   "source": [
    "# 2 静态网页抓取"
   ]
  },
  {
   "cell_type": "markdown",
   "metadata": {},
   "source": [
    "## 2.1 获取响应内容"
   ]
  },
  {
   "cell_type": "code",
   "execution_count": null,
   "metadata": {},
   "outputs": [],
   "source": [
    "import requests"
   ]
  },
  {
   "cell_type": "code",
   "execution_count": 4,
   "metadata": {},
   "outputs": [],
   "source": [
    "link = \"http://www.santostang.com/\"\n",
    "# header伪装成浏览器\n",
    "headers = {\"User-Agent\": \"Mozilla/5.0 (Windows NT 10.0; Win64; x64) AppleWebKit/537.36 (KHTML, like Gecko) Chrome/73.0.3683.103 Safari/537.36\"}\n",
    "r = requests.get(link, headers=headers)  # respond"
   ]
  },
  {
   "cell_type": "code",
   "execution_count": 5,
   "metadata": {},
   "outputs": [
    {
     "name": "stdout",
     "output_type": "stream",
     "text": [
      "文本编码： None\n",
      "响应码状态： 503\n",
      "相应体： Unable to round-trip http request to upstream: EOF\n"
     ]
    }
   ],
   "source": [
    "print(\"文本编码：\", r.encoding)\n",
    "print(\"响应码状态：\", r.status_code)\n",
    "print(\"相应体：\", r.text)"
   ]
  },
  {
   "cell_type": "markdown",
   "metadata": {},
   "source": [
    "**r.tetx:**服务器响应内容，会自动根据头部字符编码进行解码  \n",
    "**r.encoding:**服务器内容使用的文本编码  \n",
    "**r.status_code:**\n",
    "1. 200:请求成功\n",
    "2. 4xx:客户端错误\n",
    "3. 5xx:服务端错误\n",
    "\n",
    "**r.content:**字节方式的响应体，会自动解码gzip和deflate编码的相应数据    \n",
    "**r.json:**Requests中内置的JSON解码器"
   ]
  },
  {
   "cell_type": "markdown",
   "metadata": {},
   "source": [
    "## 2.2 定制Requests"
   ]
  },
  {
   "cell_type": "markdown",
   "metadata": {},
   "source": [
    "### 2.2.1 传递URL参数"
   ]
  },
  {
   "cell_type": "code",
   "execution_count": null,
   "metadata": {},
   "outputs": [],
   "source": [
    "import requests"
   ]
  },
  {
   "cell_type": "code",
   "execution_count": null,
   "metadata": {},
   "outputs": [],
   "source": [
    "link = \"https://httpbin.org/get\"\n",
    "headers = {\"User-Agent\": \"Mozilla/5.0 (Windows NT 10.0; Win64; x64) AppleWebKit/537.36 (KHTML, like Gecko)\"}\n",
    "key_dict = {\"key1\": \"value1\", \"key2\": \"value2\"}\n",
    "r = requests.get(link, headers=headers, params=key_dict)\n",
    "print(\"URL:\", r.url)\n",
    "print(\"字符串响应体:\\n\", r.text)"
   ]
  },
  {
   "cell_type": "markdown",
   "metadata": {},
   "source": [
    "### 2.2.2 定制请求头"
   ]
  },
  {
   "cell_type": "code",
   "execution_count": null,
   "metadata": {},
   "outputs": [],
   "source": [
    "import requests"
   ]
  },
  {
   "cell_type": "code",
   "execution_count": 8,
   "metadata": {},
   "outputs": [],
   "source": [
    "link = \"http://www.santostang.com/\"\n",
    "headers = {\n",
    "    \"User-Agent\": \"Mozilla/5.0 (Windows NT 10.0; Win64; x64) AppleWebKit/537.36 (KHTML, like Gecko)\",\n",
    "    \"Host\": \"www.santostang.com\"\n",
    "}\n",
    "r = requests.get(link, headers=headers, timeout=5)  # timeout：超时设置\n",
    "r = requests.get(link, headers=headers)"
   ]
  },
  {
   "cell_type": "markdown",
   "metadata": {},
   "source": [
    "### 2.2.3 发送POST请求"
   ]
  },
  {
   "cell_type": "code",
   "execution_count": null,
   "metadata": {},
   "outputs": [],
   "source": [
    "import requests"
   ]
  },
  {
   "cell_type": "code",
   "execution_count": 13,
   "metadata": {},
   "outputs": [],
   "source": [
    "link = \"https://httpbin.org/post\"\n",
    "headers = {\"User-Agent\": \"Mozilla/5.0 (Windows NT 10.0; Win64; x64) AppleWebKit/537.36 (KHTML, like Gecko)\"}\n",
    "key_dict = {\"key1\": \"value1\", \"key2\": \"value2\"}\n",
    "r = requests.post(link, data=key_dict)"
   ]
  },
  {
   "cell_type": "code",
   "execution_count": 14,
   "metadata": {},
   "outputs": [
    {
     "name": "stdout",
     "output_type": "stream",
     "text": [
      "{\n",
      "  \"args\": {}, \n",
      "  \"data\": \"\", \n",
      "  \"files\": {}, \n",
      "  \"form\": {\n",
      "    \"key1\": \"value1\", \n",
      "    \"key2\": \"value2\"\n",
      "  }, \n",
      "  \"headers\": {\n",
      "    \"Accept\": \"*/*\", \n",
      "    \"Accept-Encoding\": \"gzip, deflate\", \n",
      "    \"Content-Length\": \"23\", \n",
      "    \"Content-Type\": \"application/x-www-form-urlencoded\", \n",
      "    \"Host\": \"httpbin.org\", \n",
      "    \"User-Agent\": \"python-requests/2.21.0\"\n",
      "  }, \n",
      "  \"json\": null, \n",
      "  \"origin\": \"223.214.149.220, 223.214.149.220\", \n",
      "  \"url\": \"https://httpbin.org/post\"\n",
      "}\n",
      "\n"
     ]
    }
   ],
   "source": [
    "print(r.text)"
   ]
  },
  {
   "cell_type": "markdown",
   "metadata": {},
   "source": [
    "**总结**  \n",
    "GET：以关键字的形式搜索  \n",
    "POST：用表单传递数据"
   ]
  },
  {
   "cell_type": "markdown",
   "metadata": {},
   "source": [
    "## 2.3 TOP250电影数据"
   ]
  },
  {
   "cell_type": "code",
   "execution_count": 322,
   "metadata": {},
   "outputs": [],
   "source": [
    "%matplotlib inline\n",
    "import matplotlib.pyplot as plt\n",
    "import matplotlib\n",
    "from pylab import mpl\n",
    "import requests\n",
    "from bs4 import BeautifulSoup\n",
    "import pandas as pd\n",
    "from pandas import Series, DataFrame\n",
    "import time\n",
    "import numpy as np\n",
    "\n",
    "# mpl.rcParams['font.sans-serif'] = ['SimHei'] # 指定默认字体：解决plot不能显示中文问题\n",
    "# mpl.rcParams['axes.unicode_minus'] = False  # 解决保存图像是负号'-'显示为方块的问题"
   ]
  },
  {
   "cell_type": "markdown",
   "metadata": {},
   "source": [
    "**抓取数据**"
   ]
  },
  {
   "cell_type": "code",
   "execution_count": 204,
   "metadata": {},
   "outputs": [
    {
     "name": "stdout",
     "output_type": "stream",
     "text": [
      "网页0状态响应码： 200\n",
      "网页25状态响应码： 200\n",
      "网页50状态响应码： 200\n",
      "网页75状态响应码： 200\n",
      "网页100状态响应码： 200\n",
      "网页125状态响应码： 200\n",
      "网页150状态响应码： 200\n",
      "网页175状态响应码： 200\n",
      "网页200状态响应码： 200\n",
      "网页225状态响应码： 200\n"
     ]
    }
   ],
   "source": [
    "addr = \"https://movie.douban.com/top250?start=%s\"\n",
    "headers = {\"User-Agent\": \"Mozilla/5.0 (Windows NT 10.0; Win64; x64) AppleWebKit/537.36 (KHTML, like Gecko) Chrome/73.0.3683.103 Safari/537.36\"}\n",
    "movies = list()\n",
    "\n",
    "for i in range(0, 250, 25):\n",
    "    r = requests.get(addr % i, headers=headers)\n",
    "    movies.append(r)\n",
    "    print(\"网页%s状态响应码：\" % i, r.status_code)\n",
    "    time.sleep(0.5)  # 暂停0.5s"
   ]
  },
  {
   "cell_type": "markdown",
   "metadata": {},
   "source": [
    "**解析数据**"
   ]
  },
  {
   "cell_type": "code",
   "execution_count": 216,
   "metadata": {},
   "outputs": [],
   "source": [
    "def get_info(info):\n",
    "    split_info = info.p.text.strip().split(\"\\n\")\n",
    "    \n",
    "    if len(split_info) == 1:\n",
    "        return None\n",
    "    da, yag = split_info\n",
    "    da_info = da.split(\"\\xa0\\xa0\\xa0\")\n",
    "    if len(da_info) == 2:\n",
    "        director, actor = da_info\n",
    "        director = director.split(\": \")[1]\n",
    "        actor_info = actor.split(\": \")\n",
    "        if len(actor_info) != 2:\n",
    "            actor = None\n",
    "        else:\n",
    "            actor = actor_info[1]\n",
    "    else:\n",
    "        director = da_info[0]\n",
    "        director = director.split(\": \")[1]\n",
    "        actor = None\n",
    "    year, area, genres = yag.strip().split(\"\\xa0/\\xa0\")\n",
    "    \n",
    "    result = {\n",
    "        \"Director\": director,\n",
    "        \"Actor\": actor,\n",
    "        \"Year\": year,\n",
    "        \"Area\": area,\n",
    "        \"Genres\": genres\n",
    "    }\n",
    "    result = DataFrame(result, index=[1, ])\n",
    "    return result"
   ]
  },
  {
   "cell_type": "code",
   "execution_count": 211,
   "metadata": {},
   "outputs": [],
   "source": [
    "def get_status(status):\n",
    "    if status is np.nan:\n",
    "        return False\n",
    "    return True"
   ]
  },
  {
   "cell_type": "code",
   "execution_count": 231,
   "metadata": {},
   "outputs": [],
   "source": [
    "def get_data(movie):\n",
    "    soup = BeautifulSoup(movie.text, \"lxml\")\n",
    "    comment_nums = Series()\n",
    "    result = DataFrame()\n",
    "    \n",
    "    # 排名\n",
    "    ranks = Series()\n",
    "    rank_list = soup.find_all(\"div\", attrs={'class':'pic'})\n",
    "    \n",
    "    for each in rank_list:\n",
    "        rank = each.em.text.strip()\n",
    "        ranks = pd.concat([ranks, Series(rank)], sort=False, ignore_index=True)\n",
    "        \n",
    "    result[\"Ranks\"] = ranks\n",
    "    \n",
    "    # 标题\n",
    "    titles = Series()\n",
    "    title_list = soup.find_all(\"div\", attrs={'class':'hd'})\n",
    "    \n",
    "    for each in title_list:\n",
    "        title = each.a.span.text.strip()\n",
    "        titles = pd.concat([titles, Series(title)], sort=False, ignore_index=True)\n",
    "        \n",
    "    result[\"Titles\"] = titles\n",
    "    \n",
    "    # 信息\n",
    "    infos = DataFrame()\n",
    "    info_list = soup.find_all(\"div\", attrs={'class':'bd'})\n",
    "    \n",
    "    for each in info_list:\n",
    "        info = get_info(each)\n",
    "        if info is None:\n",
    "            continue\n",
    "        infos = pd.concat([infos, info], sort=False, ignore_index=True)\n",
    "        \n",
    "    result = pd.concat([result, infos], axis=1, sort=False)\n",
    "        \n",
    "    # 评分\n",
    "    ratings = Series()\n",
    "    rating_list = soup.find_all(\"span\", attrs={'class':'rating_num'})\n",
    "        \n",
    "    for each in rating_list:\n",
    "        rating = each.text.strip()\n",
    "        ratings = pd.concat([ratings, Series(rating)], sort=False, ignore_index=True)\n",
    "    \n",
    "    result[\"Rating\"] =  ratings\n",
    "    \n",
    "    # quote\n",
    "    quotes = Series()\n",
    "    quote_list = soup.find_all(\"span\", attrs={'class':'inq'})\n",
    "\n",
    "    for each in quote_list:\n",
    "        quote = each.text.strip()\n",
    "        quotes = Series(pd.concat([quotes, Series(quote)], sort=False, ignore_index=True))\n",
    "        \n",
    "    result[\"Quote\"] = quotes\n",
    "    \n",
    "    # detail\n",
    "    details = Series()\n",
    "    detail_list = soup.find_all(\"div\", attrs={'class':'pic'})\n",
    "\n",
    "    for each in detail_list:\n",
    "        detail = each.a[\"href\"]\n",
    "        details = pd.concat([details, Series(detail)], sort=False, ignore_index=True)\n",
    "        \n",
    "    result[\"link_Detail\"] = details\n",
    "    \n",
    "    # pic\n",
    "    pics = Series()\n",
    "    pic_list = soup.find_all(\"div\", attrs={'class':'pic'})\n",
    "\n",
    "    for each in pic_list:\n",
    "        pic = each.a.img[\"src\"]\n",
    "        pics = pd.concat([pics, Series(pic)], sort=False, ignore_index=True)\n",
    "        \n",
    "    result[\"Link_Pic\"] = pics\n",
    "    \n",
    "    # 状态码\n",
    "    statuses = Series()\n",
    "    status_list = soup.find_all(\"span\", attrs={'class':'playable'})\n",
    "\n",
    "    for each in status_list:\n",
    "        status = each.text.strip()\n",
    "        statuses = pd.concat([statuses, Series(status)], sort=False, ignore_index=True)\n",
    "    \n",
    "    result[\"Status\"] = statuses\n",
    "    result[\"Status\"] = result[\"Status\"].map(get_status)\n",
    "    \n",
    "    return result"
   ]
  },
  {
   "cell_type": "code",
   "execution_count": 230,
   "metadata": {},
   "outputs": [],
   "source": [
    "movies_data = DataFrame()\n",
    "\n",
    "for movie in movies:\n",
    "    data = get_data(movie)\n",
    "    movies_data = pd.concat([movies_data, data], axis=0, sort=False, ignore_index=True)"
   ]
  },
  {
   "cell_type": "markdown",
   "metadata": {},
   "source": [
    "**存储**"
   ]
  },
  {
   "cell_type": "code",
   "execution_count": 232,
   "metadata": {},
   "outputs": [],
   "source": [
    "path = \"C:/Users/Wang/datasets/top250/movies.csv\"\n",
    "movies_data.to_csv(path, sep=',')"
   ]
  },
  {
   "cell_type": "markdown",
   "metadata": {},
   "source": [
    "**数据分析**"
   ]
  },
  {
   "cell_type": "code",
   "execution_count": 349,
   "metadata": {},
   "outputs": [
    {
     "data": {
      "text/plain": [
       "<matplotlib.axes._subplots.AxesSubplot at 0x2a6372dd898>"
      ]
     },
     "execution_count": 349,
     "metadata": {},
     "output_type": "execute_result"
    },
    {
     "data": {
      "image/png": "[encoded data removed]",
      "text/plain": [
       "<Figure size 720x720 with 1 Axes>"
      ]
     },
     "metadata": {
      "needs_background": "light"
     },
     "output_type": "display_data"
    }
   ],
   "source": [
    "# 地区分布\n",
    "areas = movies_data[\"Area\"].str.split(\" \", expand=True).stack()\n",
    "areas_counts = areas.value_counts()\n",
    "areas_counts = areas_counts.sort_values(ascending=True)\n",
    "areas_counts.tail(10).plot.barh(figsize=(10, 10))"
   ]
  },
  {
   "cell_type": "code",
   "execution_count": null,
   "metadata": {},
   "outputs": [],
   "source": []
  },
  {
   "cell_type": "code",
   "execution_count": null,
   "metadata": {},
   "outputs": [],
   "source": []
  }
 ],
 "metadata": {
  "kernelspec": {
   "display_name": "Python 3",
   "language": "python",
   "name": "python3"
  },
  "language_info": {
   "codemirror_mode": {
    "name": "ipython",
    "version": 3
   },
   "file_extension": ".py",
   "mimetype": "text/x-python",
   "name": "python",
   "nbconvert_exporter": "python",
   "pygments_lexer": "ipython3",
   "version": "3.7.3"
  }
 },
 "nbformat": 4,
 "nbformat_minor": 2
}
