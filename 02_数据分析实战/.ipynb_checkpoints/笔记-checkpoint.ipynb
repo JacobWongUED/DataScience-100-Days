{
 "cells": [
  {
   "cell_type": "markdown",
   "metadata": {},
   "source": [
    "# 01 数据分析全景及修炼指南"
   ]
  },
  {
   "cell_type": "markdown",
   "metadata": {},
   "source": [
    "## 1.1 什么是数据思维？为什么需要数据思维？\n",
    "**数据思维是一种用数据讲故事的思维方式，包括洞悉事物的本质和规律，用数据做支撑构建新的应用场景。**"
   ]
  },
  {
   "cell_type": "markdown",
   "metadata": {},
   "source": [
    "## 1.2 什么是数据分析？"
   ]
  },
  {
   "cell_type": "markdown",
   "metadata": {},
   "source": [
    "![数据分析](https://github.com/JacobWongUED/DataScience-100-Days/blob/master/02_%E6%95%B0%E6%8D%AE%E5%88%86%E6%9E%90%E5%AE%9E%E6%88%98/img/%E6%95%B0%E6%8D%AE%E5%88%86%E6%9E%90.png?raw=true)  \n",
    "![数据采集](https://github.com/JacobWongUED/DataScience-100-Days/blob/master/02_%E6%95%B0%E6%8D%AE%E5%88%86%E6%9E%90%E5%AE%9E%E6%88%98/img/%E6%95%B0%E6%8D%AE%E9%87%87%E9%9B%86.png?raw=true)  \n",
    "![数据挖掘](https://github.com/JacobWongUED/DataScience-100-Days/blob/master/02_%E6%95%B0%E6%8D%AE%E5%88%86%E6%9E%90%E5%AE%9E%E6%88%98/img/%E6%95%B0%E6%8D%AE%E6%8C%96%E6%8E%98.png?raw=true)  \n",
    "![数据可视化](https://github.com/JacobWongUED/DataScience-100-Days/blob/master/02_%E6%95%B0%E6%8D%AE%E5%88%86%E6%9E%90%E5%AE%9E%E6%88%98/img/%E6%95%B0%E6%8D%AE%E5%8F%AF%E8%A7%86%E5%8C%96.png?raw=true)  "
   ]
  },
  {
   "cell_type": "markdown",
   "metadata": {},
   "source": [
    "**以追女孩子为例：**  \n",
    "**数据分析**是通过各种手段全面了解女孩子的信息（闺蜜战等）；  \n",
    "**数据挖掘**就是通过已有的信息了解女孩子，并为自己的下一步行动提供指引（预测未来）；  \n",
    "**数据可视化**主要是为了将挖掘的信息共享出去，方便僚机作战"
   ]
  },
  {
   "cell_type": "markdown",
   "metadata": {},
   "source": [
    "## 1.3 数据挖掘知识清单"
   ]
  },
  {
   "cell_type": "markdown",
   "metadata": {},
   "source": [
    "![数据挖掘知识清单](https://github.com/JacobWongUED/DataScience-100-Days/blob/master/02_%E6%95%B0%E6%8D%AE%E5%88%86%E6%9E%90%E5%AE%9E%E6%88%98/img/%E6%95%B0%E6%8D%AE%E6%8C%96%E6%8E%98%E7%9F%A5%E8%AF%86%E6%B8%85%E5%8D%95.png?raw=true)"
   ]
  },
  {
   "cell_type": "code",
   "execution_count": null,
   "metadata": {},
   "outputs": [],
   "source": []
  },
  {
   "cell_type": "code",
   "execution_count": null,
   "metadata": {},
   "outputs": [],
   "source": []
  },
  {
   "cell_type": "code",
   "execution_count": null,
   "metadata": {},
   "outputs": [],
   "source": []
  },
  {
   "cell_type": "code",
   "execution_count": null,
   "metadata": {},
   "outputs": [],
   "source": []
  },
  {
   "cell_type": "code",
   "execution_count": null,
   "metadata": {},
   "outputs": [],
   "source": []
  }
 ],
 "metadata": {
  "kernelspec": {
   "display_name": "Python 3",
   "language": "python",
   "name": "python3"
  },
  "language_info": {
   "codemirror_mode": {
    "name": "ipython",
    "version": 3
   },
   "file_extension": ".py",
   "mimetype": "text/x-python",
   "name": "python",
   "nbconvert_exporter": "python",
   "pygments_lexer": "ipython3",
   "version": "3.7.3"
  }
 },
 "nbformat": 4,
 "nbformat_minor": 2
}
