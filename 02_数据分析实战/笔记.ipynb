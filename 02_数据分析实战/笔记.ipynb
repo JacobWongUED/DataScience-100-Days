{
 "cells": [
  {
   "cell_type": "markdown",
   "metadata": {},
   "source": [
    "# 01 数据分析全景及修炼指南"
   ]
  },
  {
   "cell_type": "markdown",
   "metadata": {},
   "source": [
    "## 1.1 什么是数据思维？为什么需要数据思维？\n",
    "**数据思维是一种用数据讲故事的思维方式，包括洞悉事物的本质和规律，用数据做支撑构建新的应用场景。**"
   ]
  },
  {
   "cell_type": "markdown",
   "metadata": {},
   "source": [
    "## 1.2 什么是数据分析？"
   ]
  },
  {
   "cell_type": "markdown",
   "metadata": {},
   "source": [
    "![数据分析](https://github.com/JacobWongUED/DataScience-100-Days/blob/master/02_%E6%95%B0%E6%8D%AE%E5%88%86%E6%9E%90%E5%AE%9E%E6%88%98/img/%E6%95%B0%E6%8D%AE%E5%88%86%E6%9E%90.png?raw=true)   \n",
    "![数据分析流程](https://github.com/JacobWongUED/DataScience-100-Days/blob/master/02_%E6%95%B0%E6%8D%AE%E5%88%86%E6%9E%90%E5%AE%9E%E6%88%98/img/%E6%95%B0%E6%8D%AE%E5%88%86%E6%9E%90%E6%B5%81%E7%A8%8B.png?raw=true)\n",
    "![数据采集](https://github.com/JacobWongUED/DataScience-100-Days/blob/master/02_%E6%95%B0%E6%8D%AE%E5%88%86%E6%9E%90%E5%AE%9E%E6%88%98/img/%E6%95%B0%E6%8D%AE%E9%87%87%E9%9B%86.png?raw=true)  \n",
    "![数据挖掘](https://github.com/JacobWongUED/DataScience-100-Days/blob/master/02_%E6%95%B0%E6%8D%AE%E5%88%86%E6%9E%90%E5%AE%9E%E6%88%98/img/%E6%95%B0%E6%8D%AE%E6%8C%96%E6%8E%98.png?raw=true)  \n",
    "![数据可视化](https://github.com/JacobWongUED/DataScience-100-Days/blob/master/02_%E6%95%B0%E6%8D%AE%E5%88%86%E6%9E%90%E5%AE%9E%E6%88%98/img/%E6%95%B0%E6%8D%AE%E5%8F%AF%E8%A7%86%E5%8C%96.png?raw=true)  "
   ]
  },
  {
   "cell_type": "markdown",
   "metadata": {},
   "source": [
    "**以追女孩子为例：**  \n",
    "**数据分析**是通过各种手段全面了解女孩子的信息（闺蜜战等）；  \n",
    "**数据挖掘**就是通过已有的信息了解女孩子，并为自己的下一步行动提供指引（预测未来）；  \n",
    "**数据可视化**主要是为了将挖掘的信息共享出去，方便僚机作战"
   ]
  },
  {
   "cell_type": "markdown",
   "metadata": {},
   "source": [
    "## 1.3 数据挖掘知识清单"
   ]
  },
  {
   "cell_type": "markdown",
   "metadata": {},
   "source": [
    "![数据挖掘知识清单](https://github.com/JacobWongUED/DataScience-100-Days/blob/master/02_%E6%95%B0%E6%8D%AE%E5%88%86%E6%9E%90%E5%AE%9E%E6%88%98/img/%E6%95%B0%E6%8D%AE%E6%8C%96%E6%8E%98%E7%9F%A5%E8%AF%86%E6%B8%85%E5%8D%95.png?raw=true)"
   ]
  },
  {
   "cell_type": "markdown",
   "metadata": {},
   "source": [
    "## 1.4 数据分析基本概念"
   ]
  },
  {
   "cell_type": "markdown",
   "metadata": {},
   "source": [
    "**再以追女孩子为例：**  \n",
    "\n",
    "**BI（商业智能：Business Intelligence）**告诉你女孩子值不值得追？成功的概率有多大？\n",
    "\n",
    "**DW（数据仓库：Data Warehouse）**告诉你我这有姑娘的信息你要吗？  \n",
    "描述这个姑娘的所有信息就是**元数据**，其中的身高、体重、三维就是**数据元**  \n",
    "\n",
    "**DM（数据挖掘：Data Mining）**帮助你具体确定姑娘值不值得追，追到属的概率有多大。这里涉及到一系列的算法：  \n",
    "1. 分类算法：告诉你姑娘是御姐型还是萝莉型\n",
    "2. 聚类算法：如果同时追5万个姑娘就可以使用聚类算法，它帮你把这些姑娘分成群组，这样就实现了数据降维\n",
    "3. 关联算法：可以帮助你知道这个女孩的闺蜜是谁\n",
    "\n",
    "如果很多人都向你提供姑娘的信息，你需要对其中重复或不可信的信息进行处理，这就是**数据清洗**；  \n",
    "为了方面记忆，你把所有女孩的信息集成一个，这就是**数据集成**；  \n",
    "以体重为例，你采集的信息中有些是斤有些是公斤，你需要把它们转换成同一单位，这就是**数据转换**"
   ]
  },
  {
   "cell_type": "markdown",
   "metadata": {},
   "source": [
    "# 02 用户画像：标签化就是数据的抽象能力"
   ]
  },
  {
   "cell_type": "markdown",
   "metadata": {},
   "source": [
    "![用户画像]()"
   ]
  },
  {
   "cell_type": "markdown",
   "metadata": {},
   "source": [
    "## 2.1 三要素"
   ]
  },
  {
   "cell_type": "markdown",
   "metadata": {},
   "source": [
    "### 2.1.1 标识"
   ]
  },
  {
   "cell_type": "markdown",
   "metadata": {},
   "source": [
    "用户名、注册手机号、联系人手机号、邮箱、设备号、CookieID等。"
   ]
  },
  {
   "cell_type": "markdown",
   "metadata": {},
   "source": [
    "### 2.1.2 标签"
   ]
  },
  {
   "cell_type": "markdown",
   "metadata": {},
   "source": [
    "**用户消费行为分析**  "
   ]
  },
  {
   "cell_type": "markdown",
   "metadata": {},
   "source": [
    "**基本标签：**性别、年龄、地域、收入、学历、职业等，这些包括了用户的基础属性。"
   ]
  },
  {
   "cell_type": "markdown",
   "metadata": {},
   "source": [
    "**消费标签：**消费习惯、购买意向、是否对促销敏感，这些统计分析用户的消费习惯"
   ]
  },
  {
   "cell_type": "markdown",
   "metadata": {},
   "source": [
    "**行为标签：**时间段、频次、时长、访问路径等，通过分析用户行为来得到他们使用 App 的习惯。"
   ]
  },
  {
   "cell_type": "markdown",
   "metadata": {},
   "source": [
    "**内容分析：**对用户平时浏览的内容，尤其是停留时间长、浏览次数多的内容进行分析，分析出用户对哪些内容感兴趣，比如，金融、娱乐、教育、体育、时尚、科技等。"
   ]
  },
  {
   "cell_type": "markdown",
   "metadata": {},
   "source": [
    "### 2.1.3 业务化"
   ]
  },
  {
   "cell_type": "markdown",
   "metadata": {},
   "source": [
    "![用户画像挖掘]()"
   ]
  },
  {
   "cell_type": "markdown",
   "metadata": {},
   "source": [
    "**用户生命周期**"
   ]
  },
  {
   "cell_type": "markdown",
   "metadata": {},
   "source": [
    "1. 获客：如何进行拉新，通过更精准的营销获取客户。\n",
    "2. 粘客：个性化推荐，搜索排序，场景运营等。\n",
    "3. 留客：流失率预测，分析关键节点降低流失率。"
   ]
  },
  {
   "cell_type": "markdown",
   "metadata": {},
   "source": [
    "**数据层**指的是用户消费行为里的标签。我们可以打上“事实标签”，作为数据客观的记录。"
   ]
  },
  {
   "cell_type": "markdown",
   "metadata": {},
   "source": [
    "**算法层**指的是透过这些行为算出的用户建模。我们可以打上“模型标签”，作为用户画像的分类标识。"
   ]
  },
  {
   "cell_type": "markdown",
   "metadata": {},
   "source": [
    "**业务层**是获客、粘客、留客的手段。我们可以打上“预测标签”，作为业务关联的结果。"
   ]
  },
  {
   "cell_type": "markdown",
   "metadata": {},
   "source": [
    "## 2.2 美团外卖"
   ]
  },
  {
   "cell_type": "markdown",
   "metadata": {},
   "source": [
    "### 2.2.1 标识"
   ]
  },
  {
   "cell_type": "markdown",
   "metadata": {},
   "source": [
    "要尽早在顶层架构上将用户标识进行统一，这样在后续过程中才能实现用户数据的打通，为企业各部门赋能。"
   ]
  },
  {
   "cell_type": "markdown",
   "metadata": {},
   "source": [
    "### 2.2.2 标签"
   ]
  },
  {
   "cell_type": "markdown",
   "metadata": {},
   "source": [
    "1. 用户标签：性别、年龄、家乡、居住地、收货地址、婚姻、宝宝信息、通过何种渠道进行的注册。\n",
    "2. 消费标签：餐饮口味、消费均价、团购等级、预定使用等级、排队使用等级、外卖等级。\n",
    "3. 行为标签：点外卖时间段、使用频次、平均点餐用时、访问路径。\n",
    "4. 内容分析：基于用户平时浏览的内容进行统计，包括餐饮口味、优惠敏感度等。"
   ]
  },
  {
   "cell_type": "markdown",
   "metadata": {},
   "source": [
    "### 2.2.3 业务化"
   ]
  },
  {
   "cell_type": "markdown",
   "metadata": {},
   "source": [
    "**获客：**我们可以找到优势的宣传渠道，如何通过个性化的宣传手段，吸引有潜在需求的用户，并刺激其转化。"
   ]
  },
  {
   "cell_type": "markdown",
   "metadata": {},
   "source": [
    "**粘客：**如何提升用户的单价和消费频次，方法可以包括购买后的个性化推荐、针对优质用户进行优质高价商品的推荐、以及重复购买，比如通过红包、优惠等方式激励对优惠敏感的人群，提升购买频次。"
   ]
  },
  {
   "cell_type": "markdown",
   "metadata": {},
   "source": [
    "**留客：**预测用户是否可能会从平台上流失。在营销领域，关于用户留存有一个观点——如果将顾客流失率降低 5%，公司利润将提升 25%~85%。可以看出留存率是多么的重要。用户流失可能会包括多种情况，比如用户体验、竞争对手、需求变化等，通过预测用户的流失率可以大幅降低用户留存的运营成本。"
   ]
  },
  {
   "cell_type": "code",
   "execution_count": null,
   "metadata": {},
   "outputs": [],
   "source": []
  }
 ],
 "metadata": {
  "kernelspec": {
   "display_name": "Python 3",
   "language": "python",
   "name": "python3"
  },
  "language_info": {
   "codemirror_mode": {
    "name": "ipython",
    "version": 3
   },
   "file_extension": ".py",
   "mimetype": "text/x-python",
   "name": "python",
   "nbconvert_exporter": "python",
   "pygments_lexer": "ipython3",
   "version": "3.7.3"
  }
 },
 "nbformat": 4,
 "nbformat_minor": 2
}
