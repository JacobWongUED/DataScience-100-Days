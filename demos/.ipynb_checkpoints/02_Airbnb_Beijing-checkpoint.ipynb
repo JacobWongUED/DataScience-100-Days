{
 "cells": [
  {
   "cell_type": "code",
   "execution_count": 72,
   "metadata": {},
   "outputs": [],
   "source": [
    "%matplotlib inline\n",
    "import numpy as np\n",
    "from numpy import array, random, arange\n",
    "import pandas as pd\n",
    "from pandas import Series, DataFrame"
   ]
  },
  {
   "cell_type": "markdown",
   "metadata": {},
   "source": [
    "## Step1 导入数据"
   ]
  },
  {
   "cell_type": "markdown",
   "metadata": {},
   "source": [
    "**导入数据**"
   ]
  },
  {
   "cell_type": "code",
   "execution_count": 118,
   "metadata": {},
   "outputs": [
    {
     "data": {
      "text/plain": [
       "Index(['Unnamed: 0', 'title', 'price', 'rating', 'comments', 'tags',\n",
       "       'discount', 'bedrooms', 'beds', 'washrooms', 'guests', 'facilities',\n",
       "       'scenic_areas', 'subway_stations', 'airports', 'railway_stations'],\n",
       "      dtype='object')"
      ]
     },
     "execution_count": 118,
     "metadata": {},
     "output_type": "execute_result"
    }
   ],
   "source": [
    "data = pd.read_csv('C:/Users/Wang/datasets/airbnb/airbnb.csv', sep=',')\n",
    "data.columns"
   ]
  },
  {
   "cell_type": "markdown",
   "metadata": {},
   "source": [
    "**处理数据**"
   ]
  },
  {
   "cell_type": "code",
   "execution_count": 119,
   "metadata": {},
   "outputs": [
    {
     "data": {
      "text/html": [
       "<div>\n",
       "<style scoped>\n",
       "    .dataframe tbody tr th:only-of-type {\n",
       "        vertical-align: middle;\n",
       "    }\n",
       "\n",
       "    .dataframe tbody tr th {\n",
       "        vertical-align: top;\n",
       "    }\n",
       "\n",
       "    .dataframe thead th {\n",
       "        text-align: right;\n",
       "    }\n",
       "</style>\n",
       "<table border=\"1\" class=\"dataframe\">\n",
       "  <thead>\n",
       "    <tr style=\"text-align: right;\">\n",
       "      <th></th>\n",
       "      <th>title</th>\n",
       "      <th>price</th>\n",
       "      <th>rating</th>\n",
       "      <th>comments</th>\n",
       "      <th>tags</th>\n",
       "      <th>discount</th>\n",
       "      <th>bedrooms</th>\n",
       "      <th>beds</th>\n",
       "      <th>washrooms</th>\n",
       "      <th>guests</th>\n",
       "      <th>facilities</th>\n",
       "      <th>scenic_areas</th>\n",
       "      <th>subway_stations</th>\n",
       "      <th>airports</th>\n",
       "      <th>railway_stations</th>\n",
       "    </tr>\n",
       "  </thead>\n",
       "  <tbody>\n",
       "    <tr>\n",
       "      <th>0</th>\n",
       "      <td>免服务费!三里屯､使馆区､朝阳公园地铁5分钟步行 阳光卧室Cozy Room of SANL...</td>\n",
       "      <td>￥186</td>\n",
       "      <td>4.8</td>\n",
       "      <td>149</td>\n",
       "      <td>近地铁/可以做饭/自助入住/有洗衣机</td>\n",
       "      <td>NaN</td>\n",
       "      <td>1</td>\n",
       "      <td>1</td>\n",
       "      <td>0.0</td>\n",
       "      <td>2</td>\n",
       "      <td>无线网络/厨房/洗发水/吹风机/空调/暖气/洗衣机/衣架/熨斗/电梯/烟雾报警器/一氧化碳报警器</td>\n",
       "      <td>三里屯太古里/国贸/雍和宫</td>\n",
       "      <td>朝阳公园/金台路</td>\n",
       "      <td>南苑机场/北京首都国际机场</td>\n",
       "      <td>北京火车站/北京南站/北京西站</td>\n",
       "    </tr>\n",
       "    <tr>\n",
       "      <th>1</th>\n",
       "      <td>利欧的房间 - 美梦</td>\n",
       "      <td>￥158</td>\n",
       "      <td>4.8</td>\n",
       "      <td>182</td>\n",
       "      <td>超赞房东/可以做饭/可存行李/有洗衣机</td>\n",
       "      <td>满3天立减2%</td>\n",
       "      <td>1</td>\n",
       "      <td>1</td>\n",
       "      <td>1.0</td>\n",
       "      <td>2</td>\n",
       "      <td>无线网络/厨房/洗发水/吹风机/生活必需品/空调/暖气/电视/洗衣机/书桌/工作区域/衣架/...</td>\n",
       "      <td>天坛/北京欢乐谷/大栅栏/前门大街</td>\n",
       "      <td>刘家窑</td>\n",
       "      <td>南苑机场/北京首都国际机场</td>\n",
       "      <td>北京火车站/北京南站/北京西站</td>\n",
       "    </tr>\n",
       "    <tr>\n",
       "      <th>2</th>\n",
       "      <td>【庆一周年7折优惠~】【和琅】【零压记忆棉床垫】印象影院三里屯距地铁站50米和风榻榻米私人影院公寓</td>\n",
       "      <td>￥468</td>\n",
       "      <td>5.0</td>\n",
       "      <td>155</td>\n",
       "      <td>超赞房东/近地铁/可以做饭/自助入住/付费停车/提供早餐/有洗衣机</td>\n",
       "      <td>满2天立减2%</td>\n",
       "      <td>1</td>\n",
       "      <td>2</td>\n",
       "      <td>1.0</td>\n",
       "      <td>4</td>\n",
       "      <td>无线网络/早餐/厨房/洗发水/吹风机/生活必需品/空调/暖气/电视/洗衣机/书桌/工作区域/...</td>\n",
       "      <td>三里屯太古里/国贸/雍和宫</td>\n",
       "      <td>团结湖/农业展览馆</td>\n",
       "      <td>南苑机场/北京首都国际机场</td>\n",
       "      <td>北京火车站/北京南站/北京西站</td>\n",
       "    </tr>\n",
       "    <tr>\n",
       "      <th>3</th>\n",
       "      <td>王府井旁胡同里的老北京四合院之四人间A,步行到地铁站5分钟</td>\n",
       "      <td>￥100</td>\n",
       "      <td>4.6</td>\n",
       "      <td>178</td>\n",
       "      <td>超赞房东/近地铁/免费停车/有洗衣机/有烘干机</td>\n",
       "      <td>NaN</td>\n",
       "      <td>1</td>\n",
       "      <td>4</td>\n",
       "      <td>1.0</td>\n",
       "      <td>1</td>\n",
       "      <td>无线网络/吹风机/生活必需品/空调/暖气/电视/洗衣机/烘干机/衣架/熨斗/免费停车位/儿童...</td>\n",
       "      <td>NaN</td>\n",
       "      <td>NaN</td>\n",
       "      <td>NaN</td>\n",
       "      <td>NaN</td>\n",
       "    </tr>\n",
       "    <tr>\n",
       "      <th>4</th>\n",
       "      <td>【默居.京甲】全智能100寸投影日式和风榻榻米暖居/国贸CBD/三里屯/工体/双井</td>\n",
       "      <td>￥368</td>\n",
       "      <td>4.5</td>\n",
       "      <td>46</td>\n",
       "      <td>近地铁/可以做饭/自助入住/付费停车/有洗衣机</td>\n",
       "      <td>满7天立减5%</td>\n",
       "      <td>1</td>\n",
       "      <td>2</td>\n",
       "      <td>1.0</td>\n",
       "      <td>5</td>\n",
       "      <td>无线网络/厨房/洗发水/吹风机/生活必需品/空调/暖气/电视/洗衣机/书桌/工作区域/衣架/...</td>\n",
       "      <td>国贸/北京欢乐谷/天坛</td>\n",
       "      <td>双井/广渠门外</td>\n",
       "      <td>南苑机场/北京首都国际机场</td>\n",
       "      <td>北京火车站/北京南站/北京西站</td>\n",
       "    </tr>\n",
       "  </tbody>\n",
       "</table>\n",
       "</div>"
      ],
      "text/plain": [
       "                                               title price  rating  comments  \\\n",
       "0  免服务费!三里屯､使馆区､朝阳公园地铁5分钟步行 阳光卧室Cozy Room of SANL...  ￥186     4.8       149   \n",
       "1                                         利欧的房间 - 美梦  ￥158     4.8       182   \n",
       "2  【庆一周年7折优惠~】【和琅】【零压记忆棉床垫】印象影院三里屯距地铁站50米和风榻榻米私人影院公寓  ￥468     5.0       155   \n",
       "3                      王府井旁胡同里的老北京四合院之四人间A,步行到地铁站5分钟  ￥100     4.6       178   \n",
       "4          【默居.京甲】全智能100寸投影日式和风榻榻米暖居/国贸CBD/三里屯/工体/双井  ￥368     4.5        46   \n",
       "\n",
       "                                tags discount  bedrooms  beds  washrooms  \\\n",
       "0                 近地铁/可以做饭/自助入住/有洗衣机      NaN         1     1        0.0   \n",
       "1                超赞房东/可以做饭/可存行李/有洗衣机  满3天立减2%         1     1        1.0   \n",
       "2  超赞房东/近地铁/可以做饭/自助入住/付费停车/提供早餐/有洗衣机  满2天立减2%         1     2        1.0   \n",
       "3            超赞房东/近地铁/免费停车/有洗衣机/有烘干机      NaN         1     4        1.0   \n",
       "4            近地铁/可以做饭/自助入住/付费停车/有洗衣机  满7天立减5%         1     2        1.0   \n",
       "\n",
       "   guests                                         facilities  \\\n",
       "0       2   无线网络/厨房/洗发水/吹风机/空调/暖气/洗衣机/衣架/熨斗/电梯/烟雾报警器/一氧化碳报警器   \n",
       "1       2  无线网络/厨房/洗发水/吹风机/生活必需品/空调/暖气/电视/洗衣机/书桌/工作区域/衣架/...   \n",
       "2       4  无线网络/早餐/厨房/洗发水/吹风机/生活必需品/空调/暖气/电视/洗衣机/书桌/工作区域/...   \n",
       "3       1  无线网络/吹风机/生活必需品/空调/暖气/电视/洗衣机/烘干机/衣架/熨斗/免费停车位/儿童...   \n",
       "4       5  无线网络/厨房/洗发水/吹风机/生活必需品/空调/暖气/电视/洗衣机/书桌/工作区域/衣架/...   \n",
       "\n",
       "        scenic_areas subway_stations       airports railway_stations  \n",
       "0      三里屯太古里/国贸/雍和宫        朝阳公园/金台路  南苑机场/北京首都国际机场  北京火车站/北京南站/北京西站  \n",
       "1  天坛/北京欢乐谷/大栅栏/前门大街             刘家窑  南苑机场/北京首都国际机场  北京火车站/北京南站/北京西站  \n",
       "2      三里屯太古里/国贸/雍和宫       团结湖/农业展览馆  南苑机场/北京首都国际机场  北京火车站/北京南站/北京西站  \n",
       "3                NaN             NaN            NaN              NaN  \n",
       "4        国贸/北京欢乐谷/天坛         双井/广渠门外  南苑机场/北京首都国际机场  北京火车站/北京南站/北京西站  "
      ]
     },
     "execution_count": 119,
     "metadata": {},
     "output_type": "execute_result"
    }
   ],
   "source": [
    "data.drop(columns='Unnamed: 0', inplace=True)\n",
    "data.head()"
   ]
  },
  {
   "cell_type": "code",
   "execution_count": 120,
   "metadata": {},
   "outputs": [
    {
     "data": {
      "text/html": [
       "<div>\n",
       "<style scoped>\n",
       "    .dataframe tbody tr th:only-of-type {\n",
       "        vertical-align: middle;\n",
       "    }\n",
       "\n",
       "    .dataframe tbody tr th {\n",
       "        vertical-align: top;\n",
       "    }\n",
       "\n",
       "    .dataframe thead th {\n",
       "        text-align: right;\n",
       "    }\n",
       "</style>\n",
       "<table border=\"1\" class=\"dataframe\">\n",
       "  <thead>\n",
       "    <tr style=\"text-align: right;\">\n",
       "      <th></th>\n",
       "      <th>title</th>\n",
       "      <th>price</th>\n",
       "      <th>rating</th>\n",
       "      <th>comments</th>\n",
       "      <th>tags</th>\n",
       "      <th>discount</th>\n",
       "      <th>bedrooms</th>\n",
       "      <th>beds</th>\n",
       "      <th>washrooms</th>\n",
       "      <th>guests</th>\n",
       "      <th>facilities</th>\n",
       "      <th>scenic_areas</th>\n",
       "      <th>subway_stations</th>\n",
       "      <th>airports</th>\n",
       "      <th>railway_stations</th>\n",
       "    </tr>\n",
       "  </thead>\n",
       "  <tbody>\n",
       "  </tbody>\n",
       "</table>\n",
       "</div>"
      ],
      "text/plain": [
       "Empty DataFrame\n",
       "Columns: [title, price, rating, comments, tags, discount, bedrooms, beds, washrooms, guests, facilities, scenic_areas, subway_stations, airports, railway_stations]\n",
       "Index: []"
      ]
     },
     "execution_count": 120,
     "metadata": {},
     "output_type": "execute_result"
    }
   ],
   "source": [
    "# 删除无效数据\n",
    "data.drop(index=data[data.iloc[:, -4:].isnull().all(axis=1)].index, inplace=True)\n",
    "data[data.iloc[:, -4:].isnull().all(axis=1)]"
   ]
  },
  {
   "cell_type": "code",
   "execution_count": 121,
   "metadata": {},
   "outputs": [],
   "source": [
    "data['price'] = data['price'].str.replace('￥', '').map(lambda x: np.float(x))"
   ]
  },
  {
   "cell_type": "markdown",
   "metadata": {},
   "source": [
    "## Step2-A 数据探索"
   ]
  },
  {
   "cell_type": "code",
   "execution_count": 122,
   "metadata": {},
   "outputs": [
    {
     "data": {
      "text/html": [
       "<div>\n",
       "<style scoped>\n",
       "    .dataframe tbody tr th:only-of-type {\n",
       "        vertical-align: middle;\n",
       "    }\n",
       "\n",
       "    .dataframe tbody tr th {\n",
       "        vertical-align: top;\n",
       "    }\n",
       "\n",
       "    .dataframe thead th {\n",
       "        text-align: right;\n",
       "    }\n",
       "</style>\n",
       "<table border=\"1\" class=\"dataframe\">\n",
       "  <thead>\n",
       "    <tr style=\"text-align: right;\">\n",
       "      <th></th>\n",
       "      <th>price</th>\n",
       "      <th>rating</th>\n",
       "      <th>comments</th>\n",
       "      <th>bedrooms</th>\n",
       "      <th>beds</th>\n",
       "      <th>washrooms</th>\n",
       "      <th>guests</th>\n",
       "    </tr>\n",
       "  </thead>\n",
       "  <tbody>\n",
       "    <tr>\n",
       "      <th>count</th>\n",
       "      <td>329.000000</td>\n",
       "      <td>329.000000</td>\n",
       "      <td>329.000000</td>\n",
       "      <td>329.000000</td>\n",
       "      <td>329.000000</td>\n",
       "      <td>329.000000</td>\n",
       "      <td>329.000000</td>\n",
       "    </tr>\n",
       "    <tr>\n",
       "      <th>mean</th>\n",
       "      <td>374.401216</td>\n",
       "      <td>4.845897</td>\n",
       "      <td>79.620061</td>\n",
       "      <td>1.103343</td>\n",
       "      <td>1.376900</td>\n",
       "      <td>1.068389</td>\n",
       "      <td>2.610942</td>\n",
       "    </tr>\n",
       "    <tr>\n",
       "      <th>std</th>\n",
       "      <td>152.832375</td>\n",
       "      <td>0.134084</td>\n",
       "      <td>46.364328</td>\n",
       "      <td>0.324255</td>\n",
       "      <td>0.688017</td>\n",
       "      <td>0.318204</td>\n",
       "      <td>1.153204</td>\n",
       "    </tr>\n",
       "    <tr>\n",
       "      <th>min</th>\n",
       "      <td>1.000000</td>\n",
       "      <td>4.200000</td>\n",
       "      <td>12.000000</td>\n",
       "      <td>1.000000</td>\n",
       "      <td>1.000000</td>\n",
       "      <td>0.000000</td>\n",
       "      <td>1.000000</td>\n",
       "    </tr>\n",
       "    <tr>\n",
       "      <th>25%</th>\n",
       "      <td>265.000000</td>\n",
       "      <td>4.800000</td>\n",
       "      <td>49.000000</td>\n",
       "      <td>1.000000</td>\n",
       "      <td>1.000000</td>\n",
       "      <td>1.000000</td>\n",
       "      <td>2.000000</td>\n",
       "    </tr>\n",
       "    <tr>\n",
       "      <th>50%</th>\n",
       "      <td>348.000000</td>\n",
       "      <td>4.900000</td>\n",
       "      <td>67.000000</td>\n",
       "      <td>1.000000</td>\n",
       "      <td>1.000000</td>\n",
       "      <td>1.000000</td>\n",
       "      <td>2.000000</td>\n",
       "    </tr>\n",
       "    <tr>\n",
       "      <th>75%</th>\n",
       "      <td>459.000000</td>\n",
       "      <td>4.900000</td>\n",
       "      <td>101.000000</td>\n",
       "      <td>1.000000</td>\n",
       "      <td>2.000000</td>\n",
       "      <td>1.000000</td>\n",
       "      <td>3.000000</td>\n",
       "    </tr>\n",
       "    <tr>\n",
       "      <th>max</th>\n",
       "      <td>878.000000</td>\n",
       "      <td>5.000000</td>\n",
       "      <td>273.000000</td>\n",
       "      <td>3.000000</td>\n",
       "      <td>5.000000</td>\n",
       "      <td>3.000000</td>\n",
       "      <td>9.000000</td>\n",
       "    </tr>\n",
       "  </tbody>\n",
       "</table>\n",
       "</div>"
      ],
      "text/plain": [
       "            price      rating    comments    bedrooms        beds   washrooms  \\\n",
       "count  329.000000  329.000000  329.000000  329.000000  329.000000  329.000000   \n",
       "mean   374.401216    4.845897   79.620061    1.103343    1.376900    1.068389   \n",
       "std    152.832375    0.134084   46.364328    0.324255    0.688017    0.318204   \n",
       "min      1.000000    4.200000   12.000000    1.000000    1.000000    0.000000   \n",
       "25%    265.000000    4.800000   49.000000    1.000000    1.000000    1.000000   \n",
       "50%    348.000000    4.900000   67.000000    1.000000    1.000000    1.000000   \n",
       "75%    459.000000    4.900000  101.000000    1.000000    2.000000    1.000000   \n",
       "max    878.000000    5.000000  273.000000    3.000000    5.000000    3.000000   \n",
       "\n",
       "           guests  \n",
       "count  329.000000  \n",
       "mean     2.610942  \n",
       "std      1.153204  \n",
       "min      1.000000  \n",
       "25%      2.000000  \n",
       "50%      2.000000  \n",
       "75%      3.000000  \n",
       "max      9.000000  "
      ]
     },
     "execution_count": 122,
     "metadata": {},
     "output_type": "execute_result"
    }
   ],
   "source": [
    "data[['price', 'rating', 'comments', 'bedrooms', 'beds', 'washrooms', 'guests']].describe()"
   ]
  },
  {
   "cell_type": "code",
   "execution_count": 135,
   "metadata": {},
   "outputs": [
    {
     "data": {
      "text/plain": [
       "<matplotlib.axes._subplots.AxesSubplot at 0x24d27738978>"
      ]
     },
     "execution_count": 135,
     "metadata": {},
     "output_type": "execute_result"
    },
    {
     "data": {
      "image/png": "[encoded data removed]",
      "text/plain": [
       "<Figure size 576x360 with 1 Axes>"
      ]
     },
     "metadata": {
      "needs_background": "light"
     },
     "output_type": "display_data"
    }
   ],
   "source": [
    "data.price.plot.hist(figsize=(8, 5))"
   ]
  },
  {
   "cell_type": "code",
   "execution_count": 136,
   "metadata": {},
   "outputs": [
    {
     "data": {
      "text/plain": [
       "<matplotlib.axes._subplots.AxesSubplot at 0x24d27ad9d68>"
      ]
     },
     "execution_count": 136,
     "metadata": {},
     "output_type": "execute_result"
    },
    {
     "data": {
      "image/png": "[encoded data removed]",
      "text/plain": [
       "<Figure size 576x360 with 1 Axes>"
      ]
     },
     "metadata": {
      "needs_background": "light"
     },
     "output_type": "display_data"
    }
   ],
   "source": [
    "data.rating.plot.hist(figsize=(8, 5))"
   ]
  },
  {
   "cell_type": "code",
   "execution_count": 143,
   "metadata": {},
   "outputs": [
    {
     "data": {
      "text/plain": [
       "<matplotlib.axes._subplots.AxesSubplot at 0x24d276b43c8>"
      ]
     },
     "execution_count": 143,
     "metadata": {},
     "output_type": "execute_result"
    },
    {
     "data": {
      "image/png": "[encoded data removed]",
      "text/plain": [
       "<Figure size 360x360 with 1 Axes>"
      ]
     },
     "metadata": {},
     "output_type": "display_data"
    }
   ],
   "source": [
    "data.beds.value_counts().plot.pie(figsize=(5, 5))"
   ]
  },
  {
   "cell_type": "code",
   "execution_count": 144,
   "metadata": {},
   "outputs": [
    {
     "data": {
      "text/plain": [
       "<matplotlib.axes._subplots.AxesSubplot at 0x24d27988d30>"
      ]
     },
     "execution_count": 144,
     "metadata": {},
     "output_type": "execute_result"
    },
    {
     "data": {
      "image/png": "[encoded data removed]",
      "text/plain": [
       "<Figure size 360x360 with 1 Axes>"
      ]
     },
     "metadata": {},
     "output_type": "display_data"
    }
   ],
   "source": [
    "data.bedrooms.value_counts().plot.pie(figsize=(5, 5))"
   ]
  },
  {
   "cell_type": "code",
   "execution_count": 145,
   "metadata": {},
   "outputs": [
    {
     "data": {
      "text/plain": [
       "<matplotlib.axes._subplots.AxesSubplot at 0x24d27d7fb00>"
      ]
     },
     "execution_count": 145,
     "metadata": {},
     "output_type": "execute_result"
    },
    {
     "data": {
      "image/png": "[encoded data removed]",
      "text/plain": [
       "<Figure size 360x360 with 1 Axes>"
      ]
     },
     "metadata": {},
     "output_type": "display_data"
    }
   ],
   "source": [
    "data.washrooms.value_counts().plot.pie(figsize=(5, 5))"
   ]
  },
  {
   "cell_type": "code",
   "execution_count": 146,
   "metadata": {},
   "outputs": [
    {
     "data": {
      "text/plain": [
       "<matplotlib.axes._subplots.AxesSubplot at 0x24d2730f400>"
      ]
     },
     "execution_count": 146,
     "metadata": {},
     "output_type": "execute_result"
    },
    {
     "data": {
      "image/png": "[encoded data removed]",
      "text/plain": [
       "<Figure size 360x360 with 1 Axes>"
      ]
     },
     "metadata": {},
     "output_type": "display_data"
    }
   ],
   "source": [
    "data.guests.value_counts().plot.pie(figsize=(5, 5))"
   ]
  },
  {
   "cell_type": "code",
   "execution_count": 138,
   "metadata": {},
   "outputs": [
    {
     "data": {
      "text/html": [
       "<div>\n",
       "<style scoped>\n",
       "    .dataframe tbody tr th:only-of-type {\n",
       "        vertical-align: middle;\n",
       "    }\n",
       "\n",
       "    .dataframe tbody tr th {\n",
       "        vertical-align: top;\n",
       "    }\n",
       "\n",
       "    .dataframe thead th {\n",
       "        text-align: right;\n",
       "    }\n",
       "</style>\n",
       "<table border=\"1\" class=\"dataframe\">\n",
       "  <thead>\n",
       "    <tr style=\"text-align: right;\">\n",
       "      <th></th>\n",
       "      <th>price</th>\n",
       "      <th>rating</th>\n",
       "      <th>comments</th>\n",
       "      <th>bedrooms</th>\n",
       "      <th>beds</th>\n",
       "      <th>washrooms</th>\n",
       "      <th>guests</th>\n",
       "    </tr>\n",
       "  </thead>\n",
       "  <tbody>\n",
       "    <tr>\n",
       "      <th>price</th>\n",
       "      <td>1.000000</td>\n",
       "      <td>-0.051664</td>\n",
       "      <td>0.176885</td>\n",
       "      <td>0.490653</td>\n",
       "      <td>0.395228</td>\n",
       "      <td>0.170236</td>\n",
       "      <td>0.498285</td>\n",
       "    </tr>\n",
       "    <tr>\n",
       "      <th>rating</th>\n",
       "      <td>-0.051664</td>\n",
       "      <td>1.000000</td>\n",
       "      <td>0.174950</td>\n",
       "      <td>0.093931</td>\n",
       "      <td>0.013511</td>\n",
       "      <td>0.072695</td>\n",
       "      <td>0.011333</td>\n",
       "    </tr>\n",
       "    <tr>\n",
       "      <th>comments</th>\n",
       "      <td>0.176885</td>\n",
       "      <td>0.174950</td>\n",
       "      <td>1.000000</td>\n",
       "      <td>0.200547</td>\n",
       "      <td>0.197564</td>\n",
       "      <td>0.139809</td>\n",
       "      <td>0.111155</td>\n",
       "    </tr>\n",
       "    <tr>\n",
       "      <th>bedrooms</th>\n",
       "      <td>0.490653</td>\n",
       "      <td>0.093931</td>\n",
       "      <td>0.200547</td>\n",
       "      <td>1.000000</td>\n",
       "      <td>0.685832</td>\n",
       "      <td>0.256326</td>\n",
       "      <td>0.678583</td>\n",
       "    </tr>\n",
       "    <tr>\n",
       "      <th>beds</th>\n",
       "      <td>0.395228</td>\n",
       "      <td>0.013511</td>\n",
       "      <td>0.197564</td>\n",
       "      <td>0.685832</td>\n",
       "      <td>1.000000</td>\n",
       "      <td>0.216126</td>\n",
       "      <td>0.834770</td>\n",
       "    </tr>\n",
       "    <tr>\n",
       "      <th>washrooms</th>\n",
       "      <td>0.170236</td>\n",
       "      <td>0.072695</td>\n",
       "      <td>0.139809</td>\n",
       "      <td>0.256326</td>\n",
       "      <td>0.216126</td>\n",
       "      <td>1.000000</td>\n",
       "      <td>0.081038</td>\n",
       "    </tr>\n",
       "    <tr>\n",
       "      <th>guests</th>\n",
       "      <td>0.498285</td>\n",
       "      <td>0.011333</td>\n",
       "      <td>0.111155</td>\n",
       "      <td>0.678583</td>\n",
       "      <td>0.834770</td>\n",
       "      <td>0.081038</td>\n",
       "      <td>1.000000</td>\n",
       "    </tr>\n",
       "  </tbody>\n",
       "</table>\n",
       "</div>"
      ],
      "text/plain": [
       "              price    rating  comments  bedrooms      beds  washrooms  \\\n",
       "price      1.000000 -0.051664  0.176885  0.490653  0.395228   0.170236   \n",
       "rating    -0.051664  1.000000  0.174950  0.093931  0.013511   0.072695   \n",
       "comments   0.176885  0.174950  1.000000  0.200547  0.197564   0.139809   \n",
       "bedrooms   0.490653  0.093931  0.200547  1.000000  0.685832   0.256326   \n",
       "beds       0.395228  0.013511  0.197564  0.685832  1.000000   0.216126   \n",
       "washrooms  0.170236  0.072695  0.139809  0.256326  0.216126   1.000000   \n",
       "guests     0.498285  0.011333  0.111155  0.678583  0.834770   0.081038   \n",
       "\n",
       "             guests  \n",
       "price      0.498285  \n",
       "rating     0.011333  \n",
       "comments   0.111155  \n",
       "bedrooms   0.678583  \n",
       "beds       0.834770  \n",
       "washrooms  0.081038  \n",
       "guests     1.000000  "
      ]
     },
     "execution_count": 138,
     "metadata": {},
     "output_type": "execute_result"
    }
   ],
   "source": [
    "data.corr()"
   ]
  },
  {
   "cell_type": "code",
   "execution_count": 174,
   "metadata": {},
   "outputs": [
    {
     "name": "stdout",
     "output_type": "stream",
     "text": [
      "{\"code\":0,\"data\":{\"city\":{\"cityId\":284926,\"counname\":\"中国\",\"ianatimezone\":\"Asia\\/Shanghai\",\"name\":\"埇桥区\",\"pname\":\"安徽省\",\"secondaryname\":\"宿州市\",\"timezone\":\"8\"},\"forecast\":[{\"conditionDay\":\"雷阵雨\",\"conditionIdDay\":\"4\",\"conditionIdNight\":\"31\",\"conditionNight\":\"多云\",\"humidity\":\"78\",\"predictDate\":\"2019-08-02\",\"tempDay\":\"33\",\"tempNight\":\"23\",\"updatetime\":\"2019-08-02 15:07:00\",\"windDegreesDay\":\"90\",\"windDegreesNight\":\"90\",\"windDirDay\":\"东风\",\"windDirNight\":\"东风\",\"windLevelDay\":\"3\",\"windLevelNight\":\"3\"},{\"conditionDay\":\"多云\",\"conditionIdDay\":\"1\",\"conditionIdNight\":\"31\",\"conditionNight\":\"多云\",\"humidity\":\"74\",\"predictDate\":\"2019-08-03\",\"tempDay\":\"33\",\"tempNight\":\"23\",\"updatetime\":\"2019-08-02 15:07:00\",\"windDegreesDay\":\"135\",\"windDegreesNight\":\"90\",\"windDirDay\":\"东南风\",\"windDirNight\":\"东风\",\"windLevelDay\":\"3\",\"windLevelNight\":\"3\"},{\"conditionDay\":\"雷阵雨\",\"conditionIdDay\":\"4\",\"conditionIdNight\":\"4\",\"conditionNight\":\"雷阵雨\",\"humidity\":\"78\",\"predictDate\":\"2019-08-04\",\"tempDay\":\"31\",\"tempNight\":\"24\",\"updatetime\":\"2019-08-02 15:07:00\",\"windDegreesDay\":\"90\",\"windDegreesNight\":\"90\",\"windDirDay\":\"东风\",\"windDirNight\":\"东风\",\"windLevelDay\":\"3-4\",\"windLevelNight\":\"3\"}]},\"msg\":\"success\",\"rc\":{\"c\":0,\"p\":\"success\"}}\n"
     ]
    }
   ],
   "source": [
    "import urllib, sys\n",
    "from urllib import request\n",
    "\n",
    "host = 'http://apifreelat.market.alicloudapi.com'\n",
    "path = '/whapi/json/aliweather/briefforecast3days'\n",
    "method = 'POST'\n",
    "appcode = '0875727e88474254ac487fc416d1a1a9'\n",
    "querys = ''\n",
    "bodys = {}\n",
    "url = host + path\n",
    "\n",
    "bodys['lat'] = '''33.64'''  # 纬度\n",
    "bodys['lon'] = '''116.98'''  # 经度\n",
    "bodys['token'] = '''443847fa1ffd4e69d929807d42c2db1b'''\n",
    "post_data = urllib.parse.urlencode(bodys).encode(\"utf-8\")\n",
    "req = request.Request(url, post_data)\n",
    "req.add_header('Authorization', 'APPCODE ' + appcode)\n",
    "\n",
    "# //根据API的要求，定义相对应的Content-Type\n",
    "req.add_header('Content-Type', 'application/x-www-form-urlencoded; charset=UTF-8')\n",
    "response = request.urlopen(req)\n",
    "content = response.read().decode('utf-8')\n",
    "if (content):\n",
    "    print(content)"
   ]
  },
  {
   "cell_type": "code",
   "execution_count": 176,
   "metadata": {},
   "outputs": [
    {
     "data": {
      "text/plain": [
       "{'code': 0,\n",
       " 'data': {'city': {'cityId': 284926,\n",
       "   'counname': '中国',\n",
       "   'ianatimezone': 'Asia/Shanghai',\n",
       "   'name': '埇桥区',\n",
       "   'pname': '安徽省',\n",
       "   'secondaryname': '宿州市',\n",
       "   'timezone': '8'},\n",
       "  'forecast': [{'conditionDay': '雷阵雨',\n",
       "    'conditionIdDay': '4',\n",
       "    'conditionIdNight': '31',\n",
       "    'conditionNight': '多云',\n",
       "    'humidity': '78',\n",
       "    'predictDate': '2019-08-02',\n",
       "    'tempDay': '33',\n",
       "    'tempNight': '23',\n",
       "    'updatetime': '2019-08-02 15:07:00',\n",
       "    'windDegreesDay': '90',\n",
       "    'windDegreesNight': '90',\n",
       "    'windDirDay': '东风',\n",
       "    'windDirNight': '东风',\n",
       "    'windLevelDay': '3',\n",
       "    'windLevelNight': '3'},\n",
       "   {'conditionDay': '多云',\n",
       "    'conditionIdDay': '1',\n",
       "    'conditionIdNight': '31',\n",
       "    'conditionNight': '多云',\n",
       "    'humidity': '74',\n",
       "    'predictDate': '2019-08-03',\n",
       "    'tempDay': '33',\n",
       "    'tempNight': '23',\n",
       "    'updatetime': '2019-08-02 15:07:00',\n",
       "    'windDegreesDay': '135',\n",
       "    'windDegreesNight': '90',\n",
       "    'windDirDay': '东南风',\n",
       "    'windDirNight': '东风',\n",
       "    'windLevelDay': '3',\n",
       "    'windLevelNight': '3'},\n",
       "   {'conditionDay': '雷阵雨',\n",
       "    'conditionIdDay': '4',\n",
       "    'conditionIdNight': '4',\n",
       "    'conditionNight': '雷阵雨',\n",
       "    'humidity': '78',\n",
       "    'predictDate': '2019-08-04',\n",
       "    'tempDay': '31',\n",
       "    'tempNight': '24',\n",
       "    'updatetime': '2019-08-02 15:07:00',\n",
       "    'windDegreesDay': '90',\n",
       "    'windDegreesNight': '90',\n",
       "    'windDirDay': '东风',\n",
       "    'windDirNight': '东风',\n",
       "    'windLevelDay': '3-4',\n",
       "    'windLevelNight': '3'}]},\n",
       " 'msg': 'success',\n",
       " 'rc': {'c': 0, 'p': 'success'}}"
      ]
     },
     "execution_count": 176,
     "metadata": {},
     "output_type": "execute_result"
    }
   ],
   "source": [
    "import json\n",
    "json.loads(content)"
   ]
  },
  {
   "cell_type": "code",
   "execution_count": null,
   "metadata": {},
   "outputs": [],
   "source": []
  },
  {
   "cell_type": "code",
   "execution_count": null,
   "metadata": {},
   "outputs": [],
   "source": []
  },
  {
   "cell_type": "code",
   "execution_count": null,
   "metadata": {},
   "outputs": [],
   "source": []
  },
  {
   "cell_type": "code",
   "execution_count": null,
   "metadata": {},
   "outputs": [],
   "source": []
  },
  {
   "cell_type": "code",
   "execution_count": null,
   "metadata": {},
   "outputs": [],
   "source": []
  },
  {
   "cell_type": "code",
   "execution_count": null,
   "metadata": {},
   "outputs": [],
   "source": []
  },
  {
   "cell_type": "code",
   "execution_count": null,
   "metadata": {},
   "outputs": [],
   "source": []
  },
  {
   "cell_type": "code",
   "execution_count": null,
   "metadata": {},
   "outputs": [],
   "source": []
  },
  {
   "cell_type": "code",
   "execution_count": null,
   "metadata": {},
   "outputs": [],
   "source": []
  },
  {
   "cell_type": "code",
   "execution_count": null,
   "metadata": {},
   "outputs": [],
   "source": []
  },
  {
   "cell_type": "code",
   "execution_count": null,
   "metadata": {},
   "outputs": [],
   "source": []
  },
  {
   "cell_type": "code",
   "execution_count": null,
   "metadata": {},
   "outputs": [],
   "source": []
  },
  {
   "cell_type": "code",
   "execution_count": null,
   "metadata": {},
   "outputs": [],
   "source": []
  },
  {
   "cell_type": "code",
   "execution_count": null,
   "metadata": {},
   "outputs": [],
   "source": []
  },
  {
   "cell_type": "code",
   "execution_count": null,
   "metadata": {},
   "outputs": [],
   "source": []
  },
  {
   "cell_type": "code",
   "execution_count": null,
   "metadata": {},
   "outputs": [],
   "source": []
  },
  {
   "cell_type": "code",
   "execution_count": null,
   "metadata": {},
   "outputs": [],
   "source": []
  }
 ],
 "metadata": {
  "kernelspec": {
   "display_name": "Python 3",
   "language": "python",
   "name": "python3"
  },
  "language_info": {
   "codemirror_mode": {
    "name": "ipython",
    "version": 3
   },
   "file_extension": ".py",
   "mimetype": "text/x-python",
   "name": "python",
   "nbconvert_exporter": "python",
   "pygments_lexer": "ipython3",
   "version": "3.7.3"
  }
 },
 "nbformat": 4,
 "nbformat_minor": 2
}
